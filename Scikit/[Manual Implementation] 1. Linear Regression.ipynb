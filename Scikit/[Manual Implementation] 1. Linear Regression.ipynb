{
 "cells": [
  {
   "cell_type": "markdown",
   "id": "50c43864",
   "metadata": {},
   "source": [
    "# Linear Regression\n",
    "\n",
    "**Topics Covered :**\n",
    "\n",
    "- 5 Steps of Approaching a ML Problem :\n",
    "    1. Training Data\n",
    "    2. Model\n",
    "    3. Loss Function\n",
    "    4. Optimization\n",
    "    5. Evaluation\n",
    "- Optimization Techniques :\n",
    "    - Gradient Descent\n",
    "    - Mini Batch Gradient Descent\n",
    "    - Stochastic Gradient Descent\n",
    "- `LinReg` class to encapsulate all the code"
   ]
  },
  {
   "cell_type": "code",
   "execution_count": 196,
   "id": "10f2098c",
   "metadata": {},
   "outputs": [],
   "source": [
    "import numpy as np\n",
    "import seaborn as sns\n",
    "import pandas as pd\n",
    "import matplotlib.pyplot as plt\n",
    "from sklearn.model_selection import train_test_split\n",
    "import pprint"
   ]
  },
  {
   "cell_type": "markdown",
   "id": "615d2874",
   "metadata": {},
   "source": [
    "## 1. Training Data"
   ]
  },
  {
   "cell_type": "code",
   "execution_count": 237,
   "id": "a071568d",
   "metadata": {},
   "outputs": [],
   "source": [
    "# Initial parameters\n",
    "w0 = 1\n",
    "w1 = 2\n",
    "n = 100\n",
    "X = 10 * np.random.random(n,)"
   ]
  },
  {
   "cell_type": "code",
   "execution_count": 238,
   "id": "b1f13671",
   "metadata": {},
   "outputs": [],
   "source": [
    "y = w0 + w1*X + np.random.random(n,)"
   ]
  },
  {
   "cell_type": "code",
   "execution_count": 239,
   "id": "51fb738f",
   "metadata": {},
   "outputs": [
    {
     "name": "stdout",
     "output_type": "stream",
     "text": [
      "Shape of feature matrix(X) is (100,)\n",
      "Shape of labels(y) is (100,)\n"
     ]
    }
   ],
   "source": [
    "print(f'Shape of feature matrix(X) is {X.shape}')\n",
    "print(f'Shape of labels(y) is {y.shape}')"
   ]
  },
  {
   "cell_type": "code",
   "execution_count": 240,
   "id": "f1978212",
   "metadata": {},
   "outputs": [
    {
     "name": "stdout",
     "output_type": "stream",
     "text": [
      "Shape of X_train is (80,)\n",
      "Shape of X_test is (20,)\n",
      "Shape of y_train is (80,)\n",
      "Shape of y_test is (20,)\n"
     ]
    }
   ],
   "source": [
    "X_train, X_test, y_train, y_test = train_test_split(X, y, test_size=0.2, random_state=42)\n",
    "print(f'Shape of X_train is {X_train.shape}')\n",
    "print(f'Shape of X_test is {X_test.shape}')\n",
    "print(f'Shape of y_train is {y_train.shape}')\n",
    "print(f'Shape of y_test is {y_test.shape}')"
   ]
  },
  {
   "cell_type": "code",
   "execution_count": 245,
   "id": "52f246d8",
   "metadata": {},
   "outputs": [
    {
     "data": {
      "image/png": "[encoded data removed]",
      "text/plain": [
       "<Figure size 576x576 with 1 Axes>"
      ]
     },
     "metadata": {},
     "output_type": "display_data"
    }
   ],
   "source": [
    "sns.set_style('white')\n",
    "f = plt.figure(figsize=(8,8))\n",
    "sns.set_context(context='notebook',font_scale=1.5,rc={\"lines.linewidth\":2.5})\n",
    "\n",
    "plt.plot(X_train, y_train, \"b.\") #blue dots\n",
    "plt.title(\"Data points\")\n",
    "plt.grid(True)\n",
    "plt.xlabel(\"$x_1$\", fontsize=18)\n",
    "plt.ylabel(\"y\", rotation=0,fontsize=18)\n",
    "plt.axis([0,15,0, 30])  # Sets start/end of X and Y axis in the same order.\n",
    "\n",
    "plt.show()\n",
    "\n"
   ]
  },
  {
   "cell_type": "markdown",
   "id": "dc802aac",
   "metadata": {},
   "source": [
    "### Add Dummy Feature ( For the bias term )"
   ]
  },
  {
   "cell_type": "code",
   "execution_count": 246,
   "id": "d9839b71",
   "metadata": {},
   "outputs": [
    {
     "data": {
      "text/plain": [
       "array([[1., 1., 2., 3.],\n",
       "       [1., 4., 5., 6.]])"
      ]
     },
     "execution_count": 246,
     "metadata": {},
     "output_type": "execute_result"
    }
   ],
   "source": [
    "def add_dummy_feature(X) :\n",
    "    return np.column_stack((np.ones((X.shape[0])), X))\n",
    "\n",
    "# testing the above function\n",
    "train_matrix = np.array([[1,2,3], [4,5,6]]) # each feature is a 3-d vector.\n",
    "train_matrix = add_dummy_feature(train_matrix)\n",
    "train_matrix\n",
    "\n"
   ]
  },
  {
   "cell_type": "code",
   "execution_count": 247,
   "id": "a637c966",
   "metadata": {},
   "outputs": [],
   "source": [
    "X_train = add_dummy_feature(X_train)"
   ]
  },
  {
   "cell_type": "markdown",
   "id": "326db29c",
   "metadata": {},
   "source": [
    "## 2. Model"
   ]
  },
  {
   "cell_type": "code",
   "execution_count": 431,
   "id": "73c95b78",
   "metadata": {
    "scrolled": true
   },
   "outputs": [],
   "source": [
    "def predict(X, w) :\n",
    "    if(X.shape[1] == w.shape[0]) :\n",
    "        return X@w\n",
    "    else :\n",
    "        return None\n",
    "\n",
    "\n",
    "def preprocess(X, y):\n",
    "    X_train, X_test, y_train, y_test = train_test_split(X, y, test_size=0.2, random_state=42) \n",
    "    X_train = add_dummy_feature(X_train)\n",
    "    return X_train, X_test, y_train, y_test\n",
    "\n",
    "def generate_examples(n) :\n",
    "    X = 10 * np.random.random(n, )\n",
    "    y = w0 + w1 * X\n",
    "    return preprocess(X, y)"
   ]
  },
  {
   "cell_type": "markdown",
   "id": "f404d47b",
   "metadata": {},
   "source": [
    "## 3. Loss Function"
   ]
  },
  {
   "cell_type": "code",
   "execution_count": 430,
   "id": "51d722d1",
   "metadata": {},
   "outputs": [],
   "source": [
    "def loss(X, y, w=None) :\n",
    "    if(w is None) :\n",
    "        w = np.zeros(X.shape[1])\n",
    "    e = X @ w - y\n",
    "    return 0.5 * (e.T @ e)\n",
    "\n",
    "# loss(X, y,w)\n",
    "\n",
    "# pprint.pprint(X)\n",
    "# pprint.pprint(y)\n",
    "# pprint.pprint(w)"
   ]
  },
  {
   "cell_type": "code",
   "execution_count": 286,
   "id": "699495e1",
   "metadata": {
    "collapsed": true
   },
   "outputs": [
    {
     "name": "stdout",
     "output_type": "stream",
     "text": [
      "array([4.68542259, 3.19662879])\n"
     ]
    },
    {
     "data": {
      "text/plain": [
       "<matplotlib.collections.LineCollection at 0x1d6b4861340>"
      ]
     },
     "execution_count": 286,
     "metadata": {},
     "output_type": "execute_result"
    },
    {
     "data": {
      "image/png": "[encoded data removed]",
      "text/plain": [
       "<Figure size 576x576 with 1 Axes>"
      ]
     },
     "metadata": {},
     "output_type": "display_data"
    }
   ],
   "source": [
    "X_train, X_test, y_train, y_test = generate_examples(100)\n",
    "w = 10 * np.random.rand(2,)\n",
    "pprint.pprint(w)\n",
    "# y_hat =  predict(X_train, w)\n",
    "loss(X_train, y_train, w)\n",
    "y_new = predict(X_train, w)\n",
    "\n",
    "fig, axes = plt.subplots(figsize=(8,8))\n",
    "axes.plot(X_train[:,1], y_train, c='b', label='Training')\n",
    "axes.scatter(X_train[:,1], y_new, c='g', label='Error')\n",
    "axes.vlines(X_train[:,1], y_new, y_train, colors=\"r\", label=\"loss\")"
   ]
  },
  {
   "cell_type": "code",
   "execution_count": 287,
   "id": "078e1a98",
   "metadata": {},
   "outputs": [],
   "source": [
    "def normal_equation(X, y) :\n",
    "    return np.linalg.pinv(X) @ y"
   ]
  },
  {
   "cell_type": "code",
   "execution_count": 288,
   "id": "43a0b51d",
   "metadata": {},
   "outputs": [
    {
     "data": {
      "text/plain": [
       "array([1., 2.])"
      ]
     },
     "execution_count": 288,
     "metadata": {},
     "output_type": "execute_result"
    }
   ],
   "source": [
    "normal_equation(X_train, y_train)"
   ]
  },
  {
   "cell_type": "markdown",
   "id": "5e28b131",
   "metadata": {},
   "source": [
    "## 4. Optimization"
   ]
  },
  {
   "cell_type": "code",
   "execution_count": 432,
   "id": "f055f7f1",
   "metadata": {},
   "outputs": [],
   "source": [
    "t1, t2 = 200, 10000\n",
    "\n",
    "# HELPER FUNCTIONS\n",
    "\n",
    "def calculate_gradient(X, y, w) :\n",
    "    return np.transpose(X) @ (predict(X, w) - y)\n",
    "\n",
    "def weight_update(w, lr, grad) :\n",
    "    return w - (lr * grad)\n",
    "\n",
    "def learning_schedule(t):\n",
    "    return t1 / (t + t2)\n",
    "\n",
    "\n",
    "# GRADIENT DESCENT\n",
    "\n",
    "def gradient_descent(X, y, epochs):\n",
    "    losses = list() \n",
    "    weights = list()\n",
    "    w = np.zeros(X.shape[1])\n",
    "    for i in range(epochs):\n",
    "        l = loss(X_train, y_train, w)\n",
    "        losses.append(l)\n",
    "        g = calculate_gradient(X, y, w)\n",
    "        w = weight_update(w, lr, g)\n",
    "        weights.append(w)\n",
    "    return weights, losses\n",
    "    \n",
    "    \n",
    "\n",
    "\n",
    "# MINI BATCH GRADIENT DESCENT\n",
    "\n",
    "def mini_batch_gradient_descent(X, y, epochs, batch_size) :\n",
    "    t = 0\n",
    "    weights, losses = list(), list()\n",
    "    w = np.zeros(X.shape[1])\n",
    "    \n",
    "    for e in range(epochs) :\n",
    "        shuffled_indices = np.random.permutation(X.shape[0])\n",
    "        X_shuffled = X[shuffled_indices]\n",
    "        y_shuffled = y[shuffled_indices]\n",
    "        for i in range(0, X.shape[0], batch_size) :\n",
    "            t += 1\n",
    "            x1 = X_shuffled[i:i+batch_size]\n",
    "            y1 = y_shuffled[i:i+batch_size]\n",
    "            l = loss(x1, y1, w)\n",
    "            losses.append(l)\n",
    "            \n",
    "            grad =  calculate_gradient(x1, y1, w) * batch_size / 2\n",
    "            lr = learning_schedule(t)\n",
    "            w = weight_update(w, lr, grad)\n",
    "            weights.append(w)\n",
    "            \n",
    "    return weights, losses\n",
    "\n",
    "\n",
    "\n",
    "\n",
    "# STOCHASTIC GRADIENT DESCENT ( MBGD with batch_size = 1 )\n",
    "\n",
    "def stochastic_gradient_descent(X, y, epochs) :\n",
    "    t = 0\n",
    "    w = np.zeros(X.shape[1])  #initializing arbitrary values.\n",
    "    weights, losses = list(), list()\n",
    "    \n",
    "    for e in range(epochs):\n",
    "        shuffled_indices = np.random.permutation(X.shape[0])\n",
    "        X_shuffled = X[shuffled_indices]\n",
    "        y_shuffled = y[shuffled_indices]\n",
    "\n",
    "        for i in range(0, X.shape[0], mini_batch_size):\n",
    "            t += 1\n",
    "            x1 = X_shuffled[i:i+1]\n",
    "            y1 = y_shuffled[i:i+1]\n",
    "\n",
    "            l = loss(x1, y1, w)\n",
    "            losses.append(l)\n",
    "\n",
    "            g = 2/mini_batch_size * calculate_gradient(x1, y1, w)\n",
    "            w = weight_update(w, learning_schedule(t), g)\n",
    "            weights.append(w)\n",
    "\n",
    "    return weights, losses"
   ]
  },
  {
   "cell_type": "markdown",
   "id": "342f1250",
   "metadata": {},
   "source": [
    "## 5. Evaluation"
   ]
  },
  {
   "cell_type": "code",
   "execution_count": null,
   "id": "facb42c8",
   "metadata": {},
   "outputs": [],
   "source": [
    "def rmse(X, y, w) :\n",
    "    n = X.shape[0] # No of the samples\n",
    "    return np.sqrt(2/n * loss(X, y))\n",
    "\n",
    "def plot_learning_curves(losses):\n",
    "    plt.plot(losses)\n"
   ]
  },
  {
   "cell_type": "markdown",
   "id": "b3268b31",
   "metadata": {},
   "source": [
    "### Learning Curve - GD  "
   ]
  },
  {
   "cell_type": "code",
   "execution_count": 543,
   "id": "e068c199",
   "metadata": {},
   "outputs": [
    {
     "name": "stdout",
     "output_type": "stream",
     "text": [
      "array([4.28134169e-04, 4.28134169e-04, 4.28134169e-04, 4.28134169e-04,\n",
      "       4.28134169e-04, 4.28134169e-04, 4.28134169e-04, 4.28134169e-04,\n",
      "       4.28134169e-04, 4.28134169e-04, 4.00335625e+01, 1.03081976e+01,\n",
      "       5.19092210e+01, 6.29242060e+00, 4.11619567e+01, 2.84422561e+01,\n",
      "       8.89543118e+01, 9.75812006e+00, 1.54722339e+01, 4.49977648e+01])\n"
     ]
    },
    {
     "data": {
      "image/png": "[encoded data removed]",
      "text/plain": [
       "<Figure size 432x288 with 1 Axes>"
      ]
     },
     "metadata": {},
     "output_type": "display_data"
    }
   ],
   "source": [
    "lr = 0.0001\n",
    "epochs = 1000\n",
    "\n",
    "weights, losses = gradient_descent(X_train, y_train, epochs)\n",
    "pprint.pprint(weights[-1])\n",
    "plot_learning_curves(losses)"
   ]
  },
  {
   "cell_type": "markdown",
   "id": "e1470493",
   "metadata": {},
   "source": [
    "### Learning Curve - MBGD  "
   ]
  },
  {
   "cell_type": "code",
   "execution_count": 487,
   "id": "f1fd6677",
   "metadata": {
    "scrolled": true
   },
   "outputs": [
    {
     "data": {
      "image/png": "[encoded data removed]",
      "text/plain": [
       "<Figure size 432x288 with 1 Axes>"
      ]
     },
     "metadata": {},
     "output_type": "display_data"
    }
   ],
   "source": [
    "mini_batch_size = 10\n",
    "iterations = 1000\n",
    "\n",
    "X_train, X_test, y_train, y_test = generate_examples(100)\n",
    "weights, losses = mini_batch_gd(X_train, y_train, iterations, mini_batch_size)\n",
    "plot_learning_curves(losses)"
   ]
  },
  {
   "cell_type": "markdown",
   "id": "655aaa78",
   "metadata": {},
   "source": [
    "### Learning Curve - SGD  "
   ]
  },
  {
   "cell_type": "code",
   "execution_count": 493,
   "id": "93dbab9d",
   "metadata": {},
   "outputs": [
    {
     "data": {
      "image/png": "[encoded data removed]",
      "text/plain": [
       "<Figure size 432x288 with 1 Axes>"
      ]
     },
     "metadata": {},
     "output_type": "display_data"
    }
   ],
   "source": [
    "mini_batch_size = 1\n",
    "iterations = 20\n",
    "\n",
    "X_train, X_test, y_train, y_test = generate_examples(100)\n",
    "weights, losses = stochastic_gradient_descent(X_train, y_train, iterations)\n",
    "plot_learning_curves(losses)"
   ]
  },
  {
   "cell_type": "code",
   "execution_count": null,
   "id": "ee65bea3",
   "metadata": {},
   "outputs": [],
   "source": []
  },
  {
   "cell_type": "markdown",
   "id": "013c87b7",
   "metadata": {},
   "source": [
    "## Handling More Features "
   ]
  },
  {
   "cell_type": "code",
   "execution_count": 505,
   "id": "28bf4e1d",
   "metadata": {},
   "outputs": [],
   "source": [
    "from sklearn.datasets import make_regression\n",
    "from sklearn.model_selection import train_test_split"
   ]
  },
  {
   "cell_type": "code",
   "execution_count": 504,
   "id": "2e13d3df",
   "metadata": {},
   "outputs": [],
   "source": [
    "X, y, w = make_regression(n_samples=200, n_features=10, n_informative=10, n_targets=1, shuffle=True, coef=True, noise=0.5, random_state=0)\n",
    "X = add_dummy_feature(X)\n",
    "X_train, x_test, y_train, y_test = train_test_split(X, y, test_size=0.2, random_state=42)"
   ]
  },
  {
   "cell_type": "code",
   "execution_count": 515,
   "id": "4399d063",
   "metadata": {},
   "outputs": [
    {
     "name": "stdout",
     "output_type": "stream",
     "text": [
      "Weight vector found through normal equation :  [4.30868690e-04 4.30868690e-04 4.30868690e-04 4.30868690e-04\n",
      " 4.30868690e-04 4.30868690e-04 4.30868690e-04 4.30868690e-04\n",
      " 4.30868690e-04 4.30868690e-04 4.00335228e+01 1.03086790e+01\n",
      " 5.19091277e+01 6.29286567e+00 4.11625781e+01 2.84422862e+01\n",
      " 8.89543306e+01 9.75752481e+00 1.54723974e+01 4.49980952e+01]\n"
     ]
    }
   ],
   "source": [
    "w_normal_eqn = normal_equation(X_train, y_train)\n",
    "print(\"Weight vector found through normal equation : \", w_normal_eqn)"
   ]
  },
  {
   "cell_type": "code",
   "execution_count": 527,
   "id": "dca9fa4b",
   "metadata": {},
   "outputs": [
    {
     "name": "stdout",
     "output_type": "stream",
     "text": [
      "\n",
      "Weight vector found through gradient descent :  [4.28134169e-04 4.28134169e-04 4.28134169e-04 4.28134169e-04\n",
      " 4.28134169e-04 4.28134169e-04 4.28134169e-04 4.28134169e-04\n",
      " 4.28134169e-04 4.28134169e-04 4.00335625e+01 1.03081976e+01\n",
      " 5.19092210e+01 6.29242060e+00 4.11619567e+01 2.84422561e+01\n",
      " 8.89543118e+01 9.75812006e+00 1.54722339e+01 4.49977648e+01]\n"
     ]
    },
    {
     "data": {
      "image/png": "[encoded data removed]",
      "text/plain": [
       "<Figure size 432x288 with 1 Axes>"
      ]
     },
     "metadata": {},
     "output_type": "display_data"
    }
   ],
   "source": [
    "w_gd, losses = gradient_descent(X_train, y_train, 1000)\n",
    "print(\"\\nWeight vector found through gradient descent : \", w_gd[-1])\n",
    "plot_learning_curves(losses)"
   ]
  },
  {
   "cell_type": "code",
   "execution_count": 536,
   "id": "5db3f240",
   "metadata": {},
   "outputs": [
    {
     "name": "stdout",
     "output_type": "stream",
     "text": [
      "\n",
      "Weight vector found through mini batch gradient descent :  [-5.02480045e+144 -5.02480045e+144 -5.02480045e+144 -5.02480045e+144\n",
      " -5.02480045e+144 -5.02480045e+144 -5.02480045e+144 -5.02480045e+144\n",
      " -5.02480045e+144 -5.02480045e+144  3.30242014e+143  6.21239022e+143\n",
      " -2.41675924e+144 -4.29006810e+143  4.35171094e+143  1.85742116e+144\n",
      "  3.22200619e+143  4.61284149e+143 -1.25854964e+143  2.95605524e+144]\n"
     ]
    },
    {
     "data": {
      "image/png": "[encoded data removed]",
      "text/plain": [
       "<Figure size 432x288 with 1 Axes>"
      ]
     },
     "metadata": {},
     "output_type": "display_data"
    }
   ],
   "source": [
    "w_mgbd, losses = mini_batch_gradient_descent(X_train, y_train, 5, 4)\n",
    "print(\"\\nWeight vector found through mini batch gradient descent : \", w_mbgd[-1])\n",
    "plot_learning_curves(losses)"
   ]
  },
  {
   "cell_type": "code",
   "execution_count": 525,
   "id": "38855264",
   "metadata": {},
   "outputs": [
    {
     "name": "stdout",
     "output_type": "stream",
     "text": [
      "\n",
      "Weight vector found through stochastic gradient descent :  [-6.19528990e-03 -6.19528990e-03 -6.19528990e-03 -6.19528990e-03\n",
      " -6.19528990e-03 -6.19528990e-03 -6.19528990e-03 -6.19528990e-03\n",
      " -6.19528990e-03 -6.19528990e-03  4.00820928e+01  1.03953676e+01\n",
      "  5.20040740e+01  6.32980531e+00  4.12389330e+01  2.85060390e+01\n",
      "  8.90627421e+01  9.72919750e+00  1.54915793e+01  4.49804095e+01]\n"
     ]
    },
    {
     "data": {
      "image/png": "[encoded data removed]",
      "text/plain": [
       "<Figure size 432x288 with 1 Axes>"
      ]
     },
     "metadata": {},
     "output_type": "display_data"
    }
   ],
   "source": [
    "w_sgd, losses = stochastic_gradient_descent(X_train, y_train, 20)\n",
    "print(\"\\nWeight vector found through stochastic gradient descent : \", w_sgd[-1])\n",
    "plot_learning_curves(losses)"
   ]
  },
  {
   "cell_type": "markdown",
   "id": "30b6d08e",
   "metadata": {},
   "source": [
    "## `LinReg()` - Class containing all the above methods"
   ]
  },
  {
   "cell_type": "code",
   "execution_count": null,
   "id": "2b78dff7",
   "metadata": {},
   "outputs": [],
   "source": [
    "class LinReg():\n",
    "    def __init__(self):\n",
    "        self.t0 = 200\n",
    "        self.t1 = 100000\n",
    "    \n",
    "    def predict (self, X):\n",
    "        y = X @ self.w\n",
    "        return y\n",
    "    \n",
    "    def loss (self, X, y):\n",
    "        e = y - self.predict(X)\n",
    "        return 0.5 *(e.T @ e)\n",
    "    \n",
    "    def rmse(self,X, y):\n",
    "        return np.sqrt(2/X.shape[0] * self.loss(X, y))\n",
    "    \n",
    "    def fit(self, X, y):\n",
    "        self.w = np.linalg.pinv(X) @ y\n",
    "        return self.w\n",
    "    \n",
    "    def calculate_gradient(self, X, y):\n",
    "        return X.T @ (self.predict(X) - y)\n",
    "    \n",
    "    def update_weights(self, grad, lr):\n",
    "        return (self.w - lr * grad)\n",
    "    \n",
    "    def learning_schedule(self, t):\n",
    "        return self.t0 / (self.t0 + self.t1)\n",
    "    \n",
    "    def gd(self, X, y, num_epochs, lr):\n",
    "        self.w = np.zeros(X.shape[1])\n",
    "        self.w_all = list() \n",
    "        self.err_all = list()\n",
    "        for i in range(epochs):\n",
    "            dJdw = calculate_gradient(X, y)\n",
    "            self.w_all.append(self.w)\n",
    "            self.err_all.append(self.loss(X, y))\n",
    "            self.w = self.update_weights(dJdw, lr)\n",
    "        return self.w\n",
    "    \n",
    "    def mbgd(self, X, y, num_epochs, batch_size):\n",
    "        mini_batch_id = 0\n",
    "        self.w = np.zeros(X.shape[1])  #initializing arbitrary values.\n",
    "        self.w_all = list() \n",
    "        self.err_all = list()\n",
    "\n",
    "        for epoch in range(num_epochs):\n",
    "            shuffled_indices = np.random.permutation(X.shape[0])\n",
    "            X_shuffled = X[shuffled_indices]\n",
    "            y_shuffled = y[shuffled_indices]\n",
    "\n",
    "            for i in range(0, X.shape[0], batch_size):\n",
    "                mini_batch_id += 1\n",
    "                x1 = X_shuffled[i:i+batch_size]\n",
    "                y1 = y_shuffled[i:i+batch_size]\n",
    "\n",
    "                self.w_all.append(self.w)\n",
    "                self.err_all.append(self.loss(X, y))\n",
    "\n",
    "                dJdw = 2/batch_size * self.calculate_gradient(x1, y1)\n",
    "                self.w = self.update_weights(dJdw, self.learning_schedule(mini_batch_id))\n",
    "\n",
    "        return self.w\n",
    "    \n",
    "    def sgd(self, X, y, num_epochs):\n",
    "        batch_size = 1\n",
    "        mini_batch_id = 0\n",
    "        self.w = np.zeros(X.shape[1])  #initializing arbitrary values.\n",
    "        self.w_all = list() \n",
    "        self.err_all = list()\n",
    "\n",
    "        for epoch in range(num_epochs):\n",
    "            shuffled_indices = np.random.permutation(X.shape[0])\n",
    "            X_shuffled = X[shuffled_indices]\n",
    "            y_shuffled = y[shuffled_indices]\n",
    "\n",
    "            for i in range(0, X.shape[0], batch_size):\n",
    "                mini_batch_id += 1\n",
    "                x1 = X_shuffled[i:i+batch_size]\n",
    "                y1 = y_shuffled[i:i+batch_size]\n",
    "\n",
    "                self.w_all.append(self.w)\n",
    "                self.err_all.append(self.loss(X, y))\n",
    "\n",
    "                dJdw = 2/batch_size * self.calculate_gradient(x1, y1)\n",
    "                self.w = self.update_weights(dJdw, self.learning_schedule(mini_batch_id))\n",
    "\n",
    "        return self.w"
   ]
  },
  {
   "cell_type": "markdown",
   "id": "af470c2d",
   "metadata": {},
   "source": [
    "## Doubts and Clarifications"
   ]
  },
  {
   "cell_type": "code",
   "execution_count": null,
   "id": "cf17d2b3",
   "metadata": {},
   "outputs": [],
   "source": [
    "np.random.seed(0)\n",
    "x = 10 * np.random.random(10)\n",
    "pprint.pprint(x)\n",
    "s = np.random.permutation(10)\n",
    "pprint.pprint(s)\n",
    "x = x[s]\n",
    "pprint.pprint(x)"
   ]
  },
  {
   "cell_type": "code",
   "execution_count": 215,
   "id": "bbfb1f46",
   "metadata": {},
   "outputs": [
    {
     "name": "stdout",
     "output_type": "stream",
     "text": [
      "A :  (2, 4)\n",
      "B :  (4,)\n",
      "C :  (4, 1)\n",
      "array([[2. ],\n",
      "       [1. ],\n",
      "       [0.1],\n",
      "       [1. ]])\n"
     ]
    }
   ],
   "source": [
    "a = np.array([[1,3,2,5],[1,9,4,7]])\n",
    "b = np.array([2,1,0.1,1])\n",
    "c = np.array([[2,1,0.1,1]])\n",
    "print(\"A : \", a.shape)\n",
    "print(\"B : \", b.shape)\n",
    "print(\"C : \", c.T.shape)\n",
    "pprint.pprint(c.T)\n",
    "# print(\"b at a : \", a.T@b)\n",
    "# print(\"c at a : \", c@a)"
   ]
  }
 ],
 "metadata": {
  "kernelspec": {
   "display_name": "Python 3 (ipykernel)",
   "language": "python",
   "name": "python3"
  },
  "language_info": {
   "codemirror_mode": {
    "name": "ipython",
    "version": 3
   },
   "file_extension": ".py",
   "mimetype": "text/x-python",
   "name": "python",
   "nbconvert_exporter": "python",
   "pygments_lexer": "ipython3",
   "version": "3.9.7"
  }
 },
 "nbformat": 4,
 "nbformat_minor": 5
}

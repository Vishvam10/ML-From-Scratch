{
 "cells": [
  {
   "cell_type": "markdown",
   "id": "5e6ca7d5",
   "metadata": {},
   "source": [
    "# Feature Selection"
   ]
  },
  {
   "cell_type": "code",
   "execution_count": 1,
   "id": "22a776e3",
   "metadata": {},
   "outputs": [],
   "source": [
    "import pandas as pd\n",
    "import numpy as np\n",
    "import seaborn as sns\n",
    "import matplotlib.pyplot as plt\n",
    "sns.set_style(style='whitegrid')"
   ]
  },
  {
   "cell_type": "markdown",
   "id": "341a75f4",
   "metadata": {},
   "source": [
    "## Filter Based Selection Methods"
   ]
  },
  {
   "cell_type": "markdown",
   "id": "3ec241a0",
   "metadata": {},
   "source": [
    "### Variance Threshold - `VarianceThreshold()` \n",
    "**MAIN IDEA :** **Features**  ( i.e. **columns** like age, weight, gender, etc. ) with a **training-set variance lower than a threshold will be removed**. The default is to keep all features with non-zero variance, i.e. remove the features that have the same value in all samples."
   ]
  },
  {
   "cell_type": "code",
   "execution_count": 16,
   "id": "3bcd55ec",
   "metadata": {},
   "outputs": [],
   "source": [
    "from sklearn.feature_extraction import DictVectorizer\n",
    "from sklearn.feature_selection import VarianceThreshold"
   ]
  },
  {
   "cell_type": "code",
   "execution_count": 27,
   "id": "4f07446c",
   "metadata": {},
   "outputs": [
    {
     "name": "stdout",
     "output_type": "stream",
     "text": [
      "Transformed Data : \n",
      " [[ 4.  96. ]\n",
      " [ 1.  73.9]\n",
      " [ 3.  88.9]\n",
      " [ 2.  81.6]]\n",
      "\n",
      "Variance of Data ( Along the column ) : \n",
      " [ 1.25  67.735]\n",
      "\n",
      "Selected Feature : \n",
      " [[96. ]\n",
      " [73.9]\n",
      " [88.9]\n",
      " [81.6]]\n",
      "\n",
      "New Data : \n",
      " [{'age': 96.0}, {'age': 73.9}, {'age': 88.9}, {'age': 81.6}]\n"
     ]
    }
   ],
   "source": [
    "data = [\n",
    "    {'age': 4, 'height':96.0},\n",
    "    {'age': 1, 'height':73.9},\n",
    "    {'age': 3, 'height':88.9},\n",
    "    {'age': 2, 'height':81.6}\n",
    "]\n",
    "\n",
    "dv = DictVectorizer(sparse=False)\n",
    "data_transformed = dv.fit_transform(data)\n",
    "\n",
    "print(\"Transformed Data : \\n\", data_transformed)\n",
    "print(\"\\nVariance of Data ( Along the column ) : \\n\", np.var(data_transformed, axis=0))\n",
    "\n",
    "vt = VarianceThreshold(threshold=9)\n",
    "res = vt.fit_transform(data_transformed)\n",
    "\n",
    "print(\"\\nSelected Feature : \\n\", res)\n",
    "\n",
    "new_data = dv.inverse_transform(res)\n",
    "\n",
    "\n",
    "print(\"\\nNew Data : \\n\", new_data)"
   ]
  },
  {
   "cell_type": "markdown",
   "id": "e065ca1c",
   "metadata": {},
   "source": [
    "Notice that in the above example, the column *age* is removed from *data*. This is because the variance of the *age* column ( = 1.25 ) was lower than the variance threshold ( = 9 ). "
   ]
  },
  {
   "cell_type": "markdown",
   "id": "8842ccd0",
   "metadata": {},
   "source": [
    "### Select K Best - `SelectKBest()`"
   ]
  },
  {
   "cell_type": "markdown",
   "id": "72a3cbcd",
   "metadata": {},
   "source": [
    "**NOTE** : `mutual_info_regression()`\n",
    "- Estimates mutual information for a continuous target variable\n",
    "- Mutual information (MI) between two random variables is a non-negative value, **which measures the dependency between the variables**. It is **equal to zero if and only if two random variables are independent**, and higher values mean higher dependency\n",
    "- Definition in terms of PMFs for discrete distributions :\n",
    "\n",
    "<img src=\"https://wikimedia.org/api/rest_v1/media/math/render/svg/1030462a874c1160206cf9347302067e20dbfb9a\"></img>\n",
    "\n",
    "where ${\\displaystyle P_{(X,Y)}}$ ${\\displaystyle P_{(X,Y)}}$ is the joint probability mass function of ${\\displaystyle X}$ and ${\\displaystyle Y}$, and ${\\displaystyle P_{X}}$ and ${\\displaystyle P_{Y}}$ are the marginal probability mass functions of ${\\displaystyle X}$ and ${\\displaystyle Y}$ respectively."
   ]
  },
  {
   "cell_type": "code",
   "execution_count": 114,
   "id": "53bea61d",
   "metadata": {},
   "outputs": [],
   "source": [
    "from sklearn.datasets import fetch_california_housing\n",
    "from sklearn.model_selection import train_test_split\n",
    "from sklearn.feature_selection import SelectKBest, SelectPercentile, GenericUnivariateSelect, mutual_info_regression"
   ]
  },
  {
   "cell_type": "code",
   "execution_count": 133,
   "id": "b307bba6",
   "metadata": {},
   "outputs": [
    {
     "name": "stdout",
     "output_type": "stream",
     "text": [
      "Selected Features : \n",
      " ['MedInc' 'Latitude' 'Longitude']\n"
     ]
    }
   ],
   "source": [
    "cols = fetch_california_housing().feature_names\n",
    "X_california, y_california = fetch_california_housing(return_X_y=True)\n",
    "\n",
    "X = X_california[:2000, :]\n",
    "# pd.DataFrame(X, columns=cols)\n",
    "Y = y_california[:2000]\n",
    "# pd.DataFrame(Y, columns=['price'])\n",
    "\n",
    "skb = SelectKBest(mutual_info_regression, k=3)\n",
    "res = skb.fit_transform(X, y)\n",
    "\n",
    "print(\"Selected Features : \\n\", skb.get_feature_names_out(input_features=cols))"
   ]
  },
  {
   "cell_type": "markdown",
   "id": "32001422",
   "metadata": {},
   "source": [
    "### Select Percentile - `SelectPercentile()`"
   ]
  },
  {
   "cell_type": "code",
   "execution_count": 106,
   "id": "c182b40c",
   "metadata": {},
   "outputs": [
    {
     "name": "stdout",
     "output_type": "stream",
     "text": [
      "Selected Features : \n",
      " ['MedInc' 'Latitude' 'Longitude']\n"
     ]
    }
   ],
   "source": [
    "sp = SelectPercentile(mutual_info_regression, percentile=30)\n",
    "X_new = sp.fit_transform(X, y)\n",
    "print(\"Selected Features : \\n\", skb.get_feature_names_out(input_features=cols))"
   ]
  },
  {
   "cell_type": "markdown",
   "id": "da06c412",
   "metadata": {},
   "source": [
    "### Generic Univariate Select - `GenericUnivariateSelect()`"
   ]
  },
  {
   "cell_type": "code",
   "execution_count": 108,
   "id": "6a66bc4c",
   "metadata": {},
   "outputs": [
    {
     "name": "stdout",
     "output_type": "stream",
     "text": [
      "Selected Features : \n",
      " ['MedInc' 'Latitude' 'Longitude']\n"
     ]
    }
   ],
   "source": [
    "gus = GenericUnivariateSelect(mutual_info_regression, mode='k_best', param=4)\n",
    "X_new = gus.fit_transform(X, y)\n",
    "print(\"Selected Features : \\n\", skb.get_feature_names_out(input_features=cols))"
   ]
  },
  {
   "cell_type": "markdown",
   "id": "a7fa0e9d",
   "metadata": {},
   "source": [
    "## Wrapper Based Selection Methods"
   ]
  },
  {
   "cell_type": "markdown",
   "id": "c63a40a6",
   "metadata": {},
   "source": [
    "### Recursive Feature Elimination with Cross Validation (RFE_CV)  - `RFE()`"
   ]
  },
  {
   "cell_type": "code",
   "execution_count": 139,
   "id": "142a2a19",
   "metadata": {},
   "outputs": [],
   "source": [
    "from sklearn.feature_selection import RFE\n",
    "from sklearn.linear_model import LinearRegression"
   ]
  },
  {
   "cell_type": "code",
   "execution_count": 151,
   "id": "10111e88",
   "metadata": {},
   "outputs": [
    {
     "name": "stdout",
     "output_type": "stream",
     "text": [
      "Selected Features Mask : [ True False False False False False  True  True]\n",
      "\n",
      "Rank of each feature :  [1 5 4 3 6 2 1 1]\n",
      "\n",
      "Selected Features : ['MedInc' 'Latitude' 'Longitude']\n",
      "\n",
      "New Data : \n",
      " [[   8.3252   37.88   -122.23  ]\n",
      " [   8.3014   37.86   -122.22  ]\n",
      " [   7.2574   37.85   -122.24  ]\n",
      " ...\n",
      " [   1.7829   36.73   -119.77  ]\n",
      " [   1.5227   36.75   -119.77  ]\n",
      " [   1.5547   36.74   -119.77  ]]\n"
     ]
    }
   ],
   "source": [
    "estimator = LinearRegression()\n",
    "selector = RFE(estimator, n_features_to_select=3, step=1)\n",
    "\n",
    "res = selector.fit(X, y)\n",
    "print(\"Selected Features Mask :\", res.support_)\n",
    "\n",
    "print(\"\\nRank of each feature : \", selector.ranking_) # rank 1 is assigned to only selected features. Not be to confused with rank of a matrix. This is places in which the features are ranked.\n",
    "\n",
    "cols = np.array(cols)\n",
    "print(\"\\nSelected Features :\", cols[res.support_])\n",
    "\n",
    "X_new = selector.transform(X)\n",
    "print(\"\\nNew Data : \\n\", X_new)"
   ]
  },
  {
   "cell_type": "markdown",
   "id": "7f798833",
   "metadata": {},
   "source": [
    "### Select From Model - `SelectFromModel()`"
   ]
  },
  {
   "cell_type": "code",
   "execution_count": 153,
   "id": "9eac00da",
   "metadata": {},
   "outputs": [],
   "source": [
    "from sklearn.feature_selection import SelectFromModel\n",
    "from sklearn.linear_model import LinearRegression"
   ]
  },
  {
   "cell_type": "code",
   "execution_count": 159,
   "id": "358b37f5",
   "metadata": {},
   "outputs": [
    {
     "name": "stdout",
     "output_type": "stream",
     "text": [
      "Coefficients of features:  [ 3.64048292e-01  5.56221906e-03  5.13591243e-02 -1.64474348e-01\n",
      "  5.90411479e-05 -1.64573915e-01 -2.17724525e-01 -1.85343265e-01]\n",
      "\n",
      "Indices of top 3 features:  [1 2 0]\n",
      "\n",
      "The top 3 features:  ['HouseAge' 'AveRooms' 'MedInc']\n"
     ]
    },
    {
     "data": {
      "text/plain": [
       "(2000, 3)"
      ]
     },
     "execution_count": 159,
     "metadata": {},
     "output_type": "execute_result"
    }
   ],
   "source": [
    "estimator = LinearRegression()\n",
    "estimator.fit(X, y)\n",
    "\n",
    "print('Coefficients of features: ', estimator.coef_)\n",
    "print('\\nIndices of top 3 features: ', np.argsort(estimator.coef_)[-3:])\n",
    "print('\\nThe top 3 features: ', cols[np.argsort(estimator.coef_)[-3:]])\n",
    "model = SelectFromModel(estimator, max_features=3, prefit=True)\n",
    "X_new = model.transform(X)\n",
    "X_new.shape"
   ]
  },
  {
   "cell_type": "markdown",
   "id": "ef7f1acd",
   "metadata": {},
   "source": [
    "### Sequential Feature Selector - `SequentialFeatureSelector()`"
   ]
  },
  {
   "cell_type": "code",
   "execution_count": 160,
   "id": "7938d208",
   "metadata": {},
   "outputs": [],
   "source": [
    "from sklearn.feature_selection import SequentialFeatureSelector\n",
    "from sklearn.linear_model import LinearRegression"
   ]
  },
  {
   "cell_type": "markdown",
   "id": "8f2bcd3b",
   "metadata": {},
   "source": [
    "#### Forward sequence selector"
   ]
  },
  {
   "cell_type": "code",
   "execution_count": 165,
   "id": "04521d0c",
   "metadata": {},
   "outputs": [
    {
     "name": "stdout",
     "output_type": "stream",
     "text": [
      "\n",
      "Selected Features : ['MedInc' 'AveOccup' 'Latitude']\n",
      "Wall time: 287 ms\n"
     ]
    }
   ],
   "source": [
    "%%time\n",
    "\n",
    "estimator = LinearRegression()\n",
    "\n",
    "sfs = SequentialFeatureSelector(estimator, n_features_to_select=3)\n",
    "X_new = sfs.fit_transform(X, y)\n",
    "print(\"\\nSelected Features :\", sfs.get_feature_names_out(input_features=cols))"
   ]
  },
  {
   "cell_type": "markdown",
   "id": "cce20d1d",
   "metadata": {},
   "source": [
    "#### Backward sequence selector"
   ]
  },
  {
   "cell_type": "code",
   "execution_count": 168,
   "id": "8f47fdbd",
   "metadata": {},
   "outputs": [
    {
     "name": "stdout",
     "output_type": "stream",
     "text": [
      "\n",
      "Selected Features : ['MedInc' 'AveOccup' 'Latitude']\n",
      "Wall time: 433 ms\n"
     ]
    }
   ],
   "source": [
    "%%time\n",
    "\n",
    "estimator = LinearRegression()\n",
    "\n",
    "sfs = SequentialFeatureSelector(estimator, n_features_to_select=3, direction='backward')\n",
    "X_new = sfs.fit_transform(X, y)\n",
    "print(\"\\nSelected Features :\", sfs.get_feature_names_out(input_features=cols))"
   ]
  },
  {
   "cell_type": "markdown",
   "id": "0755b5a3",
   "metadata": {},
   "source": [
    "## Dimensionality Reduction"
   ]
  },
  {
   "cell_type": "markdown",
   "id": "2c795da1",
   "metadata": {},
   "source": [
    "### Principal Component Analysis (PCA) - `PCA()`"
   ]
  },
  {
   "cell_type": "code",
   "execution_count": 169,
   "id": "be9fd35f",
   "metadata": {},
   "outputs": [
    {
     "data": {
      "text/plain": [
       "Text(0.5, 1.0, 'Data points')"
      ]
     },
     "execution_count": 169,
     "metadata": {},
     "output_type": "execute_result"
    },
    {
     "data": {
      "image/png": "[encoded data removed]",
      "text/plain": [
       "<Figure size 432x288 with 1 Axes>"
      ]
     },
     "metadata": {},
     "output_type": "display_data"
    }
   ],
   "source": [
    "from sklearn.datasets import make_regression\n",
    "X, y = make_regression(n_samples=300, n_features=2, n_targets=1, random_state=42)\n",
    "x1, x2 = X[:,0], X[:,1]\n",
    "plt.scatter(x1, x2)\n",
    "plt.xlabel('$X_1$')\n",
    "plt.ylabel('$X_2$')\n",
    "plt.title('Data points', fontsize=15)"
   ]
  },
  {
   "cell_type": "code",
   "execution_count": 170,
   "id": "3713e9bd",
   "metadata": {
    "scrolled": false
   },
   "outputs": [
    {
     "data": {
      "text/plain": [
       "PCA(n_components=2)"
      ]
     },
     "execution_count": 170,
     "metadata": {},
     "output_type": "execute_result"
    }
   ],
   "source": [
    "from sklearn.decomposition import PCA\n",
    "pca = PCA(n_components=2)\n",
    "pca.fit(X)"
   ]
  },
  {
   "cell_type": "code",
   "execution_count": 172,
   "id": "3d3dae4d",
   "metadata": {},
   "outputs": [
    {
     "data": {
      "text/plain": [
       "array([[-0.39345132, -0.91934545],\n",
       "       [ 0.91934545, -0.39345132]])"
      ]
     },
     "execution_count": 172,
     "metadata": {},
     "output_type": "execute_result"
    }
   ],
   "source": [
    "pca.components_"
   ]
  },
  {
   "cell_type": "code",
   "execution_count": 173,
   "id": "df38f66b",
   "metadata": {},
   "outputs": [
    {
     "data": {
      "text/plain": [
       "array([0.96449834, 0.92896025])"
      ]
     },
     "execution_count": 173,
     "metadata": {},
     "output_type": "execute_result"
    }
   ],
   "source": [
    "pca.explained_variance_"
   ]
  },
  {
   "cell_type": "code",
   "execution_count": 174,
   "id": "6994c859",
   "metadata": {},
   "outputs": [
    {
     "name": "stdout",
     "output_type": "stream",
     "text": [
      "(300, 2) (300, 1)\n"
     ]
    }
   ],
   "source": [
    "pca = PCA(n_components=1)\n",
    "pca.fit(X)\n",
    "X_pca = pca.transform(X)\n",
    "print(X.shape, X_pca.shape)"
   ]
  },
  {
   "cell_type": "markdown",
   "id": "fff30668",
   "metadata": {},
   "source": [
    "## Handling Class Imbalance"
   ]
  },
  {
   "cell_type": "code",
   "execution_count": 175,
   "id": "9e4a2274",
   "metadata": {},
   "outputs": [],
   "source": [
    "data_url = 'https://archive.ics.uci.edu/ml/machine-learning-databases/wine-quality/winequality-red.csv'\n",
    "wine_data = pd.read_csv(data_url, sep=\";\")"
   ]
  },
  {
   "cell_type": "code",
   "execution_count": 176,
   "id": "a37539a9",
   "metadata": {},
   "outputs": [
    {
     "data": {
      "text/plain": [
       "<AxesSubplot:>"
      ]
     },
     "execution_count": 176,
     "metadata": {},
     "output_type": "execute_result"
    },
    {
     "data": {
      "image/png": "[encoded data removed]",
      "text/plain": [
       "<Figure size 432x288 with 1 Axes>"
      ]
     },
     "metadata": {},
     "output_type": "display_data"
    }
   ],
   "source": [
    "wine_data['quality'].hist(bins=50)"
   ]
  },
  {
   "cell_type": "code",
   "execution_count": 178,
   "id": "0b21aab1",
   "metadata": {},
   "outputs": [
    {
     "data": {
      "text/plain": [
       "((1599, 11), (1599,))"
      ]
     },
     "execution_count": 178,
     "metadata": {},
     "output_type": "execute_result"
    }
   ],
   "source": [
    "X = wine_data.drop(['quality'], axis=1)\n",
    "y = wine_data['quality']\n",
    "X.shape, y.shape"
   ]
  },
  {
   "cell_type": "code",
   "execution_count": 182,
   "id": "421c9692",
   "metadata": {},
   "outputs": [
    {
     "name": "stdout",
     "output_type": "stream",
     "text": [
      "Collecting imbalanced-learn\n",
      "  Using cached imbalanced_learn-0.9.1-py3-none-any.whl (199 kB)\n",
      "Requirement already satisfied: numpy>=1.17.3 in c:\\users\\vishvam\\anaconda3\\lib\\site-packages (from imbalanced-learn) (1.20.3)\n",
      "Requirement already satisfied: scikit-learn>=1.1.0 in c:\\users\\vishvam\\anaconda3\\lib\\site-packages (from imbalanced-learn) (1.1.1)\n",
      "Requirement already satisfied: scipy>=1.3.2 in c:\\users\\vishvam\\anaconda3\\lib\\site-packages (from imbalanced-learn) (1.7.1)\n",
      "Requirement already satisfied: threadpoolctl>=2.0.0 in c:\\users\\vishvam\\anaconda3\\lib\\site-packages (from imbalanced-learn) (2.2.0)\n",
      "Requirement already satisfied: joblib>=1.0.0 in c:\\users\\vishvam\\anaconda3\\lib\\site-packages (from imbalanced-learn) (1.1.0)\n",
      "Installing collected packages: imbalanced-learn\n",
      "Successfully installed imbalanced-learn-0.9.1\n"
     ]
    }
   ],
   "source": [
    "!pip install imbalanced-learn"
   ]
  },
  {
   "cell_type": "code",
   "execution_count": 184,
   "id": "6048c2d6",
   "metadata": {},
   "outputs": [],
   "source": [
    "from collections import Counter\n",
    "from imblearn.under_sampling import RandomUnderSampler\n",
    "\n",
    "undersample = RandomUnderSampler(random_state=42)\n",
    "X_rus, y_rus = undersample.fit_resample(X, y)\n",
    "\n",
    "print(\"Original dataset shape : \", Counter(y))\n",
    "print(\"Resample dataset shape : \", Counter(y_rus))  # Selects 10 from each of the {5,6} classes.\n",
    "wine_data_modified = pd.concat([X_rus, y_rus], axis=1)\n",
    "wine_data_modified"
   ]
  },
  {
   "cell_type": "code",
   "execution_count": null,
   "id": "5a3e2b52",
   "metadata": {},
   "outputs": [],
   "source": [
    "from imblearn.over_sampling import RandomOverSampler\n",
    "\n",
    "oversample = RandomOverSampler(random_state=42)\n",
    "X_ros, y_ros = oversample.fit_resample(X, y)\n",
    "\n",
    "print(\"Original dataset shape : \", Counter(y))\n",
    "print(\"Resample dataset shape : \", Counter(y_ros))  # Selects 681 (by repeat-sampling) from each of the {5,6} classes.\n",
    "\n",
    "wine_data_modified = pd.concat([X_ros, y_ros], axis=1)\n",
    "wine_data_modified"
   ]
  },
  {
   "cell_type": "code",
   "execution_count": null,
   "id": "d1636cd1",
   "metadata": {},
   "outputs": [],
   "source": [
    "from imblearn.over_sampling import SMOTE\n",
    "\n",
    "oversample = SMOTE()\n",
    "X_sm, y_sm = oversample.fit_resample(X, y)\n",
    "\n",
    "print(\"Original dataset shape : \", Counter(y))\n",
    "print(\"Resample dataset shape : \", Counter(y_ros))  # Selects 681 (by repeat-sampling) from each of the {5,6} classes, by SMOTE"
   ]
  },
  {
   "cell_type": "code",
   "execution_count": null,
   "id": "dff70fe2",
   "metadata": {},
   "outputs": [],
   "source": [
    "wine_data_modified = pd.concat([X_ros, y_ros], axis=1)\n",
    "wine_data_modified"
   ]
  }
 ],
 "metadata": {
  "kernelspec": {
   "display_name": "Python 3 (ipykernel)",
   "language": "python",
   "name": "python3"
  },
  "language_info": {
   "codemirror_mode": {
    "name": "ipython",
    "version": 3
   },
   "file_extension": ".py",
   "mimetype": "text/x-python",
   "name": "python",
   "nbconvert_exporter": "python",
   "pygments_lexer": "ipython3",
   "version": "3.9.7"
  }
 },
 "nbformat": 4,
 "nbformat_minor": 5
}

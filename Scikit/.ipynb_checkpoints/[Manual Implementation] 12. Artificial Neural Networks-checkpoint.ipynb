{
 "cells": [
  {
   "cell_type": "markdown",
   "id": "218c3fc3",
   "metadata": {},
   "source": [
    "# Artificial Neural Networks"
   ]
  },
  {
   "cell_type": "code",
   "execution_count": 1,
   "id": "86ef6ce8",
   "metadata": {},
   "outputs": [],
   "source": [
    "import numpy as np\n",
    "seed = 42\n",
    "rng = np.random.default_rng(seed=seed)"
   ]
  },
  {
   "cell_type": "markdown",
   "id": "cdc36bff",
   "metadata": {},
   "source": [
    "## Network Class\n",
    "\n",
    "We shall start writing the `Network` class. The two methods that are indispensable for any ML class are :\n",
    "- `fit`\n",
    "- `predict`\n",
    "\n",
    "Fitting a neural network model requires us to compute two passes on the data :\n",
    "- `forward`\n",
    "- `backward`\n",
    "\n",
    "We need to start at some place by initializing the network and various hyperparameters and this requires an `init` method :\n",
    "- `init`\n",
    "\n",
    "In most of these methods, we would have to take the help of certain helper functions :\n",
    "- `activations`\n",
    "- `losses`\n",
    "\n",
    "This is the process. But we will work through it in the reverse order so that each step of the process does not have any forward references :\n",
    "`helpers -> init -> forward -> backward -> fit -> predict`\n",
    "\n",
    "The skeleton of the class is given in the code block that follows. For ease of exposition, we are going to discuss the methods on at a time and then plugh them into the class right at the end."
   ]
  },
  {
   "cell_type": "code",
   "execution_count": 2,
   "id": "3025ba83",
   "metadata": {},
   "outputs": [],
   "source": [
    "class Network :\n",
    "    \n",
    "    def __init__(self, layers, activation_choice=\"relu\", output_choice=\"softmax\", loss_choice=\"cce\") :\n",
    "        pass\n",
    "    \n",
    "    def forward(self, X) :\n",
    "        pass\n",
    "    \n",
    "    def backward(self, Y, Y_hat) :\n",
    "        pass\n",
    "    \n",
    "    def fit(self, X, Y, lr=0.01, epochs=100, batch_size=100) :\n",
    "        pass\n",
    "    \n",
    "    def predict(self, X) :\n",
    "        pass"
   ]
  },
  {
   "cell_type": "markdown",
   "id": "05ff00cd",
   "metadata": {},
   "source": [
    "## Activation Functions\n",
    "\n",
    "### Hidden Layer\n",
    "\n",
    "We will look at 2 functions for the hidden layers. Both of these functions will be **applied element-wise**. The input to these functions can be scalars, vectors or matrices\n",
    "\n",
    "- Sigmoid :\n",
    "$$\n",
    "    g(z) = \\frac {1} {1 + e^{-z}}\n",
    "$$\n",
    "\n",
    "Its derivative :\n",
    "\n",
    "$$\n",
    "    g'(z) = g(z)(1 - g(z))\n",
    "$$\n",
    "\n",
    "- ReLU ( Rectified Linear Unit ) :\n",
    "$$\n",
    "    g(x)=\\begin{cases}\n",
    "    z, & z \\ge 0 \\\\ \n",
    "    0, & z<0\n",
    "    \\end{cases}\n",
    "$$\n",
    "\n",
    "Its derivative :\n",
    "\n",
    "$$\n",
    "    g'(x)=\\begin{cases}\n",
    "    1, & z \\ge 0 \\\\ \n",
    "    0, & z<0\n",
    "    \\end{cases}\n",
    "$$\n"
   ]
  },
  {
   "cell_type": "code",
   "execution_count": 3,
   "id": "f3be6548",
   "metadata": {},
   "outputs": [],
   "source": [
    "def sigmoid(z) :\n",
    "    return 1 / (1 + np.exp(-z))\n",
    "\n",
    "def grad_sigmoid(z) :\n",
    "    return sigmoid(z) * (1 - sigmoid(z))\n",
    "\n",
    "def relu(z) :\n",
    "    return np.where(z >= 0, z, 0)\n",
    "\n",
    "def grad_relu(z) :\n",
    "    return np.where(z >= 0, 1, 0)\n",
    "\n",
    "\n",
    "# A dictionary of activation functions will be used while initializing the network\n",
    "hidden_act = {\"sigmoid\": sigmoid, \"relu\": relu}\n",
    "grad_hidden_act = {\"sigmoid\": grad_sigmoid, \"relu\": grad_relu}"
   ]
  },
  {
   "cell_type": "markdown",
   "id": "e478cb77",
   "metadata": {},
   "source": [
    "## Output Layer\n",
    "\n",
    "We will look at 2 activation functions for the output layer :\n",
    "    \n",
    "- Identity ( For regression )\n",
    "$$\n",
    "    g(z) = z\n",
    "$$\n",
    "\n",
    "- Softmax ( For classification ) :\n",
    "The input to the softmax function will always be a matrix of size $n \\times k$. Since we need a probability distribution for each data point, **the softmax will be computed row-wise**\n",
    "\n",
    "$$\n",
    "    g(\\textbf Z) = \n",
    "    \\begin{pmatrix}\n",
    "    ... & ... & ... \\\\\n",
    "    ... & \\frac {e^{Z_{ij}}} {\\sum \\limits_{j=1}^{k} e^{Z_{ij}}} & ... \\\\\n",
    "    ... & ... & ... \\\\\n",
    "    \\end{pmatrix}\n",
    "$$\n",
    "\n",
    "**To avoid overflow, we will subtract the row-wise maximum from each row while computing the softmax**"
   ]
  },
  {
   "cell_type": "code",
   "execution_count": 4,
   "id": "616a041a",
   "metadata": {},
   "outputs": [],
   "source": [
    "def identity(z) :\n",
    "    return z\n",
    "\n",
    "def softmax(z) :\n",
    "    \"\"\"\n",
    "    Row-wise softmax\n",
    "    \"\"\"\n",
    "    # Check if z is a matrix\n",
    "    assert z.ndim == 2\n",
    "    \n",
    "    # To prevent overflow, subtract row-wise maximum\n",
    "    z -= z.max(axis=1, keepdims=True)\n",
    "    \n",
    "    # Compute row-wise softmax\n",
    "    prob = np.exp(z) / np.exp(z).sum(axis=1, keepdims=True)\n",
    "    \n",
    "    # Check if each row is a probability distribution\n",
    "    assert np.allclose(prob.sum(axis=1), np.ones(z.shape[0]))\n",
    "    \n",
    "    return prob\n",
    "\n",
    "output_act = {\"softmax\": softmax, \"identity\": identity}"
   ]
  },
  {
   "cell_type": "markdown",
   "id": "9f2ed8e0",
   "metadata": {},
   "source": [
    "## Loss\n",
    "\n",
    "We will use 2 types of losses :\n",
    "\n",
    "- Least Square Loss ( For Regression ) :\n",
    "\n",
    "$$\n",
    "    L(\\hat {\\textbf y}, \\textbf y) = \\frac {1} {2} (\\hat {\\textbf y} - \\textbf y)^{T}(\\hat {\\textbf y} - \\textbf y)\n",
    "$$\n",
    "\n",
    "- Categorial Cross-Entropy Loss ( For Classification ) :\n",
    "    \n",
    "$$\n",
    "    L(\\hat {\\textbf Y}, \\textbf Y) = - \\textbf 1_{n}^T(\\textbf Y \\odot log(\\hat {\\textbf Y})\\textbf1-{k}\n",
    "$$\n",
    "\n",
    "In our implementation, we will assume that the arguments to the loss function are always matrices of size $n \\times k$. In the case of regression, $k = 1$."
   ]
  },
  {
   "cell_type": "code",
   "execution_count": 5,
   "id": "210ba780",
   "metadata": {},
   "outputs": [],
   "source": [
    "def least_squares(y, y_hat) :\n",
    "    return 0.5 * np.sum((y_hat - y) * (y_hat - y))\n",
    "\n",
    "def cce(Y, Y_hat) :\n",
    "    return -np.sum(Y * np.log(Y_hat))\n",
    "\n",
    "losses = {\"least_squares\": least_squares, \"cce\": cce}"
   ]
  },
  {
   "cell_type": "markdown",
   "id": "084868bc",
   "metadata": {},
   "source": [
    "## Initialization\n",
    "\n",
    "Here, we will look at two parts :\n",
    "\n",
    "### Network architecture\n",
    "\n",
    "The following components mainly determine the structure of the network :\n",
    "- Number of layers\n",
    "- Number of neuron per layer\n",
    "We will use $l$ to index the layers. The network has $L$ layers in all.\n",
    "- $l = 0$ : Input layer\n",
    "- $1 \\le l \\le L - 1$ : Hidden layers\n",
    "- $l = L$ : Output layer\n",
    "\n",
    "We shall represent the number of layers and neurons using a list `layers`. The variable $L$ will never make an explicit appearance anywhere, instead will use `range(len(layers))` to iterate through the layers.\n",
    "\n",
    "| Layer           | Number of neurons |\n",
    "| -----------     | -----------       |\n",
    "| Input layer     | `layers[0]`       |\n",
    "| Hidden layer 1  | `layers[1]`       |\n",
    "| Hidden layer 2  | `layers[2]`       |\n",
    "| Hidden layer 3  | `layers[3]`       |\n",
    "| **.......**     | `layers[...]`     |\n",
    "| Output layer    | `layers[-1]`      |\n",
    "\n",
    "One useful task is to compute the total number of parameters in each network. This will come handy later on."
   ]
  },
  {
   "cell_type": "code",
   "execution_count": 6,
   "id": "60cb1a64",
   "metadata": {},
   "outputs": [],
   "source": [
    "def count_params(layers) :\n",
    "    num_params = 0\n",
    "    for l in range(1, len(layers)) :\n",
    "        num_weights = layers[l - 1] * layers[l]\n",
    "        num_biases = layers[l]\n",
    "        num_params += (num_weights + num_biases)\n",
    "    return num_params"
   ]
  },
  {
   "cell_type": "markdown",
   "id": "326183b6",
   "metadata": {},
   "source": [
    "### Parameter initialization\n",
    "\n",
    "- The weight matrix at layer $l$ has a size of `layers[l - 1] x layers[l]`\n",
    "- The bias at layer $l$ is a vector of size `layers[l]`\n",
    "- We will store all these weights in a list `w` of the same size as `layers`. So, `W[l]` will correspond to $\\textbf W_l$. Since there are $L$ weight matrices `W[0]` would be set to `None`. Recall that size of the list if $L + 1$\n",
    "- A similar list would be required for `b`\n",
    "\n",
    "To make the gradient descent update simpler, it will be useful to have a **master vector, $\\boldsymbol \\theta$, that has a refernce to all the parameters in the network**. We will do the same for the gradients $\\boldsymbol \\theta^{(g)}$. So, whenever $\\boldsymbol \\theta$ is updated, the weights $\\textbf W_l$ will also be updated and vice-versa\n",
    "\n",
    "One way to do that is to first start with the master vector and then reshape chunks of it into the dimensions of a weight matrix matrix. Reshaping as arrays usually returns a view of an array and not a copy. Visit [this link](https://numpy.org/doc/stable/user/basics.copies.html) to know more."
   ]
  },
  {
   "cell_type": "code",
   "execution_count": 7,
   "id": "c75d5f6a",
   "metadata": {},
   "outputs": [],
   "source": [
    "def init_params(layers) :\n",
    "    num_params = count_params(layers)\n",
    "    \n",
    "    W = [None for _ in range(len(layers))]\n",
    "    b = [None for _ in range(len(layers))]\n",
    "    gW = [None for _ in range(len(layers))]\n",
    "    gb = [None for _ in range(len(layers))]\n",
    "    \n",
    "    \n",
    "    # Sample for N(0, 1) to initialize the parameters\n",
    "    \n",
    "    theta = rng.standard_normal(num_params) # Master params\n",
    "    gtheta = np.zeros(num_params) # Master grads\n",
    "    \n",
    "    # (start, end) specify the portion of the theta that \n",
    "    # corresponds to the parameter, W_l ot b_l\n",
    "    start, end = 0, 0\n",
    "    \n",
    "    for l in range(1, len(layers)) :\n",
    "        # Reshaping the section (start, end) and assign it to W[l]\n",
    "        end = start + layers[l - 1] * layers[l]\n",
    "        W[l] = theta[start: end].reshape(layers[l - 1], layers[l])\n",
    "        gW[l] = gtheta[start: end].reshape(layers[l - 1], layers[l])\n",
    "        \n",
    "         # Reshaping the section (start, end) and assign it to b[l]\n",
    "        start, end = end, end + layers[l]\n",
    "        b[l] = theta[start: end].reshape(layers[l])\n",
    "        gb[l] = gtheta[start: end].reshape(layers[l])\n",
    "        \n",
    "        start = end\n",
    "        \n",
    "    return theta, gtheta, W, b, gW, gb"
   ]
  },
  {
   "cell_type": "markdown",
   "id": "f0ef4c72",
   "metadata": {},
   "source": [
    "We are now ready to initialize the network"
   ]
  },
  {
   "cell_type": "code",
   "execution_count": 8,
   "id": "5c0061dc",
   "metadata": {},
   "outputs": [],
   "source": [
    "def init(self, layers, activation_choice=\"relu\", output_choice=\"softmax\", loss_choice=\"cce\") :\n",
    "    \n",
    "    self.layers = layers\n",
    "    \n",
    "    # Parameters and gradients\n",
    "    self.theta, self.gtheta, self.W, self.b, self.gW, self.gb = init_params(layers)\n",
    "    \n",
    "    # Activation functions\n",
    "    self.ghid = hidden_act[activation_choice]\n",
    "    self.grad_ghid = grad_hidden_act[activation_choice]\n",
    "    self.gout = output_act[output_choice]\n",
    "    \n",
    "    # Loss\n",
    "    self.loss = losses[loss_choice]"
   ]
  },
  {
   "cell_type": "markdown",
   "id": "056d139a",
   "metadata": {},
   "source": [
    "## Forward Pass\n",
    "\n",
    "The forward pass algorithm is as follows. First, we initialize $\\textbf A_0 = \\textbf X$. Then, we iteratively compute the pre-activations and the activations for every layer $l$ using the equations given below :\n",
    "\n",
    "$$\n",
    "    \\textbf Z_l = \\textbf A_{l-1}\\textbf W_{l} + \\textbf b_{l}\n",
    "$$\n",
    "\n",
    "$$\n",
    "    \\textbf A_l = g(\\textbf Z_l)\n",
    "$$\n",
    "\n",
    "Finally, the network's output is given by : $\\hat {\\textbf y} = \\textbf A_L$"
   ]
  },
  {
   "cell_type": "code",
   "execution_count": 9,
   "id": "861862a1",
   "metadata": {},
   "outputs": [],
   "source": [
    "def forward(self, X) :\n",
    "    self.Z = [None for _ in range(len(self.layers))]\n",
    "    self.A = [None for _ in range(len(self.layers))]\n",
    "    self.A[0] = X\n",
    "    self.Z[0] = X\n",
    "    \n",
    "    for l in range(1, len(self.layers)) :\n",
    "        self.Z[l] = self.A[l - 1] @ self.W[l] + self.b[l]\n",
    "        self.A[l] = self.ghid(self.Z[l])\n",
    "            \n",
    "    self.A[-1] = self.gout(self.Z[-1])\n",
    "    return self.A[-1]"
   ]
  },
  {
   "cell_type": "markdown",
   "id": "3053bfc1",
   "metadata": {},
   "source": [
    "## Backward Pass\n",
    "\n",
    "The backward pass algorithm is as follows. We first initialize the gradients at layer $L$ as $\\textbf Z_L^{(g)} = \\hat {\\textbf Y} - \\textbf Y$. It is fortunate that this is true for both regression and classification. The other gradients can then be iteratively updated using these equations :\n",
    "\n",
    "**NOTATION** : $ \\textbf V_{l}^{(g)}$ denotes the gradient of $\\textbf V$ at layer $l$\n",
    "\n",
    "<br>\n",
    "\n",
    "$$\n",
    "    \\textbf W_l^{(g)} = \\textbf A_{l-1}^{T}\\textbf Z_{l}^{(g)}\n",
    "$$\n",
    "\n",
    "<br>\n",
    "\n",
    "$$\n",
    "    \\textbf b_l^{(g)} = \\textbf Z_{l}^{(g)^T}\\textbf 1_{n}\n",
    "$$\n",
    "\n",
    "<br>\n",
    "\n",
    "$$\n",
    "    \\textbf A_{l-1}^{(g)} = \\textbf Z_{l}^{(g)}\\textbf W_{l}^{T}\n",
    "$$\n",
    "\n",
    "<br>\n",
    "\n",
    "$$\n",
    "    \\textbf Z_{l-1}^{(g)} = \\textbf A_{l-1}^{(g)} \\odot g'(\\textbf Z_{l-1})\n",
    "$$\n",
    "\n",
    "<br>\n",
    "\n",
    "An important point to note is the use of `self.gw[1][:, :]` while updating the gradient of the weights and not `self.gW[1]`. `self.gw[1][:, :]` does an in-place update, thus maintaining a link with the master params namely `self.theta`."
   ]
  },
  {
   "cell_type": "code",
   "execution_count": 10,
   "id": "84a70b0b",
   "metadata": {},
   "outputs": [],
   "source": [
    "def backward(self, Y, Y_hat) :\n",
    "    gZ = [None for _ in range(len(self.layers))]\n",
    "    gA = [None for _ in range(len(self.layers))]\n",
    "    gZ[-1] = Y_hat - Y\n",
    "    \n",
    "    for l in range(len(self.layers) - 1, 0, -1) :\n",
    "        self.gW[l][:, :] = self.A[l - 1].T @ gZ[l]\n",
    "        self.gb[l][:] = np.sum(gZ[l].T, axis=1)\n",
    "        gA[l - 1] = gZ[l] @ self.W[l].T\n",
    "        gZ[l - 1] = gA[l - 1] * self.grad_ghid(self.Z[l - 1])"
   ]
  },
  {
   "cell_type": "markdown",
   "id": "63775865",
   "metadata": {},
   "source": [
    "## Fit\n",
    "\n",
    "We now have all the ingredients to fit a model using gradient descent. We will use **mini-batch gradient descent**. The batch-size, learning rate and number of epochs will be hyper-parameters."
   ]
  },
  {
   "cell_type": "code",
   "execution_count": 11,
   "id": "c4e141a2",
   "metadata": {},
   "outputs": [],
   "source": [
    "def fit(self, X, Y, lr=0.01, epochs=100, batch_size=100) :\n",
    "    self.losses = []\n",
    "    \n",
    "    for epoch in range(epochs) :\n",
    "        # Compute the loss\n",
    "        Y_hat = self.forward(X)\n",
    "        self.losses.append(self.loss(Y, Y_hat))\n",
    "        \n",
    "        # Shuffle the dataset\n",
    "        indices = np.arange(X.shape[0])\n",
    "        \n",
    "        # Use rng.shuffle to maintain reproducibility\n",
    "        rng.shuffle(indices)\n",
    "        X, Y = X[indices], Y[indices]\n",
    "        \n",
    "        # Number of batched\n",
    "        num_batches = X.shape[0] // batch_size\n",
    "        \n",
    "        # Mini-batch GD\n",
    "        for b in range(num_batches) :\n",
    "            Xb = X[b * batch_size : (b + 1) * batch_size]\n",
    "            Yb = Y[b * batch_size : (b + 1) * batch_size]\n",
    "    \n",
    "            # Compute the predictions for this batch\n",
    "            Y_hatb = self.forward(Xb)\n",
    "            \n",
    "            # Compute the gradients for this batch\n",
    "            self.backward(Yb, Y_hatb)\n",
    "            \n",
    "            # Update the gradients of all parameters. \n",
    "            # -= is used for in-place update\n",
    "            self.theta -= lr * self.gtheta"
   ]
  },
  {
   "cell_type": "markdown",
   "id": "d4ec6eaa",
   "metadata": {},
   "source": [
    "## Predict\n",
    "\n",
    "Finally, we can use a trained model to predict the labels"
   ]
  },
  {
   "cell_type": "code",
   "execution_count": 12,
   "id": "3bf556a4",
   "metadata": {},
   "outputs": [],
   "source": [
    "def predict(self, X) :\n",
    "    Y_hat = self.forward(X)\n",
    "    \n",
    "    if(X.shape[-1] == -1) :\n",
    "        # Regression\n",
    "        return Y_hat\n",
    "    else :\n",
    "        # Classification\n",
    "        return np.argmax(Y_hat, axis=1)"
   ]
  },
  {
   "cell_type": "markdown",
   "id": "41cc4b9e",
   "metadata": {},
   "source": [
    "## Pluggin in\n",
    "\n",
    "We can now plug all of this into our `Network` class"
   ]
  },
  {
   "cell_type": "code",
   "execution_count": 13,
   "id": "16ac8dd7",
   "metadata": {},
   "outputs": [],
   "source": [
    "Network.__init__ = init\n",
    "Network.forward = forward\n",
    "Network.backward = backward\n",
    "Network.fit = fit\n",
    "Network.predict = predict"
   ]
  },
  {
   "cell_type": "markdown",
   "id": "c2eb02c0",
   "metadata": {},
   "source": [
    "## Testing\n",
    "\n",
    "### Data\n",
    "\n",
    "We will import the digits dataset from `sklearn`"
   ]
  },
  {
   "cell_type": "code",
   "execution_count": 14,
   "id": "f39836a4",
   "metadata": {},
   "outputs": [
    {
     "name": "stdout",
     "output_type": "stream",
     "text": [
      "Sample image with label :  0\n",
      "(1797, 8, 8)\n"
     ]
    },
    {
     "data": {
      "image/png": "[encoded data removed]",
      "text/plain": [
       "<Figure size 432x288 with 1 Axes>"
      ]
     },
     "metadata": {
      "needs_background": "light"
     },
     "output_type": "display_data"
    }
   ],
   "source": [
    "import matplotlib.pyplot as plt\n",
    "from sklearn.datasets import load_digits\n",
    "\n",
    "digits = load_digits()\n",
    "\n",
    "X = digits.images\n",
    "y = digits.target\n",
    "\n",
    "# Normalize the data so that all the features lie in (0, 1)\n",
    "X /= np.max(X)\n",
    "\n",
    "plt.imshow(X[0])\n",
    "print(\"Sample image with label : \", y[0])\n",
    "print(X.shape)\n",
    "\n",
    "# Reshape input\n",
    "X = X.reshape(-1, 64)\n",
    "\n",
    "# Input size\n",
    "isize = X.shape[-1]\n",
    "\n",
    "# Output size\n",
    "osize = len(np.unique(y))"
   ]
  },
  {
   "cell_type": "code",
   "execution_count": 15,
   "id": "8dde4ec0",
   "metadata": {},
   "outputs": [],
   "source": [
    "def onehot_encoder(y) :\n",
    "    k = len(np.unique(y))\n",
    "    return np.eye(k)[y]"
   ]
  },
  {
   "cell_type": "code",
   "execution_count": 16,
   "id": "dc9b6e22",
   "metadata": {},
   "outputs": [
    {
     "name": "stdout",
     "output_type": "stream",
     "text": [
      "Training data shape :  (1078, 64) (1078, 10)\n",
      "Test data shape :  (719, 64) (719, 10)\n"
     ]
    }
   ],
   "source": [
    "from sklearn.model_selection import train_test_split\n",
    "\n",
    "# ranfom_state has the same seed value as rng\n",
    "\n",
    "X_train, X_test, y_train, y_test = train_test_split(X, y, test_size=0.4, random_state=seed)\n",
    "\n",
    "Y_train = onehot_encoder(y_train)\n",
    "Y_test = onehot_encoder(y_test)\n",
    "\n",
    "print(\"Training data shape : \", X_train.shape, Y_train.shape)\n",
    "print(\"Test data shape : \", X_test.shape, Y_test.shape)"
   ]
  },
  {
   "cell_type": "code",
   "execution_count": 19,
   "id": "d5162c0d",
   "metadata": {},
   "outputs": [
    {
     "name": "stdout",
     "output_type": "stream",
     "text": [
      "Test data size :  719\n",
      "Accuracy :  96.3839\n",
      "Number of parameters :  2410\n"
     ]
    },
    {
     "data": {
      "image/png": "[encoded data removed]",
      "text/plain": [
       "<Figure size 576x576 with 1 Axes>"
      ]
     },
     "metadata": {
      "needs_background": "light"
     },
     "output_type": "display_data"
    }
   ],
   "source": [
    "# Initialize the network\n",
    "layers = [isize, 32, osize]\n",
    "network = Network(layers, activation_choice=\"sigmoid\", output_choice=\"softmax\", loss_choice=\"cce\")\n",
    "\n",
    "# Fit the network on data\n",
    "epochs = 50\n",
    "network.fit(X_train, Y_train, lr=0.01, epochs=epochs, batch_size=10)\n",
    "\n",
    "# Plot the losses\n",
    "\n",
    "plt.figure(figsize=(8,8))\n",
    "plt.plot(range(epochs), network.losses)\n",
    "plt.title(\"Loss vs Epochs\")\n",
    "plt.xlabel(\"Epochs\")\n",
    "plt.ylabel(\"CCE Loss\")\n",
    "\n",
    "\n",
    "# Compute the accuracy\n",
    "y_hat = network.predict(X_test)\n",
    "accuracy = (np.sum(y_hat == y_test) / X_test.shape[0]) * 100\n",
    "\n",
    "print(\"Test data size : \", X_test.shape[0])\n",
    "print(\"Accuracy : \", round(accuracy, 4))\n",
    "print(\"Number of parameters : \", count_params(layers))"
   ]
  }
 ],
 "metadata": {
  "kernelspec": {
   "display_name": "Python 3 (ipykernel)",
   "language": "python",
   "name": "python3"
  },
  "language_info": {
   "codemirror_mode": {
    "name": "ipython",
    "version": 3
   },
   "file_extension": ".py",
   "mimetype": "text/x-python",
   "name": "python",
   "nbconvert_exporter": "python",
   "pygments_lexer": "ipython3",
   "version": "3.9.7"
  }
 },
 "nbformat": 4,
 "nbformat_minor": 5
}

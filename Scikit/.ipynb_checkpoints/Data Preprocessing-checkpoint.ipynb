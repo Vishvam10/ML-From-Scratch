{
 "cells": [
  {
   "cell_type": "markdown",
   "id": "dd52a574",
   "metadata": {},
   "source": [
    "# Data Preprocessing"
   ]
  },
  {
   "cell_type": "code",
   "execution_count": 8,
   "id": "3a69fe20",
   "metadata": {},
   "outputs": [],
   "source": [
    "import pandas as pd\n",
    "import numpy as np\n",
    "import seaborn as sns\n",
    "import matplotlib.pyplot as plt\n",
    "sns.set_style(style='whitegrid')"
   ]
  },
  {
   "cell_type": "markdown",
   "id": "d02a9e5d",
   "metadata": {},
   "source": [
    "## 1. Transformation using `StandardScaler()`, `MinMaxScaler()`, `MaxAbsScaler()`"
   ]
  },
  {
   "cell_type": "markdown",
   "id": "7036d779",
   "metadata": {},
   "source": [
    "### Standard Scaler\n",
    "$$\n",
    "\\bar{x} = \\frac {\\textbf x - \\mu} { \\sigma } \n",
    "$$"
   ]
  },
  {
   "cell_type": "code",
   "execution_count": 6,
   "id": "0746fe63",
   "metadata": {},
   "outputs": [],
   "source": [
    "from sklearn.preprocessing import StandardScaler"
   ]
  },
  {
   "cell_type": "code",
   "execution_count": 9,
   "id": "43e2c24a",
   "metadata": {},
   "outputs": [
    {
     "name": "stdout",
     "output_type": "stream",
     "text": [
      "MEAN :  4.0 \n",
      "STANDARD DEVIATION :  1.41\n"
     ]
    },
    {
     "data": {
      "text/plain": [
       "array([[ 0.        ],\n",
       "       [-0.70710678],\n",
       "       [-1.41421356],\n",
       "       [ 0.70710678],\n",
       "       [ 1.41421356]])"
      ]
     },
     "execution_count": 9,
     "metadata": {},
     "output_type": "execute_result"
    }
   ],
   "source": [
    "X = np.array([4, 3, 2, 5, 6]).reshape((5, 1))\n",
    "\n",
    "ss = StandardScaler()\n",
    "print(\"MEAN : \", X.mean(), \"\\nSTANDARD DEVIATION : \", round(X.std(), 2))\n",
    "ss.fit_transform(X)"
   ]
  },
  {
   "cell_type": "markdown",
   "id": "3b40e3bc",
   "metadata": {},
   "source": [
    "### Min Max Scaler ( Normalization ) \n",
    "\n",
    "$$\n",
    "\\bar{x} = \\frac {\\textbf x - \\textbf x_{min}} {\\textbf x_{max} - \\textbf x_{min}}   \n",
    "$$\n"
   ]
  },
  {
   "cell_type": "code",
   "execution_count": 10,
   "id": "28e60668",
   "metadata": {},
   "outputs": [],
   "source": [
    "from sklearn.preprocessing import MinMaxScaler"
   ]
  },
  {
   "cell_type": "code",
   "execution_count": 11,
   "id": "b5fd1b9d",
   "metadata": {},
   "outputs": [
    {
     "name": "stdout",
     "output_type": "stream",
     "text": [
      "MINIMUM :  2 \n",
      "MAXIMUM :  6\n"
     ]
    },
    {
     "data": {
      "text/plain": [
       "array([[0.5 ],\n",
       "       [0.25],\n",
       "       [0.  ],\n",
       "       [0.75],\n",
       "       [1.  ]])"
      ]
     },
     "execution_count": 11,
     "metadata": {},
     "output_type": "execute_result"
    }
   ],
   "source": [
    "X = np.array([4, 3, 2, 5, 6]).reshape((5, 1))\n",
    "\n",
    "mm = MinMaxScaler()\n",
    "print(\"MINIMUM : \", X.min(), \"\\nMAXIMUM : \", X.max())\n",
    "mm.fit_transform(X)"
   ]
  },
  {
   "cell_type": "markdown",
   "id": "5629fd33",
   "metadata": {},
   "source": [
    "### Max Absolute Scaler\n",
    "\n",
    "$$\n",
    "\\bar x = \\frac {\\textbf x} { max(\\textbf x_{max}, \\left| \\textbf x_{min} \\right|)}\n",
    "$$"
   ]
  },
  {
   "cell_type": "code",
   "execution_count": 12,
   "id": "4c62dfd1",
   "metadata": {},
   "outputs": [],
   "source": [
    "from sklearn.preprocessing import MaxAbsScaler"
   ]
  },
  {
   "cell_type": "code",
   "execution_count": 13,
   "id": "7c973826",
   "metadata": {},
   "outputs": [
    {
     "name": "stdout",
     "output_type": "stream",
     "text": [
      "MINIMUM :  -100 \n",
      "ABSOLUTE VALUE OF MIN :  100 \n",
      "MAXIMUM :  5\n"
     ]
    },
    {
     "data": {
      "text/plain": [
       "array([[0.99047619],\n",
       "       [0.97142857],\n",
       "       [1.        ],\n",
       "       [0.93333333],\n",
       "       [0.        ]])"
      ]
     },
     "execution_count": 13,
     "metadata": {},
     "output_type": "execute_result"
    }
   ],
   "source": [
    "X = np.array([4, 2, 5, -2, -100]).reshape((5, 1))\n",
    "\n",
    "mm = MinMaxScaler()\n",
    "print(\"MINIMUM : \", X.min(), \"\\nABSOLUTE VALUE OF MIN : \", abs(X.min()), \"\\nMAXIMUM : \", X.max())\n",
    "mm.fit_transform(X)"
   ]
  },
  {
   "cell_type": "code",
   "execution_count": null,
   "id": "b4145f65",
   "metadata": {},
   "outputs": [],
   "source": []
  },
  {
   "cell_type": "code",
   "execution_count": null,
   "id": "a80fd1c3",
   "metadata": {},
   "outputs": [],
   "source": []
  },
  {
   "cell_type": "code",
   "execution_count": null,
   "id": "859e6a0c",
   "metadata": {},
   "outputs": [],
   "source": []
  },
  {
   "cell_type": "code",
   "execution_count": null,
   "id": "0751734d",
   "metadata": {},
   "outputs": [],
   "source": []
  },
  {
   "cell_type": "code",
   "execution_count": null,
   "id": "a1d13997",
   "metadata": {},
   "outputs": [],
   "source": []
  },
  {
   "cell_type": "code",
   "execution_count": null,
   "id": "1669e2f3",
   "metadata": {},
   "outputs": [],
   "source": []
  },
  {
   "cell_type": "code",
   "execution_count": null,
   "id": "d622b118",
   "metadata": {},
   "outputs": [],
   "source": []
  }
 ],
 "metadata": {
  "kernelspec": {
   "display_name": "Python 3 (ipykernel)",
   "language": "python",
   "name": "python3"
  },
  "language_info": {
   "codemirror_mode": {
    "name": "ipython",
    "version": 3
   },
   "file_extension": ".py",
   "mimetype": "text/x-python",
   "name": "python",
   "nbconvert_exporter": "python",
   "pygments_lexer": "ipython3",
   "version": "3.9.7"
  }
 },
 "nbformat": 4,
 "nbformat_minor": 5
}

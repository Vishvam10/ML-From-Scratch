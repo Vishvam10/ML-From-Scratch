{
 "cells": [
  {
   "cell_type": "markdown",
   "id": "4b3852e7",
   "metadata": {},
   "source": [
    "# Fitting Polynomial Regression Models"
   ]
  },
  {
   "cell_type": "code",
   "execution_count": 23,
   "id": "73b4a8ce",
   "metadata": {},
   "outputs": [],
   "source": [
    "import numpy as np\n",
    "import pandas as pd\n",
    "import matplotlib.pyplot as plt\n",
    "import seaborn as sns\n",
    "import warnings\n",
    "\n",
    "from scipy.stats import loguniform, uniform\n",
    "\n",
    "from sklearn.datasets import fetch_california_housing\n",
    "from sklearn.dummy import DummyRegressor\n",
    "from sklearn.linear_model import LinearRegression, Lasso, LassoCV, Ridge, RidgeCV, SGDRegressor\n",
    "\n",
    "from sklearn.metrics import mean_squared_error, mean_absolute_error, mean_absolute_percentage_error\n",
    "\n",
    "from sklearn.model_selection import cross_validate, cross_val_score, train_test_split, ShuffleSplit, validation_curve\n",
    "from sklearn.model_selection import GridSearchCV, RandomizedSearchCV\n",
    "\n",
    "from sklearn.preprocessing import PolynomialFeatures, StandardScaler\n",
    "from sklearn.pipeline import Pipeline\n",
    "\n",
    "warnings.filterwarnings(\"ignore\")\n",
    "np.random.seed(306)"
   ]
  },
  {
   "cell_type": "code",
   "execution_count": 5,
   "id": "b30c0fc1",
   "metadata": {},
   "outputs": [],
   "source": [
    "cv = ShuffleSplit(n_splits=10, test_size=0.2, random_state=42)"
   ]
  },
  {
   "cell_type": "code",
   "execution_count": 6,
   "id": "a49ec9ac",
   "metadata": {},
   "outputs": [],
   "source": [
    "features, labels = fetch_california_housing(as_frame=True, return_X_y=True)\n",
    "com_train_features, test_features, com_train_labels, test_labels = train_test_split(features, labels, random_state=42)\n",
    "train_features, dev_features, train_labels, dev_labels = train_test_split(com_train_features, com_train_labels, random_state=42)"
   ]
  },
  {
   "cell_type": "markdown",
   "id": "1d248ed6",
   "metadata": {},
   "source": [
    "## Fitting `LinearRegression()` \n",
    "Using `standardScaler()` in a pipeline"
   ]
  },
  {
   "cell_type": "code",
   "execution_count": 10,
   "id": "8cb609ed",
   "metadata": {},
   "outputs": [
    {
     "name": "stdout",
     "output_type": "stream",
     "text": [
      "Traning Error Mean :  0.5304021630418913\n",
      "Traning Error Standard Deviation :  0.0023212935286191067\n",
      "\n",
      "Test Error Mean :  0.5270142316974493\n",
      "Test Error Standard Deviation :  0.007781288307852386\n"
     ]
    }
   ],
   "source": [
    "lg_pipeline = Pipeline([('feature_scaling', StandardScaler()),\n",
    "         ('lg', LinearRegression())])\n",
    "lg_results = cross_validate(lg_pipeline, com_train_features, com_train_labels, cv=cv, scoring='neg_mean_absolute_error', \n",
    "                            return_train_score=True, return_estimator=True)\n",
    "\n",
    "lg_train_error = -1 * lg_results['train_score']\n",
    "lg_test_error = -1 * lg_results['test_score']\n",
    "\n",
    "print(\"Traning Error Mean : \", lg_train_error.mean())\n",
    "print(\"Traning Error Standard Deviation : \", lg_train_error.std())\n",
    "\n",
    "print(\"\\nTest Error Mean : \", lg_test_error.mean())\n",
    "print(\"Test Error Standard Deviation : \", lg_test_error.std())"
   ]
  },
  {
   "cell_type": "markdown",
   "id": "8bd31cda",
   "metadata": {},
   "source": [
    "## Fitting `SGDRegression()` \n",
    "Using `standardScaler()` in a pipeline"
   ]
  },
  {
   "cell_type": "code",
   "execution_count": 16,
   "id": "4f92e1fe",
   "metadata": {},
   "outputs": [
    {
     "name": "stdout",
     "output_type": "stream",
     "text": [
      "Traning Error Mean :  0.5341022234609116\n",
      "Traning Error Standard Deviation :  0.012509661906015553\n",
      "\n",
      "Test Error Mean :  0.5303914597626358\n",
      "Test Error Standard Deviation :  0.009578217711434925\n"
     ]
    }
   ],
   "source": [
    "max_iter = np.ceil(1e6/com_train_features.shape[0])\n",
    "sgd_pipeline = Pipeline([('feature_scaling', StandardScaler()),\n",
    "                        ('sgd', SGDRegressor(max_iter=max_iter, early_stopping=True, \n",
    "                                             eta0=1e-4, learning_rate='constant', tol=1e-5, validation_fraction=0.1, \n",
    "                                             n_iter_no_change=5, average=10, random_state=42))])\n",
    "\n",
    "sgd_results = cross_validate(sgd_pipeline, com_train_features, com_train_labels, cv=cv, scoring='neg_mean_absolute_error',\n",
    "                            return_train_score=True, return_estimator=True)\n",
    "\n",
    "sgd_train_error = -1 * sgd_results['train_score']\n",
    "sgd_test_error = -1 * sgd_results['test_score']  # Note that this is actually validation set (set to 10% of com_train)\n",
    "\n",
    "print(\"Traning Error Mean : \", sgd_train_error.mean())\n",
    "print(\"Traning Error Standard Deviation : \", sgd_train_error.std())\n",
    "\n",
    "print(\"\\nTest Error Mean : \", sgd_test_error.mean())\n",
    "print(\"Test Error Standard Deviation : \", sgd_test_error.std())"
   ]
  },
  {
   "cell_type": "markdown",
   "id": "8035acf5",
   "metadata": {},
   "source": [
    "**Both errors are close, but not exactly low. So, let's perform polynomial regression on them**"
   ]
  },
  {
   "cell_type": "code",
   "execution_count": 17,
   "id": "923fa468",
   "metadata": {},
   "outputs": [
    {
     "name": "stdout",
     "output_type": "stream",
     "text": [
      "Traning Error Mean :  0.4609643523643531\n",
      "Traning Error Standard Deviation :  0.0029770810387742958\n",
      "\n",
      "Test Error Mean :  0.48544599478539574\n",
      "Test Error Standard Deviation :  0.030312417310768416\n"
     ]
    }
   ],
   "source": [
    "poly_pipeline = Pipeline([\n",
    "    ('poly_features', PolynomialFeatures(degree=2)),\n",
    "    ('feature_scaling', StandardScaler()),\n",
    "    ('lg', LinearRegression())\n",
    "])\n",
    "\n",
    "poly_results = cross_validate(poly_pipeline, com_train_features, com_train_labels, cv=cv, scoring='neg_mean_absolute_error',\n",
    "                            return_train_score=True, return_estimator=True)\n",
    "\n",
    "poly_train_error = -1 * poly_results['train_score']\n",
    "poly_test_error = -1 * poly_results['test_score']\n",
    "\n",
    "print(\"Traning Error Mean : \", poly_train_error.mean())\n",
    "print(\"Traning Error Standard Deviation : \", poly_train_error.std())\n",
    "\n",
    "print(\"\\nTest Error Mean : \", poly_test_error.mean())\n",
    "print(\"Test Error Standard Deviation : \", poly_test_error.std())"
   ]
  },
  {
   "cell_type": "markdown",
   "id": "8234f299",
   "metadata": {},
   "source": [
    "**Now, let's apply only interaction features after applying polynomial features**\n",
    "\n",
    "- The interaction features are features that are products of at most `degree` *distinct* input features, i.e. terms with power of 2 or higher of the same input feature are excluded:\n",
    "\n",
    "    Included : $x_{0}$ , $x_{1}$, $x_{0}x_{1}$, etc <br>\n",
    "    Excluded: $x_{0}^2$,  $x_{0}^2x_{1}$, etc.\n",
    "\n"
   ]
  },
  {
   "cell_type": "code",
   "execution_count": 18,
   "id": "3040b70a",
   "metadata": {},
   "outputs": [
    {
     "name": "stdout",
     "output_type": "stream",
     "text": [
      "Traning Error Mean :  0.47781943309759045\n",
      "Traning Error Standard Deviation :  0.002820194504598875\n",
      "\n",
      "Test Error Mean :  0.49687156934590904\n",
      "Test Error Standard Deviation :  0.024386511812483087\n"
     ]
    }
   ],
   "source": [
    "poly_pipeline = Pipeline([('poly', PolynomialFeatures(degree=2, interaction_only=True)),\n",
    "                        ('feature_scaling', StandardScaler()),\n",
    "                        ('lg', LinearRegression())])\n",
    "\n",
    "poly_results = cross_validate(poly_pipeline, com_train_features, com_train_labels, cv=cv, scoring='neg_mean_absolute_error',\n",
    "                            return_train_score=True, return_estimator=True)\n",
    "\n",
    "poly_train_error = -1 * poly_results['train_score']\n",
    "poly_test_error = -1 * poly_results['test_score']\n",
    "\n",
    "\n",
    "print(\"Traning Error Mean : \", poly_train_error.mean())\n",
    "print(\"Traning Error Standard Deviation : \", poly_train_error.std())\n",
    "\n",
    "print(\"\\nTest Error Mean : \", poly_test_error.mean())\n",
    "print(\"Test Error Standard Deviation : \", poly_test_error.std())"
   ]
  },
  {
   "cell_type": "markdown",
   "id": "fd0d4d22",
   "metadata": {},
   "source": [
    "**Now, let's use `validation_curve` and find the polynomial degree that would yield the least error**"
   ]
  },
  {
   "cell_type": "code",
   "execution_count": 21,
   "id": "25315d1d",
   "metadata": {},
   "outputs": [],
   "source": [
    "degree = [1,2,3,4,5]\n",
    "train_scores, test_scores = validation_curve(poly_pipeline, com_train_features, com_train_labels, param_name='poly__degree', \n",
    "                 param_range=degree, cv=cv, scoring='neg_mean_absolute_error')\n",
    "train_errors, test_errors = -train_scores, -test_scores"
   ]
  },
  {
   "cell_type": "code",
   "execution_count": 22,
   "id": "dda44b6d",
   "metadata": {},
   "outputs": [
    {
     "data": {
      "text/plain": [
       "Text(0.5, 1.0, 'Validation curve for polynomial regression')"
      ]
     },
     "execution_count": 22,
     "metadata": {},
     "output_type": "execute_result"
    },
    {
     "data": {
      "image/png": "[encoded data removed]",
      "text/plain": [
       "<Figure size 432x288 with 1 Axes>"
      ]
     },
     "metadata": {
      "needs_background": "light"
     },
     "output_type": "display_data"
    }
   ],
   "source": [
    "plt.plot(degree, train_errors.mean(axis=1), 'b-x', label='Training error')\n",
    "plt.plot(degree, test_errors.mean(axis=1), 'r-x', label='Test error')\n",
    "plt.legend()\n",
    "\n",
    "plt.xlabel('degree')\n",
    "plt.ylabel('Mean absolute error')\n",
    "plt.title('Validation curve for polynomial regression')"
   ]
  },
  {
   "cell_type": "markdown",
   "id": "f32a479c",
   "metadata": {},
   "source": [
    "From the above graph, it's clear that the **least error occurs degree 2**"
   ]
  },
  {
   "cell_type": "markdown",
   "id": "60ee5ede",
   "metadata": {},
   "source": [
    "## Polynomial models tend to overfit. So, let's apply a regularization"
   ]
  },
  {
   "cell_type": "markdown",
   "id": "4ec1b0ec",
   "metadata": {},
   "source": [
    "### Ridge Regularization"
   ]
  },
  {
   "cell_type": "code",
   "execution_count": 24,
   "id": "8aab729d",
   "metadata": {},
   "outputs": [
    {
     "name": "stdout",
     "output_type": "stream",
     "text": [
      "Traning Error Mean :  0.4805687523496033\n",
      "Traning Error Standard Deviation :  0.003485200424378284\n",
      "\n",
      "Test Error Mean :  0.48669297649034704\n",
      "Test Error Standard Deviation :  0.0056520049057814615\n"
     ]
    }
   ],
   "source": [
    "ridge_pipeline = Pipeline([\n",
    "    ('poly', PolynomialFeatures(degree=2)),\n",
    "    ('feature_scaling', StandardScaler()),\n",
    "    ('ridge', Ridge(alpha=0.5))\n",
    "])\n",
    "\n",
    "ridge_results = cross_validate(ridge_pipeline, com_train_features, com_train_labels, cv=cv, scoring='neg_mean_absolute_error',\n",
    "                            return_train_score=True, return_estimator=True)\n",
    "\n",
    "ridge_train_error = -1 * ridge_results['train_score']\n",
    "ridge_test_error = -1 * ridge_results['test_score']\n",
    "\n",
    "\n",
    "print(\"Traning Error Mean : \", ridge_train_error.mean())\n",
    "print(\"Traning Error Standard Deviation : \", ridge_train_error.std())\n",
    "\n",
    "print(\"\\nTest Error Mean : \", ridge_test_error.mean())\n",
    "print(\"Test Error Standard Deviation : \", ridge_test_error.std())"
   ]
  },
  {
   "cell_type": "markdown",
   "id": "8e5e2faf",
   "metadata": {},
   "source": [
    "#### Find the best alpha (ridge regularization rate) using RidgeCV."
   ]
  },
  {
   "cell_type": "code",
   "execution_count": 27,
   "id": "805705d4",
   "metadata": {},
   "outputs": [
    {
     "data": {
      "text/plain": [
       "array([1.00000000e-04, 1.62377674e-04, 2.63665090e-04, 4.28133240e-04,\n",
       "       6.95192796e-04, 1.12883789e-03, 1.83298071e-03, 2.97635144e-03,\n",
       "       4.83293024e-03, 7.84759970e-03, 1.27427499e-02, 2.06913808e-02,\n",
       "       3.35981829e-02, 5.45559478e-02, 8.85866790e-02, 1.43844989e-01,\n",
       "       2.33572147e-01, 3.79269019e-01, 6.15848211e-01, 1.00000000e+00])"
      ]
     },
     "execution_count": 27,
     "metadata": {},
     "output_type": "execute_result"
    }
   ],
   "source": [
    "alpha_list = np.logspace(-4, 0, num=20)\n",
    "alpha_list"
   ]
  },
  {
   "cell_type": "code",
   "execution_count": 28,
   "id": "14dd02fa",
   "metadata": {},
   "outputs": [
    {
     "data": {
      "text/html": [
       "<style>#sk-container-id-1 {color: black;background-color: white;}#sk-container-id-1 pre{padding: 0;}#sk-container-id-1 div.sk-toggleable {background-color: white;}#sk-container-id-1 label.sk-toggleable__label {cursor: pointer;display: block;width: 100%;margin-bottom: 0;padding: 0.3em;box-sizing: border-box;text-align: center;}#sk-container-id-1 label.sk-toggleable__label-arrow:before {content: \"▸\";float: left;margin-right: 0.25em;color: #696969;}#sk-container-id-1 label.sk-toggleable__label-arrow:hover:before {color: black;}#sk-container-id-1 div.sk-estimator:hover label.sk-toggleable__label-arrow:before {color: black;}#sk-container-id-1 div.sk-toggleable__content {max-height: 0;max-width: 0;overflow: hidden;text-align: left;background-color: #f0f8ff;}#sk-container-id-1 div.sk-toggleable__content pre {margin: 0.2em;color: black;border-radius: 0.25em;background-color: #f0f8ff;}#sk-container-id-1 input.sk-toggleable__control:checked~div.sk-toggleable__content {max-height: 200px;max-width: 100%;overflow: auto;}#sk-container-id-1 input.sk-toggleable__control:checked~label.sk-toggleable__label-arrow:before {content: \"▾\";}#sk-container-id-1 div.sk-estimator input.sk-toggleable__control:checked~label.sk-toggleable__label {background-color: #d4ebff;}#sk-container-id-1 div.sk-label input.sk-toggleable__control:checked~label.sk-toggleable__label {background-color: #d4ebff;}#sk-container-id-1 input.sk-hidden--visually {border: 0;clip: rect(1px 1px 1px 1px);clip: rect(1px, 1px, 1px, 1px);height: 1px;margin: -1px;overflow: hidden;padding: 0;position: absolute;width: 1px;}#sk-container-id-1 div.sk-estimator {font-family: monospace;background-color: #f0f8ff;border: 1px dotted black;border-radius: 0.25em;box-sizing: border-box;margin-bottom: 0.5em;}#sk-container-id-1 div.sk-estimator:hover {background-color: #d4ebff;}#sk-container-id-1 div.sk-parallel-item::after {content: \"\";width: 100%;border-bottom: 1px solid gray;flex-grow: 1;}#sk-container-id-1 div.sk-label:hover label.sk-toggleable__label {background-color: #d4ebff;}#sk-container-id-1 div.sk-serial::before {content: \"\";position: absolute;border-left: 1px solid gray;box-sizing: border-box;top: 0;bottom: 0;left: 50%;z-index: 0;}#sk-container-id-1 div.sk-serial {display: flex;flex-direction: column;align-items: center;background-color: white;padding-right: 0.2em;padding-left: 0.2em;position: relative;}#sk-container-id-1 div.sk-item {position: relative;z-index: 1;}#sk-container-id-1 div.sk-parallel {display: flex;align-items: stretch;justify-content: center;background-color: white;position: relative;}#sk-container-id-1 div.sk-item::before, #sk-container-id-1 div.sk-parallel-item::before {content: \"\";position: absolute;border-left: 1px solid gray;box-sizing: border-box;top: 0;bottom: 0;left: 50%;z-index: -1;}#sk-container-id-1 div.sk-parallel-item {display: flex;flex-direction: column;z-index: 1;position: relative;background-color: white;}#sk-container-id-1 div.sk-parallel-item:first-child::after {align-self: flex-end;width: 50%;}#sk-container-id-1 div.sk-parallel-item:last-child::after {align-self: flex-start;width: 50%;}#sk-container-id-1 div.sk-parallel-item:only-child::after {width: 0;}#sk-container-id-1 div.sk-dashed-wrapped {border: 1px dashed gray;margin: 0 0.4em 0.5em 0.4em;box-sizing: border-box;padding-bottom: 0.4em;background-color: white;}#sk-container-id-1 div.sk-label label {font-family: monospace;font-weight: bold;display: inline-block;line-height: 1.2em;}#sk-container-id-1 div.sk-label-container {text-align: center;}#sk-container-id-1 div.sk-container {/* jupyter's `normalize.less` sets `[hidden] { display: none; }` but bootstrap.min.css set `[hidden] { display: none !important; }` so we also need the `!important` here to be able to override the default hidden behavior on the sphinx rendered scikit-learn.org. See: https://github.com/scikit-learn/scikit-learn/issues/21755 */display: inline-block !important;position: relative;}#sk-container-id-1 div.sk-text-repr-fallback {display: none;}</style><div id=\"sk-container-id-1\" class=\"sk-top-container\"><div class=\"sk-text-repr-fallback\"><pre>Pipeline(steps=[(&#x27;poly&#x27;, PolynomialFeatures()),\n",
       "                (&#x27;feature_scaling&#x27;, StandardScaler()),\n",
       "                (&#x27;ridge&#x27;,\n",
       "                 RidgeCV(alphas=array([1.00000000e-04, 1.62377674e-04, 2.63665090e-04, 4.28133240e-04,\n",
       "       6.95192796e-04, 1.12883789e-03, 1.83298071e-03, 2.97635144e-03,\n",
       "       4.83293024e-03, 7.84759970e-03, 1.27427499e-02, 2.06913808e-02,\n",
       "       3.35981829e-02, 5.45559478e-02, 8.85866790e-02, 1.43844989e-01,\n",
       "       2.33572147e-01, 3.79269019e-01, 6.15848211e-01, 1.00000000e+00]),\n",
       "                         cv=ShuffleSplit(n_splits=10, random_state=42, test_size=0.2, train_size=None),\n",
       "                         scoring=&#x27;neg_mean_absolute_error&#x27;))])</pre><b>In a Jupyter environment, please rerun this cell to show the HTML representation or trust the notebook. <br />On GitHub, the HTML representation is unable to render, please try loading this page with nbviewer.org.</b></div><div class=\"sk-container\" hidden><div class=\"sk-item sk-dashed-wrapped\"><div class=\"sk-label-container\"><div class=\"sk-label sk-toggleable\"><input class=\"sk-toggleable__control sk-hidden--visually\" id=\"sk-estimator-id-1\" type=\"checkbox\" ><label for=\"sk-estimator-id-1\" class=\"sk-toggleable__label sk-toggleable__label-arrow\">Pipeline</label><div class=\"sk-toggleable__content\"><pre>Pipeline(steps=[(&#x27;poly&#x27;, PolynomialFeatures()),\n",
       "                (&#x27;feature_scaling&#x27;, StandardScaler()),\n",
       "                (&#x27;ridge&#x27;,\n",
       "                 RidgeCV(alphas=array([1.00000000e-04, 1.62377674e-04, 2.63665090e-04, 4.28133240e-04,\n",
       "       6.95192796e-04, 1.12883789e-03, 1.83298071e-03, 2.97635144e-03,\n",
       "       4.83293024e-03, 7.84759970e-03, 1.27427499e-02, 2.06913808e-02,\n",
       "       3.35981829e-02, 5.45559478e-02, 8.85866790e-02, 1.43844989e-01,\n",
       "       2.33572147e-01, 3.79269019e-01, 6.15848211e-01, 1.00000000e+00]),\n",
       "                         cv=ShuffleSplit(n_splits=10, random_state=42, test_size=0.2, train_size=None),\n",
       "                         scoring=&#x27;neg_mean_absolute_error&#x27;))])</pre></div></div></div><div class=\"sk-serial\"><div class=\"sk-item\"><div class=\"sk-estimator sk-toggleable\"><input class=\"sk-toggleable__control sk-hidden--visually\" id=\"sk-estimator-id-2\" type=\"checkbox\" ><label for=\"sk-estimator-id-2\" class=\"sk-toggleable__label sk-toggleable__label-arrow\">PolynomialFeatures</label><div class=\"sk-toggleable__content\"><pre>PolynomialFeatures()</pre></div></div></div><div class=\"sk-item\"><div class=\"sk-estimator sk-toggleable\"><input class=\"sk-toggleable__control sk-hidden--visually\" id=\"sk-estimator-id-3\" type=\"checkbox\" ><label for=\"sk-estimator-id-3\" class=\"sk-toggleable__label sk-toggleable__label-arrow\">StandardScaler</label><div class=\"sk-toggleable__content\"><pre>StandardScaler()</pre></div></div></div><div class=\"sk-item\"><div class=\"sk-estimator sk-toggleable\"><input class=\"sk-toggleable__control sk-hidden--visually\" id=\"sk-estimator-id-4\" type=\"checkbox\" ><label for=\"sk-estimator-id-4\" class=\"sk-toggleable__label sk-toggleable__label-arrow\">RidgeCV</label><div class=\"sk-toggleable__content\"><pre>RidgeCV(alphas=array([1.00000000e-04, 1.62377674e-04, 2.63665090e-04, 4.28133240e-04,\n",
       "       6.95192796e-04, 1.12883789e-03, 1.83298071e-03, 2.97635144e-03,\n",
       "       4.83293024e-03, 7.84759970e-03, 1.27427499e-02, 2.06913808e-02,\n",
       "       3.35981829e-02, 5.45559478e-02, 8.85866790e-02, 1.43844989e-01,\n",
       "       2.33572147e-01, 3.79269019e-01, 6.15848211e-01, 1.00000000e+00]),\n",
       "        cv=ShuffleSplit(n_splits=10, random_state=42, test_size=0.2, train_size=None),\n",
       "        scoring=&#x27;neg_mean_absolute_error&#x27;)</pre></div></div></div></div></div></div></div>"
      ],
      "text/plain": [
       "Pipeline(steps=[('poly', PolynomialFeatures()),\n",
       "                ('feature_scaling', StandardScaler()),\n",
       "                ('ridge',\n",
       "                 RidgeCV(alphas=array([1.00000000e-04, 1.62377674e-04, 2.63665090e-04, 4.28133240e-04,\n",
       "       6.95192796e-04, 1.12883789e-03, 1.83298071e-03, 2.97635144e-03,\n",
       "       4.83293024e-03, 7.84759970e-03, 1.27427499e-02, 2.06913808e-02,\n",
       "       3.35981829e-02, 5.45559478e-02, 8.85866790e-02, 1.43844989e-01,\n",
       "       2.33572147e-01, 3.79269019e-01, 6.15848211e-01, 1.00000000e+00]),\n",
       "                         cv=ShuffleSplit(n_splits=10, random_state=42, test_size=0.2, train_size=None),\n",
       "                         scoring='neg_mean_absolute_error'))])"
      ]
     },
     "execution_count": 28,
     "metadata": {},
     "output_type": "execute_result"
    }
   ],
   "source": [
    "ridge_pipeline = Pipeline([\n",
    "    ('poly', PolynomialFeatures(degree=2)),\n",
    "    ('feature_scaling', StandardScaler()),\n",
    "    ('ridge', RidgeCV(alphas=alpha_list, cv=cv, scoring='neg_mean_absolute_error'))\n",
    "])\n",
    "\n",
    "ridge_cv_results = ridge_pipeline.fit(com_train_features, com_train_labels)\n",
    "ridge_cv_results"
   ]
  },
  {
   "cell_type": "code",
   "execution_count": 29,
   "id": "88119599",
   "metadata": {},
   "outputs": [
    {
     "name": "stdout",
     "output_type": "stream",
     "text": [
      "Score with the best aplha :  -0.4729407010085872\n",
      "Best value of alpha is :  0.007847599703514606\n"
     ]
    }
   ],
   "source": [
    "print(\"Score with the best aplha : \", ridge_cv_results[-1].best_score_)\n",
    "print(\"Best value of alpha is : \", ridge_cv_results[-1].alpha_)"
   ]
  },
  {
   "cell_type": "markdown",
   "id": "11729ae5",
   "metadata": {},
   "source": [
    "#### Find the best alpha (ridge regularization rate) using GridSearchCV."
   ]
  },
  {
   "cell_type": "code",
   "execution_count": 46,
   "id": "e245ec70",
   "metadata": {
    "scrolled": false
   },
   "outputs": [],
   "source": [
    "ridge_grid_pipeline = Pipeline([('poly', PolynomialFeatures(degree=2)),\n",
    "                        ('feature_scaling', StandardScaler()),\n",
    "                        ('ridge', Ridge())])\n",
    "\n",
    "param_grid = {'poly__degree': (1,2,3),\n",
    "             'ridge__alpha': np.logspace(-4, 0, num=20)}\n",
    "\n",
    "ridge_grid_search = GridSearchCV(ridge_grid_pipeline, param_grid=param_grid, cv=cv, scoring='neg_mean_absolute_error', return_train_score=True)\n",
    "ridge_grid_search.fit(com_train_features, com_train_labels)\n",
    "ridge_grid_search.best_index_\n",
    "\n",
    "mean_train_error = -1 * ridge_grid_search.cv_results_['mean_train_score'][ridge_grid_search.best_index_]\n",
    "std_train_error = ridge_grid_search.cv_results_['std_train_score'][ridge_grid_search.best_index_]\n",
    "mean_test_error = -1 * ridge_grid_search.cv_results_['mean_test_score'][ridge_grid_search.best_index_]\n",
    "std_test_error = ridge_grid_search.cv_results_['std_test_score'][ridge_grid_search.best_index_]\n",
    "\n",
    "\n",
    "print(\"Traning Error Mean : \", mean_train_error)\n",
    "print(\"Traning Error Standard Deviation : \", std_train_error)\n",
    "\n",
    "print(\"\\nTest Error Mean : \", mean_test_error)\n",
    "print(\"Test Error Standard Deviation : \", std_test_error)\n",
    "\n",
    "print(\"\\nBest value of hyper-parameters are : \", ridge_grid_search.best_params_)\n",
    "print(\"\\nBest value of score is : \", ridge_grid_search.best_score_)"
   ]
  },
  {
   "cell_type": "markdown",
   "id": "bc2fdc8a",
   "metadata": {},
   "source": [
    "### Lasso Regularization"
   ]
  },
  {
   "cell_type": "code",
   "execution_count": 47,
   "id": "2f31f3dc",
   "metadata": {},
   "outputs": [
    {
     "name": "stdout",
     "output_type": "stream",
     "text": [
      "Traning Error Mean :  0.5293087458828422\n",
      "Traning Error Standard Deviation :  0.007894893222386748\n",
      "\n",
      "Test Error Mean :  0.5293087458828422\n",
      "Test Error Standard Deviation :  0.007894893222386748\n"
     ]
    }
   ],
   "source": [
    "lasso_pipeline = Pipeline([('poly', PolynomialFeatures(degree=2)),\n",
    "                        ('feature_scaling', StandardScaler()),\n",
    "                        ('lasso', Lasso(alpha=0.01))])  # alpha is the regularization rate\n",
    "\n",
    "lasso_results = cross_validate(lasso_pipeline, com_train_features, com_train_labels, cv=cv, scoring='neg_mean_absolute_error',\n",
    "                            return_train_score=True, return_estimator=True)\n",
    "\n",
    "lasso_train_error = -1 * lasso_results['train_score']\n",
    "lasso_test_error = -1 * lasso_results['test_score']\n",
    "\n",
    "\n",
    "print(\"Traning Error Mean : \", lasso_train_error.mean())\n",
    "print(\"Traning Error Standard Deviation : \", lasso_test_error.std())\n",
    "\n",
    "print(\"\\nTest Error Mean : \", lasso_train_error.mean())\n",
    "print(\"Test Error Standard Deviation : \", lasso_test_error.std())"
   ]
  },
  {
   "cell_type": "markdown",
   "id": "fe3993c8",
   "metadata": {},
   "source": [
    "LassoCV uses a different approach than RidgeCV, so we are not using it here."
   ]
  },
  {
   "cell_type": "markdown",
   "id": "a57c8c82",
   "metadata": {},
   "source": [
    "#### Find the best alpha (lasso regularization rate) using GridSearchCV."
   ]
  },
  {
   "cell_type": "code",
   "execution_count": 49,
   "id": "52acb1d9",
   "metadata": {},
   "outputs": [],
   "source": [
    "lasso_grid_pipeline = Pipeline([('poly', PolynomialFeatures(degree=2)),\n",
    "                        ('feature_scaling', StandardScaler()),\n",
    "                        ('lasso', Lasso())])\n",
    "\n",
    "param_grid = {'poly__degree': (1,2,3),\n",
    "             'lasso__alpha': np.logspace(-4, 0, num=20)}\n",
    "\n",
    "lasso_grid_search = GridSearchCV(lasso_grid_pipeline, param_grid=param_grid, cv=cv, scoring='neg_mean_absolute_error', return_train_score=True)\n",
    "lasso_grid_search.fit(com_train_features, com_train_labels)\n",
    "lasso_grid_search.best_index_"
   ]
  },
  {
   "cell_type": "code",
   "execution_count": null,
   "id": "80b0230c",
   "metadata": {},
   "outputs": [],
   "source": [
    "mean_train_error = -1 * lasso_grid_search.cv_results_['mean_train_score'][lasso_grid_search.best_index_]\n",
    "std_train_error = lasso_grid_search.cv_results_['std_train_score'][lasso_grid_search.best_index_]\n",
    "mean_test_error = -1 * lasso_grid_search.cv_results_['mean_test_score'][lasso_grid_search.best_index_]\n",
    "std_test_error = lasso_grid_search.cv_results_['std_test_score'][lasso_grid_search.best_index_]"
   ]
  },
  {
   "cell_type": "code",
   "execution_count": null,
   "id": "21ed5db8",
   "metadata": {},
   "outputs": [],
   "source": [
    "print(\"Traning Error Mean : \", mean_train_error)\n",
    "print(\"Traning Error Standard Deviation : \", std_train_error)\n",
    "\n",
    "print(\"\\nTest Error Mean : \", mean_test_error)\n",
    "print(\"Test Error Standard Deviation : \", std_test_error)\n",
    "\n",
    "print(\"\\nBest value of hyper-parameters are : \", lasso_grid_search.best_params_)\n",
    "print(\"\\nBest value of score is : \", lasso_grid_search.best_score_)"
   ]
  },
  {
   "cell_type": "markdown",
   "id": "9715e74d",
   "metadata": {},
   "source": [
    "## SGD Regularization"
   ]
  },
  {
   "cell_type": "code",
   "execution_count": 51,
   "id": "a82f36a5",
   "metadata": {},
   "outputs": [
    {
     "name": "stdout",
     "output_type": "stream",
     "text": [
      "Traning Error Mean :  10824283052.546406\n",
      "Traning Error Standard Deviation :  4423288211.831954\n",
      "\n",
      "Test Error Mean :  10946788540.249529\n",
      "Test Error Standard Deviation :  5396536227.702746\n"
     ]
    }
   ],
   "source": [
    "sgd_pipeline = Pipeline([('poly', PolynomialFeatures(degree=2)),\n",
    "                        ('feature_scaling', StandardScaler()),\n",
    "                        ('sgd', SGDRegressor(penalty='elasticnet', random_state=42))])\n",
    "\n",
    "sgd_results = cross_validate(sgd_pipeline, com_train_features, com_train_labels, cv=cv, scoring='neg_mean_absolute_error',\n",
    "                            return_train_score=True, return_estimator=True)\n",
    "\n",
    "sgd_train_error = -1 * sgd_results['train_score']\n",
    "sgd_test_error = -1 * sgd_results['test_score']\n",
    "\n",
    "print(\"Traning Error Mean : \", sgd_train_error.mean())\n",
    "print(\"Traning Error Standard Deviation : \", sgd_train_error.std())\n",
    "\n",
    "print(\"\\nTest Error Mean : \", sgd_test_error.mean())\n",
    "print(\"Test Error Standard Deviation : \", sgd_test_error.std())"
   ]
  },
  {
   "cell_type": "markdown",
   "id": "27271f54",
   "metadata": {},
   "source": [
    "#### Find the best parameters of polynomial + SGD regression using RandomizedSearchCV."
   ]
  },
  {
   "cell_type": "code",
   "execution_count": null,
   "id": "31ee1bd0",
   "metadata": {},
   "outputs": [],
   "source": [
    "sgd_pipeline = Pipeline([('poly', PolynomialFeatures(degree=2)),\n",
    "                        ('feature_scaling', StandardScaler()),\n",
    "                        ('sgd', SGDRegressor(penalty='elasticnet', random_state=42))])\n",
    "\n",
    "param_distributions = {'poly__degree': (1,2,3),\n",
    "              'sgd__learning_rate': ['constant', 'adaptive', 'invscaling'],\n",
    "             'sgd__l1_ratio': uniform(0,1),\n",
    "              'sgd__eta0': loguniform(1e-5, 1),\n",
    "              'sgd__power_t': uniform(0,1)\n",
    "}\n",
    "\n",
    "poly_sgd_random_search = RandomizedSearchCV(sgd_pipeline, param_distributions=param_distributions, n_iter=10, cv=cv, scoring='neg_mean_absolute_error')\n",
    "poly_sgd_random_search.fit(com_train_features, com_train_labels)\n",
    "\n",
    "print(\"\\nBest value of hyper-parameters are : \", poly_sgd_random_search.best_params_)\n",
    "print(\"\\nBest value of score is : \", poly_sgd_random_search.best_score_)"
   ]
  },
  {
   "cell_type": "markdown",
   "id": "f43b4f03",
   "metadata": {},
   "source": [
    "## Comparision of Weight Vectors"
   ]
  },
  {
   "cell_type": "code",
   "execution_count": 52,
   "id": "fd29ea53",
   "metadata": {},
   "outputs": [
    {
     "data": {
      "text/plain": [
       "array(['1', 'MedInc', 'HouseAge', 'AveRooms', 'AveBedrms', 'Population',\n",
       "       'AveOccup', 'Latitude', 'Longitude', 'MedInc HouseAge',\n",
       "       'MedInc AveRooms', 'MedInc AveBedrms', 'MedInc Population',\n",
       "       'MedInc AveOccup', 'MedInc Latitude', 'MedInc Longitude',\n",
       "       'HouseAge AveRooms', 'HouseAge AveBedrms', 'HouseAge Population',\n",
       "       'HouseAge AveOccup', 'HouseAge Latitude', 'HouseAge Longitude',\n",
       "       'AveRooms AveBedrms', 'AveRooms Population', 'AveRooms AveOccup',\n",
       "       'AveRooms Latitude', 'AveRooms Longitude', 'AveBedrms Population',\n",
       "       'AveBedrms AveOccup', 'AveBedrms Latitude', 'AveBedrms Longitude',\n",
       "       'Population AveOccup', 'Population Latitude',\n",
       "       'Population Longitude', 'AveOccup Latitude', 'AveOccup Longitude',\n",
       "       'Latitude Longitude'], dtype=object)"
      ]
     },
     "execution_count": 52,
     "metadata": {},
     "output_type": "execute_result"
    }
   ],
   "source": [
    "feature_names = poly_results['estimator'][0][0].get_feature_names_out(input_features=train_features.columns)\n",
    "feature_names"
   ]
  },
  {
   "cell_type": "code",
   "execution_count": 53,
   "id": "f8b72b4b",
   "metadata": {},
   "outputs": [],
   "source": [
    "coefs = [est[-1].coef_ for est in poly_results['estimator']]\n",
    "weights_polynomial_regression = pd.DataFrame(coefs, columns=feature_names)"
   ]
  },
  {
   "cell_type": "code",
   "execution_count": 54,
   "id": "902644f6",
   "metadata": {},
   "outputs": [
    {
     "data": {
      "text/plain": [
       "Text(0.5, 1.0, 'Polynomial regression coefficients')"
      ]
     },
     "execution_count": 54,
     "metadata": {},
     "output_type": "execute_result"
    },
    {
     "data": {
      "image/png": "[encoded data removed]",
      "text/plain": [
       "<Figure size 432x1152 with 1 Axes>"
      ]
     },
     "metadata": {
      "needs_background": "light"
     },
     "output_type": "display_data"
    }
   ],
   "source": [
    "weights_polynomial_regression.plot.box(vert=False, figsize=(6,16))\n",
    "plt.title(\"Polynomial regression coefficients\")"
   ]
  },
  {
   "cell_type": "markdown",
   "id": "713aed6c",
   "metadata": {},
   "source": [
    "From the above box plot, it looks like the weights given to *AveOccup* and *AveOccupLongitude* have **outliers**. So, plot them for the ridge regression"
   ]
  },
  {
   "cell_type": "code",
   "execution_count": 55,
   "id": "03b5ec3d",
   "metadata": {},
   "outputs": [
    {
     "data": {
      "text/plain": [
       "array(['1', 'MedInc', 'HouseAge', 'AveRooms', 'AveBedrms', 'Population',\n",
       "       'AveOccup', 'Latitude', 'Longitude', 'MedInc^2', 'MedInc HouseAge',\n",
       "       'MedInc AveRooms', 'MedInc AveBedrms', 'MedInc Population',\n",
       "       'MedInc AveOccup', 'MedInc Latitude', 'MedInc Longitude',\n",
       "       'HouseAge^2', 'HouseAge AveRooms', 'HouseAge AveBedrms',\n",
       "       'HouseAge Population', 'HouseAge AveOccup', 'HouseAge Latitude',\n",
       "       'HouseAge Longitude', 'AveRooms^2', 'AveRooms AveBedrms',\n",
       "       'AveRooms Population', 'AveRooms AveOccup', 'AveRooms Latitude',\n",
       "       'AveRooms Longitude', 'AveBedrms^2', 'AveBedrms Population',\n",
       "       'AveBedrms AveOccup', 'AveBedrms Latitude', 'AveBedrms Longitude',\n",
       "       'Population^2', 'Population AveOccup', 'Population Latitude',\n",
       "       'Population Longitude', 'AveOccup^2', 'AveOccup Latitude',\n",
       "       'AveOccup Longitude', 'Latitude^2', 'Latitude Longitude',\n",
       "       'Longitude^2'], dtype=object)"
      ]
     },
     "execution_count": 55,
     "metadata": {},
     "output_type": "execute_result"
    }
   ],
   "source": [
    "feature_names = ridge_results['estimator'][0][0].get_feature_names_out(input_features=train_features.columns)\n",
    "feature_names"
   ]
  },
  {
   "cell_type": "code",
   "execution_count": 56,
   "id": "36d88025",
   "metadata": {},
   "outputs": [],
   "source": [
    "coefs = [est[-1].coef_ for est in ridge_results['estimator']]\n",
    "weights_ridge_regression = pd.DataFrame(coefs, columns=feature_names)"
   ]
  },
  {
   "cell_type": "code",
   "execution_count": 57,
   "id": "0317095d",
   "metadata": {},
   "outputs": [
    {
     "data": {
      "text/plain": [
       "Text(0.5, 1.0, 'Ridge regression coefficients')"
      ]
     },
     "execution_count": 57,
     "metadata": {},
     "output_type": "execute_result"
    },
    {
     "data": {
      "image/png": "[encoded data removed]",
      "text/plain": [
       "<Figure size 432x1152 with 1 Axes>"
      ]
     },
     "metadata": {
      "needs_background": "light"
     },
     "output_type": "display_data"
    }
   ],
   "source": [
    "weights_ridge_regression.plot.box(vert=False, figsize=(6,16))\n",
    "plt.title(\"Ridge regression coefficients\")"
   ]
  },
  {
   "cell_type": "markdown",
   "id": "7b71592a",
   "metadata": {},
   "source": [
    "## Performance on Test Set\n",
    "Do the following first :\n",
    "- Run Polynomial SGD with RandomSearchCV\n",
    "- Run Ridge with GridSearchCV\n",
    "- Run Lasso with GridSearchCV\n",
    "\n",
    "I haven't executed the above 3 parts but upon doing so, we get the least error from the **ridge regression model obtained from the GridSearchCV**"
   ]
  },
  {
   "cell_type": "code",
   "execution_count": 58,
   "id": "1097ec15",
   "metadata": {},
   "outputs": [
    {
     "data": {
      "text/plain": [
       "0.5348927548151625"
      ]
     },
     "execution_count": 58,
     "metadata": {},
     "output_type": "execute_result"
    }
   ],
   "source": [
    "baseline_model_median = DummyRegressor(strategy='median')\n",
    "baseline_model_median.fit(train_features, train_labels)\n",
    "mean_absolute_percentage_error(test_labels, baseline_model_median.predict(test_features))"
   ]
  },
  {
   "cell_type": "code",
   "execution_count": 59,
   "id": "b159412a",
   "metadata": {},
   "outputs": [
    {
     "data": {
      "text/plain": [
       "0.32120472175482906"
      ]
     },
     "execution_count": 59,
     "metadata": {},
     "output_type": "execute_result"
    }
   ],
   "source": [
    "mean_absolute_percentage_error(test_labels, lg_results['estimator'][0].predict(test_features))"
   ]
  },
  {
   "cell_type": "code",
   "execution_count": 61,
   "id": "ffd3be80",
   "metadata": {},
   "outputs": [],
   "source": [
    "mean_absolute_percentage_error(test_labels, poly_sgd_random_search.best_estimator_.predict(test_features))"
   ]
  },
  {
   "cell_type": "code",
   "execution_count": 62,
   "id": "c7f1036e",
   "metadata": {},
   "outputs": [
    {
     "data": {
      "text/plain": [
       "0.2834129629962932"
      ]
     },
     "execution_count": 62,
     "metadata": {},
     "output_type": "execute_result"
    }
   ],
   "source": [
    "mean_absolute_percentage_error(test_labels, poly_results['estimator'][0].predict(test_features))"
   ]
  },
  {
   "cell_type": "code",
   "execution_count": 63,
   "id": "fff47b09",
   "metadata": {},
   "outputs": [
    {
     "data": {
      "text/plain": [
       "0.29207715093905434"
      ]
     },
     "execution_count": 63,
     "metadata": {},
     "output_type": "execute_result"
    }
   ],
   "source": [
    "mean_absolute_percentage_error(test_labels, ridge_results['estimator'][0].predict(test_features))"
   ]
  },
  {
   "cell_type": "code",
   "execution_count": 67,
   "id": "7a96abb1",
   "metadata": {},
   "outputs": [],
   "source": [
    "mean_absolute_percentage_error(test_labels, ridge_grid_search.best_estimator_.predict(test_features))"
   ]
  },
  {
   "cell_type": "code",
   "execution_count": 69,
   "id": "a2b9fe1b",
   "metadata": {
    "scrolled": true
   },
   "outputs": [],
   "source": [
    "mean_absolute_percentage_error(test_labels, lasso_grid_search.best_estimator_.predict(test_features))"
   ]
  }
 ],
 "metadata": {
  "kernelspec": {
   "display_name": "Python 3 (ipykernel)",
   "language": "python",
   "name": "python3"
  },
  "language_info": {
   "codemirror_mode": {
    "name": "ipython",
    "version": 3
   },
   "file_extension": ".py",
   "mimetype": "text/x-python",
   "name": "python",
   "nbconvert_exporter": "python",
   "pygments_lexer": "ipython3",
   "version": "3.9.7"
  }
 },
 "nbformat": 4,
 "nbformat_minor": 5
}

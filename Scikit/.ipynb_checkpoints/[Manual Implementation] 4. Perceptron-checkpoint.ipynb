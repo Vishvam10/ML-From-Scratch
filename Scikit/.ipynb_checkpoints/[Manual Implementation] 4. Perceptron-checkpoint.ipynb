{
 "cells": [
  {
   "cell_type": "markdown",
   "id": "06cb7d4d",
   "metadata": {},
   "source": [
    "# Perceptron"
   ]
  },
  {
   "cell_type": "markdown",
   "id": "d475fcbd",
   "metadata": {},
   "source": [
    "In the modern sense, the perceptron is an algorithm for learning a binary classifier called a [[Linear classifier#Definition|threshold function]]: a function that maps its input <math>\\mathbf{x}</math> (a real-valued [[Vector space|vector]]) to an output value <math>f(\\mathbf{x})</math> (a single [[Binary function|binary]] value):\n",
    "\n",
    "$$\n",
    "f(\\mathbf{x}) = \\begin{cases}1 & \\text{if }\\ \\mathbf{w} \\cdot \\mathbf{x} + b > 0,\\\\0 & \\text{otherwise}\\end{cases}\n",
    "$$\n",
    "\n",
    "where $\\mathbf{w}$ is a vector of real-valued weights, $\\mathbf{w} \\cdot \\mathbf{x}$ is the dot product $\\sum_{i=1}^m w_i x_i$, where *m* is the number of inputs to the perceptron, and *b* is the ''bias''. The bias shifts the decision boundary away from the origin and does not depend on any input value."
   ]
  },
  {
   "cell_type": "code",
   "execution_count": 13,
   "id": "9fc83f51",
   "metadata": {},
   "outputs": [],
   "source": [
    "import itertools\n",
    "import functools\n",
    "import numpy as np\n",
    "import seaborn as sns\n",
    "import matplotlib.pyplot as plt\n",
    "from sklearn.model_selection import train_test_split\n",
    "\n",
    "np.random.seed(1234)\n",
    "%matplotlib inline"
   ]
  },
  {
   "cell_type": "markdown",
   "id": "a3a3d176",
   "metadata": {},
   "source": [
    "**Helper Functions**"
   ]
  },
  {
   "cell_type": "code",
   "execution_count": 17,
   "id": "317648f3",
   "metadata": {},
   "outputs": [],
   "source": [
    "def combinations(x, degree):\n",
    "    return itertools.combinations_with_replacement(x, degree)\n",
    "\n",
    "def compute_new_features(items):\n",
    "    return functools.reduce(lambda x, y: x * y, items)\n",
    "\n",
    "def polynomial_transform(x, degree):\n",
    "    if x.ndim == 1:\n",
    "        x = x[:, None]\n",
    "\n",
    "    features = [np.ones(len(x))] # A list of np-arrays with all 1.\n",
    "\n",
    "    for degree in range(1, degree + 1):\n",
    "        for item in combinations(x.T, degree):\n",
    "            features.append(compute_new_features(item))\n",
    "            \n",
    "    return np.asarray(features).T\n",
    "\n",
    "def create_toy_data(factor=3):\n",
    "    x0 = np.random.normal(size=50).reshape(-1, 2) - factor\n",
    "    x1 = np.random.normal(size=50).reshape(-1, 2) + factor\n",
    "    return np.concatenate([x0, x1]), np.concatenate([np.zeros(25)-1, np.ones(25)]).astype(np.int)\n",
    "\n",
    "sns.set_context(context='notebook',font_scale=1.5,rc={\"lines.linewidth\":2.5})\n",
    "\n",
    "def visualize_model(X_train, labels, lsc, degree=1):\n",
    "    f = plt.figure(figsize=(8,8))\n",
    "\n",
    "    x1_min = np.min(x_train[:,1])\n",
    "    x1_max = np.max(x_train[:,1])\n",
    "    x2_min = np.min(x_train[:,2])\n",
    "    x2_max = np.max(x_train[:,2])\n",
    "    \n",
    "    x1_test, x2_test = np.meshgrid(np.linspace(x1_min, x1_max, 100), np.linspace(x2_min, x2_max, 100)) \n",
    "    x_test = np.array([x1_test, x2_test]).reshape(2,-1).T\n",
    "    x_test_poly = polynomial_transform(x_test, degree=degree)\n",
    "    y_test = lsc.predict(x_test_poly)\n",
    "    \n",
    "    sns.scatterplot(data=x_train, x=x_train[:,-2], y=x_train[:,-1], hue=labels)\n",
    "    plt.contourf(x1_test, x2_test, y_test.reshape(100,100), alpha=0.5, levels=np.linspace(0,1,3))\n",
    "    plt.gca().set_aspect('equal', adjustable='box')"
   ]
  },
  {
   "cell_type": "markdown",
   "id": "6932f0c5",
   "metadata": {},
   "source": [
    "## Perceptron Class - `Perceptron()`"
   ]
  },
  {
   "cell_type": "code",
   "execution_count": 19,
   "id": "998d9e6a",
   "metadata": {},
   "outputs": [],
   "source": [
    "class Perceptron(object):\n",
    "    def __init__(self):\n",
    "        pass\n",
    "    \n",
    "    def predict(self,X):\n",
    "        z = X @ self.w\n",
    "        return np.where (z >= 0, 1, -1)\n",
    " \n",
    "    def loss(self,X,y,reg_rate):\n",
    "        return np.sum(np.maximum(-1 * self.predict(X) * y, np.zeros(y.shape[0])))\n",
    "\n",
    "    def fit(self,X, y, reg_rate=0):\n",
    "        self.w = np.linalg.solve(X.T @ X + reg_rate * np.eye(X.shape[-1]), X.T@y)\n",
    "        print(X.shape, y.shape, self.w.shape)\n",
    "        return self.w\n",
    "  \n",
    "    def train(self, X, y, num_epochs, lr=0.001):\n",
    "        self.w = np.zeros(X.shape[1])\n",
    "        self.w_all = []\n",
    "        self.err_all = []\n",
    "        for i in np.arange(0, num_epochs):\n",
    "            errors = 0\n",
    "            for xi, target in zip(X, y):\n",
    "                self.w += lr * (target - self.predict(xi)) * xi\n",
    "                errors += np.maximum(-1 * self.predict(xi) * y, np.zeros(y.shape[0]))\n",
    "            self.err_all.append(errors)\n",
    "            self.w_all.append(self.w)\n",
    "        return self.w"
   ]
  },
  {
   "cell_type": "markdown",
   "id": "13276c24",
   "metadata": {},
   "source": [
    "### Linearly Separable Case"
   ]
  },
  {
   "cell_type": "code",
   "execution_count": 20,
   "id": "682cd68f",
   "metadata": {},
   "outputs": [
    {
     "name": "stderr",
     "output_type": "stream",
     "text": [
      "C:\\Users\\Vishvam\\AppData\\Local\\Temp/ipykernel_14888/885939937.py:22: DeprecationWarning: `np.int` is a deprecated alias for the builtin `int`. To silence this warning, use `int` by itself. Doing this will not modify any behavior and is safe. When replacing `np.int`, you may wish to use e.g. `np.int64` or `np.int32` to specify the precision. If you wish to review your current use, check the release note link for additional information.\n",
      "Deprecated in NumPy 1.20; for more details and guidance: https://numpy.org/devdocs/release/1.20.0-notes.html#deprecations\n",
      "  return np.concatenate([x0, x1]), np.concatenate([np.zeros(25)-1, np.ones(25)]).astype(np.int)\n"
     ]
    }
   ],
   "source": [
    "x, y = create_toy_data()\n",
    "x_poly = polynomial_transform(x, degree=1)\n",
    "x_train, x_test, y_train, y_test = train_test_split(x_poly, y)"
   ]
  },
  {
   "cell_type": "code",
   "execution_count": 23,
   "id": "9acfda15",
   "metadata": {},
   "outputs": [
    {
     "data": {
      "image/png": "[encoded data removed]",
      "text/plain": [
       "<Figure size 576x576 with 1 Axes>"
      ]
     },
     "metadata": {
      "needs_background": "light"
     },
     "output_type": "display_data"
    }
   ],
   "source": [
    "p = Perceptron()\n",
    "p.train(x_train, y_train, num_epochs=100, lr=1)\n",
    "visualize_model(x_train, y_train, p, degree=1)"
   ]
  },
  {
   "cell_type": "markdown",
   "id": "7d969060",
   "metadata": {},
   "source": [
    "### Non-Linearly Separable Case\n",
    "In non-linear separable case, the classification doesn't converge, but oscillate.  Print loss to see."
   ]
  },
  {
   "cell_type": "code",
   "execution_count": 26,
   "id": "bcb560a2",
   "metadata": {},
   "outputs": [
    {
     "name": "stderr",
     "output_type": "stream",
     "text": [
      "C:\\Users\\Vishvam\\AppData\\Local\\Temp/ipykernel_14888/885939937.py:22: DeprecationWarning: `np.int` is a deprecated alias for the builtin `int`. To silence this warning, use `int` by itself. Doing this will not modify any behavior and is safe. When replacing `np.int`, you may wish to use e.g. `np.int64` or `np.int32` to specify the precision. If you wish to review your current use, check the release note link for additional information.\n",
      "Deprecated in NumPy 1.20; for more details and guidance: https://numpy.org/devdocs/release/1.20.0-notes.html#deprecations\n",
      "  return np.concatenate([x0, x1]), np.concatenate([np.zeros(25)-1, np.ones(25)]).astype(np.int)\n"
     ]
    }
   ],
   "source": [
    "x, y = create_toy_data(factor=0.5)\n",
    "x_poly = polynomial_transform(x, degree=1)\n",
    "x_train, x_test, y_train, y_test = train_test_split(x_poly, y)"
   ]
  },
  {
   "cell_type": "code",
   "execution_count": 27,
   "id": "df9fb27e",
   "metadata": {},
   "outputs": [
    {
     "data": {
      "image/png": "[encoded data removed]",
      "text/plain": [
       "<Figure size 576x576 with 1 Axes>"
      ]
     },
     "metadata": {
      "needs_background": "light"
     },
     "output_type": "display_data"
    }
   ],
   "source": [
    "p = Perceptron()\n",
    "p.train(x_train, y_train, num_epochs=100, lr=1)\n",
    "visualize_model(x_train, y_train, p, degree=1)"
   ]
  },
  {
   "cell_type": "code",
   "execution_count": null,
   "id": "93eba894",
   "metadata": {},
   "outputs": [],
   "source": []
  },
  {
   "cell_type": "code",
   "execution_count": null,
   "id": "8cf0edd5",
   "metadata": {},
   "outputs": [],
   "source": []
  },
  {
   "cell_type": "code",
   "execution_count": null,
   "id": "90f3989e",
   "metadata": {},
   "outputs": [],
   "source": []
  },
  {
   "cell_type": "code",
   "execution_count": null,
   "id": "50ba6af6",
   "metadata": {},
   "outputs": [],
   "source": []
  },
  {
   "cell_type": "code",
   "execution_count": null,
   "id": "5572145f",
   "metadata": {},
   "outputs": [],
   "source": []
  },
  {
   "cell_type": "code",
   "execution_count": null,
   "id": "08658f76",
   "metadata": {},
   "outputs": [],
   "source": []
  },
  {
   "cell_type": "code",
   "execution_count": null,
   "id": "5c810291",
   "metadata": {},
   "outputs": [],
   "source": []
  },
  {
   "cell_type": "code",
   "execution_count": null,
   "id": "6ab539ea",
   "metadata": {},
   "outputs": [],
   "source": []
  },
  {
   "cell_type": "code",
   "execution_count": null,
   "id": "d89e3b8f",
   "metadata": {},
   "outputs": [],
   "source": []
  },
  {
   "cell_type": "code",
   "execution_count": null,
   "id": "334c6c77",
   "metadata": {},
   "outputs": [],
   "source": []
  },
  {
   "cell_type": "code",
   "execution_count": null,
   "id": "1eea6a9e",
   "metadata": {},
   "outputs": [],
   "source": []
  },
  {
   "cell_type": "code",
   "execution_count": null,
   "id": "56234f29",
   "metadata": {},
   "outputs": [],
   "source": []
  },
  {
   "cell_type": "code",
   "execution_count": null,
   "id": "c402d45a",
   "metadata": {},
   "outputs": [],
   "source": []
  },
  {
   "cell_type": "markdown",
   "id": "014e99c2",
   "metadata": {},
   "source": [
    "The default behaviour of `np.maximum()` is to take two arrays and **compute their element-wise maximum**. Here, 'compatible' means that one array can be broadcast to the other. For example"
   ]
  },
  {
   "cell_type": "code",
   "execution_count": 3,
   "id": "705aaf93",
   "metadata": {},
   "outputs": [
    {
     "data": {
      "text/plain": [
       "array([4, 6, 9])"
      ]
     },
     "execution_count": 3,
     "metadata": {},
     "output_type": "execute_result"
    }
   ],
   "source": [
    "b = np.array([3, 6, 1])\n",
    "c = np.array([4, 2, 9])\n",
    "np.maximum(b, c)"
   ]
  },
  {
   "cell_type": "markdown",
   "id": "a046311a",
   "metadata": {},
   "source": [
    "But np.maximum is also a universal function which means that it has other features and methods which come in useful when working with multidimensional arrays. For example you can compute the cumulative maximum over an array (or a particular axis of the array):"
   ]
  },
  {
   "cell_type": "code",
   "execution_count": 6,
   "id": "e62f7dbb",
   "metadata": {},
   "outputs": [
    {
     "name": "stdout",
     "output_type": "stream",
     "text": [
      "[2 2 3 3 3 7 9]\n",
      "[   2    2    6  -24   48  336 3024]\n"
     ]
    }
   ],
   "source": [
    "d = np.array([2, 1, 3, -4, -2, 7, 9])\n",
    "print(np.maximum.accumulate(d))\n",
    "print(np.multiply.accumulate(d))"
   ]
  },
  {
   "cell_type": "code",
   "execution_count": null,
   "id": "9f15b4a7",
   "metadata": {},
   "outputs": [],
   "source": []
  }
 ],
 "metadata": {
  "kernelspec": {
   "display_name": "Python 3 (ipykernel)",
   "language": "python",
   "name": "python3"
  },
  "language_info": {
   "codemirror_mode": {
    "name": "ipython",
    "version": 3
   },
   "file_extension": ".py",
   "mimetype": "text/x-python",
   "name": "python",
   "nbconvert_exporter": "python",
   "pygments_lexer": "ipython3",
   "version": "3.9.7"
  }
 },
 "nbformat": 4,
 "nbformat_minor": 5
}

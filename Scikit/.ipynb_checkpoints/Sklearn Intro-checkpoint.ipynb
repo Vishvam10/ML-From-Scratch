{
 "cells": [
  {
   "cell_type": "markdown",
   "id": "06b6ef59",
   "metadata": {},
   "source": [
    "# Loaders, Fetcher and Generators"
   ]
  },
  {
   "cell_type": "markdown",
   "id": "fd91f9d4",
   "metadata": {},
   "source": [
    "## Loaders\n",
    "\n",
    "- Used to load small standard datasets bundled with sklearn\n",
    "- Returns a `bunch` object "
   ]
  },
  {
   "cell_type": "code",
   "execution_count": 12,
   "id": "38c175a0",
   "metadata": {},
   "outputs": [],
   "source": [
    "import sys\n",
    "print(sys.executable)\n",
    "!{sys.executable} -m pip install sklearn"
   ]
  },
  {
   "cell_type": "code",
   "execution_count": 2,
   "id": "303d4408",
   "metadata": {},
   "outputs": [
    {
     "data": {
      "text/plain": [
       "sklearn.utils.Bunch"
      ]
     },
     "execution_count": 2,
     "metadata": {},
     "output_type": "execute_result"
    }
   ],
   "source": [
    "from sklearn.datasets import load_iris\n",
    "data = load_iris()\n",
    "type(data)\n",
    "# print(data.DESCR)"
   ]
  },
  {
   "cell_type": "markdown",
   "id": "58a87167",
   "metadata": {},
   "source": [
    "This return a bunch object data which is a dictionary-like object with the following attributes :\n",
    "\n",
    "- `data`, which the feature matrix\n",
    "- `target`, which is the label vector\n",
    "- `feature_names` contains the name of the features\n",
    "- `target_names` contain the names of the dataser\n",
    "- `DESCR` has the full description of dataset\n",
    "- `filename` has the path to the location of data\n",
    "    "
   ]
  },
  {
   "cell_type": "code",
   "execution_count": 14,
   "id": "45d19fa8",
   "metadata": {
    "scrolled": true
   },
   "outputs": [
    {
     "data": {
      "text/plain": [
       "['sepal length (cm)',\n",
       " 'sepal width (cm)',\n",
       " 'petal length (cm)',\n",
       " 'petal width (cm)']"
      ]
     },
     "execution_count": 14,
     "metadata": {},
     "output_type": "execute_result"
    }
   ],
   "source": [
    "data.feature_names"
   ]
  },
  {
   "cell_type": "code",
   "execution_count": 15,
   "id": "cf0e8f09",
   "metadata": {},
   "outputs": [
    {
     "data": {
      "text/plain": [
       "array(['setosa', 'versicolor', 'virginica'], dtype='<U10')"
      ]
     },
     "execution_count": 15,
     "metadata": {},
     "output_type": "execute_result"
    }
   ],
   "source": [
    "data.target_names"
   ]
  },
  {
   "cell_type": "markdown",
   "id": "b79e2fbe",
   "metadata": {},
   "source": [
    "#### The feature matrix "
   ]
  },
  {
   "cell_type": "code",
   "execution_count": 97,
   "id": "aa4e2f82",
   "metadata": {},
   "outputs": [
    {
     "data": {
      "text/plain": [
       "(150, 4)"
      ]
     },
     "execution_count": 97,
     "metadata": {},
     "output_type": "execute_result"
    }
   ],
   "source": [
    "# The actual data \n",
    "data.data \n",
    "\n",
    "# The first 5\n",
    "data.data[:5]\n",
    "\n",
    "# Shape of the data\n",
    "data.data.shape"
   ]
  },
  {
   "cell_type": "markdown",
   "id": "31f5805d",
   "metadata": {},
   "source": [
    "There are 150 examples and each example with 4 features"
   ]
  },
  {
   "cell_type": "markdown",
   "id": "fc318112",
   "metadata": {},
   "source": [
    "#### The taget matrix  ( label )"
   ]
  },
  {
   "cell_type": "code",
   "execution_count": 33,
   "id": "1040b3fc",
   "metadata": {
    "collapsed": true
   },
   "outputs": [
    {
     "data": {
      "text/plain": [
       "array([0, 0, 0, 0, 0, 0, 0, 0, 0, 0, 0, 0, 0, 0, 0, 0, 0, 0, 0, 0, 0, 0,\n",
       "       0, 0, 0, 0, 0, 0, 0, 0, 0, 0, 0, 0, 0, 0, 0, 0, 0, 0, 0, 0, 0, 0,\n",
       "       0, 0, 0, 0, 0, 0, 1, 1, 1, 1, 1, 1, 1, 1, 1, 1, 1, 1, 1, 1, 1, 1,\n",
       "       1, 1, 1, 1, 1, 1, 1, 1, 1, 1, 1, 1, 1, 1, 1, 1, 1, 1, 1, 1, 1, 1,\n",
       "       1, 1, 1, 1, 1, 1, 1, 1, 1, 1, 1, 1, 2, 2, 2, 2, 2, 2, 2, 2, 2, 2,\n",
       "       2, 2, 2, 2, 2, 2, 2, 2, 2, 2, 2, 2, 2, 2, 2, 2, 2, 2, 2, 2, 2, 2,\n",
       "       2, 2, 2, 2, 2, 2, 2, 2, 2, 2, 2, 2, 2, 2, 2, 2, 2, 2])"
      ]
     },
     "execution_count": 33,
     "metadata": {},
     "output_type": "execute_result"
    }
   ],
   "source": [
    "# The actual data \n",
    "data.target\n",
    "\n",
    "# Shape of the data\n",
    "data.target.shape"
   ]
  },
  {
   "cell_type": "markdown",
   "id": "510402b0",
   "metadata": {},
   "source": [
    "There are 50 examples and each of three classes : 0,1 and 2"
   ]
  },
  {
   "cell_type": "markdown",
   "id": "e1a71e04",
   "metadata": {},
   "source": [
    "**We can read additional documentaion about `load_iris` in the following manner**"
   ]
  },
  {
   "cell_type": "code",
   "execution_count": 25,
   "id": "68391a1c",
   "metadata": {},
   "outputs": [],
   "source": [
    "?load_iris"
   ]
  },
  {
   "cell_type": "markdown",
   "id": "5b94da5a",
   "metadata": {},
   "source": [
    "<br>\n",
    "\n",
    "**Alternate way :** \n",
    "We can obtain the feature matrix and the target ( label ) from `load_iris` and other loaders in general by setting `return_X_y` argument to `True`. This returns a tuple instead of a `Bunch` object"
   ]
  },
  {
   "cell_type": "code",
   "execution_count": 5,
   "id": "56956914",
   "metadata": {
    "scrolled": true
   },
   "outputs": [
    {
     "name": "stdout",
     "output_type": "stream",
     "text": [
      "Shape of the feature matrix :  (150, 4)\n",
      "Shape of the label vector :  (150,)\n"
     ]
    }
   ],
   "source": [
    "feature_matrix, label_vector = load_iris(return_X_y=True)\n",
    "print(\"Shape of the feature matrix : \", feature_matrix.shape)\n",
    "print(\"Shape of the label vector : \", label_vector.shape)"
   ]
  },
  {
   "cell_type": "markdown",
   "id": "330f1a03",
   "metadata": {},
   "source": [
    "<br>\n",
    "\n",
    "## Fetchers\n",
    "\n",
    "- Used to fetch large datasets from the internet and load them into memory\n",
    "- Returns a `bunch` object "
   ]
  },
  {
   "cell_type": "markdown",
   "id": "436a59ee",
   "metadata": {},
   "source": [
    "**Step 1 :** Import the library and access the documentation "
   ]
  },
  {
   "cell_type": "code",
   "execution_count": 35,
   "id": "1f19bf4b",
   "metadata": {},
   "outputs": [],
   "source": [
    "# california_housing is not bundled with sklear. We are fetching it from the internet\n",
    "\n",
    "from sklearn.datasets import fetch_california_housing\n",
    "?fetch_california_housing"
   ]
  },
  {
   "cell_type": "markdown",
   "id": "14a8117f",
   "metadata": {},
   "source": [
    "**Step 2 :** Load the dataset, obtain the `Bunch` object and examine it"
   ]
  },
  {
   "cell_type": "code",
   "execution_count": 46,
   "id": "0f024af3",
   "metadata": {},
   "outputs": [],
   "source": [
    "housing_data = fetch_california_housing()\n",
    "housing_data.DESCR"
   ]
  },
  {
   "cell_type": "markdown",
   "id": "6e86fc52",
   "metadata": {},
   "source": [
    "#### Feature and Target Matrix ( Label Vector )"
   ]
  },
  {
   "cell_type": "code",
   "execution_count": 48,
   "id": "86a9ce00",
   "metadata": {},
   "outputs": [
    {
     "data": {
      "text/plain": [
       "(20640, 8)"
      ]
     },
     "execution_count": 48,
     "metadata": {},
     "output_type": "execute_result"
    }
   ],
   "source": [
    "housing_data.feature_names\n",
    "housing_data.data\n",
    "housing_data.data.shape"
   ]
  },
  {
   "cell_type": "code",
   "execution_count": 51,
   "id": "6613b66d",
   "metadata": {},
   "outputs": [
    {
     "data": {
      "text/plain": [
       "(20640,)"
      ]
     },
     "execution_count": 51,
     "metadata": {},
     "output_type": "execute_result"
    }
   ],
   "source": [
    "# Target Matrix ( Label Vector )\n",
    "\n",
    "housing_data.target_names\n",
    "housing_data.target\n",
    "housing_data.target.shape"
   ]
  },
  {
   "cell_type": "markdown",
   "id": "4cce6aab",
   "metadata": {},
   "source": [
    "<br>\n",
    "\n",
    "## Generators\n",
    "\n",
    "- Used to generate controlled synthetic datasets\n",
    "- Returns a tuple of feature matrix and label vectors or matrix"
   ]
  },
  {
   "cell_type": "markdown",
   "id": "2dc5ad2e",
   "metadata": {},
   "source": [
    "### For Regression Problems"
   ]
  },
  {
   "cell_type": "markdown",
   "id": "4fb923c7",
   "metadata": {},
   "source": [
    "We use `make_regression` to generate data for regression problems"
   ]
  },
  {
   "cell_type": "code",
   "execution_count": 7,
   "id": "82b13761",
   "metadata": {},
   "outputs": [],
   "source": [
    "from sklearn.datasets import make_regression\n",
    "?make_regression"
   ]
  },
  {
   "cell_type": "markdown",
   "id": "8367dcae",
   "metadata": {},
   "source": [
    "#### Example 1\n",
    "\n",
    "Let's generate 100 samples with 5 features for a single label regression problem. "
   ]
  },
  {
   "cell_type": "code",
   "execution_count": 9,
   "id": "7204c052",
   "metadata": {},
   "outputs": [],
   "source": [
    "x, y = make_regression(n_samples=100, n_features=5, n_targets=1, shuffle=True, random_state=2)"
   ]
  },
  {
   "cell_type": "markdown",
   "id": "2b945382",
   "metadata": {},
   "source": [
    "It's a good practice to set the seed so that we get to see repeatability in experiment. That's why we set the `random_state` to some seed value."
   ]
  },
  {
   "cell_type": "code",
   "execution_count": 12,
   "id": "0e8539de",
   "metadata": {},
   "outputs": [
    {
     "name": "stdout",
     "output_type": "stream",
     "text": [
      "[ 120.12041833   55.20121782 -169.00523305   53.63163617  -82.40832016\n",
      "  115.1091957    46.64531093  -15.82356324  163.91143742  -57.73610878\n",
      " -225.68192553  202.90074216   28.56982955   24.98560066 -197.60824053\n",
      "   92.73777109   -1.29936757 -100.62474781  -60.70218944   53.004946\n",
      "   76.84989388 -189.01868919  -63.4929162    69.98698895  -97.25678821\n",
      "  -64.90169654 -170.82550917  -19.2157724   351.24905039  -23.16979007\n",
      "  -41.91526225  -52.60040117  412.7687539   -67.28953602   -9.70146113\n",
      " -135.23494045  102.35733576   15.11231877 -188.60952013   95.41682149\n",
      "   72.5671004   150.55206058  -57.64269235  -69.75025654   44.76953453\n",
      "   51.42273655   33.73755989   46.51902022  110.64914861   29.15371321\n",
      "    5.88631377   28.51970655 -186.81676455  159.90139074 -107.6229835\n",
      "    6.95160089   21.82620108   -5.48026535 -141.6002662     9.90968869\n",
      "  -49.71334643   71.60828473  112.27741868 -158.25228682  140.28179099\n",
      "  -36.18302441   47.75997156 -152.26145592  -94.63653863   27.41389317\n",
      "  -51.5943416     9.79498385  -64.40304602  -58.77717024  101.67427203\n",
      "   -1.00401736   40.35663947  -28.16380006  -97.64855994   46.96438222\n",
      "  182.4763728    43.2110691   165.17335787 -101.89223405 -137.68500301\n",
      " -118.56514928  -39.87959653   88.87412984   11.62815973 -141.16594112\n",
      "  161.54588931   44.89370801 -287.72892473 -180.82335022  -20.58065336\n",
      " -135.61194481 -173.13884451 -135.30350717    8.27100075   77.24527858]\n",
      "(100, 5) (100,)\n"
     ]
    }
   ],
   "source": [
    "# Check the created data : \n",
    "print(x, y)\n",
    "print(x.shape, y.shape)"
   ]
  },
  {
   "cell_type": "markdown",
   "id": "49962951",
   "metadata": {},
   "source": [
    "#### Example 2\n",
    "\n",
    "Let's generate 100 samples with 5 features for a multiple regression problem with 5 outputs"
   ]
  },
  {
   "cell_type": "code",
   "execution_count": 63,
   "id": "1b1d171d",
   "metadata": {},
   "outputs": [
    {
     "name": "stdout",
     "output_type": "stream",
     "text": [
      "(100, 5) (100, 5)\n"
     ]
    }
   ],
   "source": [
    "x, y = make_regression(n_samples=100, n_features=5, n_targets=5, shuffle=True, random_state=2)\n",
    "\n",
    "# Check the created data : \n",
    "print(x, y)\n",
    "print(x.shape, y.shape)"
   ]
  },
  {
   "cell_type": "markdown",
   "id": "31450e13",
   "metadata": {},
   "source": [
    "<br>\n",
    "\n",
    "### For Classification Problems"
   ]
  },
  {
   "cell_type": "markdown",
   "id": "f2737f90",
   "metadata": {},
   "source": [
    "We use `make_classification` to generate data for classification problems"
   ]
  },
  {
   "cell_type": "code",
   "execution_count": 67,
   "id": "e346c737",
   "metadata": {},
   "outputs": [],
   "source": [
    "from sklearn.datasets import make_classification\n",
    "?make_classification"
   ]
  },
  {
   "cell_type": "markdown",
   "id": "72cc42f9",
   "metadata": {},
   "source": [
    "#### Example 1\n",
    "\n",
    "Let's generate a binary classification problem with 10 features and 100 samples"
   ]
  },
  {
   "cell_type": "code",
   "execution_count": 94,
   "id": "d68f7e02",
   "metadata": {
    "scrolled": true
   },
   "outputs": [
    {
     "name": "stdout",
     "output_type": "stream",
     "text": [
      "(100, 10) (100,)\n"
     ]
    }
   ],
   "source": [
    "x, y = make_classification(n_samples=100, n_features=10, n_classes=2, n_clusters_per_class=1, random_state=42)\n",
    "\n",
    "# Check the created data : \n",
    "x[:5]\n",
    "y[:5]\n",
    "print(x.shape, y.shape)"
   ]
  },
  {
   "cell_type": "markdown",
   "id": "4dabfcde",
   "metadata": {},
   "source": [
    "#### Example 2\n",
    "\n",
    "Let's generate a 3-class classification problem with 10 features and 100 samples"
   ]
  },
  {
   "cell_type": "code",
   "execution_count": 82,
   "id": "310a96ab",
   "metadata": {},
   "outputs": [
    {
     "name": "stdout",
     "output_type": "stream",
     "text": [
      "(100, 10) (100,)\n"
     ]
    }
   ],
   "source": [
    "x, y = make_classification(n_samples=100, n_features=10, n_classes=3, n_clusters_per_class=1, random_state=42)\n",
    "\n",
    "# Check the created data : \n",
    "x[:5]\n",
    "y[:5]\n",
    "print(x.shape, y.shape)"
   ]
  },
  {
   "cell_type": "markdown",
   "id": "7a7aff3e",
   "metadata": {},
   "source": [
    "<br>\n",
    "\n",
    "### For Multi-Label Classification Problems"
   ]
  },
  {
   "cell_type": "markdown",
   "id": "c88569b4",
   "metadata": {},
   "source": [
    "We use `make_multilabel_classification` to generate data for multi-label classification problems"
   ]
  },
  {
   "cell_type": "code",
   "execution_count": 86,
   "id": "f327a8e1",
   "metadata": {},
   "outputs": [],
   "source": [
    "from sklearn.datasets import make_multilabel_classification\n",
    "?make_multilabel_classification"
   ]
  },
  {
   "cell_type": "markdown",
   "id": "57d138d0",
   "metadata": {},
   "source": [
    "#### Example 1\n",
    "\n",
    "Let's generate a multi-label classification problem with 10 features, 100 samples, 5 labels and on an average 2 labels per example"
   ]
  },
  {
   "cell_type": "code",
   "execution_count": 96,
   "id": "4d07d993",
   "metadata": {},
   "outputs": [
    {
     "name": "stdout",
     "output_type": "stream",
     "text": [
      "(100, 10) (100, 5)\n"
     ]
    }
   ],
   "source": [
    "x, y = make_multilabel_classification(n_samples=100, n_features=10, n_classes=5, n_labels=2, random_state=42)\n",
    "\n",
    "# Check the created data : \n",
    "x[:5]\n",
    "\n",
    "# This time label vector is a label matrix as we have more than one label\n",
    "y[:5]\n",
    "\n",
    "print(x.shape, y.shape)"
   ]
  },
  {
   "cell_type": "markdown",
   "id": "78f5319c",
   "metadata": {},
   "source": [
    "<br>\n",
    "\n",
    "### For Clustering Problems"
   ]
  },
  {
   "cell_type": "markdown",
   "id": "e7b43390",
   "metadata": {},
   "source": [
    "We use `make_blobs` to generate data for clustering problems"
   ]
  },
  {
   "cell_type": "code",
   "execution_count": 104,
   "id": "2bc4272a",
   "metadata": {},
   "outputs": [],
   "source": [
    "from sklearn.datasets import make_blobs\n",
    "?make_blobs"
   ]
  },
  {
   "cell_type": "markdown",
   "id": "0870edc2",
   "metadata": {},
   "source": [
    "#### Example 1\n",
    "\n",
    "Let's generate a random dataset with 2 features and 100 samples each for clustering"
   ]
  },
  {
   "cell_type": "code",
   "execution_count": 110,
   "id": "2f5438e2",
   "metadata": {},
   "outputs": [
    {
     "name": "stdout",
     "output_type": "stream",
     "text": [
      "(10, 2) (10,)\n"
     ]
    }
   ],
   "source": [
    "x, y = make_blobs(n_samples=10, n_features=2, centers=3, random_state=42)\n",
    "\n",
    "# Check the created data : \n",
    "x[:5]\n",
    "\n",
    "# Cluster membership of each point in y\n",
    "y[:5]\n",
    "\n",
    "print(x.shape, y.shape)"
   ]
  }
 ],
 "metadata": {
  "kernelspec": {
   "display_name": "Python 3 (ipykernel)",
   "language": "python",
   "name": "python3"
  },
  "language_info": {
   "codemirror_mode": {
    "name": "ipython",
    "version": 3
   },
   "file_extension": ".py",
   "mimetype": "text/x-python",
   "name": "python",
   "nbconvert_exporter": "python",
   "pygments_lexer": "ipython3",
   "version": "3.9.7"
  }
 },
 "nbformat": 4,
 "nbformat_minor": 5
}

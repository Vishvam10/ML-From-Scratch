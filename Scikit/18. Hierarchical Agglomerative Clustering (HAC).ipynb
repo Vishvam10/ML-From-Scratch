{
 "cells": [
  {
   "cell_type": "markdown",
   "id": "b03e42b4",
   "metadata": {},
   "source": [
    "# Hierarchical Agglomerative Clustering (HAC)\n",
    "\n",
    "- It starts by considering each datum as a cluster and then combines closest clusters to form larger clusters. This is **bottoms up approach**\n",
    "- There is an **alternate approach**, which is the **top down approach**, where the entire data is considered as a single cluster, which is divided to form smaller clusters in each step\n",
    "\n",
    "The merging and splitting decisions are influenced by certain conditions\n",
    "\n",
    "\n",
    "## Metric\n",
    "\n",
    "Certain metrics are used for calculating similarity between clusters. Note that metric is a generalization of concept of distance. The metrics follow certain properties like :\n",
    "\n",
    "- Non-negative\n",
    "- Symmetric\n",
    "- Follows triangle inequality\n",
    "\n",
    "Some of the popular metric function are :\n",
    "\n",
    "1. **Euclidean :**\n",
    "\n",
    "> $d(\\textbf x^{(i)} \\textbf x^{(j)}) = \\sqrt{ \\sum \\limits_{l=1}^{m}(\\textbf x_l^{(i)} - \\textbf x_l^{(j)})^2} $\n",
    "\n",
    "\n",
    "2. **Manhattan :**\n",
    "\n",
    "> $d(\\textbf x^{(i)} \\textbf x^{(j)}) = \\sum \\limits_{l=1}^{m}| (\\textbf x_l^{(i)} - \\textbf x_l^{(j)})^2 | $\n",
    "\n",
    "\n",
    "3. **Cosine Distance :**\n",
    "\n",
    "> $d(\\textbf x^{(i)} \\textbf x^{(j)}) = 1 - \\frac {\\textbf x^{(i)} \\textbf x^{(j)})} {||\\textbf x^{(i)}|| \\ || \\textbf x^{(j)}||}  = 1 - \\cos(\\theta)$\n",
    "\n",
    "\n",
    "## Linkage\n",
    "\n",
    "Linkage is a strategy for aggregating clusters.\n",
    "\n",
    "There are 4 linkages that we will study :\n",
    "- Simple Linkage\n",
    "- Average Linkage\n",
    "- Complete Linkage\n",
    "- Ward's Linkage\n",
    "\n",
    "1. **Simple Linkage :** \n",
    "\n",
    "This criterion merges cluster based on the **shorted distance over all possible pairs**. That is :\n",
    "\n",
    "> $ (\\{{\\textbf x_{r_1}^{(i)}\\}}_{i=1}^{|r_1|}, \\{{\\textbf x_{r_2}^{(j)}\\}}_{j=1}^{|r_2|}) = \\min_{i,j} d(\\textbf x_{r_1}^{(i)}, \\textbf x_{r_2}^{(j)})$\n",
    "\n",
    "2. **Complete Linkage :**\n",
    "\n",
    "This merges clusters to **minimize the maximum distance between the clusters** (in other words, the distance of the furthest elements)\n",
    "\n",
    "> $ (\\{{\\textbf x_{r_1}^{(i)}\\}}_{i=1}^{|r_1|}, \\{{\\textbf x_{r_2}^{(j)}\\}}_{j=1}^{|r_2|}) = \\max_{i,j} d(\\textbf x_{r_1}^{(i)}, \\textbf x_{r_2}^{(j)})$\n",
    "\n",
    "3. **Average Linkage :**\n",
    "\n",
    "This uses **average distances over all possible pairs between the groups** for merging clusters\n",
    "\n",
    "> $ (\\{{\\textbf x_{r_1}^{(i)}\\}}_{i=1}^{|r_1|}, \\{{\\textbf x_{r_2}^{(j)}\\}}_{j=1}^{|r_2|}) = \\frac {1} {|r1| \\ |r2|} \\sum \\limits_{i=1}^{|r_1|} \\sum \\limits_{j=1}^{|r_2|} d(\\textbf x_{r_1}^{(i)}, \\textbf x_{r_2}^{(j)})$\n",
    "\n",
    "4. **Ward's Linkage :**\n",
    "\n",
    "This computes **the sum of squared distances within the clusters**\n",
    "\n",
    "> $ (\\{{\\textbf x_{r_1}^{(i)}\\}}_{i=1}^{|r_1|}, \\{{\\textbf x_{r_2}^{(j)}\\}}_{j=1}^{|r_2|}) = \\sum \\limits_{i=1}^{|r_1|} \\sum \\limits_{j=1}^{|r_2|} ||\\textbf x_{r_1}^{(i)}, \\textbf x_{r_2}^{(j)}||^2$\n",
    "\n",
    "\n",
    "## Algorithm\n",
    "\n",
    "1. Calculate the distance matrix between pair of clusters\n",
    "2. While all the objects are clustered into one :\n",
    "    - Detect the 2 closest groups (clusters) and merge them\n",
    "\n",
    "\n",
    "## Dendrogram\n",
    "\n",
    "Dendrograms are a graphical representation of the agglomerative process which show how aggregration happens at each level. \n",
    "\n",
    "\n",
    "## Implementation\n",
    "HACs are implemented in `sklearn.cluster` module as `AgglomerativeClustering` class"
   ]
  },
  {
   "cell_type": "markdown",
   "id": "5eac4cd4",
   "metadata": {},
   "source": [
    "## Demonstration of Working of HAC"
   ]
  },
  {
   "cell_type": "code",
   "execution_count": 2,
   "id": "2ce614c9",
   "metadata": {},
   "outputs": [],
   "source": [
    "import numpy as np\n",
    "import matplotlib.pyplot as plt\n",
    "\n",
    "from sklearn.preprocessing import normalize"
   ]
  },
  {
   "cell_type": "code",
   "execution_count": 3,
   "id": "f73b6c14",
   "metadata": {},
   "outputs": [
    {
     "data": {
      "image/png": "[encoded data removed]",
      "text/plain": [
       "<Figure size 432x288 with 1 Axes>"
      ]
     },
     "metadata": {
      "needs_background": "light"
     },
     "output_type": "display_data"
    }
   ],
   "source": [
    "X = np.array([(8,3), (5,3), (6,4), (1,6), (2,8)])\n",
    "scaled_X = normalize(X)\n",
    "\n",
    "plt.scatter(X[:, 0], X[:, 1])\n",
    "plt.show()"
   ]
  },
  {
   "cell_type": "markdown",
   "id": "5186fe18",
   "metadata": {},
   "source": [
    "Let's plot the dendrogram with `scipy.cluster.hierarchy` library "
   ]
  },
  {
   "cell_type": "code",
   "execution_count": 4,
   "id": "10a3db4e",
   "metadata": {},
   "outputs": [],
   "source": [
    "import scipy.cluster.hierarchy as shc"
   ]
  },
  {
   "cell_type": "code",
   "execution_count": 7,
   "id": "e03b20d3",
   "metadata": {},
   "outputs": [
    {
     "data": {
      "image/png": "[encoded data removed]",
      "text/plain": [
       "<Figure size 576x576 with 1 Axes>"
      ]
     },
     "metadata": {
      "needs_background": "light"
     },
     "output_type": "display_data"
    }
   ],
   "source": [
    "plt.figure(figsize=(8, 8))\n",
    "plt.title(\"Dendrogram\")\n",
    "\n",
    "dend = shc.dendrogram(shc.linkage(scaled_X, method=\"ward\"))"
   ]
  }
 ],
 "metadata": {
  "kernelspec": {
   "display_name": "Python 3 (ipykernel)",
   "language": "python",
   "name": "python3"
  },
  "language_info": {
   "codemirror_mode": {
    "name": "ipython",
    "version": 3
   },
   "file_extension": ".py",
   "mimetype": "text/x-python",
   "name": "python",
   "nbconvert_exporter": "python",
   "pygments_lexer": "ipython3",
   "version": "3.9.7"
  }
 },
 "nbformat": 4,
 "nbformat_minor": 5
}

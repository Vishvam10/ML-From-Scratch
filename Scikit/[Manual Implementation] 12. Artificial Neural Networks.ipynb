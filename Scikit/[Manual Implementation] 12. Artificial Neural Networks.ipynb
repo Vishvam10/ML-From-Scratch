{
 "cells": [
  {
   "cell_type": "markdown",
   "id": "6a67323f",
   "metadata": {},
   "source": [
    "# Artificial Neural Networks"
   ]
  },
  {
   "cell_type": "code",
   "execution_count": 2,
   "id": "ad7d9c63",
   "metadata": {},
   "outputs": [],
   "source": [
    "import numpy as np\n",
    "seed = 42\n",
    "rng = np.random.default_rng(seed=seed)"
   ]
  },
  {
   "cell_type": "markdown",
   "id": "8cd5053a",
   "metadata": {},
   "source": [
    "## Network Class\n",
    "\n",
    "We shall start writing the `Network` class. The two methods that are indispensable for any ML class are :\n",
    "- `fit`\n",
    "- `predict`\n",
    "\n",
    "Fitting a neural network model requires us to compute two passes on the data :\n",
    "- `forward`\n",
    "- `backward`\n",
    "\n",
    "We need to start at some place by initializing the network and various hyperparameters and this requires an `init` method :\n",
    "- `init`\n",
    "\n",
    "In most of these methods, we would have to take the help of certain helper functions :\n",
    "- `activations`\n",
    "- `losses`\n",
    "\n",
    "This is the process. But we will work through it in the reverse order so that each step of the process does not have any forward references :\n",
    "`helpers -> init -> forward -> backward -> fit -> predict`\n",
    "\n",
    "The skeleton of the class is given in the code block that follows. For ease of exposition, we are going to discuss the methods on at a time and then plugh them into the class right at the end."
   ]
  },
  {
   "cell_type": "code",
   "execution_count": 3,
   "id": "f92b71f6",
   "metadata": {},
   "outputs": [],
   "source": [
    "class Network :\n",
    "    \n",
    "    def __init__(self, layers, activation_choice=\"relu\", output_choice=\"softmax\", loss_choice=\"cce\") :\n",
    "        pass\n",
    "    \n",
    "    def forward(self, X) :\n",
    "        pass\n",
    "    \n",
    "    def backward(self, Y, Y_hat) :\n",
    "        pass\n",
    "    \n",
    "    def fit(self, X, Y, lr=0.01, epochs=100, batch_size=100) :\n",
    "        pass\n",
    "    \n",
    "    def predict(self, X) :\n",
    "        pass"
   ]
  },
  {
   "cell_type": "markdown",
   "id": "af6670b2",
   "metadata": {},
   "source": [
    "## Activation Functions\n",
    "\n",
    "### Hidden Layer\n",
    "We will look at 2 functions for the hidden layers. Both of these functions will be **applied element-wise**. The input to these functions can be scalars, vectors or matrices\n",
    "\n",
    "- Sigmoid :\n",
    "$$\n",
    "    g(z) = \\frac {1} {1 + e^{-z}}\n",
    "$$\n",
    "\n",
    "Its derivative :\n",
    "\n",
    "$$\n",
    "    g'(z) = g(z)(1 - g(z))\n",
    "$$\n",
    "\n",
    "- ReLU ( Rectified Linear Unit ) :\n",
    "$$\n",
    "    g(x)=\\begin{cases}\n",
    "    z, & z \\ge 0 \\\\ \n",
    "    0, & z<0\n",
    "    \\end{cases}\n",
    "$$\n",
    "\n",
    "Its derivative :\n",
    "\n",
    "$$\n",
    "    g'(x)=\\begin{cases}\n",
    "    1, & z \\ge 0 \\\\ \n",
    "    0, & z<0\n",
    "    \\end{cases}\n",
    "$$\n"
   ]
  },
  {
   "cell_type": "code",
   "execution_count": 4,
   "id": "4ae5ffb3",
   "metadata": {},
   "outputs": [],
   "source": [
    "def sigmoid(z) :\n",
    "    return 1 / (1 + np.exp(-z))\n",
    "\n",
    "def grad_sigmoid(z) :\n",
    "    return sigmoid(z) * (1 - sigmoid(z))\n",
    "\n",
    "def relu(z) :\n",
    "    return np.where(z >= 0, z, 0)\n",
    "\n",
    "def grad_relu(z) :\n",
    "    return np.where(z >= 0, 1, 0)\n",
    "\n",
    "\n",
    "# A dictionary of activation functions will be used while initializing the network\n",
    "hidden_act = {\"sigmoid\" : sigmoid, \"relu\": relu}\n",
    "grad_hiddent_act = {\"sigmoid\": grad_sigmoid, \"relu\": grad_relu}"
   ]
  },
  {
   "cell_type": "markdown",
   "id": "173c9d32",
   "metadata": {},
   "source": [
    "## Output Layer\n",
    "We will look at 2 activation functions for the output layer :\n",
    "    \n",
    "- Identity ( For regression )\n",
    "$$\n",
    "    g(z) = z\n",
    "$$\n",
    "\n",
    "- Softmax ( For classification ) :\n",
    "The input to the softmax function will always be a matrix of size $n$ x $k$. Since we need a probability distribution for each data point, **the softmax will be computed row-wise**\n",
    "\n",
    "$$\n",
    "    g(\\textbf Z) = \n",
    "    \\begin{pmatrix}\n",
    "    ... & ... & ... \\\\\n",
    "    ... & \\frac {e^{Z_{ij}}} {\\sum \\limits_{j=1}^{k} e^{Z_{ij}}} & ... \\\\\n",
    "    ... & ... & ... \\\\\n",
    "    \\end{pmatrix}\n",
    "$$\n",
    "\n",
    "**To avoid overflow, we will subtract the row-wise maximum from each row while computing the softmax**"
   ]
  },
  {
   "cell_type": "code",
   "execution_count": null,
   "id": "0189d9a6",
   "metadata": {},
   "outputs": [],
   "source": [
    "def identity(z) :\n",
    "    return z\n",
    "\n",
    "def softmax(z) :\n",
    "    \"\"\"\n",
    "    Row-wise softmax\n",
    "    \"\"\"\n",
    "    # Check if z is a matrix\n",
    "    assert z.ndim == 2\n",
    "    \n",
    "    # To prevent overflow, subtract row-wise maximum\n",
    "    z -= z.max(acis=1, keepdims=True)\n",
    "    \n",
    "    # Compute row-wise softmax\n",
    "    prob = np.exp(z) / np.exp(z).sum(axis=1, keep)"
   ]
  },
  {
   "cell_type": "code",
   "execution_count": null,
   "id": "90874d85",
   "metadata": {},
   "outputs": [],
   "source": []
  },
  {
   "cell_type": "code",
   "execution_count": null,
   "id": "f2a3e3da",
   "metadata": {},
   "outputs": [],
   "source": []
  },
  {
   "cell_type": "code",
   "execution_count": null,
   "id": "666fe2ed",
   "metadata": {},
   "outputs": [],
   "source": []
  },
  {
   "cell_type": "code",
   "execution_count": null,
   "id": "78781c11",
   "metadata": {},
   "outputs": [],
   "source": []
  },
  {
   "cell_type": "code",
   "execution_count": null,
   "id": "ae9ef91d",
   "metadata": {},
   "outputs": [],
   "source": []
  },
  {
   "cell_type": "code",
   "execution_count": null,
   "id": "0930bb64",
   "metadata": {},
   "outputs": [],
   "source": []
  },
  {
   "cell_type": "code",
   "execution_count": null,
   "id": "4eec39d8",
   "metadata": {},
   "outputs": [],
   "source": []
  },
  {
   "cell_type": "code",
   "execution_count": null,
   "id": "02c576ab",
   "metadata": {},
   "outputs": [],
   "source": []
  },
  {
   "cell_type": "code",
   "execution_count": null,
   "id": "7c632fca",
   "metadata": {},
   "outputs": [],
   "source": []
  },
  {
   "cell_type": "code",
   "execution_count": null,
   "id": "8fbe4421",
   "metadata": {},
   "outputs": [],
   "source": []
  },
  {
   "cell_type": "code",
   "execution_count": null,
   "id": "cd66e2b6",
   "metadata": {},
   "outputs": [],
   "source": []
  },
  {
   "cell_type": "code",
   "execution_count": null,
   "id": "a53677ee",
   "metadata": {},
   "outputs": [],
   "source": []
  },
  {
   "cell_type": "code",
   "execution_count": null,
   "id": "2d075c41",
   "metadata": {},
   "outputs": [],
   "source": []
  },
  {
   "cell_type": "code",
   "execution_count": null,
   "id": "e8d17b8c",
   "metadata": {},
   "outputs": [],
   "source": []
  },
  {
   "cell_type": "code",
   "execution_count": null,
   "id": "539831cb",
   "metadata": {},
   "outputs": [],
   "source": []
  },
  {
   "cell_type": "code",
   "execution_count": null,
   "id": "837c837b",
   "metadata": {},
   "outputs": [],
   "source": []
  },
  {
   "cell_type": "code",
   "execution_count": null,
   "id": "59957f46",
   "metadata": {},
   "outputs": [],
   "source": []
  },
  {
   "cell_type": "code",
   "execution_count": null,
   "id": "8b2a6ca4",
   "metadata": {},
   "outputs": [],
   "source": []
  },
  {
   "cell_type": "code",
   "execution_count": null,
   "id": "a833b616",
   "metadata": {},
   "outputs": [],
   "source": []
  },
  {
   "cell_type": "code",
   "execution_count": null,
   "id": "277d144b",
   "metadata": {},
   "outputs": [],
   "source": []
  },
  {
   "cell_type": "code",
   "execution_count": null,
   "id": "5973668a",
   "metadata": {},
   "outputs": [],
   "source": []
  },
  {
   "cell_type": "code",
   "execution_count": null,
   "id": "c549c5e2",
   "metadata": {},
   "outputs": [],
   "source": []
  },
  {
   "cell_type": "code",
   "execution_count": null,
   "id": "2d3b4429",
   "metadata": {},
   "outputs": [],
   "source": []
  },
  {
   "cell_type": "code",
   "execution_count": null,
   "id": "34356e71",
   "metadata": {},
   "outputs": [],
   "source": []
  }
 ],
 "metadata": {
  "kernelspec": {
   "display_name": "Python 3 (ipykernel)",
   "language": "python",
   "name": "python3"
  },
  "language_info": {
   "codemirror_mode": {
    "name": "ipython",
    "version": 3
   },
   "file_extension": ".py",
   "mimetype": "text/x-python",
   "name": "python",
   "nbconvert_exporter": "python",
   "pygments_lexer": "ipython3",
   "version": "3.9.7"
  }
 },
 "nbformat": 4,
 "nbformat_minor": 5
}

{
 "cells": [
  {
   "cell_type": "markdown",
   "id": "37e2b4f7",
   "metadata": {},
   "source": [
    "# Stochastic Gradient Descent (SGD) Regressor\n",
    "\n",
    "- [Baseline SGDR](#BSGDR)\n",
    "- [Step-Wise Training of SGDR](#\"SWTSGDR\")\n",
    "- [Finding the Best eta0](#FETA0)\n",
    "- [SGD Regressors With Different Types of Learning Rate](#SGDRLR)"
   ]
  },
  {
   "cell_type": "code",
   "execution_count": 5,
   "id": "6ed3af62",
   "metadata": {},
   "outputs": [],
   "source": [
    "import numpy as np\n",
    "import pandas as pd\n",
    "import matplotlib.pyplot as plt\n",
    "import seaborn as sns\n",
    "\n",
    "from sklearn.datasets import fetch_california_housing\n",
    "from sklearn.linear_model import SGDRegressor\n",
    "\n",
    "from sklearn.model_selection import train_test_split, cross_validate, cross_val_score, learning_curve, ShuffleSplit, validation_curve\n",
    "\n",
    "from sklearn.metrics import mean_squared_error, mean_absolute_error\n",
    "\n",
    "from sklearn.pipeline import Pipeline\n",
    "from sklearn.preprocessing import StandardScaler\n",
    "\n",
    "np.random.seed(306)\n",
    "plt.style.use('seaborn')"
   ]
  },
  {
   "cell_type": "code",
   "execution_count": 9,
   "id": "075395c1",
   "metadata": {},
   "outputs": [
    {
     "name": "stdout",
     "output_type": "stream",
     "text": [
      "Shape of feature matrix is :  (20640, 8)\n",
      "Shape of label vector is :  (20640,)\n",
      "\n",
      "Complete training samples :  (15480, 8)\n",
      "Test samples :  (5160, 8)\n"
     ]
    }
   ],
   "source": [
    "features, labels = fetch_california_housing(as_frame=True, return_X_y=True)\n",
    "print(\"Shape of feature matrix is : \", features.shape)\n",
    "print(\"Shape of label vector is : \", labels.shape)\n",
    "\n",
    "com_train_features, test_features, com_train_labels, test_labels = train_test_split(features, labels, random_state=42)\n",
    "print(\"\\nComplete training samples : \", com_train_features.shape)\n",
    "print(\"Test samples : \", test_features.shape)"
   ]
  },
  {
   "cell_type": "markdown",
   "id": "dafe41fa",
   "metadata": {},
   "source": [
    "**Complete training set is further divided into *train* and *dev* (used to tune hyper-parameters)**"
   ]
  },
  {
   "cell_type": "code",
   "execution_count": 10,
   "id": "848a8f3d",
   "metadata": {},
   "outputs": [
    {
     "name": "stdout",
     "output_type": "stream",
     "text": [
      "Training samples :  (11610, 8)\n",
      "Dev samples :  (3870, 8)\n",
      "Test samples :  (5160, 8)\n"
     ]
    }
   ],
   "source": [
    "train_features, dev_features, train_labels, dev_labels = train_test_split(com_train_features, com_train_labels, random_state=42)\n",
    "print(\"Training samples : \", train_features.shape)\n",
    "print(\"Dev samples : \", dev_features.shape)\n",
    "print(\"Test samples : \", test_features.shape)"
   ]
  },
  {
   "cell_type": "markdown",
   "id": "6d65fbb7",
   "metadata": {},
   "source": [
    "## <a id=\"BSGDR\"></a>Baseline SGDRegressor"
   ]
  },
  {
   "cell_type": "code",
   "execution_count": 19,
   "id": "54a056e7",
   "metadata": {},
   "outputs": [
    {
     "name": "stdout",
     "output_type": "stream",
     "text": [
      "309190327803747.2 311959782899622.1\n"
     ]
    }
   ],
   "source": [
    "sgd = SGDRegressor(random_state=42)\n",
    "sgd.fit(train_features, train_labels)\n",
    "\n",
    "y_train = train_labels\n",
    "y_dev = dev_labels\n",
    "y_pred_train = sgd.predict(train_features)\n",
    "y_pred_dev = sgd.predict(dev_features)\n",
    "\n",
    "train_mae = mean_absolute_error(y_train, y_pred_train)\n",
    "dev_mae = mean_absolute_error(y_dev, y_pred_dev)\n",
    "\n",
    "print(train_mae, dev_mae)"
   ]
  },
  {
   "cell_type": "markdown",
   "id": "e4534376",
   "metadata": {},
   "source": [
    "Errors are too high, perhaps due to large learning rate. Let's try with a feature scaling step before fitting the model"
   ]
  },
  {
   "cell_type": "code",
   "execution_count": 12,
   "id": "033c84fb",
   "metadata": {},
   "outputs": [],
   "source": [
    "sgd_pipeline = Pipeline([(\"feature_scaling\", StandardScaler()),\n",
    "                             (\"sgd\", SGDRegressor(random_state=42))])"
   ]
  },
  {
   "cell_type": "code",
   "execution_count": 20,
   "id": "2ffb1403",
   "metadata": {},
   "outputs": [
    {
     "name": "stdout",
     "output_type": "stream",
     "text": [
      "0.7263733471565367 1.0129611556669136\n"
     ]
    }
   ],
   "source": [
    "sgd_pipeline.fit(train_features, train_labels)\n",
    "\n",
    "y_train = train_labels\n",
    "y_dev = dev_labels\n",
    "y_pred_train = sgd_pipeline.predict(train_features)\n",
    "y_pred_dev = sgd_pipeline.predict(dev_features)\n",
    "\n",
    "train_mae = mean_absolute_error(y_train, y_pred_train)\n",
    "dev_mae = mean_absolute_error(y_dev, y_pred_dev)\n",
    "\n",
    "print(train_mae, dev_mae)"
   ]
  },
  {
   "cell_type": "markdown",
   "id": "a63d38e9",
   "metadata": {},
   "source": [
    "## <a id=\"SWTSGDR\"></a>Step-Wise Training of SGDRegressor"
   ]
  },
  {
   "cell_type": "code",
   "execution_count": 28,
   "id": "365e4007",
   "metadata": {},
   "outputs": [],
   "source": [
    "eta0 = 1e-2\n",
    "sgd_pipeline = Pipeline([(\"feature_scaling\", StandardScaler()), (\"sgd\", SGDRegressor(max_iter=1, warm_start=True, random_state=42))])"
   ]
  },
  {
   "cell_type": "code",
   "execution_count": 29,
   "id": "f70ad28d",
   "metadata": {},
   "outputs": [
    {
     "data": {
      "text/plain": [
       "Text(0.5, 1.0, 'Learning curve : eta0=0.01')"
      ]
     },
     "execution_count": 29,
     "metadata": {},
     "output_type": "execute_result"
    },
    {
     "data": {
      "image/png": "[encoded data removed]",
      "text/plain": [
       "<Figure size 576x396 with 1 Axes>"
      ]
     },
     "metadata": {},
     "output_type": "display_data"
    }
   ],
   "source": [
    "import warnings\n",
    "warnings.filterwarnings(\"ignore\")\n",
    "\n",
    "loss = []\n",
    "for epoch in range(100):\n",
    "    sgd_pipeline.fit(train_features, train_labels)\n",
    "    loss.append(mean_squared_error(train_labels, sgd_pipeline.predict(train_features)))\n",
    "\n",
    "plt.plot(np.arange(len(loss)), loss, 'b-')\n",
    "plt.xlabel('Iteration#')\n",
    "plt.ylabel('MSE')\n",
    "plot_title = \"Learning curve : eta0={}\".format(eta0)\n",
    "plt.title(plot_title)"
   ]
  },
  {
   "cell_type": "markdown",
   "id": "a18cbb7b",
   "metadata": {},
   "source": [
    "Let's reduce the training rate"
   ]
  },
  {
   "cell_type": "code",
   "execution_count": 30,
   "id": "313ea9a3",
   "metadata": {},
   "outputs": [
    {
     "data": {
      "text/plain": [
       "Text(0.5, 1.0, 'Learning curve: eta0=0.001')"
      ]
     },
     "execution_count": 30,
     "metadata": {},
     "output_type": "execute_result"
    },
    {
     "data": {
      "image/png": "[encoded data removed]",
      "text/plain": [
       "<Figure size 576x396 with 1 Axes>"
      ]
     },
     "metadata": {},
     "output_type": "display_data"
    }
   ],
   "source": [
    "eta0 = 1e-3\n",
    "sgd_pipeline = Pipeline([(\"feature_scaling\", StandardScaler()),\n",
    "                             (\"sgd\", SGDRegressor(max_iter=1, warm_start=True, eta0=eta0, random_state=42))])\n",
    "\n",
    "loss = []\n",
    "for epoch in range(100):\n",
    "    sgd_pipeline.fit(train_features, train_labels)\n",
    "    loss.append(mean_squared_error(train_labels, sgd_pipeline.predict(train_features)))\n",
    "\n",
    "plt.plot(np.arange(len(loss)), loss, 'b-')\n",
    "plt.xlabel('Iteration#')\n",
    "plt.ylabel('MSE')\n",
    "plt.title(f'Learning curve: eta0={eta0}')"
   ]
  },
  {
   "cell_type": "markdown",
   "id": "27778c89",
   "metadata": {},
   "source": [
    "This is an ideal learning curve as the training loss reduces monotonically, as the training progresses"
   ]
  },
  {
   "cell_type": "code",
   "execution_count": 31,
   "id": "378cb9bc",
   "metadata": {},
   "outputs": [
    {
     "name": "stdout",
     "output_type": "stream",
     "text": [
      "No of iterations before reaching convergence :  1\n",
      "No of weight updates :  11611.0\n"
     ]
    }
   ],
   "source": [
    "print(\"No of iterations before reaching convergence : \", sgd_pipeline[-1].n_iter_)\n",
    "print(\"No of weight updates : \", sgd_pipeline[-1].t_)"
   ]
  },
  {
   "cell_type": "markdown",
   "id": "a809ef8d",
   "metadata": {},
   "source": [
    "## <a id=\"FETA0\"></a>Finding the best eta0 using `validation_curve`\n",
    "The `validation_curve()` function determines training and test scores for varying parameter values."
   ]
  },
  {
   "cell_type": "code",
   "execution_count": 33,
   "id": "f8234abf",
   "metadata": {
    "scrolled": true
   },
   "outputs": [],
   "source": [
    "shuffle_split_cv = ShuffleSplit(n_splits=10, test_size=0.2, random_state=0)\n",
    "\n",
    "eta0 = [1e-5, 1e-4, 1e-3, 1e-2]\n",
    "train_scores, test_scores = validation_curve(sgd_pipeline, com_train_features, com_train_labels, cv=shuffle_split_cv, \n",
    "                                             param_name='sgd__eta0', param_range=eta0, scoring='neg_mean_squared_error')\n",
    "train_errors, test_errors = -train_scores, -test_scores"
   ]
  },
  {
   "cell_type": "code",
   "execution_count": 34,
   "id": "ef2d2308",
   "metadata": {},
   "outputs": [
    {
     "data": {
      "text/plain": [
       "Text(0.5, 1.0, 'Validation curve for SGD')"
      ]
     },
     "execution_count": 34,
     "metadata": {},
     "output_type": "execute_result"
    },
    {
     "data": {
      "image/png": "[encoded data removed]",
      "text/plain": [
       "<Figure size 576x396 with 1 Axes>"
      ]
     },
     "metadata": {},
     "output_type": "display_data"
    }
   ],
   "source": [
    "plt.plot(eta0, train_errors.mean(axis=1), 'b-x', label='Training error')\n",
    "plt.plot(eta0, test_errors.mean(axis=1), 'r-x', label='Test error')\n",
    "plt.legend()\n",
    "\n",
    "plt.xlabel('eta0')\n",
    "plt.ylabel('Mean squared error')\n",
    "plt.title('Validation curve for SGD')"
   ]
  },
  {
   "cell_type": "markdown",
   "id": "1397a873",
   "metadata": {},
   "source": [
    "Since **test error is least** at 0.001, it's the best value for eta0"
   ]
  },
  {
   "cell_type": "markdown",
   "id": "d51f503f",
   "metadata": {},
   "source": [
    "## <a id=\"SGDRLR\"></a> SGD Regressors With Differnet Types of Learning Rate\n",
    "Just tweak the `learning_rate` parameter"
   ]
  },
  {
   "cell_type": "markdown",
   "id": "05da02a7",
   "metadata": {},
   "source": [
    "### SGDRegressor (using the inverse scaling learning rate)"
   ]
  },
  {
   "cell_type": "code",
   "execution_count": 56,
   "id": "f4402b2e",
   "metadata": {},
   "outputs": [
    {
     "name": "stdout",
     "output_type": "stream",
     "text": [
      "Training MAE :  0.5433287489797834\n",
      "Dev MAE :  0.5345612073911922\n",
      "\n",
      "No of iterations before reaching convergence :  35\n",
      "No of weight updates :  406351.0\n"
     ]
    }
   ],
   "source": [
    "sgd_pipeline = Pipeline([\n",
    "    ('feature_scaling', StandardScaler()),\n",
    "    ('sgd', SGDRegressor(max_iter=500, early_stopping=True, eta0=1e-3,tol=1e-3, validation_fraction=0.2, n_iter_no_change=5, average=10, random_state=42))\n",
    "])\n",
    "\n",
    "sgd_pipeline.fit(train_features, train_labels)\n",
    "\n",
    "y_train = train_labels\n",
    "y_dev = dev_labels\n",
    "y_pred_train = sgd_pipeline.predict(train_features)\n",
    "y_pred_dev = sgd_pipeline.predict(dev_features)\n",
    "\n",
    "train_mae = mean_absolute_error(y_train, y_pred_train)\n",
    "dev_mae = mean_absolute_error(y_dev, y_pred_dev)\n",
    "print(\"Training MAE : \", train_mae)\n",
    "print(\"Dev MAE : \", dev_mae)\n",
    "print(\"\\nNo of iterations before reaching convergence : \", sgd_pipeline[-1].n_iter_)\n",
    "print(\"No of weight updates : \", sgd_pipeline[-1].t_)"
   ]
  },
  {
   "cell_type": "markdown",
   "id": "1da59759",
   "metadata": {},
   "source": [
    "### SGDRegressor (using the constant learning rate)"
   ]
  },
  {
   "cell_type": "code",
   "execution_count": 57,
   "id": "24a64000",
   "metadata": {},
   "outputs": [
    {
     "name": "stdout",
     "output_type": "stream",
     "text": [
      "Training MAE :  0.5528203432984674\n",
      "Dev MAE :  0.5689568216133667\n",
      "\n",
      "No of iterations before reaching convergence :  11\n",
      "No of weight updates :  127711.0\n"
     ]
    }
   ],
   "source": [
    "sgd_pipeline = Pipeline([\n",
    "    ('feature_scaling', StandardScaler()),\n",
    "    ('sgd', SGDRegressor(max_iter=500, early_stopping=True, eta0=1e-3,tol=1e-3, validation_fraction=0.2, n_iter_no_change=5, average=10, learning_rate='constant', random_state=42))\n",
    "])\n",
    "\n",
    "sgd_pipeline.fit(train_features, train_labels)\n",
    "\n",
    "y_train = train_labels\n",
    "y_dev = dev_labels\n",
    "y_pred_train = sgd_pipeline.predict(train_features)\n",
    "y_pred_dev = sgd_pipeline.predict(dev_features)\n",
    "\n",
    "train_mae = mean_absolute_error(y_train, y_pred_train)\n",
    "dev_mae = mean_absolute_error(y_dev, y_pred_dev)\n",
    "print(\"Training MAE : \", train_mae)\n",
    "print(\"Dev MAE : \", dev_mae)\n",
    "print(\"\\nNo of iterations before reaching convergence : \", sgd_pipeline[-1].n_iter_)\n",
    "print(\"No of weight updates : \", sgd_pipeline[-1].t_)"
   ]
  },
  {
   "cell_type": "markdown",
   "id": "73be716d",
   "metadata": {},
   "source": [
    "### SGDRegressor (using the adaptive learning rate)"
   ]
  },
  {
   "cell_type": "code",
   "execution_count": 59,
   "id": "a8cd218d",
   "metadata": {},
   "outputs": [
    {
     "name": "stdout",
     "output_type": "stream",
     "text": [
      "Training MAE :  0.5375525445454805\n",
      "Dev MAE :  0.5200254740759911\n",
      "\n",
      "No of iterations before reaching convergence :  40\n",
      "No of weight updates :  464401.0\n"
     ]
    }
   ],
   "source": [
    "sgd_pipeline = Pipeline([\n",
    "    ('feature_scaling', StandardScaler()),\n",
    "    ('sgd', SGDRegressor(max_iter=500, early_stopping=True, eta0=1e-3,tol=1e-3, validation_fraction=0.2, n_iter_no_change=5, average=10, learning_rate='adaptive', random_state=42))\n",
    "])\n",
    "\n",
    "sgd_pipeline.fit(train_features, train_labels)\n",
    "\n",
    "y_train = train_labels\n",
    "y_dev = dev_labels\n",
    "y_pred_train = sgd_pipeline.predict(train_features)\n",
    "y_pred_dev = sgd_pipeline.predict(dev_features)\n",
    "\n",
    "train_mae = mean_absolute_error(y_train, y_pred_train)\n",
    "dev_mae = mean_absolute_error(y_dev, y_pred_dev)\n",
    "print(\"Training MAE : \", train_mae)\n",
    "print(\"Dev MAE : \", dev_mae)\n",
    "print(\"\\nNo of iterations before reaching convergence : \", sgd_pipeline[-1].n_iter_)\n",
    "print(\"No of weight updates : \", sgd_pipeline[-1].t_)"
   ]
  },
  {
   "cell_type": "markdown",
   "id": "9548750b",
   "metadata": {},
   "source": [
    "### SGDRegressor (using the constant learning rate and optimum max_iter)"
   ]
  },
  {
   "cell_type": "code",
   "execution_count": 60,
   "id": "6a9851c6",
   "metadata": {},
   "outputs": [
    {
     "data": {
      "text/plain": [
       "65.0"
      ]
     },
     "execution_count": 60,
     "metadata": {},
     "output_type": "execute_result"
    }
   ],
   "source": [
    "max_iter = np.ceil(1e6 / com_train_features.shape[0])\n",
    "max_iter"
   ]
  },
  {
   "cell_type": "code",
   "execution_count": 61,
   "id": "681ba188",
   "metadata": {},
   "outputs": [
    {
     "name": "stdout",
     "output_type": "stream",
     "text": [
      "Training MAE :  0.5375525445454805\n",
      "Dev MAE :  0.5200254740759911\n",
      "\n",
      "No of iterations before reaching convergence :  40\n",
      "No of weight updates :  464401.0\n"
     ]
    }
   ],
   "source": [
    "sgd_pipeline = Pipeline([\n",
    "    ('feature_scaling', StandardScaler()),\n",
    "    ('sgd', SGDRegressor(max_iter=max_iter, early_stopping=True, eta0=1e-3,tol=1e-3, validation_fraction=0.2, n_iter_no_change=5, average=10, learning_rate='adaptive', random_state=42))\n",
    "])\n",
    "\n",
    "sgd_pipeline.fit(train_features, train_labels)\n",
    "\n",
    "y_train = train_labels\n",
    "y_dev = dev_labels\n",
    "y_pred_train = sgd_pipeline.predict(train_features)\n",
    "y_pred_dev = sgd_pipeline.predict(dev_features)\n",
    "\n",
    "train_mae = mean_absolute_error(y_train, y_pred_train)\n",
    "dev_mae = mean_absolute_error(y_dev, y_pred_dev)\n",
    "print(\"Training MAE : \", train_mae)\n",
    "print(\"Dev MAE : \", dev_mae)\n",
    "print(\"\\nNo of iterations before reaching convergence : \", sgd_pipeline[-1].n_iter_)\n",
    "print(\"No of weight updates : \", sgd_pipeline[-1].t_)"
   ]
  }
 ],
 "metadata": {
  "kernelspec": {
   "display_name": "Python 3 (ipykernel)",
   "language": "python",
   "name": "python3"
  },
  "language_info": {
   "codemirror_mode": {
    "name": "ipython",
    "version": 3
   },
   "file_extension": ".py",
   "mimetype": "text/x-python",
   "name": "python",
   "nbconvert_exporter": "python",
   "pygments_lexer": "ipython3",
   "version": "3.9.7"
  }
 },
 "nbformat": 4,
 "nbformat_minor": 5
}

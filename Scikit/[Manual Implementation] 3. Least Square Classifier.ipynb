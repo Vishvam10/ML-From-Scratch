{
 "cells": [
  {
   "cell_type": "markdown",
   "id": "a17cf762",
   "metadata": {},
   "source": [
    "# Least Square Classifier"
   ]
  },
  {
   "cell_type": "code",
   "execution_count": 17,
   "id": "299ef376",
   "metadata": {},
   "outputs": [],
   "source": [
    "import itertools\n",
    "import functools\n",
    "import numpy as np\n",
    "import seaborn as sns\n",
    "import matplotlib.pyplot as plt\n",
    "from sklearn.model_selection import train_test_split"
   ]
  },
  {
   "cell_type": "code",
   "execution_count": 18,
   "id": "31c0abee",
   "metadata": {},
   "outputs": [],
   "source": [
    "def combinations(x, degree):\n",
    "    return itertools.combinations_with_replacement(x, degree)\n",
    "\n",
    "def compute_new_features(items):\n",
    "    return functools.reduce(lambda x, y: x * y, items)\n",
    "\n",
    "def polynomial_transform(x, degree):\n",
    "    if x.ndim == 1:\n",
    "        x = x[:, None]\n",
    "\n",
    "    features = [np.ones(len(x))] # A list of np-arrays with all 1.\n",
    "\n",
    "    for degree in range(1, degree + 1):\n",
    "        for item in combinations(x.T, degree):\n",
    "            features.append(compute_new_features(item))\n",
    "            \n",
    "    return np.asarray(features).T"
   ]
  },
  {
   "cell_type": "markdown",
   "id": "b3d8e562",
   "metadata": {},
   "source": [
    "## Classification on Data\n",
    "Create the input data. This function can add more classes to the output label, and/or add outliers to the input data."
   ]
  },
  {
   "cell_type": "code",
   "execution_count": 19,
   "id": "ff1b5caf",
   "metadata": {},
   "outputs": [],
   "source": [
    "def create_toy_data(add_outliers=False, add_class=False):\n",
    "    x0 = np.random.normal(size=50).reshape(-1,2) - 1  # # reshape(-1,2) here == reshape(25, 2)\n",
    "    x1 = np.random.normal(size=50).reshape(-1,2) + 1\n",
    "    if add_outliers:  # add 5 (pairs of (x, y)) outliers\n",
    "        x_1 = np.random.normal(size=10).reshape(-1,2) + np.array([5., 10.])\n",
    "        return np.concatenate((x0, x1, x_1)), np.concatenate((np.zeros(25), np.ones(30))).astype(int)\n",
    "    if add_class: #add 25 (pairs of (x, y) additional data)\n",
    "        x2 = np.random.normal(size=50).reshape(-1,2) + 2\n",
    "        return np.concatenate((x0, x1, x2)), np.concatenate((np.zeros(25), np.ones(25), 2 + np.zeros(25))).astype(int)\n",
    "    return np.concatenate((x0, x1)), np.concatenate((np.zeros(25), np.ones(25))).astype(int)"
   ]
  },
  {
   "cell_type": "markdown",
   "id": "626e008d",
   "metadata": {},
   "source": [
    "## Label Transfomer"
   ]
  },
  {
   "cell_type": "code",
   "execution_count": 20,
   "id": "c6a0e601",
   "metadata": {},
   "outputs": [],
   "source": [
    "class LabelTransformer(object):\n",
    "    def __init__(self, n_classes:int=None):\n",
    "        self.n_classes = n_classes\n",
    "\n",
    "    @property\n",
    "    def n_classes(self):\n",
    "        return self.__n_classes\n",
    "\n",
    "    @n_classes.setter\n",
    "    def n_classes(self, K):\n",
    "        self.__n_classes = K\n",
    "        self.__encoder = None if K is None else np.eye(K)\n",
    "    @property\n",
    "    def encoder(self):\n",
    "        return self.__encoder\n",
    "\n",
    "    def encode(self, class_indices:np.ndarray):\n",
    "        if self.n_classes is None:\n",
    "            self.n_classes = np.max(class_indices) + 1\n",
    "\n",
    "        return self.encoder[class_indices]\n",
    "\n",
    "    def decode(self, onehot:np.ndarray):\n",
    "        return np.argmax(onehot, axis=1)"
   ]
  },
  {
   "cell_type": "code",
   "execution_count": 21,
   "id": "183ac514",
   "metadata": {},
   "outputs": [
    {
     "name": "stdout",
     "output_type": "stream",
     "text": [
      "2\n",
      "[[1. 0.]\n",
      " [0. 1.]\n",
      " [1. 0.]\n",
      " [0. 1.]]\n"
     ]
    }
   ],
   "source": [
    "l = LabelTransformer(2)\n",
    "print(l.n_classes)\n",
    "print(l.encoder[[0,1,0,1]])"
   ]
  },
  {
   "cell_type": "markdown",
   "id": "b0ef32de",
   "metadata": {},
   "source": [
    "**Here's an alternative (and much simpler) logic for encoder**"
   ]
  },
  {
   "cell_type": "code",
   "execution_count": 22,
   "id": "cb2a6e86",
   "metadata": {},
   "outputs": [
    {
     "data": {
      "text/plain": [
       "array([[0., 1., 0., 0., 0.],\n",
       "       [0., 0., 1., 0., 0.],\n",
       "       [0., 0., 0., 1., 0.],\n",
       "       [0., 0., 0., 0., 1.]])"
      ]
     },
     "execution_count": 22,
     "metadata": {},
     "output_type": "execute_result"
    }
   ],
   "source": [
    "def encode(arr):\n",
    "    encoded = np.zeros((arr.size, arr.max() + 1))\n",
    "    encoded[np.arange(arr.size), arr] = 1\n",
    "    return encoded\n",
    "\n",
    "arr = np.array([1, 2, 3,4])\n",
    "encode(arr)"
   ]
  },
  {
   "cell_type": "code",
   "execution_count": 23,
   "id": "327cdac3",
   "metadata": {},
   "outputs": [],
   "source": [
    "def preprocess(add_class=False, add_outliers=False, degree=1):\n",
    "    x, y = create_toy_data(add_outliers, add_class)\n",
    "    x_poly = polynomial_transform(x, degree=degree)\n",
    "    x_train, x_test, y_train, y_test = train_test_split(x_poly, y) \n",
    "    y_train_trans = LabelTransformer().encode(y_train)\n",
    "    y_test_trans = LabelTransformer().encode(y_test)\n",
    "    return x_train , x_test, y_train, y_test, y_train_trans, y_test_trans "
   ]
  },
  {
   "cell_type": "code",
   "execution_count": 24,
   "id": "b6511a38",
   "metadata": {},
   "outputs": [],
   "source": [
    "sns.set_context(context='notebook',font_scale=1.5,rc={\"lines.linewidth\":2.5})\n",
    "\n",
    "def visualize_model(X_train, labels, lsc, degree=1):\n",
    "    f = plt.figure(figsize=(8,8))\n",
    "\n",
    "    x1_min = np.min(x_train[:,1])\n",
    "    x1_max = np.max(x_train[:,1])\n",
    "    x2_min = np.min(x_train[:,2])\n",
    "    x2_max = np.max(x_train[:,2])\n",
    "    \n",
    "    x1_test, x2_test = np.meshgrid(np.linspace(x1_min, x1_max, 100), np.linspace(x2_min, x2_max, 100)) \n",
    "    x_test = np.array([x1_test, x2_test]).reshape(2,-1).T\n",
    "    x_test_poly = polynomial_transform(x_test, degree=degree)\n",
    "    y_test = lsc.predict(x_test_poly)\n",
    "    \n",
    "    sns.scatterplot(data=x_train, x=x_train[:,1], y=x_train[:,2], hue=labels)\n",
    "    plt.contourf(x1_test, x2_test, y_test.reshape(100,100), alpha=0.5, levels=np.linspace(0,1,3))\n",
    "    plt.gca().set_aspect('equal', adjustable='box')"
   ]
  },
  {
   "cell_type": "markdown",
   "id": "b6756794",
   "metadata": {},
   "source": [
    "## Least Square Classification Algorithm - `LeastSquareClassification()`"
   ]
  },
  {
   "cell_type": "code",
   "execution_count": 32,
   "id": "14315c4c",
   "metadata": {},
   "outputs": [],
   "source": [
    " class LeastSquareClassification(object):\n",
    "    def __init__(self):\n",
    "        self.t0=20\n",
    "        self.t1=1000\n",
    "  \n",
    "    def predict(self,X):\n",
    "        return np.argmax(X @ self.w, axis=-1)\n",
    "\n",
    "    def predict_internal(self,X):\n",
    "        return X @ self.w\n",
    "  \n",
    "    def loss(self,X,y,reg_rate):\n",
    "        y_hat = self.predict_internal(X)\n",
    "        err = y_hat - y\n",
    "        return (1/2) * (err.T @ err) + (reg_rate / 2) * (self.w.T @ self.w)\n",
    "\n",
    "    def fit(self,X, y, reg_rate=0):\n",
    "        self.w = np.linalg.solve(X.T @ X + reg_rate * np.eye(X.shape[-1]), X.T@y)\n",
    "        print(X.shape, y.shape, self.w.shape)\n",
    "        return self.w\n",
    "  \n",
    "    def calculate_gradient(self, X, y, reg_rate):\n",
    "        y_hat = self.predict_internal(X)\n",
    "        return X.T @ (y_hat - y) + reg_rate * self.w\n",
    "  \n",
    "    def weight_updates(self, grad,lr):\n",
    "        return (self.w - lr*grad)\n",
    "  \n",
    "    def learning_schedule(self, t):\n",
    "        return self.t0 / (t + self.t1)\n",
    "  \n",
    "    def gd(self, X, y, num_epochs, lr, reg_rate):\n",
    "        self.w = np.zeros((X.shape[-1], y.shape[-1]))\n",
    "        self.w_all = []\n",
    "        self.err_all = []\n",
    "        for i in np.arange(0, num_epochs):\n",
    "          djdw = self.calculate_gradient(X, y, reg_rate)\n",
    "          self.w_all.append(self.w)\n",
    "          self.err_all.append(self.loss(X, y, reg_rate))\n",
    "          self.w = self.weight_updates(djdw, lr)\n",
    "        return self.w\n",
    "  \n",
    "    def sgd(self, X, y, num_epochs, reg_rate):\n",
    "        self.err_all = []\n",
    "        self.w_all = []\n",
    "        self.w=np.zeros((X.shape[-1], y.shape[-1]))\n",
    "        t=0\n",
    "        for epoch in range(num_epochs):\n",
    "          for iter in range(X.shape[0]):\n",
    "            t = t+1\n",
    "            random_index = np.random.randint(X.shape[0])\n",
    "            x1 = X[random_index:random_index+1]\n",
    "            y1 = y[random_index:random_index+1]\n",
    "\n",
    "            self.w_all.append(self.w)\n",
    "            self.err_all.append(self.loss(x1, y1, reg_rate))\n",
    "\n",
    "            djdw = self.calculate_gradient(x1, y1, reg_rate)\n",
    "            self.w = self.weight_updates(djdw, self.learning_schedule(t))\n",
    "        return self.w"
   ]
  },
  {
   "cell_type": "code",
   "execution_count": 33,
   "id": "d546738b",
   "metadata": {},
   "outputs": [
    {
     "data": {
      "text/plain": [
       "((37, 3), (37,))"
      ]
     },
     "execution_count": 33,
     "metadata": {},
     "output_type": "execute_result"
    }
   ],
   "source": [
    "x_train , x_test, y_train, y_test, y_train_trans, y_test_trans = preprocess()\n",
    "x_train.shape, y_train.shape"
   ]
  },
  {
   "cell_type": "code",
   "execution_count": 34,
   "id": "5905f5f9",
   "metadata": {},
   "outputs": [
    {
     "name": "stdout",
     "output_type": "stream",
     "text": [
      "(37, 3) (37, 2) (3, 2)\n"
     ]
    },
    {
     "data": {
      "text/plain": [
       "array([[ 0.49727914,  0.50272086],\n",
       "       [-0.14539703,  0.14539703],\n",
       "       [-0.1942026 ,  0.1942026 ]])"
      ]
     },
     "execution_count": 34,
     "metadata": {},
     "output_type": "execute_result"
    }
   ],
   "source": [
    "lsc = LeastSquareClassification()\n",
    "lsc.fit(x_train, y_train_trans, reg_rate=0)"
   ]
  },
  {
   "cell_type": "code",
   "execution_count": 35,
   "id": "00860af5",
   "metadata": {},
   "outputs": [],
   "source": [
    "assert x_train.shape[0] == y_train.shape[0], \"Not enough labels for all training samples\"\n",
    "\n",
    "assert x_test.shape[0] == y_test.shape[0], \"Not enough labels for all test samples\""
   ]
  },
  {
   "cell_type": "code",
   "execution_count": 29,
   "id": "dd64dc5b",
   "metadata": {
    "scrolled": true
   },
   "outputs": [
    {
     "data": {
      "image/png": "[encoded data removed]",
      "text/plain": [
       "<Figure size 576x576 with 1 Axes>"
      ]
     },
     "metadata": {
      "needs_background": "light"
     },
     "output_type": "display_data"
    }
   ],
   "source": [
    "visualize_model(x_train, y_train, lsc)"
   ]
  },
  {
   "cell_type": "code",
   "execution_count": 36,
   "id": "db47a72d",
   "metadata": {},
   "outputs": [],
   "source": [
    "def plot_learning_curve(err_all):\n",
    "    err = [err[1][1] for err in err_all]\n",
    "    plt.plot(np.arange(len(err)), err, 'r-')"
   ]
  },
  {
   "cell_type": "markdown",
   "id": "2f2436df",
   "metadata": {},
   "source": [
    "### Gradient Descent"
   ]
  },
  {
   "cell_type": "code",
   "execution_count": 37,
   "id": "d9de3290",
   "metadata": {},
   "outputs": [
    {
     "data": {
      "image/png": "[encoded data removed]",
      "text/plain": [
       "<Figure size 432x288 with 1 Axes>"
      ]
     },
     "metadata": {
      "needs_background": "light"
     },
     "output_type": "display_data"
    }
   ],
   "source": [
    "lsc.gd(x_train, y_train_trans, num_epochs=100, reg_rate=0, lr = 0.001)\n",
    "plot_learning_curve(lsc.err_all)"
   ]
  },
  {
   "cell_type": "code",
   "execution_count": 38,
   "id": "cb7ae600",
   "metadata": {},
   "outputs": [
    {
     "data": {
      "image/png": "[encoded data removed]",
      "text/plain": [
       "<Figure size 576x576 with 1 Axes>"
      ]
     },
     "metadata": {
      "needs_background": "light"
     },
     "output_type": "display_data"
    }
   ],
   "source": [
    "visualize_model(x_train, y_train, lsc)"
   ]
  },
  {
   "cell_type": "markdown",
   "id": "7c786093",
   "metadata": {},
   "source": [
    "### Stochastic Gradient Descent"
   ]
  },
  {
   "cell_type": "code",
   "execution_count": 40,
   "id": "ae317705",
   "metadata": {},
   "outputs": [
    {
     "data": {
      "image/png": "[encoded data removed]",
      "text/plain": [
       "<Figure size 432x288 with 1 Axes>"
      ]
     },
     "metadata": {
      "needs_background": "light"
     },
     "output_type": "display_data"
    }
   ],
   "source": [
    "lsc.sgd(x_train, y_train_trans, num_epochs=100, reg_rate=0)\n",
    "plot_learning_curve(lsc.err_all)"
   ]
  },
  {
   "cell_type": "code",
   "execution_count": 42,
   "id": "52250d8b",
   "metadata": {},
   "outputs": [
    {
     "data": {
      "image/png": "[encoded data removed]",
      "text/plain": [
       "<Figure size 576x576 with 1 Axes>"
      ]
     },
     "metadata": {
      "needs_background": "light"
     },
     "output_type": "display_data"
    }
   ],
   "source": [
    "visualize_model(x_train, y_train, lsc)"
   ]
  },
  {
   "cell_type": "markdown",
   "id": "498e6dcd",
   "metadata": {},
   "source": [
    "## Model Evaluation"
   ]
  },
  {
   "cell_type": "code",
   "execution_count": 43,
   "id": "894b84e3",
   "metadata": {},
   "outputs": [],
   "source": [
    "y_test_hat = lsc.predict(x_test)"
   ]
  },
  {
   "cell_type": "code",
   "execution_count": 45,
   "id": "b2e57b66",
   "metadata": {},
   "outputs": [
    {
     "data": {
      "text/plain": [
       "(8, 4, 0, 1)"
      ]
     },
     "execution_count": 45,
     "metadata": {},
     "output_type": "execute_result"
    }
   ],
   "source": [
    "tp = np.where((y_test == 1) & (y_test_hat == 1), 1, 0).sum()\n",
    "tn = np.where((y_test == 0) & (y_test_hat == 0), 1, 0).sum()\n",
    "fp = np.where((y_test == 0) & (y_test_hat == 1), 1, 0).sum()\n",
    "fn = np.where((y_test == 1) & (y_test_hat == 0), 1, 0).sum()\n",
    "\n",
    "tp, tn, fn, fp"
   ]
  },
  {
   "cell_type": "markdown",
   "id": "2afde27c",
   "metadata": {},
   "source": [
    "### Evaluation Metrics"
   ]
  },
  {
   "cell_type": "code",
   "execution_count": 46,
   "id": "411f995b",
   "metadata": {},
   "outputs": [],
   "source": [
    "def precision(tp, fp):\n",
    "    if (tp + fp) == 0:\n",
    "        return NaN\n",
    "    return tp / (tp + fp)\n",
    "\n",
    "def recall(tp, fn):\n",
    "    if (tp + fn) == 0:\n",
    "        return NaN\n",
    "    return tp / (tp + fn)\n",
    "\n",
    "def accuracy(tp, tn, fp, fn):\n",
    "    return (tp + tn) / (tp + tn + fp + fn)\n",
    "\n",
    "def f1_score(pr, r):\n",
    "    return 2 * ((pr * r) / (pr + r))"
   ]
  },
  {
   "cell_type": "code",
   "execution_count": 47,
   "id": "dfd437f0",
   "metadata": {},
   "outputs": [
    {
     "data": {
      "text/plain": [
       "(0.8888888888888888, 1.0, 0.9230769230769231, 0.9411764705882353)"
      ]
     },
     "execution_count": 47,
     "metadata": {},
     "output_type": "execute_result"
    }
   ],
   "source": [
    "pr = precision(tp, fp)\n",
    "r = recall(tp, fn)\n",
    "pr, r, accuracy(tp, tn, fp, fn), f1_score(pr, r)"
   ]
  },
  {
   "cell_type": "markdown",
   "id": "15ae6189",
   "metadata": {},
   "source": [
    "## Classification on Data with Outliers"
   ]
  },
  {
   "cell_type": "code",
   "execution_count": 48,
   "id": "c655b1be",
   "metadata": {},
   "outputs": [],
   "source": [
    "x_train , x_test, y_train, y_test, y_train_trans, y_test_trans = preprocess(add_outliers=True)"
   ]
  },
  {
   "cell_type": "code",
   "execution_count": 49,
   "id": "bd739de0",
   "metadata": {},
   "outputs": [],
   "source": [
    "assert x_train.shape[0] == y_train.shape[0], \"Not enough labels for all training samples\"\n",
    "\n",
    "assert x_test.shape[0] == y_test.shape[0], \"Not enough labels for all test samples\""
   ]
  },
  {
   "cell_type": "code",
   "execution_count": 50,
   "id": "4ef7fd59",
   "metadata": {},
   "outputs": [
    {
     "name": "stdout",
     "output_type": "stream",
     "text": [
      "(41, 3) (41, 2) (3, 2)\n"
     ]
    },
    {
     "data": {
      "text/plain": [
       "array([[ 0.52762668,  0.47237332],\n",
       "       [-0.19707906,  0.19707906],\n",
       "       [-0.00554581,  0.00554581]])"
      ]
     },
     "execution_count": 50,
     "metadata": {},
     "output_type": "execute_result"
    }
   ],
   "source": [
    "lsc = LeastSquareClassification()\n",
    "lsc.fit(x_train, y_train_trans, reg_rate=0)"
   ]
  },
  {
   "cell_type": "code",
   "execution_count": 51,
   "id": "d4f7bd4e",
   "metadata": {},
   "outputs": [
    {
     "data": {
      "image/png": "[encoded data removed]",
      "text/plain": [
       "<Figure size 576x576 with 1 Axes>"
      ]
     },
     "metadata": {
      "needs_background": "light"
     },
     "output_type": "display_data"
    }
   ],
   "source": [
    "visualize_model(x_train, y_train, lsc)"
   ]
  },
  {
   "cell_type": "markdown",
   "id": "75fb23d4",
   "metadata": {},
   "source": [
    "### Gradient Descent"
   ]
  },
  {
   "cell_type": "code",
   "execution_count": 53,
   "id": "80d49792",
   "metadata": {},
   "outputs": [
    {
     "data": {
      "image/png": "[encoded data removed]",
      "text/plain": [
       "<Figure size 432x288 with 1 Axes>"
      ]
     },
     "metadata": {
      "needs_background": "light"
     },
     "output_type": "display_data"
    }
   ],
   "source": [
    "lsc.gd(x_train, y_train_trans, num_epochs=100, reg_rate=0, lr = 0.001)\n",
    "plot_learning_curve(lsc.err_all)"
   ]
  },
  {
   "cell_type": "code",
   "execution_count": 54,
   "id": "93e868a1",
   "metadata": {},
   "outputs": [
    {
     "data": {
      "image/png": "[encoded data removed]",
      "text/plain": [
       "<Figure size 576x576 with 1 Axes>"
      ]
     },
     "metadata": {
      "needs_background": "light"
     },
     "output_type": "display_data"
    }
   ],
   "source": [
    "visualize_model(x_train, y_train, lsc)"
   ]
  },
  {
   "cell_type": "markdown",
   "id": "d2d700b5",
   "metadata": {},
   "source": [
    "### Stochastic Gradient Descent"
   ]
  },
  {
   "cell_type": "code",
   "execution_count": 55,
   "id": "62ec4f88",
   "metadata": {},
   "outputs": [
    {
     "data": {
      "image/png": "[encoded data removed]",
      "text/plain": [
       "<Figure size 432x288 with 1 Axes>"
      ]
     },
     "metadata": {
      "needs_background": "light"
     },
     "output_type": "display_data"
    }
   ],
   "source": [
    "lsc.sgd(x_train, y_train_trans, num_epochs=100, reg_rate=0)\n",
    "plot_learning_curve(lsc.err_all)"
   ]
  },
  {
   "cell_type": "code",
   "execution_count": 56,
   "id": "bf755259",
   "metadata": {},
   "outputs": [
    {
     "data": {
      "image/png": "[encoded data removed]",
      "text/plain": [
       "<Figure size 576x576 with 1 Axes>"
      ]
     },
     "metadata": {
      "needs_background": "light"
     },
     "output_type": "display_data"
    }
   ],
   "source": [
    "visualize_model(x_train, y_train, lsc)"
   ]
  },
  {
   "cell_type": "markdown",
   "id": "3b396fa0",
   "metadata": {},
   "source": [
    "## Classification on Data with More Than 2 Classes Per Label"
   ]
  },
  {
   "cell_type": "code",
   "execution_count": 60,
   "id": "e5025be0",
   "metadata": {},
   "outputs": [],
   "source": [
    "x_train , x_test, y_train, y_test, y_train_trans, y_test_trans = preprocess(add_class=True)"
   ]
  },
  {
   "cell_type": "code",
   "execution_count": 61,
   "id": "24877b9d",
   "metadata": {},
   "outputs": [],
   "source": [
    "assert x_train.shape[0] == y_train.shape[0], \"Not enough labels for all training samples\"\n",
    "\n",
    "assert x_test.shape[0] == y_test.shape[0], \"Not enough labels for all test samples\""
   ]
  },
  {
   "cell_type": "code",
   "execution_count": 62,
   "id": "80595ee7",
   "metadata": {},
   "outputs": [
    {
     "name": "stdout",
     "output_type": "stream",
     "text": [
      "(56, 3) (56, 3) (3, 3)\n"
     ]
    },
    {
     "data": {
      "text/plain": [
       "array([[ 0.53752702,  0.28909802,  0.17337496],\n",
       "       [-0.15648078,  0.14823883,  0.00824195],\n",
       "       [-0.0888018 , -0.07769491,  0.16649671]])"
      ]
     },
     "execution_count": 62,
     "metadata": {},
     "output_type": "execute_result"
    }
   ],
   "source": [
    "lsc = LeastSquareClassification()\n",
    "lsc.fit(x_train, y_train_trans, reg_rate=0)"
   ]
  },
  {
   "cell_type": "code",
   "execution_count": 63,
   "id": "9b31ca3e",
   "metadata": {},
   "outputs": [
    {
     "data": {
      "image/png": "[encoded data removed]",
      "text/plain": [
       "<Figure size 576x576 with 1 Axes>"
      ]
     },
     "metadata": {
      "needs_background": "light"
     },
     "output_type": "display_data"
    }
   ],
   "source": [
    "visualize_model(x_train, y_train, lsc)"
   ]
  },
  {
   "cell_type": "markdown",
   "id": "2a3b5bc4",
   "metadata": {},
   "source": [
    "### Gradient Descent"
   ]
  },
  {
   "cell_type": "code",
   "execution_count": 64,
   "id": "f7a10343",
   "metadata": {},
   "outputs": [
    {
     "data": {
      "image/png": "[encoded data removed]",
      "text/plain": [
       "<Figure size 432x288 with 1 Axes>"
      ]
     },
     "metadata": {
      "needs_background": "light"
     },
     "output_type": "display_data"
    }
   ],
   "source": [
    "lsc.gd(x_train, y_train_trans, num_epochs=100, reg_rate=0, lr = 0.001)\n",
    "plot_learning_curve(lsc.err_all)"
   ]
  },
  {
   "cell_type": "markdown",
   "id": "519647fb",
   "metadata": {},
   "source": [
    "**Using the sklearn to generate the evaluate metrics, rather than using our functions**"
   ]
  },
  {
   "cell_type": "code",
   "execution_count": 66,
   "id": "9238a5a9",
   "metadata": {},
   "outputs": [
    {
     "name": "stdout",
     "output_type": "stream",
     "text": [
      "              precision    recall  f1-score   support\n",
      "\n",
      "           0       0.67      0.80      0.73         5\n",
      "           1       0.25      0.20      0.22         5\n",
      "           2       0.78      0.78      0.78         9\n",
      "\n",
      "    accuracy                           0.63        19\n",
      "   macro avg       0.56      0.59      0.58        19\n",
      "weighted avg       0.61      0.63      0.62        19\n",
      "\n"
     ]
    }
   ],
   "source": [
    "from sklearn.metrics import classification_report\n",
    "\n",
    "y_test_predict = lsc.predict(x_test)\n",
    "print(classification_report(y_test, y_test_predict))"
   ]
  },
  {
   "cell_type": "markdown",
   "id": "f0a580c7",
   "metadata": {},
   "source": [
    "## Classification on Data that Fit Polynomial (Circle)"
   ]
  },
  {
   "cell_type": "markdown",
   "id": "7cc11bb2",
   "metadata": {},
   "source": [
    "`make_circles()` - Make a large circle containing a smaller circle in 2d"
   ]
  },
  {
   "cell_type": "code",
   "execution_count": 72,
   "id": "31a07958",
   "metadata": {},
   "outputs": [
    {
     "data": {
      "text/plain": [
       "(array([[-0.50993919,  0.61641059],\n",
       "        [-0.6472136 ,  0.4702282 ],\n",
       "        [ 0.42866144,  0.67546234],\n",
       "        [-0.5831749 , -0.54763768],\n",
       "        [ 0.72896863,  0.68454711]]),\n",
       " array([1, 1, 1, 1, 0], dtype=int64))"
      ]
     },
     "execution_count": 72,
     "metadata": {},
     "output_type": "execute_result"
    }
   ],
   "source": [
    "from sklearn.datasets import make_circles\n",
    "x, y = make_circles()\n",
    "x[:5], y[:5]"
   ]
  },
  {
   "cell_type": "code",
   "execution_count": 74,
   "id": "e88021b6",
   "metadata": {},
   "outputs": [
    {
     "data": {
      "text/plain": [
       "((75, 6), (25, 6), (75,), (25,))"
      ]
     },
     "execution_count": 74,
     "metadata": {},
     "output_type": "execute_result"
    }
   ],
   "source": [
    "x_poly = polynomial_transform(x, degree=2)\n",
    "x_train, x_test, y_train, y_test = train_test_split(x_poly, y)\n",
    "x_train.shape, x_test.shape, y_train.shape, y_test.shape"
   ]
  },
  {
   "cell_type": "code",
   "execution_count": 75,
   "id": "0c4d594c",
   "metadata": {},
   "outputs": [],
   "source": [
    "y_train_trans = LabelTransformer().encode(y_train)\n",
    "y_test_trans = LabelTransformer().encode(y_test)"
   ]
  },
  {
   "cell_type": "code",
   "execution_count": 76,
   "id": "49fff2d0",
   "metadata": {},
   "outputs": [
    {
     "data": {
      "text/plain": [
       "<AxesSubplot:>"
      ]
     },
     "execution_count": 76,
     "metadata": {},
     "output_type": "execute_result"
    },
    {
     "data": {
      "image/png": "[encoded data removed]",
      "text/plain": [
       "<Figure size 288x288 with 1 Axes>"
      ]
     },
     "metadata": {
      "needs_background": "light"
     },
     "output_type": "display_data"
    }
   ],
   "source": [
    "f = plt.figure(figsize=(4,4))\n",
    "sns.scatterplot(data=x_train, x=x_train[:,1], y=x_train[:,2], hue=y_train)"
   ]
  },
  {
   "cell_type": "code",
   "execution_count": 77,
   "id": "111b8c12",
   "metadata": {},
   "outputs": [
    {
     "name": "stdout",
     "output_type": "stream",
     "text": [
      "(75, 6) (75, 2) (6, 2)\n"
     ]
    },
    {
     "data": {
      "text/plain": [
       "array([[-1.77777778e+00,  2.77777778e+00],\n",
       "       [-1.94733887e-16,  2.35065452e-16],\n",
       "       [ 1.87616279e-16, -1.87115676e-16],\n",
       "       [ 2.77777778e+00, -2.77777778e+00],\n",
       "       [-1.03933750e-16, -7.10045015e-17],\n",
       "       [ 2.77777778e+00, -2.77777778e+00]])"
      ]
     },
     "execution_count": 77,
     "metadata": {},
     "output_type": "execute_result"
    }
   ],
   "source": [
    "lsc = LeastSquareClassification()\n",
    "lsc.fit(x_train, y_train_trans, reg_rate=0)"
   ]
  },
  {
   "cell_type": "code",
   "execution_count": 78,
   "id": "7640435c",
   "metadata": {},
   "outputs": [
    {
     "data": {
      "image/png": "[encoded data removed]",
      "text/plain": [
       "<Figure size 576x576 with 1 Axes>"
      ]
     },
     "metadata": {
      "needs_background": "light"
     },
     "output_type": "display_data"
    }
   ],
   "source": [
    "visualize_model(x_train, y_train, lsc, degree=2)"
   ]
  },
  {
   "cell_type": "markdown",
   "id": "6f21d4a3",
   "metadata": {},
   "source": [
    "**Using the sklearn to generate the evaluate metrics, rather than using our functions**"
   ]
  },
  {
   "cell_type": "code",
   "execution_count": 82,
   "id": "8d97bcb6",
   "metadata": {},
   "outputs": [
    {
     "name": "stdout",
     "output_type": "stream",
     "text": [
      "              precision    recall  f1-score   support\n",
      "\n",
      "           0       1.00      1.00      1.00        11\n",
      "           1       1.00      1.00      1.00        14\n",
      "\n",
      "    accuracy                           1.00        25\n",
      "   macro avg       1.00      1.00      1.00        25\n",
      "weighted avg       1.00      1.00      1.00        25\n",
      "\n"
     ]
    }
   ],
   "source": [
    "from sklearn.metrics import classification_report\n",
    "\n",
    "y_test_predict = lsc.predict(x_test)\n",
    "print(classification_report(y_test, y_test_predict))"
   ]
  },
  {
   "cell_type": "markdown",
   "id": "a8452913",
   "metadata": {},
   "source": [
    "## Appendix"
   ]
  },
  {
   "cell_type": "code",
   "execution_count": null,
   "id": "c3f12e1a",
   "metadata": {},
   "outputs": [],
   "source": [
    "x0 = np.random.normal(size=50).reshape(-1,2) - 1 \n",
    "print(x0.shape)"
   ]
  },
  {
   "cell_type": "code",
   "execution_count": null,
   "id": "2e85acb5",
   "metadata": {},
   "outputs": [],
   "source": [
    "x1 = np.random.normal(size=50).reshape(-1,2) + 1\n",
    "x1\n",
    "print(x1.shape)"
   ]
  },
  {
   "cell_type": "code",
   "execution_count": null,
   "id": "f55b7e33",
   "metadata": {
    "scrolled": true
   },
   "outputs": [],
   "source": [
    "x_1 = np.random.normal(size=10).reshape(-1,2) + np.array([5,10])\n",
    "print(x_1.shape)"
   ]
  },
  {
   "cell_type": "code",
   "execution_count": null,
   "id": "1b0da195",
   "metadata": {},
   "outputs": [],
   "source": [
    "res = np.concatenate((x0, x1, x_1)).reshape(-1,2)\n",
    "res.shape"
   ]
  },
  {
   "cell_type": "markdown",
   "id": "2afe6127",
   "metadata": {},
   "source": [
    "**Axis Reference**\n",
    "<img src=\"https://i.stack.imgur.com/gj5ue.jpg\">\n",
    "\n",
    "- `axis = 0` : **Row**\n",
    "- `axis = 1` : **Column**\n",
    "- `axis = -1` : **The Last Dimension**"
   ]
  },
  {
   "cell_type": "code",
   "execution_count": null,
   "id": "0cad8f29",
   "metadata": {
    "scrolled": false
   },
   "outputs": [],
   "source": [
    "x = np.array([[4,2,3], [1,0,3], [5,6,9]])\n",
    "print(\"ARRAY : \\n\", x)\n",
    "indx = np.argmax(x, axis=-1)\n",
    "# axis = -1 : it will be the last dimension.\n",
    "print(\"MAX ELEMENT INDEX : \", indx)"
   ]
  },
  {
   "cell_type": "code",
   "execution_count": null,
   "id": "f6c9be0b",
   "metadata": {},
   "outputs": [],
   "source": []
  },
  {
   "cell_type": "code",
   "execution_count": null,
   "id": "1f722147",
   "metadata": {},
   "outputs": [],
   "source": []
  },
  {
   "cell_type": "code",
   "execution_count": null,
   "id": "9d16067d",
   "metadata": {},
   "outputs": [],
   "source": []
  },
  {
   "cell_type": "code",
   "execution_count": null,
   "id": "4c8921b0",
   "metadata": {},
   "outputs": [],
   "source": []
  }
 ],
 "metadata": {
  "kernelspec": {
   "display_name": "Python 3 (ipykernel)",
   "language": "python",
   "name": "python3"
  },
  "language_info": {
   "codemirror_mode": {
    "name": "ipython",
    "version": 3
   },
   "file_extension": ".py",
   "mimetype": "text/x-python",
   "name": "python",
   "nbconvert_exporter": "python",
   "pygments_lexer": "ipython3",
   "version": "3.9.7"
  }
 },
 "nbformat": 4,
 "nbformat_minor": 5
}

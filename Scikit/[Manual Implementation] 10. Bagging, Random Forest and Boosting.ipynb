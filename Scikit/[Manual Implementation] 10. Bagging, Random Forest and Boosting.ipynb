{
 "cells": [
  {
   "cell_type": "markdown",
   "id": "369c2c7b",
   "metadata": {},
   "source": [
    "# Bagging, Random Forest and Boosting\n",
    "- [Bagging and Random Forest](#BGARF)\n",
    "- [Gradient Boosting](#GB)\n",
    "- [Appendix](#APPENDIX)"
   ]
  },
  {
   "cell_type": "code",
   "execution_count": 29,
   "id": "54f57bc2",
   "metadata": {},
   "outputs": [],
   "source": [
    "import numpy as np\n",
    "import pandas as pd\n",
    "import matplotlib.pyplot as plt\n",
    "import seaborn as sns\n",
    "from collections import Counter\n",
    "\n",
    "from sklearn import datasets\n",
    "from sklearn.datasets import make_regression\n",
    "from sklearn.model_selection import train_test_split\n",
    "\n",
    "from sklearn.tree import DecisionTreeClassifier\n",
    "from sklearn.tree import DecisionTreeRegressor"
   ]
  },
  {
   "cell_type": "code",
   "execution_count": 24,
   "id": "994c9a5f",
   "metadata": {},
   "outputs": [],
   "source": [
    "def bag(X, y):\n",
    "    n_samples = X.shape[0]\n",
    "    indices = np.random.choice(n_samples, size=n_samples, replace=True)\n",
    "    return X[indices], y[indices]\n",
    "\n",
    "def most_common_label(y):\n",
    "    counter = Counter(y)\n",
    "    most_common = counter.most_common(1)[0][0]\n",
    "    return most_common\n",
    "\n",
    "def accuracy(y_true, y_pred):\n",
    "    accuracy = np.sum(y_true == y_pred) / len(y_true)\n",
    "    return accuracy"
   ]
  },
  {
   "cell_type": "markdown",
   "id": "364cde2e",
   "metadata": {},
   "source": [
    "## <a id=\"BGARF\"></a>Bagging and Random Forest"
   ]
  },
  {
   "cell_type": "code",
   "execution_count": 26,
   "id": "14c7215a",
   "metadata": {},
   "outputs": [],
   "source": [
    "class RandomForest:\n",
    "    def __init__(self, n_trees=10, min_samples_split=2, max_depth=100, max_features=None):\n",
    "        self.n_trees = n_trees\n",
    "        self.min_samples_split = min_samples_split\n",
    "        self.max_depth = max_depth\n",
    "        self.max_features = max_features\n",
    "        self.trees = []\n",
    "    \n",
    "    def fit(self, X, y):\n",
    "        self.trees = []\n",
    "        for _ in range(self.n_trees):\n",
    "            tree = DecisionTreeClassifier(min_samples_split=self.min_samples_split, max_depth=self.max_depth, max_features=self.max_features)\n",
    "            X_sample, y_sample = bag(X, y)\n",
    "            tree.fit(X_sample, y_sample)\n",
    "            self.trees.append(tree)\n",
    "    \n",
    "    def predict(self, X):\n",
    "        tree_predict = np.array([tree.predict(X) for tree in self.trees])\n",
    "        tree_predict = np.swapaxes(tree_predict, 0, 1)\n",
    "        y_pred = [most_common_label(tree_pred) for tree_pred in tree_predict]\n",
    "        return np.array(y_pred)"
   ]
  },
  {
   "cell_type": "code",
   "execution_count": 27,
   "id": "1a413297",
   "metadata": {},
   "outputs": [
    {
     "name": "stdout",
     "output_type": "stream",
     "text": [
      "Accuracy:  0.956140350877193\n"
     ]
    }
   ],
   "source": [
    "data = datasets.load_breast_cancer()\n",
    "X = data.data\n",
    "y = data.target\n",
    "\n",
    "X_train, X_test, y_train, y_test = train_test_split(X, y, test_size=0.2, random_state=1)\n",
    "\n",
    "clf = RandomForest(n_trees=10, max_depth=10, max_features='sqrt')\n",
    "\n",
    "clf.fit(X_train, y_train)\n",
    "y_pred = clf.predict(X_test)\n",
    "acc = accuracy(y_test, y_pred)\n",
    "\n",
    "print(\"Accuracy: \", acc)"
   ]
  },
  {
   "cell_type": "markdown",
   "id": "db76bdb7",
   "metadata": {},
   "source": [
    "## <a id=\"GB\"></a>Gradient Boosting"
   ]
  },
  {
   "cell_type": "code",
   "execution_count": 33,
   "id": "bdec5061",
   "metadata": {},
   "outputs": [],
   "source": [
    "def GradBoost(model, X_train, y_train, X_test, boosting_rounds, learning_rate=0.1):\n",
    "    y_hat_train = np.repeat(np.mean(y_train), len(y_train))\n",
    "    y_hat_test = np.repeat(np.mean(y_train), len(X_test))\n",
    "    \n",
    "    residuals = y_train - y_hat_train\n",
    "    \n",
    "    for i in range(boosting_rounds):\n",
    "        model = model.fit(X_train, residuals)\n",
    "        y_hat_train += learning_rate * model.predict(X_train)\n",
    "        y_hat_test += learning_rate * model.predict(X_test)\n",
    "        residuals = y_train - y_hat_train\n",
    "    return y_hat_train, y_hat_test"
   ]
  },
  {
   "cell_type": "code",
   "execution_count": 30,
   "id": "e9364457",
   "metadata": {},
   "outputs": [],
   "source": [
    "X, y = make_regression(n_samples=1000, n_features=20, n_informative=15, n_targets=1, bias=0, noise=20, shuffle=True, random_state=13)\n",
    "\n",
    "X_train = X[:800]\n",
    "y_train = y[:800]\n",
    "\n",
    "X_test = X[800:]\n",
    "y_test = y[800:]"
   ]
  },
  {
   "cell_type": "code",
   "execution_count": 31,
   "id": "95a4f2c7",
   "metadata": {},
   "outputs": [],
   "source": [
    "model = DecisionTreeRegressor(criterion='squared_error', max_depth=3)"
   ]
  },
  {
   "cell_type": "code",
   "execution_count": 35,
   "id": "a955dab1",
   "metadata": {},
   "outputs": [],
   "source": [
    "mse_train = list()\n",
    "n_rounds = np.arange(5, 101, 5)\n",
    "for n_round in n_rounds:\n",
    "    y_hat_train, _ = GradBoost(model, X_train, y_train, X_test, boosting_rounds=n_round, learning_rate=0.1)\n",
    "    mse_train.append(np.mean((y_train - y_hat_train) ** 2))"
   ]
  },
  {
   "cell_type": "markdown",
   "id": "bfef70e7",
   "metadata": {},
   "source": [
    "**MSE vs No. of Rounds**"
   ]
  },
  {
   "cell_type": "code",
   "execution_count": 38,
   "id": "4440dcf5",
   "metadata": {
    "scrolled": true
   },
   "outputs": [
    {
     "data": {
      "text/plain": [
       "Text(0, 0.5, 'Mean Squared Error')"
      ]
     },
     "execution_count": 38,
     "metadata": {},
     "output_type": "execute_result"
    },
    {
     "data": {
      "image/png": "[encoded data removed]",
      "text/plain": [
       "<Figure size 432x288 with 1 Axes>"
      ]
     },
     "metadata": {
      "needs_background": "light"
     },
     "output_type": "display_data"
    }
   ],
   "source": [
    "plt.plot(n_rounds, mse_train)\n",
    "plt.xlabel(\"No. of Rounds\")\n",
    "plt.ylabel(\"Mean Squared Error\")"
   ]
  },
  {
   "cell_type": "markdown",
   "id": "ee22cf54",
   "metadata": {},
   "source": [
    "**Predicted vs Actual for Different values of `n_rounds`** "
   ]
  },
  {
   "cell_type": "code",
   "execution_count": 39,
   "id": "07bff567",
   "metadata": {},
   "outputs": [
    {
     "data": {
      "text/plain": [
       "[<matplotlib.lines.Line2D at 0x1d04c796130>]"
      ]
     },
     "execution_count": 39,
     "metadata": {},
     "output_type": "execute_result"
    },
    {
     "data": {
      "image/png": "[encoded data removed]",
      "text/plain": [
       "<Figure size 432x288 with 1 Axes>"
      ]
     },
     "metadata": {
      "needs_background": "light"
     },
     "output_type": "display_data"
    }
   ],
   "source": [
    "n_round = 0\n",
    "y_hat_train, y_hat_test = GradBoost(model, X_train, y_train, X_test, boosting_rounds=n_round, learning_rate=0.1)\n",
    "plt.scatter(y_train, y_hat_train) # Predicted\n",
    "plt.plot(y_train, y_train, color='r') # Actual"
   ]
  },
  {
   "cell_type": "code",
   "execution_count": 40,
   "id": "9aba814d",
   "metadata": {},
   "outputs": [
    {
     "data": {
      "text/plain": [
       "[<matplotlib.lines.Line2D at 0x1d04c80a4f0>]"
      ]
     },
     "execution_count": 40,
     "metadata": {},
     "output_type": "execute_result"
    },
    {
     "data": {
      "image/png": "[encoded data removed]",
      "text/plain": [
       "<Figure size 432x288 with 1 Axes>"
      ]
     },
     "metadata": {
      "needs_background": "light"
     },
     "output_type": "display_data"
    }
   ],
   "source": [
    "n_round = 20\n",
    "y_hat_train, y_hat_test = GradBoost(model, X_train, y_train, X_test, boosting_rounds=n_round, learning_rate=0.1)\n",
    "plt.scatter(y_train, y_hat_train) # Predicted\n",
    "plt.plot(y_train, y_train, color='r') # Actual"
   ]
  },
  {
   "cell_type": "code",
   "execution_count": 41,
   "id": "d924b0ba",
   "metadata": {},
   "outputs": [
    {
     "data": {
      "text/plain": [
       "[<matplotlib.lines.Line2D at 0x1d04c874880>]"
      ]
     },
     "execution_count": 41,
     "metadata": {},
     "output_type": "execute_result"
    },
    {
     "data": {
      "image/png": "[encoded data removed]",
      "text/plain": [
       "<Figure size 432x288 with 1 Axes>"
      ]
     },
     "metadata": {
      "needs_background": "light"
     },
     "output_type": "display_data"
    }
   ],
   "source": [
    "n_round = 100\n",
    "y_hat_train, y_hat_test = GradBoost(model, X_train, y_train, X_test, boosting_rounds=n_round, learning_rate=0.1)\n",
    "plt.scatter(y_train, y_hat_train) # Predicted\n",
    "plt.plot(y_train, y_train, color='r') # Actual"
   ]
  },
  {
   "cell_type": "markdown",
   "id": "fca6ce96",
   "metadata": {},
   "source": [
    "# <a id=\"APPENDIX\"></a>Appendix"
   ]
  },
  {
   "cell_type": "markdown",
   "id": "9605cde1",
   "metadata": {},
   "source": [
    "### `np.random.choice()` : \n",
    "\n",
    "Generates a random sample from a given 1-D array."
   ]
  },
  {
   "cell_type": "code",
   "execution_count": 15,
   "id": "ccc62e49",
   "metadata": {},
   "outputs": [
    {
     "name": "stdout",
     "output_type": "stream",
     "text": [
      "[0 3 3]\n",
      "[0 3 3]\n",
      "[1 3 4]\n"
     ]
    }
   ],
   "source": [
    "# Generate a uniform random sample from np.arange(5) of size 3:\n",
    "print(np.random.choice(5, 3))\n",
    "\n",
    "# Generate a non-uniform random sample from np.arange(5) of size 3:\n",
    "print(np.random.choice(5, 3, p=[0.1, 0, 0.3, 0.6, 0]))\n",
    "\n",
    "# Generate a uniform random sample from np.arange(5) of size 3 without replacement:\n",
    "print(np.random.choice(5, 3, replace=False))"
   ]
  },
  {
   "cell_type": "markdown",
   "id": "fcbb7518",
   "metadata": {},
   "source": [
    "### `np.swapaxes()` :\n",
    "\n",
    "Interchange two axes of an array."
   ]
  },
  {
   "cell_type": "code",
   "execution_count": 21,
   "id": "672c4ad2",
   "metadata": {},
   "outputs": [
    {
     "name": "stdout",
     "output_type": "stream",
     "text": [
      "[[1]\n",
      " [2]\n",
      " [3]]\n",
      "\n",
      " [[[0 4]\n",
      "  [2 6]]\n",
      "\n",
      " [[1 5]\n",
      "  [3 7]]]\n"
     ]
    }
   ],
   "source": [
    "x = np.array([[1,2,3]])\n",
    "print(np.swapaxes(x,0,1))\n",
    "\n",
    "x = np.array([[[0,1],[2,3]],[[4,5],[6,7]]])\n",
    "print(\"\\n\", np.swapaxes(x,0,2))"
   ]
  }
 ],
 "metadata": {
  "kernelspec": {
   "display_name": "Python 3 (ipykernel)",
   "language": "python",
   "name": "python3"
  },
  "language_info": {
   "codemirror_mode": {
    "name": "ipython",
    "version": 3
   },
   "file_extension": ".py",
   "mimetype": "text/x-python",
   "name": "python",
   "nbconvert_exporter": "python",
   "pygments_lexer": "ipython3",
   "version": "3.9.7"
  }
 },
 "nbformat": 4,
 "nbformat_minor": 5
}

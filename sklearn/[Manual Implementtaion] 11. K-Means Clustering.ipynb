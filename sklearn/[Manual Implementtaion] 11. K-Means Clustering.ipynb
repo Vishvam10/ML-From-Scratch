{
 "cells": [
  {
   "cell_type": "markdown",
   "id": "40392ed7",
   "metadata": {},
   "source": [
    "# K-Means Clustering Algorithm\n",
    "\n",
    "It is an iterative algorithm that proceeds as follows :\n",
    "\n",
    "**Input :**\n",
    "- $n$ training examples represented with $m$ features\n",
    "- Number of centroids : $k$\n",
    "\n",
    "**Aligorithm :**\n",
    "1. Randomly initialize $k$ centroids. Note that each centroid is a **vector** in $m$ dimensional space\n",
    "2. Repeat until convergence :\n",
    "    - Assign points to centroid randomly\n",
    "    - Calculate the centroids based on the points assigned to the dataset\n",
    "\n",
    "The algorithm converges when the centroid stops changing or in other words the cluster membership stabilizes and subsequent iterations do not yield any results"
   ]
  },
  {
   "cell_type": "code",
   "execution_count": 1,
   "id": "61757d4c",
   "metadata": {},
   "outputs": [],
   "source": [
    "import numpy as np\n",
    "import pandas as pd\n",
    "import matplotlib.pyplot as plt\n",
    "\n",
    "%matplotlib inline\n",
    "\n",
    "from scipy.spatial.distance import cdist\n",
    "from sklearn.datasets import make_blobs"
   ]
  },
  {
   "cell_type": "code",
   "execution_count": 2,
   "id": "c9f5ffa6",
   "metadata": {},
   "outputs": [],
   "source": [
    "cluster_count = 3"
   ]
  },
  {
   "cell_type": "markdown",
   "id": "6f78c19d",
   "metadata": {},
   "source": [
    "**Synthetic Data Generation With 3 Clusters**"
   ]
  },
  {
   "cell_type": "code",
   "execution_count": 3,
   "id": "713461e5",
   "metadata": {},
   "outputs": [
    {
     "data": {
      "text/plain": [
       "<matplotlib.collections.PathCollection at 0x1e594b3f520>"
      ]
     },
     "execution_count": 3,
     "metadata": {},
     "output_type": "execute_result"
    },
    {
     "data": {
      "image/png": "[encoded data removed]",
      "text/plain": [
       "<Figure size 432x288 with 1 Axes>"
      ]
     },
     "metadata": {
      "needs_background": "light"
     },
     "output_type": "display_data"
    }
   ],
   "source": [
    "X, Y = make_blobs(n_samples=100, n_features=2, centers=[[-2,3],[1,4],[2.5,1]], cluster_std=1, random_state=0)\n",
    "\n",
    "plt.scatter(X[:,0], X[:,1])"
   ]
  },
  {
   "cell_type": "code",
   "execution_count": 14,
   "id": "91c13f0a",
   "metadata": {},
   "outputs": [],
   "source": [
    "def fit(X, k):\n",
    "    \n",
    "    # Choose k centroids\n",
    "    centroids = X[np.random.randint(0,X.shape[0], size=k)] \n",
    "    labels = np.argmin(cdist(X, centroids), axis=1)\n",
    "    \n",
    "    for i in range(10):\n",
    "        previous_labels = labels.copy()\n",
    "        \n",
    "        centroids = np.array([np.mean(X[labels==r], axis=0) for r in range(k)])\n",
    "        labels = np.argmin(cdist(X, centroids), axis=1)\n",
    "        print(\"\\nITERATION \", i, \" : \\n\\nCentroids : \\n\", centroids, \"\\n\\nLabels : \\n\", labels)\n",
    "        \n",
    "        if all(labels == previous_labels):\n",
    "            break\n",
    "    \n",
    "    return centroids, labels"
   ]
  },
  {
   "cell_type": "code",
   "execution_count": 15,
   "id": "05107c83",
   "metadata": {},
   "outputs": [
    {
     "name": "stdout",
     "output_type": "stream",
     "text": [
      "\n",
      "ITERATION  0  : \n",
      "\n",
      "Centroids : \n",
      " [[-1.52204174  3.55340054]\n",
      " [ 1.61737508  4.33126427]\n",
      " [ 2.27851575  1.06397105]] \n",
      "\n",
      "Labels : \n",
      " [0 2 0 2 2 0 0 2 1 0 2 1 1 2 2 0 2 1 2 1 1 0 1 1 1 0 1 0 1 2 0 2 1 2 2 2 2\n",
      " 0 2 2 0 2 2 2 1 0 1 0 1 2 0 1 0 0 0 2 2 2 2 2 1 1 1 0 0 0 0 2 1 0 0 1 0 2\n",
      " 0 0 0 1 0 1 1 2 2 0 2 2 0 1 0 2 0 1 0 2 0 1 2 1 1 1]\n",
      "\n",
      "ITERATION  1  : \n",
      "\n",
      "Centroids : \n",
      " [[-1.96993091  3.11480806]\n",
      " [ 1.13976015  4.53264497]\n",
      " [ 2.34740026  1.03657816]] \n",
      "\n",
      "Labels : \n",
      " [0 2 0 2 2 1 0 2 1 0 2 1 1 2 2 0 2 1 2 1 1 0 1 1 1 0 1 0 1 2 0 2 1 2 2 2 2\n",
      " 0 2 2 0 2 2 2 1 1 1 0 1 2 0 2 0 0 0 2 2 2 2 2 1 1 1 1 0 0 0 2 1 0 0 1 0 2\n",
      " 0 0 0 1 0 1 1 2 2 0 2 2 0 1 0 2 0 1 1 2 0 1 2 1 1 1]\n",
      "\n",
      "ITERATION  2  : \n",
      "\n",
      "Centroids : \n",
      " [[-2.17154248  2.93282203]\n",
      " [ 0.92192845  4.58530224]\n",
      " [ 2.34162249  1.08459472]] \n",
      "\n",
      "Labels : \n",
      " [0 2 0 2 2 1 0 2 1 0 2 1 1 2 2 0 2 1 2 1 1 0 1 1 1 0 1 0 1 2 1 2 1 2 2 2 2\n",
      " 0 2 2 0 2 2 2 1 1 1 0 1 2 0 2 0 1 0 2 2 2 2 2 1 1 1 1 0 0 0 2 1 0 0 1 0 2\n",
      " 0 0 0 1 0 1 1 2 2 0 2 2 0 2 0 2 0 1 1 2 0 1 2 1 1 1]\n",
      "\n",
      "ITERATION  3  : \n",
      "\n",
      "Centroids : \n",
      " [[-2.2866262   2.87292917]\n",
      " [ 0.80635337  4.58788173]\n",
      " [ 2.33244263  1.13445789]] \n",
      "\n",
      "Labels : \n",
      " [0 2 0 2 2 1 0 2 1 0 2 1 1 2 2 0 2 1 2 1 1 0 1 1 1 0 1 0 1 2 1 2 1 2 2 2 2\n",
      " 0 2 2 0 2 2 2 1 1 1 0 1 2 0 2 0 1 0 2 2 2 2 2 1 1 1 1 0 0 0 2 1 0 0 1 0 2\n",
      " 0 0 0 1 0 1 1 2 2 0 2 2 0 2 0 2 0 1 1 2 0 1 2 1 1 1]\n"
     ]
    }
   ],
   "source": [
    "centroids, labels = fit(X, cluster_count)"
   ]
  },
  {
   "cell_type": "code",
   "execution_count": 16,
   "id": "8e382b59",
   "metadata": {},
   "outputs": [
    {
     "name": "stdout",
     "output_type": "stream",
     "text": [
      "CENTROIDS : \n",
      " [[-2.2866262   2.87292917]\n",
      " [ 0.80635337  4.58788173]\n",
      " [ 2.33244263  1.13445789]]\n",
      "\n",
      "LABELS : \n",
      " [0 2 0 2 2 1 0 2 1 0 2 1 1 2 2 0 2 1 2 1 1 0 1 1 1 0 1 0 1 2 1 2 1 2 2 2 2\n",
      " 0 2 2 0 2 2 2 1 1 1 0 1 2 0 2 0 1 0 2 2 2 2 2 1 1 1 1 0 0 0 2 1 0 0 1 0 2\n",
      " 0 0 0 1 0 1 1 2 2 0 2 2 0 2 0 2 0 1 1 2 0 1 2 1 1 1]\n"
     ]
    }
   ],
   "source": [
    "print(\"CENTROIDS : \\n\", centroids)\n",
    "print(\"\\nLABELS : \\n\", labels)"
   ]
  },
  {
   "cell_type": "code",
   "execution_count": 7,
   "id": "6de32c95",
   "metadata": {},
   "outputs": [],
   "source": [
    "def plot_kmeans(X, centroids, labels, rseed=0, ax=None) :\n",
    "    # Plot the input data\n",
    "    ax = ax or plt.gca()\n",
    "    ax.axis(\"equal\")\n",
    "    \n",
    "    # Plot the data points\n",
    "    ax.scatter(X[:, 0], X[:, 1], c=labels, s=40, cmap=\"plasma\", zorder=2)\n",
    "    \n",
    "    # Plot the representation of the KMean model\n",
    "    radii = [cdist(X[labels == i], [center]).max() for i, center in enumerate(centroids)]\n",
    "    \n",
    "    for c,r in zip(centroids, radii) :\n",
    "        # Add circular shapes to the features\n",
    "        ax.add_patch(plt.Circle(c, r, fc=\"#CCCCCC\", lw=5, alpha=0.5, zorder=1))"
   ]
  },
  {
   "cell_type": "code",
   "execution_count": 8,
   "id": "ef378275",
   "metadata": {},
   "outputs": [
    {
     "data": {
      "image/png": "[encoded data removed]",
      "text/plain": [
       "<Figure size 576x432 with 1 Axes>"
      ]
     },
     "metadata": {
      "needs_background": "light"
     },
     "output_type": "display_data"
    }
   ],
   "source": [
    "plt.figure(figsize=(8,6))\n",
    "plot_kmeans(X, centroids, labels)"
   ]
  },
  {
   "cell_type": "markdown",
   "id": "f842ed47",
   "metadata": {},
   "source": [
    "# Appendix"
   ]
  },
  {
   "cell_type": "markdown",
   "id": "524d6cc2",
   "metadata": {},
   "source": [
    "### `np.random.randint()`"
   ]
  },
  {
   "cell_type": "code",
   "execution_count": 10,
   "id": "876d6fc0",
   "metadata": {
    "scrolled": true
   },
   "outputs": [
    {
     "name": "stdout",
     "output_type": "stream",
     "text": [
      "[[1.39561666 1.05216508]]\n",
      "\n",
      " [[ 0.26975462  1.54563433]\n",
      " [ 1.8563816  -1.22340315]]\n",
      "\n",
      " [[-2.51080514  1.81936782]\n",
      " [ 2.89600671 -0.09306151]\n",
      " [-3.04855297  1.57998206]]\n",
      "\n",
      " [[ 2.00196755  2.92953205]\n",
      " [ 1.8563816  -1.22340315]\n",
      " [ 1.94725197  3.84498991]\n",
      " [ 1.760437    2.5430146 ]]\n",
      "\n",
      " [[ 1.760437    2.5430146 ]\n",
      " [-0.17312341  5.94362119]\n",
      " [ 2.89600671 -0.09306151]\n",
      " [-1.1355638   2.25783498]\n",
      " [ 1.75524518  0.17356146]]\n"
     ]
    }
   ],
   "source": [
    "c1 = X[np.random.randint(0, X.shape[0], size=1)] \n",
    "c2 = X[np.random.randint(0, X.shape[0], size=2)] \n",
    "c3 = X[np.random.randint(0, X.shape[0], size=3)] \n",
    "c4 = X[np.random.randint(0, X.shape[0], size=4)] \n",
    "c5 = X[np.random.randint(0, X.shape[0], size=5)] \n",
    "\n",
    "print(c1)\n",
    "print(\"\\n\", c2)\n",
    "print(\"\\n\", c3)\n",
    "print(\"\\n\", c4)\n",
    "print(\"\\n\", c5)"
   ]
  },
  {
   "cell_type": "markdown",
   "id": "54068fa8",
   "metadata": {},
   "source": [
    "### `cdist(XA, XB, metric='euclidean', *, out=None, **kwargs)`\n",
    "Compute distance between each pair of the two collections of inputs. See more [here](https://docs.scipy.org/doc/scipy/reference/generated/scipy.spatial.distance.cdist.html)."
   ]
  },
  {
   "cell_type": "code",
   "execution_count": 28,
   "id": "3086dfc7",
   "metadata": {},
   "outputs": [
    {
     "name": "stdout",
     "output_type": "stream",
     "text": [
      "[[1.08253621]\n",
      " [5.92208837]\n",
      " [0.96627334]\n",
      " [4.33046517]\n",
      " [4.95123805]]\n",
      "\n",
      " [[1.10852524 3.14337325]\n",
      " [5.95312918 5.67249211]\n",
      " [0.99215179 3.25191565]\n",
      " [4.36713754 3.36058401]\n",
      " [4.98832971 3.5066818 ]]\n",
      "\n",
      " [[2.7983154  1.97472338 2.3778801 ]\n",
      " [3.19138743 4.95530257 5.98773798]\n",
      " [2.81793068 2.06609694 2.49211536]\n",
      " [1.22925881 2.68624181 3.6767135 ]\n",
      " [1.8516354  3.07341403 3.96167287]]\n"
     ]
    }
   ],
   "source": [
    "print(cdist(X, c1)[:5])\n",
    "print(\"\\n\", cdist(X, c2)[:5])\n",
    "print(\"\\n\", cdist(X, c3)[:5])"
   ]
  }
 ],
 "metadata": {
  "kernelspec": {
   "display_name": "Python 3 (ipykernel)",
   "language": "python",
   "name": "python3"
  },
  "language_info": {
   "codemirror_mode": {
    "name": "ipython",
    "version": 3
   },
   "file_extension": ".py",
   "mimetype": "text/x-python",
   "name": "python",
   "nbconvert_exporter": "python",
   "pygments_lexer": "ipython3",
   "version": "3.9.7"
  }
 },
 "nbformat": 4,
 "nbformat_minor": 5
}

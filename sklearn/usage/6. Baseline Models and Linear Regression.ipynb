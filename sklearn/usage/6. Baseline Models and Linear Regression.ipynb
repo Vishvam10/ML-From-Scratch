{
 "cells": [
  {
   "cell_type": "markdown",
   "id": "c48801e7",
   "metadata": {},
   "source": [
    "# Baseline Models and Linear Regression\n",
    "\n",
    "Table of Contents :\n",
    "- [Baseline Model ( Dummy Model )](#DRM)\n",
    "- [Linear Regression Model](#LRM) \n",
    "- [Permutation Test ( Model Evaluation )](#PT)\n",
    "- [Comparision of Models](#COM)\n",
    "- [Finding the Best Model](#FTBM)\n",
    "- [Appendix](#APPENDIX)"
   ]
  },
  {
   "cell_type": "code",
   "execution_count": 3,
   "id": "e323239c",
   "metadata": {},
   "outputs": [],
   "source": [
    "import warnings\n",
    "warnings.filterwarnings(\"ignore\")\n",
    "\n",
    "import numpy as np\n",
    "import pandas as pd\n",
    "import matplotlib.pyplot as plt\n",
    "import seaborn as sns\n",
    "\n",
    "from sklearn.datasets import fetch_california_housing\n",
    "from sklearn.dummy import DummyRegressor\n",
    "from sklearn.linear_model import LinearRegression\n",
    "\n",
    "from sklearn.model_selection import cross_validate, cross_val_score, learning_curve, ShuffleSplit, permutation_test_score\n",
    "\n",
    "from sklearn.metrics import mean_squared_error\n",
    "from sklearn.pipeline import Pipeline\n",
    "from sklearn.preprocessing import StandardScaler"
   ]
  },
  {
   "cell_type": "markdown",
   "id": "647d5f7a",
   "metadata": {},
   "source": [
    "## <a id=\"LRM\"></a> Linear Regression Model - `LinearRegression()` \n",
    "We'll be using it after scaling the data with `StandardScaler` in a `Pipeline` "
   ]
  },
  {
   "cell_type": "code",
   "execution_count": 6,
   "id": "a7c4d1c3",
   "metadata": {},
   "outputs": [],
   "source": [
    "features, labels = fetch_california_housing(as_frame=True, return_X_y=True)"
   ]
  },
  {
   "cell_type": "code",
   "execution_count": 12,
   "id": "6d2c74d3",
   "metadata": {
    "scrolled": true
   },
   "outputs": [
    {
     "name": "stdout",
     "output_type": "stream",
     "text": [
      "Shape of feature matrix is :  (20640, 8)\n",
      "Shape of label vector is :  (20640,)\n"
     ]
    }
   ],
   "source": [
    "print(\"Shape of feature matrix is : \", features.shape)\n",
    "print(\"Shape of label vector is : \", labels.shape)"
   ]
  },
  {
   "cell_type": "code",
   "execution_count": 17,
   "id": "68fef08d",
   "metadata": {},
   "outputs": [],
   "source": [
    "from sklearn.model_selection import train_test_split\n",
    "\n",
    "train_features, test_features, train_labels, test_labels = train_test_split(features, labels, random_state=42)"
   ]
  },
  {
   "cell_type": "code",
   "execution_count": 23,
   "id": "751a16bc",
   "metadata": {},
   "outputs": [
    {
     "name": "stdout",
     "output_type": "stream",
     "text": [
      "No of training samples :  15480\n",
      "No of testing samples :  5160\n"
     ]
    }
   ],
   "source": [
    "print(\"No of training samples : \", train_features.shape[0])\n",
    "print(\"No of testing samples : \", test_features.shape[0])"
   ]
  },
  {
   "cell_type": "markdown",
   "id": "6b9da2e1",
   "metadata": {},
   "source": [
    "The **pipeline** takes a **list of (name, transform) tuples (implementing `fit`/`transform`) that are chained**, in the order in which they are chained, with the last object an estimator."
   ]
  },
  {
   "cell_type": "code",
   "execution_count": 24,
   "id": "ebd4050e",
   "metadata": {},
   "outputs": [],
   "source": [
    "lin_reg_pipeline = Pipeline([\n",
    "    (\"feature_scaling\", StandardScaler()),\n",
    "    ('lin_reg', LinearRegression())\n",
    "])"
   ]
  },
  {
   "cell_type": "code",
   "execution_count": 31,
   "id": "2b4a4e2b",
   "metadata": {},
   "outputs": [],
   "source": [
    "shuffle_split_cv = ShuffleSplit(n_splits=10, test_size=0.2, random_state=0)\n",
    "\n",
    "lin_reg_cv_results = cross_validate(lin_reg_pipeline, train_features, train_labels, cv=shuffle_split_cv, scoring='neg_mean_absolute_error', return_train_score=True, return_estimator=True)"
   ]
  },
  {
   "cell_type": "code",
   "execution_count": 60,
   "id": "36c8332a",
   "metadata": {},
   "outputs": [
    {
     "data": {
      "text/html": [
       "<div>\n",
       "<style scoped>\n",
       "    .dataframe tbody tr th:only-of-type {\n",
       "        vertical-align: middle;\n",
       "    }\n",
       "\n",
       "    .dataframe tbody tr th {\n",
       "        vertical-align: top;\n",
       "    }\n",
       "\n",
       "    .dataframe thead th {\n",
       "        text-align: right;\n",
       "    }\n",
       "</style>\n",
       "<table border=\"1\" class=\"dataframe\">\n",
       "  <thead>\n",
       "    <tr style=\"text-align: right;\">\n",
       "      <th></th>\n",
       "      <th>fit_time</th>\n",
       "      <th>score_time</th>\n",
       "      <th>estimator</th>\n",
       "      <th>test_score</th>\n",
       "      <th>train_score</th>\n",
       "      <th>Linear Regression Error</th>\n",
       "    </tr>\n",
       "  </thead>\n",
       "  <tbody>\n",
       "    <tr>\n",
       "      <th>0</th>\n",
       "      <td>0.024830</td>\n",
       "      <td>0.005049</td>\n",
       "      <td>(StandardScaler(), LinearRegression())</td>\n",
       "      <td>-0.515917</td>\n",
       "      <td>-0.534195</td>\n",
       "      <td>0.515917</td>\n",
       "    </tr>\n",
       "    <tr>\n",
       "      <th>1</th>\n",
       "      <td>0.017644</td>\n",
       "      <td>0.003988</td>\n",
       "      <td>(StandardScaler(), LinearRegression())</td>\n",
       "      <td>-0.531678</td>\n",
       "      <td>-0.528976</td>\n",
       "      <td>0.531678</td>\n",
       "    </tr>\n",
       "    <tr>\n",
       "      <th>2</th>\n",
       "      <td>0.014957</td>\n",
       "      <td>0.002990</td>\n",
       "      <td>(StandardScaler(), LinearRegression())</td>\n",
       "      <td>-0.540924</td>\n",
       "      <td>-0.525882</td>\n",
       "      <td>0.540924</td>\n",
       "    </tr>\n",
       "    <tr>\n",
       "      <th>3</th>\n",
       "      <td>0.014972</td>\n",
       "      <td>0.002977</td>\n",
       "      <td>(StandardScaler(), LinearRegression())</td>\n",
       "      <td>-0.528676</td>\n",
       "      <td>-0.530704</td>\n",
       "      <td>0.528676</td>\n",
       "    </tr>\n",
       "    <tr>\n",
       "      <th>4</th>\n",
       "      <td>0.013955</td>\n",
       "      <td>0.003994</td>\n",
       "      <td>(StandardScaler(), LinearRegression())</td>\n",
       "      <td>-0.549056</td>\n",
       "      <td>-0.524884</td>\n",
       "      <td>0.549056</td>\n",
       "    </tr>\n",
       "    <tr>\n",
       "      <th>5</th>\n",
       "      <td>0.016963</td>\n",
       "      <td>0.003968</td>\n",
       "      <td>(StandardScaler(), LinearRegression())</td>\n",
       "      <td>-0.525526</td>\n",
       "      <td>-0.531588</td>\n",
       "      <td>0.525526</td>\n",
       "    </tr>\n",
       "    <tr>\n",
       "      <th>6</th>\n",
       "      <td>0.017894</td>\n",
       "      <td>0.003986</td>\n",
       "      <td>(StandardScaler(), LinearRegression())</td>\n",
       "      <td>-0.528934</td>\n",
       "      <td>-0.530528</td>\n",
       "      <td>0.528934</td>\n",
       "    </tr>\n",
       "    <tr>\n",
       "      <th>7</th>\n",
       "      <td>0.015947</td>\n",
       "      <td>0.004028</td>\n",
       "      <td>(StandardScaler(), LinearRegression())</td>\n",
       "      <td>-0.535021</td>\n",
       "      <td>-0.528397</td>\n",
       "      <td>0.535021</td>\n",
       "    </tr>\n",
       "    <tr>\n",
       "      <th>8</th>\n",
       "      <td>0.014904</td>\n",
       "      <td>0.002989</td>\n",
       "      <td>(StandardScaler(), LinearRegression())</td>\n",
       "      <td>-0.519714</td>\n",
       "      <td>-0.532270</td>\n",
       "      <td>0.519714</td>\n",
       "    </tr>\n",
       "    <tr>\n",
       "      <th>9</th>\n",
       "      <td>0.017941</td>\n",
       "      <td>0.003985</td>\n",
       "      <td>(StandardScaler(), LinearRegression())</td>\n",
       "      <td>-0.542722</td>\n",
       "      <td>-0.526288</td>\n",
       "      <td>0.542722</td>\n",
       "    </tr>\n",
       "  </tbody>\n",
       "</table>\n",
       "</div>"
      ],
      "text/plain": [
       "   fit_time  score_time                               estimator  test_score  \\\n",
       "0  0.024830    0.005049  (StandardScaler(), LinearRegression())   -0.515917   \n",
       "1  0.017644    0.003988  (StandardScaler(), LinearRegression())   -0.531678   \n",
       "2  0.014957    0.002990  (StandardScaler(), LinearRegression())   -0.540924   \n",
       "3  0.014972    0.002977  (StandardScaler(), LinearRegression())   -0.528676   \n",
       "4  0.013955    0.003994  (StandardScaler(), LinearRegression())   -0.549056   \n",
       "5  0.016963    0.003968  (StandardScaler(), LinearRegression())   -0.525526   \n",
       "6  0.017894    0.003986  (StandardScaler(), LinearRegression())   -0.528934   \n",
       "7  0.015947    0.004028  (StandardScaler(), LinearRegression())   -0.535021   \n",
       "8  0.014904    0.002989  (StandardScaler(), LinearRegression())   -0.519714   \n",
       "9  0.017941    0.003985  (StandardScaler(), LinearRegression())   -0.542722   \n",
       "\n",
       "   train_score  Linear Regression Error  \n",
       "0    -0.534195                 0.515917  \n",
       "1    -0.528976                 0.531678  \n",
       "2    -0.525882                 0.540924  \n",
       "3    -0.530704                 0.528676  \n",
       "4    -0.524884                 0.549056  \n",
       "5    -0.531588                 0.525526  \n",
       "6    -0.530528                 0.528934  \n",
       "7    -0.528397                 0.535021  \n",
       "8    -0.532270                 0.519714  \n",
       "9    -0.526288                 0.542722  "
      ]
     },
     "execution_count": 60,
     "metadata": {},
     "output_type": "execute_result"
    }
   ],
   "source": [
    "lin_reg_error = pd.Series(-1 * lin_reg_cv_results['test_score'], name='Dummy regression error')\n",
    "\n",
    "res = pd.DataFrame(lin_reg_cv_results)\n",
    "res[\"Linear Regression Error\"] = -res[\"test_score\"]\n",
    "res"
   ]
  },
  {
   "cell_type": "markdown",
   "id": "75232602",
   "metadata": {},
   "source": [
    "## <a id=\"DRM\"></a> Dummy Regression Model - `DummyRegressor()`\n",
    "\n",
    "Regressor that makes predictions using simple rules. `strategy` parameter is used to generate predictions :\n",
    "\n",
    "- `mean` : always predicts the mean of the training set\n",
    "- `median` : always predicts the median of the training set\n",
    "- `quantile` : always predicts a specified quantile of the training set, provided with the quantile parameter\n",
    "- `constant` : always predicts a constant value that is provided by the user\n",
    "\n"
   ]
  },
  {
   "cell_type": "code",
   "execution_count": 63,
   "id": "803dcac3",
   "metadata": {},
   "outputs": [],
   "source": [
    "def dummy_regressor_baseline(strategy, constant_val=None, quantile_val=None):\n",
    "    baseline = DummyRegressor(strategy=strategy, constant=constant_val, quantile=quantile_val)\n",
    "    baseline_cv_results = cross_validate(baseline, train_features, train_labels, cv=shuffle_split_cv, scoring='neg_mean_absolute_error')\n",
    "    return pd.Series(-1 * baseline_cv_results['test_score'], name='Dummy regression error')\n",
    "\n",
    "baseline_median_cv_results_error = dummy_regressor_baseline(strategy='median')\n",
    "baseline_mean_cv_results_error = dummy_regressor_baseline(strategy='mean')\n",
    "baseline_constant_cv_results_error = dummy_regressor_baseline(strategy='constant', constant_val=2)  # Predicts all labels as 2\n",
    "baseline_quantile_cv_results_error = dummy_regressor_baseline(strategy='quantile', quantile_val=0.55)\n",
    "\n",
    "dummy_error_df = pd.concat([baseline_median_cv_results_error,\n",
    "                           baseline_mean_cv_results_error,\n",
    "                           baseline_constant_cv_results_error,\n",
    "                           baseline_quantile_cv_results_error], axis=1)\n",
    "\n",
    "dummy_error_df.columns = ['Median', 'Mean', 'Constant', 'Quantile'] # The cross validation errors"
   ]
  },
  {
   "cell_type": "code",
   "execution_count": 72,
   "id": "471e0a2f",
   "metadata": {},
   "outputs": [
    {
     "data": {
      "text/plain": [
       "Text(0.5, 0, 'Error Rate / 100')"
      ]
     },
     "execution_count": 72,
     "metadata": {},
     "output_type": "execute_result"
    },
    {
     "data": {
      "image/png": "[encoded data removed]",
      "text/plain": [
       "<Figure size 432x288 with 1 Axes>"
      ]
     },
     "metadata": {
      "needs_background": "light"
     },
     "output_type": "display_data"
    }
   ],
   "source": [
    "dummy_error_df.plot.hist(bins=50, edgecolor=\"black\", density=True)\n",
    "plt.legend(bbox_to_anchor=(1.05,0.8), loc='upper left')\n",
    "plt.title(\"Distribution of test errors\")\n",
    "plt.xlabel(\"Error Rate / 100\")"
   ]
  },
  {
   "cell_type": "markdown",
   "id": "cc89da79",
   "metadata": {},
   "source": [
    "## <a id=\"PT\"></a>Pemutation Test - `permutation_test_score()`\n",
    "- It is a **model evalutaion technique**\n",
    "- This is a method like `cross_validation` and **it gives a performance metric of the model**. It is \n",
    "- Permutes the target to generate randomized data and computes empirical p-value against the null hypothesis that features and targets are independent.\n"
   ]
  },
  {
   "cell_type": "code",
   "execution_count": 69,
   "id": "a1aad874",
   "metadata": {},
   "outputs": [],
   "source": [
    "score, permutation_score, pvalue = permutation_test_score(lin_reg_pipeline, train_features, train_labels, cv=shuffle_split_cv,\n",
    "                                                         scoring='neg_mean_absolute_error', n_permutations=30)\n",
    "\n",
    "permutation_error = pd.Series(-1 * permutation_score, name='Permuted error')"
   ]
  },
  {
   "cell_type": "code",
   "execution_count": 54,
   "id": "354f3ec3",
   "metadata": {},
   "outputs": [
    {
     "data": {
      "text/plain": [
       "array([-0.91446539, -0.91608713, -0.91501122, -0.91112203, -0.91326112,\n",
       "       -0.91428719, -0.91694297, -0.90660687, -0.90873595, -0.91546138,\n",
       "       -0.9084695 , -0.91174023, -0.91857102, -0.91467076, -0.90396709,\n",
       "       -0.91239289, -0.91095499, -0.91729623, -0.90529415, -0.91436609,\n",
       "       -0.91993036, -0.91661883, -0.91104746, -0.91563156, -0.91014294,\n",
       "       -0.91526135, -0.90680247, -0.90796435, -0.91032999, -0.91545574])"
      ]
     },
     "execution_count": 54,
     "metadata": {},
     "output_type": "execute_result"
    }
   ],
   "source": [
    "permutation_score"
   ]
  },
  {
   "cell_type": "markdown",
   "id": "60ea0dcb",
   "metadata": {},
   "source": [
    "## <a id=\"COM\"></a>Comparision of Models"
   ]
  },
  {
   "cell_type": "code",
   "execution_count": 74,
   "id": "c48840fa",
   "metadata": {},
   "outputs": [
    {
     "data": {
      "text/plain": [
       "Text(0.5, 0, 'Error Rate / 100')"
      ]
     },
     "execution_count": 74,
     "metadata": {},
     "output_type": "execute_result"
    },
    {
     "data": {
      "image/png": "[encoded data removed]",
      "text/plain": [
       "<Figure size 432x288 with 1 Axes>"
      ]
     },
     "metadata": {
      "needs_background": "light"
     },
     "output_type": "display_data"
    }
   ],
   "source": [
    "error_df = pd.concat([lin_reg_error, baseline_median_cv_results_error, permutation_error], axis=1)\n",
    "error_df.plot.hist(bins=50, density=True, edgecolor='black')\n",
    "plt.legend(loc='best')\n",
    "plt.xlabel(\"Error Rate / 100\")"
   ]
  },
  {
   "cell_type": "markdown",
   "id": "6d244ae3",
   "metadata": {},
   "source": [
    "#### Clearly our model - `LinearRegression()` is better since it has a lower error. So, we'll imporve it further."
   ]
  },
  {
   "cell_type": "markdown",
   "id": "e4af3320",
   "metadata": {},
   "source": [
    "## `LinearRegression()`"
   ]
  },
  {
   "cell_type": "code",
   "execution_count": 83,
   "id": "f298135a",
   "metadata": {},
   "outputs": [
    {
     "data": {
      "text/html": [
       "<style>#sk-container-id-7 {color: black;background-color: white;}#sk-container-id-7 pre{padding: 0;}#sk-container-id-7 div.sk-toggleable {background-color: white;}#sk-container-id-7 label.sk-toggleable__label {cursor: pointer;display: block;width: 100%;margin-bottom: 0;padding: 0.3em;box-sizing: border-box;text-align: center;}#sk-container-id-7 label.sk-toggleable__label-arrow:before {content: \"▸\";float: left;margin-right: 0.25em;color: #696969;}#sk-container-id-7 label.sk-toggleable__label-arrow:hover:before {color: black;}#sk-container-id-7 div.sk-estimator:hover label.sk-toggleable__label-arrow:before {color: black;}#sk-container-id-7 div.sk-toggleable__content {max-height: 0;max-width: 0;overflow: hidden;text-align: left;background-color: #f0f8ff;}#sk-container-id-7 div.sk-toggleable__content pre {margin: 0.2em;color: black;border-radius: 0.25em;background-color: #f0f8ff;}#sk-container-id-7 input.sk-toggleable__control:checked~div.sk-toggleable__content {max-height: 200px;max-width: 100%;overflow: auto;}#sk-container-id-7 input.sk-toggleable__control:checked~label.sk-toggleable__label-arrow:before {content: \"▾\";}#sk-container-id-7 div.sk-estimator input.sk-toggleable__control:checked~label.sk-toggleable__label {background-color: #d4ebff;}#sk-container-id-7 div.sk-label input.sk-toggleable__control:checked~label.sk-toggleable__label {background-color: #d4ebff;}#sk-container-id-7 input.sk-hidden--visually {border: 0;clip: rect(1px 1px 1px 1px);clip: rect(1px, 1px, 1px, 1px);height: 1px;margin: -1px;overflow: hidden;padding: 0;position: absolute;width: 1px;}#sk-container-id-7 div.sk-estimator {font-family: monospace;background-color: #f0f8ff;border: 1px dotted black;border-radius: 0.25em;box-sizing: border-box;margin-bottom: 0.5em;}#sk-container-id-7 div.sk-estimator:hover {background-color: #d4ebff;}#sk-container-id-7 div.sk-parallel-item::after {content: \"\";width: 100%;border-bottom: 1px solid gray;flex-grow: 1;}#sk-container-id-7 div.sk-label:hover label.sk-toggleable__label {background-color: #d4ebff;}#sk-container-id-7 div.sk-serial::before {content: \"\";position: absolute;border-left: 1px solid gray;box-sizing: border-box;top: 0;bottom: 0;left: 50%;z-index: 0;}#sk-container-id-7 div.sk-serial {display: flex;flex-direction: column;align-items: center;background-color: white;padding-right: 0.2em;padding-left: 0.2em;position: relative;}#sk-container-id-7 div.sk-item {position: relative;z-index: 1;}#sk-container-id-7 div.sk-parallel {display: flex;align-items: stretch;justify-content: center;background-color: white;position: relative;}#sk-container-id-7 div.sk-item::before, #sk-container-id-7 div.sk-parallel-item::before {content: \"\";position: absolute;border-left: 1px solid gray;box-sizing: border-box;top: 0;bottom: 0;left: 50%;z-index: -1;}#sk-container-id-7 div.sk-parallel-item {display: flex;flex-direction: column;z-index: 1;position: relative;background-color: white;}#sk-container-id-7 div.sk-parallel-item:first-child::after {align-self: flex-end;width: 50%;}#sk-container-id-7 div.sk-parallel-item:last-child::after {align-self: flex-start;width: 50%;}#sk-container-id-7 div.sk-parallel-item:only-child::after {width: 0;}#sk-container-id-7 div.sk-dashed-wrapped {border: 1px dashed gray;margin: 0 0.4em 0.5em 0.4em;box-sizing: border-box;padding-bottom: 0.4em;background-color: white;}#sk-container-id-7 div.sk-label label {font-family: monospace;font-weight: bold;display: inline-block;line-height: 1.2em;}#sk-container-id-7 div.sk-label-container {text-align: center;}#sk-container-id-7 div.sk-container {/* jupyter's `normalize.less` sets `[hidden] { display: none; }` but bootstrap.min.css set `[hidden] { display: none !important; }` so we also need the `!important` here to be able to override the default hidden behavior on the sphinx rendered scikit-learn.org. See: https://github.com/scikit-learn/scikit-learn/issues/21755 */display: inline-block !important;position: relative;}#sk-container-id-7 div.sk-text-repr-fallback {display: none;}</style><div id=\"sk-container-id-7\" class=\"sk-top-container\"><div class=\"sk-text-repr-fallback\"><pre>Pipeline(steps=[(&#x27;feature_scaling&#x27;, StandardScaler()),\n",
       "                (&#x27;lin_reg&#x27;, LinearRegression())])</pre><b>In a Jupyter environment, please rerun this cell to show the HTML representation or trust the notebook. <br />On GitHub, the HTML representation is unable to render, please try loading this page with nbviewer.org.</b></div><div class=\"sk-container\" hidden><div class=\"sk-item sk-dashed-wrapped\"><div class=\"sk-label-container\"><div class=\"sk-label sk-toggleable\"><input class=\"sk-toggleable__control sk-hidden--visually\" id=\"sk-estimator-id-17\" type=\"checkbox\" ><label for=\"sk-estimator-id-17\" class=\"sk-toggleable__label sk-toggleable__label-arrow\">Pipeline</label><div class=\"sk-toggleable__content\"><pre>Pipeline(steps=[(&#x27;feature_scaling&#x27;, StandardScaler()),\n",
       "                (&#x27;lin_reg&#x27;, LinearRegression())])</pre></div></div></div><div class=\"sk-serial\"><div class=\"sk-item\"><div class=\"sk-estimator sk-toggleable\"><input class=\"sk-toggleable__control sk-hidden--visually\" id=\"sk-estimator-id-18\" type=\"checkbox\" ><label for=\"sk-estimator-id-18\" class=\"sk-toggleable__label sk-toggleable__label-arrow\">StandardScaler</label><div class=\"sk-toggleable__content\"><pre>StandardScaler()</pre></div></div></div><div class=\"sk-item\"><div class=\"sk-estimator sk-toggleable\"><input class=\"sk-toggleable__control sk-hidden--visually\" id=\"sk-estimator-id-19\" type=\"checkbox\" ><label for=\"sk-estimator-id-19\" class=\"sk-toggleable__label sk-toggleable__label-arrow\">LinearRegression</label><div class=\"sk-toggleable__content\"><pre>LinearRegression()</pre></div></div></div></div></div></div></div>"
      ],
      "text/plain": [
       "Pipeline(steps=[('feature_scaling', StandardScaler()),\n",
       "                ('lin_reg', LinearRegression())])"
      ]
     },
     "execution_count": 83,
     "metadata": {},
     "output_type": "execute_result"
    }
   ],
   "source": [
    "lin_reg_pipeline = Pipeline([(\"feature_scaling\", StandardScaler()),\n",
    "                             (\"lin_reg\", LinearRegression())])\n",
    "lin_reg_pipeline.fit(train_features, train_labels)"
   ]
  },
  {
   "cell_type": "code",
   "execution_count": 85,
   "id": "88f25f29",
   "metadata": {},
   "outputs": [
    {
     "name": "stdout",
     "output_type": "stream",
     "text": [
      "Intercept (w0) :  2.0703489205426377\n",
      "Weight vector (w1, w2, ..., wm) :  [ 0.85210815  0.12065533 -0.30210555  0.34860575 -0.00164465 -0.04116356\n",
      " -0.89314697 -0.86784046]\n"
     ]
    }
   ],
   "source": [
    "print(\"Intercept (w0) : \", lin_reg_pipeline[-1].intercept_)\n",
    "print(\"Weight vector (w1, w2, ..., wm) : \", lin_reg_pipeline[-1].coef_)"
   ]
  },
  {
   "cell_type": "markdown",
   "id": "53c48ae1",
   "metadata": {},
   "source": [
    "See Appendix to know more about the `.score()` function"
   ]
  },
  {
   "cell_type": "code",
   "execution_count": 102,
   "id": "0cb303c7",
   "metadata": {},
   "outputs": [
    {
     "name": "stdout",
     "output_type": "stream",
     "text": [
      "Model performance on test set:  0.5910509795491352\n",
      "Model performance on train set :  0.609873031052925\n"
     ]
    }
   ],
   "source": [
    "test_score = lin_reg_pipeline.score(test_features, test_labels)\n",
    "print(\"Model performance on test set: \", test_score)\n",
    "\n",
    "train_score = lin_reg_pipeline.score(train_features, train_labels)\n",
    "print(\"Model performance on train set : \", train_score)"
   ]
  },
  {
   "cell_type": "markdown",
   "id": "945b33f0",
   "metadata": {},
   "source": [
    "$\\textbf R^2$ score here is low. This points to **underfitting**. Let's confirm it using `cross_validation` score"
   ]
  },
  {
   "cell_type": "code",
   "execution_count": 105,
   "id": "a8f098c4",
   "metadata": {},
   "outputs": [
    {
     "name": "stdout",
     "output_type": "stream",
     "text": [
      "[-0.50009976 -0.52183352 -0.55931218 -0.52110499 -0.56059203 -0.50510767\n",
      " -0.52386194 -0.54775518 -0.5007161  -0.54713448]\n",
      "\n",
      "Score of linear regression model on test set : \n",
      "  -0.5287517875396764 +(or)- 0.022232904569798685\n"
     ]
    }
   ],
   "source": [
    "lin_reg_score = cross_val_score(lin_reg_pipeline, train_features, train_labels, scoring='neg_mean_squared_error', cv=shuffle_split_cv)\n",
    "\n",
    "print(lin_reg_score) # This is a list of 10 scores, since the Shuffle split performed 10 splits.\n",
    "print(\"\\nScore of linear regression model on test set : \\n \", lin_reg_score.mean(), \"+(or)-\", lin_reg_score.std())"
   ]
  },
  {
   "cell_type": "markdown",
   "id": "8707df72",
   "metadata": {},
   "source": [
    "So clearly, the **accuracy (`lin_reg_score`) of our model is low**"
   ]
  },
  {
   "cell_type": "code",
   "execution_count": 107,
   "id": "dbf8f93e",
   "metadata": {
    "scrolled": true
   },
   "outputs": [
    {
     "name": "stdout",
     "output_type": "stream",
     "text": [
      "Mean Squared Error (MSE) of Linear Regression Model on test set :\n",
      " 0.5287517875396764 +(or)- 0.022232904569798685\n"
     ]
    }
   ],
   "source": [
    "lin_reg_mse = -lin_reg_score\n",
    "print(\"Mean Squared Error (MSE) of Linear Regression Model on test set :\\n\", lin_reg_mse.mean(), \"+(or)-\", lin_reg_mse.std())"
   ]
  },
  {
   "cell_type": "markdown",
   "id": "f8ccc785",
   "metadata": {},
   "source": [
    "Alternatively, use **`cross_validate`** API. **This can return the models trained on each fold with train error for that fold.**"
   ]
  },
  {
   "cell_type": "code",
   "execution_count": 113,
   "id": "28e758d6",
   "metadata": {},
   "outputs": [],
   "source": [
    "lin_reg_cv_results = cross_validate(lin_reg_pipeline, train_features, train_labels, cv=shuffle_split_cv, \n",
    "                                    scoring='neg_mean_squared_error', return_train_score=True, return_estimator=True)"
   ]
  },
  {
   "cell_type": "code",
   "execution_count": 114,
   "id": "0e4ac229",
   "metadata": {
    "collapsed": true
   },
   "outputs": [
    {
     "data": {
      "text/plain": [
       "{'fit_time': array([0.02038932, 0.01601696, 0.01595187, 0.01490927, 0.01594782,\n",
       "        0.01395392, 0.01495099, 0.01602912, 0.01395965, 0.01500893]),\n",
       " 'score_time': array([0.00451183, 0.00396419, 0.00299335, 0.00400209, 0.00398612,\n",
       "        0.00437999, 0.0029943 , 0.0029881 , 0.00397801, 0.00396895]),\n",
       " 'estimator': [Pipeline(steps=[('feature_scaling', StandardScaler()),\n",
       "                  ('lin_reg', LinearRegression())]),\n",
       "  Pipeline(steps=[('feature_scaling', StandardScaler()),\n",
       "                  ('lin_reg', LinearRegression())]),\n",
       "  Pipeline(steps=[('feature_scaling', StandardScaler()),\n",
       "                  ('lin_reg', LinearRegression())]),\n",
       "  Pipeline(steps=[('feature_scaling', StandardScaler()),\n",
       "                  ('lin_reg', LinearRegression())]),\n",
       "  Pipeline(steps=[('feature_scaling', StandardScaler()),\n",
       "                  ('lin_reg', LinearRegression())]),\n",
       "  Pipeline(steps=[('feature_scaling', StandardScaler()),\n",
       "                  ('lin_reg', LinearRegression())]),\n",
       "  Pipeline(steps=[('feature_scaling', StandardScaler()),\n",
       "                  ('lin_reg', LinearRegression())]),\n",
       "  Pipeline(steps=[('feature_scaling', StandardScaler()),\n",
       "                  ('lin_reg', LinearRegression())]),\n",
       "  Pipeline(steps=[('feature_scaling', StandardScaler()),\n",
       "                  ('lin_reg', LinearRegression())]),\n",
       "  Pipeline(steps=[('feature_scaling', StandardScaler()),\n",
       "                  ('lin_reg', LinearRegression())])],\n",
       " 'test_score': array([-0.50009976, -0.52183352, -0.55931218, -0.52110499, -0.56059203,\n",
       "        -0.50510767, -0.52386194, -0.54775518, -0.5007161 , -0.54713448]),\n",
       " 'train_score': array([-0.52578695, -0.52035137, -0.51095597, -0.52049611, -0.51060835,\n",
       "        -0.52453922, -0.51994311, -0.5144039 , -0.52578473, -0.51397105])}"
      ]
     },
     "execution_count": 114,
     "metadata": {},
     "output_type": "execute_result"
    }
   ],
   "source": [
    "lin_reg_cv_results # There are 10 values for each key, one for each fold."
   ]
  },
  {
   "cell_type": "code",
   "execution_count": 117,
   "id": "f74aa24e",
   "metadata": {},
   "outputs": [
    {
     "name": "stdout",
     "output_type": "stream",
     "text": [
      "Mean Squared Error (MSE) of Linear Regression Model on training set :\n",
      " 0.5186840759388986 +(or)- 0.005552249067390957\n",
      "\n",
      "Mean Squared Error (MSE) of Linear Regression Model on test set :\n",
      " 0.5287517875396764 +(or)- 0.022232904569798685\n"
     ]
    }
   ],
   "source": [
    "train_error = -1 * lin_reg_cv_results['train_score']\n",
    "test_error = -1 * lin_reg_cv_results['test_score']\n",
    "\n",
    "print(\"Mean Squared Error (MSE) of Linear Regression Model on training set :\\n\", train_error.mean(), \"+(or)-\", train_error.std())\n",
    "print(\"\\nMean Squared Error (MSE) of Linear Regression Model on test set :\\n\", test_error.mean(), \"+(or)-\", test_error.std())"
   ]
  },
  {
   "cell_type": "code",
   "execution_count": 122,
   "id": "eb4863ad",
   "metadata": {},
   "outputs": [
    {
     "data": {
      "text/plain": [
       "Index(['MedInc', 'HouseAge', 'AveRooms', 'AveBedrms', 'Population', 'AveOccup',\n",
       "       'Latitude', 'Longitude'],\n",
       "      dtype='object')"
      ]
     },
     "execution_count": 122,
     "metadata": {},
     "output_type": "execute_result"
    }
   ],
   "source": [
    "train_features.columns"
   ]
  },
  {
   "cell_type": "code",
   "execution_count": 157,
   "id": "1b3c98ff",
   "metadata": {},
   "outputs": [
    {
     "data": {
      "text/plain": [
       "<AxesSubplot:>"
      ]
     },
     "execution_count": 157,
     "metadata": {},
     "output_type": "execute_result"
    },
    {
     "data": {
      "image/png": "[encoded data removed]",
      "text/plain": [
       "<Figure size 432x288 with 1 Axes>"
      ]
     },
     "metadata": {
      "needs_background": "light"
     },
     "output_type": "display_data"
    }
   ],
   "source": [
    "# We want to store the LinearRegression estimator's weight vector at each step. (estimator[-1].coef_) gives the LinearRegression estimator's weight vector \n",
    "\n",
    "coefs = [est[-1].coef_ for est in lin_reg_cv_results['estimator']]\n",
    "weights_df = pd.DataFrame(coefs, columns=train_features.columns)\n",
    "\n",
    "weights_df.plot.box(vert=False)"
   ]
  },
  {
   "cell_type": "code",
   "execution_count": 125,
   "id": "1f60973b",
   "metadata": {},
   "outputs": [
    {
     "data": {
      "text/html": [
       "<div>\n",
       "<style scoped>\n",
       "    .dataframe tbody tr th:only-of-type {\n",
       "        vertical-align: middle;\n",
       "    }\n",
       "\n",
       "    .dataframe tbody tr th {\n",
       "        vertical-align: top;\n",
       "    }\n",
       "\n",
       "    .dataframe thead th {\n",
       "        text-align: right;\n",
       "    }\n",
       "</style>\n",
       "<table border=\"1\" class=\"dataframe\">\n",
       "  <thead>\n",
       "    <tr style=\"text-align: right;\">\n",
       "      <th></th>\n",
       "      <th>MedInc</th>\n",
       "      <th>HouseAge</th>\n",
       "      <th>AveRooms</th>\n",
       "      <th>AveBedrms</th>\n",
       "      <th>Population</th>\n",
       "      <th>AveOccup</th>\n",
       "      <th>Latitude</th>\n",
       "      <th>Longitude</th>\n",
       "    </tr>\n",
       "  </thead>\n",
       "  <tbody>\n",
       "    <tr>\n",
       "      <th>count</th>\n",
       "      <td>10.000000</td>\n",
       "      <td>10.000000</td>\n",
       "      <td>10.000000</td>\n",
       "      <td>10.000000</td>\n",
       "      <td>10.000000</td>\n",
       "      <td>10.000000</td>\n",
       "      <td>10.000000</td>\n",
       "      <td>10.000000</td>\n",
       "    </tr>\n",
       "    <tr>\n",
       "      <th>mean</th>\n",
       "      <td>0.852153</td>\n",
       "      <td>0.122770</td>\n",
       "      <td>-0.304384</td>\n",
       "      <td>0.353528</td>\n",
       "      <td>-0.001576</td>\n",
       "      <td>-0.037059</td>\n",
       "      <td>-0.894011</td>\n",
       "      <td>-0.869753</td>\n",
       "    </tr>\n",
       "    <tr>\n",
       "      <th>std</th>\n",
       "      <td>0.005763</td>\n",
       "      <td>0.004312</td>\n",
       "      <td>0.010998</td>\n",
       "      <td>0.018044</td>\n",
       "      <td>0.003254</td>\n",
       "      <td>0.008582</td>\n",
       "      <td>0.009975</td>\n",
       "      <td>0.009097</td>\n",
       "    </tr>\n",
       "    <tr>\n",
       "      <th>min</th>\n",
       "      <td>0.843517</td>\n",
       "      <td>0.117394</td>\n",
       "      <td>-0.318971</td>\n",
       "      <td>0.307474</td>\n",
       "      <td>-0.005787</td>\n",
       "      <td>-0.047584</td>\n",
       "      <td>-0.908058</td>\n",
       "      <td>-0.884206</td>\n",
       "    </tr>\n",
       "    <tr>\n",
       "      <th>25%</th>\n",
       "      <td>0.848871</td>\n",
       "      <td>0.119895</td>\n",
       "      <td>-0.310778</td>\n",
       "      <td>0.349715</td>\n",
       "      <td>-0.002688</td>\n",
       "      <td>-0.042486</td>\n",
       "      <td>-0.901411</td>\n",
       "      <td>-0.876542</td>\n",
       "    </tr>\n",
       "    <tr>\n",
       "      <th>50%</th>\n",
       "      <td>0.852711</td>\n",
       "      <td>0.121592</td>\n",
       "      <td>-0.305795</td>\n",
       "      <td>0.360139</td>\n",
       "      <td>-0.002063</td>\n",
       "      <td>-0.042325</td>\n",
       "      <td>-0.895370</td>\n",
       "      <td>-0.869631</td>\n",
       "    </tr>\n",
       "    <tr>\n",
       "      <th>75%</th>\n",
       "      <td>0.854743</td>\n",
       "      <td>0.125520</td>\n",
       "      <td>-0.302980</td>\n",
       "      <td>0.364646</td>\n",
       "      <td>-0.000350</td>\n",
       "      <td>-0.027562</td>\n",
       "      <td>-0.883967</td>\n",
       "      <td>-0.862110</td>\n",
       "    </tr>\n",
       "    <tr>\n",
       "      <th>max</th>\n",
       "      <td>0.861659</td>\n",
       "      <td>0.130560</td>\n",
       "      <td>-0.278426</td>\n",
       "      <td>0.367952</td>\n",
       "      <td>0.005297</td>\n",
       "      <td>-0.026331</td>\n",
       "      <td>-0.881884</td>\n",
       "      <td>-0.857844</td>\n",
       "    </tr>\n",
       "  </tbody>\n",
       "</table>\n",
       "</div>"
      ],
      "text/plain": [
       "          MedInc   HouseAge   AveRooms  AveBedrms  Population   AveOccup  \\\n",
       "count  10.000000  10.000000  10.000000  10.000000   10.000000  10.000000   \n",
       "mean    0.852153   0.122770  -0.304384   0.353528   -0.001576  -0.037059   \n",
       "std     0.005763   0.004312   0.010998   0.018044    0.003254   0.008582   \n",
       "min     0.843517   0.117394  -0.318971   0.307474   -0.005787  -0.047584   \n",
       "25%     0.848871   0.119895  -0.310778   0.349715   -0.002688  -0.042486   \n",
       "50%     0.852711   0.121592  -0.305795   0.360139   -0.002063  -0.042325   \n",
       "75%     0.854743   0.125520  -0.302980   0.364646   -0.000350  -0.027562   \n",
       "max     0.861659   0.130560  -0.278426   0.367952    0.005297  -0.026331   \n",
       "\n",
       "        Latitude  Longitude  \n",
       "count  10.000000  10.000000  \n",
       "mean   -0.894011  -0.869753  \n",
       "std     0.009975   0.009097  \n",
       "min    -0.908058  -0.884206  \n",
       "25%    -0.901411  -0.876542  \n",
       "50%    -0.895370  -0.869631  \n",
       "75%    -0.883967  -0.862110  \n",
       "max    -0.881884  -0.857844  "
      ]
     },
     "execution_count": 125,
     "metadata": {},
     "output_type": "execute_result"
    }
   ],
   "source": [
    "weights_df.describe()"
   ]
  },
  {
   "cell_type": "markdown",
   "id": "619d5399",
   "metadata": {},
   "source": [
    "Note that variance of the features AveRooms and AveBedrms are higher than the others. Also, Population seems to have outliers, since the 75% percentile is significantly different from the max value."
   ]
  },
  {
   "cell_type": "markdown",
   "id": "120ed514",
   "metadata": {},
   "source": [
    "## <a id=\"FTBM\"></a>Finding The Best Model\n",
    "In order to the find the best model, locate the estimator among all the folds that returned the least test error"
   ]
  },
  {
   "cell_type": "code",
   "execution_count": 137,
   "id": "0703679d",
   "metadata": {},
   "outputs": [
    {
     "name": "stdout",
     "output_type": "stream",
     "text": [
      "Test error :  [0.50009976 0.52183352 0.55931218 0.52110499 0.56059203 0.50510767\n",
      " 0.52386194 0.54775518 0.5007161  0.54713448]\n",
      "\n",
      "Index of minimum value in test error :  0\n",
      "\n",
      "Intercept (w0) :  2.0779898917958657\n",
      "\n",
      "Weight vector (w1, w2, ..., wm) : \n",
      " [ 8.44324888e-01  1.18463901e-01 -3.04619574e-01  3.56620503e-01\n",
      "  1.74458509e-04 -4.23964612e-02 -8.96045642e-01 -8.68906479e-01]\n"
     ]
    }
   ],
   "source": [
    "print(\"Test error : \", test_error)\n",
    "print(\"\\nIndex of minimum value in test error : \", np.argmin(test_error))\n",
    "\n",
    "selected_model = lin_reg_cv_results['estimator'][np.argmin(test_error)]\n",
    "# print(\"\\nSelected Model : \", selected_model) to see the selected model. ll the models are here lin_reg_pipeline, we can't tell which was chosen. So, we print the last step ( here, the intercept and the weight vector of the linearRegression ) \n",
    "\n",
    "print(\"\\nIntercept (w0) : \", selected_model[-1].intercept_)\n",
    "print(\"\\nWeight vector (w1, w2, ..., wm) : \\n\", selected_model[-1].coef_)"
   ]
  },
  {
   "cell_type": "markdown",
   "id": "d6a0158e",
   "metadata": {},
   "source": [
    "Let us see how the actual and predicted labels for the training set differs"
   ]
  },
  {
   "cell_type": "code",
   "execution_count": 159,
   "id": "1bb939dc",
   "metadata": {},
   "outputs": [],
   "source": [
    "from sklearn.model_selection import cross_val_predict"
   ]
  },
  {
   "cell_type": "code",
   "execution_count": 151,
   "id": "708f6819",
   "metadata": {},
   "outputs": [
    {
     "data": {
      "text/plain": [
       "Text(0.5, 1.0, 'Mean squared error = 0.52')"
      ]
     },
     "execution_count": 151,
     "metadata": {},
     "output_type": "execute_result"
    },
    {
     "data": {
      "image/png": "[encoded data removed]",
      "text/plain": [
       "<Figure size 432x288 with 1 Axes>"
      ]
     },
     "metadata": {
      "needs_background": "light"
     },
     "output_type": "display_data"
    }
   ],
   "source": [
    "cv_predictions = cross_val_predict(lin_reg_pipeline, train_features, train_labels)\n",
    "plt.scatter(train_labels, cv_predictions, color='blue')\n",
    "plt.plot(train_labels, train_labels, 'r-')\n",
    "mse_cv = mean_squared_error(train_labels, cv_predictions)\n",
    "plot_title = \"Mean squared error = {:.2f}\".format(mse_cv)\n",
    "plt.title(plot_title, size=16)"
   ]
  },
  {
   "cell_type": "markdown",
   "id": "f566701c",
   "metadata": {},
   "source": [
    "Once the final model has been selected, use it to predict on test_features"
   ]
  },
  {
   "cell_type": "code",
   "execution_count": 154,
   "id": "2bf2b6c5",
   "metadata": {},
   "outputs": [
    {
     "data": {
      "text/plain": [
       "array([0.73548515, 1.7725621 , 2.70011199, 2.83716602, 2.60743151])"
      ]
     },
     "execution_count": 154,
     "metadata": {},
     "output_type": "execute_result"
    }
   ],
   "source": [
    "test_predictions_cv = selected_model.predict(test_features)\n",
    "test_predictions_cv[:5]"
   ]
  },
  {
   "cell_type": "markdown",
   "id": "3822828f",
   "metadata": {},
   "source": [
    "Let us compare the above with the predictions on same test_features we built without cross-validation :"
   ]
  },
  {
   "cell_type": "code",
   "execution_count": 156,
   "id": "6f7fbc94",
   "metadata": {},
   "outputs": [
    {
     "data": {
      "text/plain": [
       "array([0.72412832, 1.76677807, 2.71151581, 2.83601179, 2.603755  ])"
      ]
     },
     "execution_count": 156,
     "metadata": {},
     "output_type": "execute_result"
    }
   ],
   "source": [
    "test_predictions = lin_reg_pipeline.predict(test_features)\n",
    "test_predictions[:5]"
   ]
  },
  {
   "cell_type": "markdown",
   "id": "6089deef",
   "metadata": {},
   "source": [
    "####  Evaluation on the selected model"
   ]
  },
  {
   "cell_type": "code",
   "execution_count": 161,
   "id": "71ff28fb",
   "metadata": {},
   "outputs": [
    {
     "name": "stdout",
     "output_type": "stream",
     "text": [
      "Model performance on test set:  0.5923577635319088\n",
      "Model performance on train set :  0.6098001134259827\n"
     ]
    }
   ],
   "source": [
    "test_score = selected_model.score(test_features, test_labels)\n",
    "print(\"Model performance on test set: \", test_score)\n",
    "\n",
    "train_score = selected_model.score(train_features, train_labels)\n",
    "print(\"Model performance on train set : \", train_score)"
   ]
  },
  {
   "cell_type": "markdown",
   "id": "9f75e995",
   "metadata": {},
   "source": [
    "#### Evaluation on original model \n",
    "The one wiithout cross-validation. This was calculated before as well."
   ]
  },
  {
   "cell_type": "code",
   "execution_count": 160,
   "id": "6410ce7a",
   "metadata": {},
   "outputs": [
    {
     "name": "stdout",
     "output_type": "stream",
     "text": [
      "Model performance on test set:  0.5910509795491352\n",
      "Model performance on train set :  0.609873031052925\n"
     ]
    }
   ],
   "source": [
    "test_score = lin_reg_pipeline.score(test_features, test_labels)\n",
    "print(\"Model performance on test set: \", test_score)\n",
    "\n",
    "train_score = lin_reg_pipeline.score(train_features, train_labels)\n",
    "print(\"Model performance on train set : \", train_score)"
   ]
  },
  {
   "cell_type": "markdown",
   "id": "bf5aca42",
   "metadata": {},
   "source": [
    "#### Note that the test scores are marginally ( slightly ) higher with cross validation"
   ]
  },
  {
   "cell_type": "markdown",
   "id": "4fac7921",
   "metadata": {},
   "source": [
    "### Learning Curve\n",
    "It determines cross-validated training and test scores for different training\n",
    "set sizes."
   ]
  },
  {
   "cell_type": "code",
   "execution_count": 168,
   "id": "e852e803",
   "metadata": {},
   "outputs": [],
   "source": [
    "result = learning_curve(lin_reg_pipeline, train_features, train_labels, cv=shuffle_split_cv, scoring='neg_mean_squared_error', \n",
    "                        n_jobs=-1, return_times=True, train_sizes=np.linspace(0.2, 1.0, 10))\n",
    "                        \n",
    "(train_sizes, train_scores, test_scores, fit_times, score_times) = result\n",
    "\n",
    "# for (size, train_score, test_score) in zip(train_sizes, train_scores, test_scores):\n",
    "#     print(\"For a training set with\", size, \"samples : \\n\",\n",
    "#           \"\\nTrain score is : \\n\", [round(each,3) for each in train_score],\n",
    "#           \"\\nTest score is : \\n\", [round(each,3) for each in test_score])"
   ]
  },
  {
   "cell_type": "markdown",
   "id": "3986537f",
   "metadata": {},
   "source": [
    "## <a id=\"APPENDIX\"></a>Appendix"
   ]
  },
  {
   "cell_type": "markdown",
   "id": "0569c6c4",
   "metadata": {},
   "source": [
    "**NOTE :** `.score()` function returns the $ \\textbf R^2 $ score which is :\n",
    "\n",
    "\\begin{align} R^2&=1-\\frac{\\text{sum squared regression (SSR)}}{\\text{total sum of squares (SST)}},\\\\ &=1-\\frac{\\sum({y_i}-\\hat{y_i})^2}{\\sum(y_i-\\bar{y})^2}. \\end{align}\n",
    "\n",
    "where $\\bar y$ is the mean and $\\hat y_{i}$ is the predicted value for the $i^{th}$ data\n",
    "\n",
    "Rule of thumb : **Higher the better**\n",
    "\n",
    "<br>\n",
    "\n",
    "<br>\n",
    "\n",
    "For a better understanding, see below :\n",
    "\n",
    "\n",
    "<img src=\"R2_Interpretation.png\"></img>"
   ]
  }
 ],
 "metadata": {
  "kernelspec": {
   "display_name": "Python 3 (ipykernel)",
   "language": "python",
   "name": "python3"
  },
  "language_info": {
   "codemirror_mode": {
    "name": "ipython",
    "version": 3
   },
   "file_extension": ".py",
   "mimetype": "text/x-python",
   "name": "python",
   "nbconvert_exporter": "python",
   "pygments_lexer": "ipython3",
   "version": "3.9.7"
  }
 },
 "nbformat": 4,
 "nbformat_minor": 5
}

{
 "cells": [
  {
   "cell_type": "markdown",
   "id": "06b6ef59",
   "metadata": {},
   "source": [
    "# Loaders, Fetcher and Generators"
   ]
  },
  {
   "cell_type": "markdown",
   "id": "fd91f9d4",
   "metadata": {},
   "source": [
    "## Loaders\n",
    "\n",
    "- Used to load small standard datasets bundled with sklearn\n",
    "- Returns a `bunch` object "
   ]
  },
  {
   "cell_type": "code",
   "execution_count": 12,
   "id": "38c175a0",
   "metadata": {},
   "outputs": [],
   "source": [
    "import sys\n",
    "print(sys.executable)\n",
    "!{sys.executable} -m pip install sklearn"
   ]
  },
  {
   "cell_type": "code",
   "execution_count": 2,
   "id": "303d4408",
   "metadata": {},
   "outputs": [
    {
     "data": {
      "text/plain": [
       "sklearn.utils.Bunch"
      ]
     },
     "execution_count": 2,
     "metadata": {},
     "output_type": "execute_result"
    }
   ],
   "source": [
    "from sklearn.datasets import load_iris\n",
    "data = load_iris()\n",
    "type(data)\n",
    "# print(data.DESCR)"
   ]
  },
  {
   "cell_type": "markdown",
   "id": "58a87167",
   "metadata": {},
   "source": [
    "This return a bunch object data which is a dictionary-like object with the following attributes :\n",
    "\n",
    "- `data`, which the feature matrix\n",
    "- `target`, which is the label vector\n",
    "- `feature_names` contains the name of the features\n",
    "- `target_names` contain the names of the dataser\n",
    "- `DESCR` has the full description of dataset\n",
    "- `filename` has the path to the location of data\n",
    "    "
   ]
  },
  {
   "cell_type": "code",
   "execution_count": 14,
   "id": "45d19fa8",
   "metadata": {
    "scrolled": true
   },
   "outputs": [
    {
     "data": {
      "text/plain": [
       "['sepal length (cm)',\n",
       " 'sepal width (cm)',\n",
       " 'petal length (cm)',\n",
       " 'petal width (cm)']"
      ]
     },
     "execution_count": 14,
     "metadata": {},
     "output_type": "execute_result"
    }
   ],
   "source": [
    "data.feature_names"
   ]
  },
  {
   "cell_type": "code",
   "execution_count": 15,
   "id": "cf0e8f09",
   "metadata": {},
   "outputs": [
    {
     "data": {
      "text/plain": [
       "array(['setosa', 'versicolor', 'virginica'], dtype='<U10')"
      ]
     },
     "execution_count": 15,
     "metadata": {},
     "output_type": "execute_result"
    }
   ],
   "source": [
    "data.target_names"
   ]
  },
  {
   "cell_type": "markdown",
   "id": "b79e2fbe",
   "metadata": {},
   "source": [
    "#### The feature matrix "
   ]
  },
  {
   "cell_type": "code",
   "execution_count": 97,
   "id": "aa4e2f82",
   "metadata": {},
   "outputs": [
    {
     "data": {
      "text/plain": [
       "(150, 4)"
      ]
     },
     "execution_count": 97,
     "metadata": {},
     "output_type": "execute_result"
    }
   ],
   "source": [
    "# The actual data \n",
    "data.data \n",
    "\n",
    "# The first 5\n",
    "data.data[:5]\n",
    "\n",
    "# Shape of the data\n",
    "data.data.shape"
   ]
  },
  {
   "cell_type": "markdown",
   "id": "31f5805d",
   "metadata": {},
   "source": [
    "There are 150 examples and each example with 4 features"
   ]
  },
  {
   "cell_type": "markdown",
   "id": "fc318112",
   "metadata": {},
   "source": [
    "#### The taget matrix  ( label )"
   ]
  },
  {
   "cell_type": "code",
   "execution_count": 33,
   "id": "1040b3fc",
   "metadata": {
    "collapsed": true
   },
   "outputs": [
    {
     "data": {
      "text/plain": [
       "array([0, 0, 0, 0, 0, 0, 0, 0, 0, 0, 0, 0, 0, 0, 0, 0, 0, 0, 0, 0, 0, 0,\n",
       "       0, 0, 0, 0, 0, 0, 0, 0, 0, 0, 0, 0, 0, 0, 0, 0, 0, 0, 0, 0, 0, 0,\n",
       "       0, 0, 0, 0, 0, 0, 1, 1, 1, 1, 1, 1, 1, 1, 1, 1, 1, 1, 1, 1, 1, 1,\n",
       "       1, 1, 1, 1, 1, 1, 1, 1, 1, 1, 1, 1, 1, 1, 1, 1, 1, 1, 1, 1, 1, 1,\n",
       "       1, 1, 1, 1, 1, 1, 1, 1, 1, 1, 1, 1, 2, 2, 2, 2, 2, 2, 2, 2, 2, 2,\n",
       "       2, 2, 2, 2, 2, 2, 2, 2, 2, 2, 2, 2, 2, 2, 2, 2, 2, 2, 2, 2, 2, 2,\n",
       "       2, 2, 2, 2, 2, 2, 2, 2, 2, 2, 2, 2, 2, 2, 2, 2, 2, 2])"
      ]
     },
     "execution_count": 33,
     "metadata": {},
     "output_type": "execute_result"
    }
   ],
   "source": [
    "# The actual data \n",
    "data.target\n",
    "\n",
    "# Shape of the data\n",
    "data.target.shape"
   ]
  },
  {
   "cell_type": "markdown",
   "id": "510402b0",
   "metadata": {},
   "source": [
    "There are 50 examples and each of three classes : 0,1 and 2"
   ]
  },
  {
   "cell_type": "markdown",
   "id": "e1a71e04",
   "metadata": {},
   "source": [
    "**We can read additional documentaion about `load_iris` in the following manner**"
   ]
  },
  {
   "cell_type": "code",
   "execution_count": 25,
   "id": "68391a1c",
   "metadata": {},
   "outputs": [],
   "source": [
    "?load_iris"
   ]
  },
  {
   "cell_type": "markdown",
   "id": "5b94da5a",
   "metadata": {},
   "source": [
    "<br>\n",
    "\n",
    "**Alternate way :** \n",
    "We can obtain the feature matrix and the target ( label ) from `load_iris` and other loaders in general by setting `return_X_y` argument to `True`. This returns a tuple instead of a `Bunch` object"
   ]
  },
  {
   "cell_type": "code",
   "execution_count": 5,
   "id": "56956914",
   "metadata": {
    "scrolled": true
   },
   "outputs": [
    {
     "name": "stdout",
     "output_type": "stream",
     "text": [
      "Shape of the feature matrix :  (150, 4)\n",
      "Shape of the label vector :  (150,)\n"
     ]
    }
   ],
   "source": [
    "feature_matrix, label_vector = load_iris(return_X_y=True)\n",
    "print(\"Shape of the feature matrix : \", feature_matrix.shape)\n",
    "print(\"Shape of the label vector : \", label_vector.shape)"
   ]
  },
  {
   "cell_type": "markdown",
   "id": "330f1a03",
   "metadata": {},
   "source": [
    "<br>\n",
    "\n",
    "## Fetchers\n",
    "\n",
    "- Used to fetch large datasets from the internet and load them into memory\n",
    "- Returns a `bunch` object "
   ]
  },
  {
   "cell_type": "markdown",
   "id": "436a59ee",
   "metadata": {},
   "source": [
    "**Step 1 :** Import the library and access the documentation "
   ]
  },
  {
   "cell_type": "code",
   "execution_count": 35,
   "id": "1f19bf4b",
   "metadata": {},
   "outputs": [],
   "source": [
    "# california_housing is not bundled with sklear. We are fetching it from the internet\n",
    "\n",
    "from sklearn.datasets import fetch_california_housing\n",
    "?fetch_california_housing"
   ]
  },
  {
   "cell_type": "markdown",
   "id": "14a8117f",
   "metadata": {},
   "source": [
    "**Step 2 :** Load the dataset, obtain the `Bunch` object and examine it"
   ]
  },
  {
   "cell_type": "code",
   "execution_count": 46,
   "id": "0f024af3",
   "metadata": {},
   "outputs": [],
   "source": [
    "housing_data = fetch_california_housing()\n",
    "housing_data.DESCR"
   ]
  },
  {
   "cell_type": "markdown",
   "id": "6e86fc52",
   "metadata": {},
   "source": [
    "#### Feature and Target Matrix ( Label Vector )"
   ]
  },
  {
   "cell_type": "code",
   "execution_count": 48,
   "id": "86a9ce00",
   "metadata": {},
   "outputs": [
    {
     "data": {
      "text/plain": [
       "(20640, 8)"
      ]
     },
     "execution_count": 48,
     "metadata": {},
     "output_type": "execute_result"
    }
   ],
   "source": [
    "housing_data.feature_names\n",
    "housing_data.data\n",
    "housing_data.data.shape"
   ]
  },
  {
   "cell_type": "code",
   "execution_count": 51,
   "id": "6613b66d",
   "metadata": {},
   "outputs": [
    {
     "data": {
      "text/plain": [
       "(20640,)"
      ]
     },
     "execution_count": 51,
     "metadata": {},
     "output_type": "execute_result"
    }
   ],
   "source": [
    "# Target Matrix ( Label Vector )\n",
    "\n",
    "housing_data.target_names\n",
    "housing_data.target\n",
    "housing_data.target.shape"
   ]
  },
  {
   "cell_type": "markdown",
   "id": "4cce6aab",
   "metadata": {},
   "source": [
    "<br>\n",
    "\n",
    "## Generators\n",
    "\n",
    "- Used to generate controlled synthetic datasets\n",
    "- Returns a tuple of feature matrix and label vectors or matrix"
   ]
  },
  {
   "cell_type": "markdown",
   "id": "2dc5ad2e",
   "metadata": {},
   "source": [
    "### For Regression Problems"
   ]
  },
  {
   "cell_type": "markdown",
   "id": "4fb923c7",
   "metadata": {},
   "source": [
    "We use `make_regression` to generate data for regression problems"
   ]
  },
  {
   "cell_type": "code",
   "execution_count": 7,
   "id": "82b13761",
   "metadata": {},
   "outputs": [],
   "source": [
    "from sklearn.datasets import make_regression\n",
    "?make_regression"
   ]
  },
  {
   "cell_type": "markdown",
   "id": "8367dcae",
   "metadata": {},
   "source": [
    "#### Example 1\n",
    "\n",
    "Let's generate 100 samples with 5 features for a single label regression problem. "
   ]
  },
  {
   "cell_type": "code",
   "execution_count": 9,
   "id": "7204c052",
   "metadata": {},
   "outputs": [],
   "source": [
    "x, y = make_regression(n_samples=100, n_features=5, n_targets=1, shuffle=True, random_state=2)"
   ]
  },
  {
   "cell_type": "markdown",
   "id": "2b945382",
   "metadata": {},
   "source": [
    "It's a good practice to set the seed so that we get to see repeatability in experiment. That's why we set the `random_state` to some seed value."
   ]
  },
  {
   "cell_type": "code",
   "execution_count": 13,
   "id": "0e8539de",
   "metadata": {
    "collapsed": true
   },
   "outputs": [
    {
     "name": "stdout",
     "output_type": "stream",
     "text": [
      "[[-2.17135269e-01 -2.34360319e+00  1.17353150e+00  3.80471970e-01\n",
      "   1.04082395e+00]\n",
      " [ 1.14485538e+00  8.29789046e-01 -1.52117687e-01 -1.64515057e-01\n",
      "   5.62669078e-01]\n",
      " [-4.05286267e-01  1.18604868e+00 -1.37775793e+00 -7.94872445e-01\n",
      "   3.63433972e-01]\n",
      " [-1.35479764e-01  1.90437591e+00  3.35908395e-01  3.76545911e-01\n",
      "   5.85199353e-02]\n",
      " [-8.49995503e-01 -4.79985112e-01 -8.52341797e-01  6.65334278e-01\n",
      "   8.53644334e-02]\n",
      " [ 4.40689872e-01 -5.83414595e-01 -7.19253841e-01  1.83533272e+00\n",
      "   2.58529487e+00]\n",
      " [ 4.15393930e-02  5.39058321e-01 -1.11792545e+00  2.29220801e+00\n",
      "   5.51454045e-01]\n",
      " [ 1.17500122e+00  9.02525097e-03 -7.47870949e-01 -1.91304965e-02\n",
      "  -5.96159700e-01]\n",
      " [ 2.10222927e+00  5.35558351e-01  6.61264168e-02  6.35363758e-01\n",
      "   4.25606211e-01]\n",
      " [-6.57718447e-01 -4.89157001e-01  8.20564332e-01 -8.34437391e-01\n",
      "  -2.07492237e+00]\n",
      " [-1.18761229e+00 -1.53495196e-01 -1.42121723e+00 -6.37655012e-01\n",
      "  -2.36184031e-01]\n",
      " [-2.74242089e-01 -4.47500876e-01  1.74181219e+00  1.11788673e+00\n",
      "   4.23496900e-01]\n",
      " [ 5.08396243e-01 -1.85861239e+00  2.16116006e-01 -6.34679305e-01\n",
      "   1.27837923e+00]\n",
      " [-3.23580070e-01  7.99179995e-01  4.23824708e-01  4.32395701e-01\n",
      "  -1.02141473e+00]\n",
      " [ 1.82599446e+00 -7.66395640e-02 -1.71406741e+00 -2.50545813e+00\n",
      "  -4.48174823e-01]\n",
      " [-1.86809065e+00  1.46767801e+00  1.73118467e+00  7.71011738e-01\n",
      "  -3.13508197e-01]\n",
      " [-3.95702397e-02 -2.04032305e+00  3.26003433e-01 -1.32328898e-01\n",
      "  -4.19316482e-01]\n",
      " [ 2.56570452e-01 -3.38821966e-01 -9.88779049e-01 -1.56434170e-01\n",
      "  -8.78107893e-01]\n",
      " [-1.18275720e+00  1.02659795e+00  7.79480054e-01 -1.05491567e+00\n",
      "  -5.80383038e-01]\n",
      " [-9.38998998e-01 -5.64493432e-01  6.28775807e-01  7.17805695e-01\n",
      "   5.76909718e-01]\n",
      " [ 2.36040923e-01  1.54627765e+00  4.94035871e-01 -1.76606800e-02\n",
      "   6.79267178e-01]\n",
      " [-2.22734129e+00 -7.08763560e-02  2.06689897e-01 -1.91663052e+00\n",
      "   7.65069481e-01]\n",
      " [-1.43943903e+00  7.35279576e-01  5.24296430e-01 -6.77675577e-01\n",
      "   4.62555231e-02]\n",
      " [-4.54227855e-01  8.29458431e-01  5.14370717e-01  3.02629336e-01\n",
      "   1.33556617e+00]\n",
      " [-1.67168774e-01  4.16021749e-01 -5.76610930e-01 -1.24572655e+00\n",
      "   1.24845030e+00]\n",
      " [-1.13431848e+00 -1.22142917e+00 -7.07420888e-01  7.58370347e-01\n",
      "   9.60781945e-01]\n",
      " [-8.22453750e-02 -1.59724130e-01 -3.04666585e-01 -2.02559359e+00\n",
      "  -1.31756727e+00]\n",
      " [-3.15828043e-01  4.88496666e-01 -1.12590378e+00  1.54829069e+00\n",
      "   3.09846277e-01]\n",
      " [ 1.01871705e+00  1.62109298e+00  2.30237829e+00  9.40175993e-01\n",
      "   1.83094666e+00]\n",
      " [-3.75669423e-01  4.33496330e-01 -7.44707629e-02 -3.81092518e-01\n",
      "   1.00036589e+00]\n",
      " [ 4.79705919e-02  8.77102184e-02 -8.29135289e-01  6.11340780e-01\n",
      "  -3.35677339e-01]\n",
      " [-9.10065643e-01  2.99210670e-01  1.17645419e+00 -1.19814038e+00\n",
      "  -1.90382114e+00]\n",
      " [ 4.97425649e-01  8.21120877e-01  4.10869262e+00  2.41439629e-01\n",
      "   7.56502143e-01]\n",
      " [-9.14526229e-02 -2.03346655e+00  6.95119605e-01 -2.65944946e+00\n",
      "   1.58448706e+00]\n",
      " [ 1.93315697e+00 -5.71381608e-01 -1.07079633e+00 -7.21879726e-01\n",
      "   1.02818490e+00]\n",
      " [-1.52939136e+00  7.80754356e-01 -3.07987737e-01 -1.01787805e+00\n",
      "   1.09801004e+00]\n",
      " [ 1.46833213e+00 -1.17315562e+00 -2.21320943e-01  9.31887358e-01\n",
      "  -5.78472626e-02]\n",
      " [-8.44213704e-01  5.42352572e-01  9.76147160e-06  5.01857207e-01\n",
      "   1.35963386e+00]\n",
      " [-1.06706712e+00 -6.12094750e-01 -6.52931145e-01 -6.75661789e-01\n",
      "  -1.65220029e+00]\n",
      " [ 1.94168696e-01 -2.03872918e-02  5.86204098e-01  7.86146070e-01\n",
      "  -3.73338813e-01]\n",
      " [ 6.31798924e-01  1.61517627e+00  4.17592731e-01  6.73134124e-02\n",
      "  -4.14408598e-01]\n",
      " [ 3.70304843e-01  9.02179395e-01  1.08580640e+00  1.13274608e+00\n",
      "  -1.33858888e+00]\n",
      " [ 7.47598942e-01  1.11064528e+00 -2.32897001e-01 -1.80071604e+00\n",
      "   7.12061227e-01]\n",
      " [ 1.84301739e-01  2.87208202e-01 -3.30675843e-01 -5.43883381e-01\n",
      "  -1.05583964e+00]\n",
      " [ 1.21105582e-01  6.04624490e-02 -8.46828752e-01  2.14467809e+00\n",
      "  -3.12270670e-01]\n",
      " [ 7.07592866e-01 -1.28089518e+00  1.14053878e-01 -1.31682403e-01\n",
      "   8.37615794e-01]\n",
      " [ 2.99526813e-01 -8.40443012e-01  5.52663696e-01 -5.52949440e-01\n",
      "   2.39951198e-01]\n",
      " [-1.63962832e-01  1.86521520e-01  3.71622161e-01 -4.95778848e-01\n",
      "   2.28253964e+00]\n",
      " [ 1.64191464e+00  1.45116990e+00  3.11697707e-01  4.19576292e-02\n",
      "  -6.03140792e-01]\n",
      " [ 8.46311892e-01  1.26504175e-01  4.97940148e-01 -1.48246548e+00\n",
      "   1.01985473e+00]\n",
      " [-2.13619610e+00 -1.79343559e+00  1.64027081e+00 -5.62668272e-02\n",
      "  -4.16757847e-01]\n",
      " [-1.11526396e+00 -4.52632031e-02  1.91260068e+00 -1.01446306e+00\n",
      "  -9.52897152e-01]\n",
      " [ 3.07525527e-01  2.67033724e+00 -1.36963867e+00 -1.40084545e+00\n",
      "  -1.06492788e+00]\n",
      " [-4.29013319e-01  6.97416272e-01  6.96197980e-01  1.79259285e+00\n",
      "   9.70861320e-01]\n",
      " [-4.68346260e-01  1.24823646e-01 -1.25472031e+00  9.38163671e-01\n",
      "  -1.25542722e+00]\n",
      " [ 1.37617991e-01  8.48350567e-01 -1.03352168e-01 -2.08703629e-01\n",
      "   7.12683273e-01]\n",
      " [-1.13313327e+00 -3.04086439e-01  4.33092555e-01  3.86078048e-01\n",
      "   1.16152149e+00]\n",
      " [-9.86569665e-01 -1.31027053e+00  1.54353634e+00 -1.70753905e+00\n",
      "   6.84759969e-01]\n",
      " [ 1.12448286e+00  1.90201722e+00 -1.49783981e+00 -1.25144841e+00\n",
      "  -6.57768362e-01]\n",
      " [ 1.09951013e-01  5.99820429e-01 -1.91352322e+00  3.16096597e+00\n",
      "  -3.71519124e-01]\n",
      " [-3.38017777e-01  6.22220414e-01  3.59133332e-01 -1.45336435e+00\n",
      "   6.30621967e-01]\n",
      " [ 1.21788563e+00  3.50888494e-01 -4.62005348e-01  1.36723542e+00\n",
      "  -1.38451867e+00]\n",
      " [-9.28891925e-01 -1.47317325e+00  2.55043824e+00 -6.98589950e-01\n",
      "  -5.16883894e-01]\n",
      " [-3.15693210e-01 -6.98170998e-01 -1.35000210e+00  3.30488064e-01\n",
      "  -1.85040397e+00]\n",
      " [ 8.24703005e-01 -4.03892269e-01  1.24821292e+00 -7.72186654e-02\n",
      "  -1.89469265e-01]\n",
      " [-1.06079904e+00 -1.83256574e-01  5.91666521e-01 -4.98174194e-01\n",
      "  -1.14421297e-01]\n",
      " [-4.49328601e-01  2.52973487e+00  7.13524448e-01 -1.89044051e-01\n",
      "   3.36065952e-01]\n",
      " [-1.24528809e+00 -9.09007615e-01 -1.05795222e+00  5.02881417e-01\n",
      "  -8.41747366e-01]\n",
      " [-9.33830661e-01 -1.43714343e+00 -1.74996844e-01 -7.60113841e-03\n",
      "  -1.01964910e+00]\n",
      " [ 5.72509465e-02 -2.37440268e+00  1.59088487e-01  5.38424263e-01\n",
      "  -2.83519516e-01]\n",
      " [-6.77360492e-01 -1.45535944e+00  3.27067038e-01 -2.63388077e-01\n",
      "  -9.96959687e-01]\n",
      " [ 1.91573647e-01 -1.02351498e+00 -6.62209012e-01  9.75509412e-01\n",
      "   3.90296450e-01]\n",
      " [-1.09929731e+00  1.80066685e-01 -6.81530644e-01  5.92806797e-01\n",
      "   8.70840765e-01]\n",
      " [-3.14617436e-01  1.14950057e+00 -5.93755583e-01  3.96520159e-01\n",
      "  -8.75979478e-01]\n",
      " [-9.93760983e-01 -1.76491773e+00  1.10914328e+00  7.51964849e-01\n",
      "   1.26261366e+00]\n",
      " [-2.43476758e+00  3.70444537e-01  1.12726505e-01  2.23136679e+00\n",
      "  -2.69056960e-01]\n",
      " [ 3.78794466e-01 -3.34844125e-01  5.13251444e-01 -6.18375485e-01\n",
      "   5.48946560e-01]\n",
      " [-1.49591353e-01  1.51197175e-01 -2.42440600e-01  3.31539648e-01\n",
      "  -8.48666001e-01]\n",
      " [-4.92994911e-01 -2.30917497e-01 -1.08654815e+00  5.18924924e-01\n",
      "  -2.54530459e-01]\n",
      " [ 1.48349243e-01  1.40883398e+00 -6.53541444e-01  1.38378103e+00\n",
      "   5.49384465e-01]\n",
      " [ 1.36901602e+00 -3.59474459e-01  7.25353259e-01  1.04547799e+00\n",
      "  -3.51262461e-01]\n",
      " [ 1.45840073e-01  8.15206041e-01 -4.00106056e-01  1.54538683e+00\n",
      "  -8.83125561e-01]\n",
      " [ 5.53164274e-01 -3.29002435e-01  1.03302907e+00  1.80409807e-01\n",
      "   1.80447664e+00]\n",
      " [-4.87930544e-01 -3.95346401e-01 -1.73071165e-01 -1.19499989e+00\n",
      "   2.92432067e-01]\n",
      " [-9.02246068e-01 -2.76179492e-01 -5.90972275e-01 -5.60234506e-01\n",
      "  -3.25049628e-01]\n",
      " [-1.61049926e+00 -8.34515207e-01  4.99939764e-01 -1.62167380e+00\n",
      "   7.89059649e-01]\n",
      " [ 7.34884668e-01 -1.08516824e-01 -1.06136574e+00  6.64221413e-01\n",
      "  -1.08709057e+00]\n",
      " [-6.54096803e-02 -6.16350846e-02  7.66115904e-01  2.12015479e-02\n",
      "   1.18952814e+00]\n",
      " [-3.81516482e-01 -1.09873895e+00  6.64890091e-02  8.42456282e-01\n",
      "  -6.53250268e-01]\n",
      " [-1.07502856e+00  3.43212732e-01 -3.37972149e-01 -2.15050132e-01\n",
      "  -2.08780746e+00]\n",
      " [ 2.04207979e-01 -1.73795950e+00  1.40669624e+00  5.66275441e-01\n",
      "   3.81866234e-01]\n",
      " [ 4.24753672e-01 -6.31118683e-01  8.19885117e-01 -7.87749540e-01\n",
      "  -6.69310440e-02]\n",
      " [-1.54667461e+00  3.27974540e+00 -2.08265194e+00 -2.51774118e-01\n",
      "  -1.41881055e+00]\n",
      " [-1.64056022e+00  1.23403468e+00 -1.15669917e+00  3.25654693e-02\n",
      "  -1.39291883e-01]\n",
      " [ 5.21109431e-01  1.15553059e+00 -7.08194380e-01 -4.46857897e-01\n",
      "   1.42496703e+00]\n",
      " [-2.02336394e+00 -2.20644541e-03  2.67972576e-01 -1.53111111e+00\n",
      "   1.49695179e+00]\n",
      " [-2.28247558e-01  6.10144086e-01 -2.06961226e+00  3.65949071e-03\n",
      "   6.01515814e-01]\n",
      " [-9.56625520e-01 -1.15980690e+00 -1.83376735e-01 -1.08292956e+00\n",
      "  -1.58429224e-01]\n",
      " [ 3.65053516e-01 -3.64479092e-01  7.74082033e-01 -1.98584577e+00\n",
      "   1.53176032e+00]\n",
      " [-1.48147191e-01  8.69598198e-01  1.50143692e+00 -4.26522471e-01\n",
      "  -1.15100294e+00]] [ 120.12041833   55.20121782 -169.00523305   53.63163617  -82.40832016\n",
      "  115.1091957    46.64531093  -15.82356324  163.91143742  -57.73610878\n",
      " -225.68192553  202.90074216   28.56982955   24.98560066 -197.60824053\n",
      "   92.73777109   -1.29936757 -100.62474781  -60.70218944   53.004946\n",
      "   76.84989388 -189.01868919  -63.4929162    69.98698895  -97.25678821\n",
      "  -64.90169654 -170.82550917  -19.2157724   351.24905039  -23.16979007\n",
      "  -41.91526225  -52.60040117  412.7687539   -67.28953602   -9.70146113\n",
      " -135.23494045  102.35733576   15.11231877 -188.60952013   95.41682149\n",
      "   72.5671004   150.55206058  -57.64269235  -69.75025654   44.76953453\n",
      "   51.42273655   33.73755989   46.51902022  110.64914861   29.15371321\n",
      "    5.88631377   28.51970655 -186.81676455  159.90139074 -107.6229835\n",
      "    6.95160089   21.82620108   -5.48026535 -141.6002662     9.90968869\n",
      "  -49.71334643   71.60828473  112.27741868 -158.25228682  140.28179099\n",
      "  -36.18302441   47.75997156 -152.26145592  -94.63653863   27.41389317\n",
      "  -51.5943416     9.79498385  -64.40304602  -58.77717024  101.67427203\n",
      "   -1.00401736   40.35663947  -28.16380006  -97.64855994   46.96438222\n",
      "  182.4763728    43.2110691   165.17335787 -101.89223405 -137.68500301\n",
      " -118.56514928  -39.87959653   88.87412984   11.62815973 -141.16594112\n",
      "  161.54588931   44.89370801 -287.72892473 -180.82335022  -20.58065336\n",
      " -135.61194481 -173.13884451 -135.30350717    8.27100075   77.24527858]\n",
      "(100, 5) (100,)\n"
     ]
    }
   ],
   "source": [
    "# Check the created data : \n",
    "print(x, y)\n",
    "print(x.shape, y.shape)"
   ]
  },
  {
   "cell_type": "markdown",
   "id": "49962951",
   "metadata": {},
   "source": [
    "#### Example 2\n",
    "\n",
    "Let's generate 100 samples with 5 features for a multiple regression problem with 5 outputs"
   ]
  },
  {
   "cell_type": "code",
   "execution_count": 63,
   "id": "1b1d171d",
   "metadata": {},
   "outputs": [
    {
     "name": "stdout",
     "output_type": "stream",
     "text": [
      "(100, 5) (100, 5)\n"
     ]
    }
   ],
   "source": [
    "x, y = make_regression(n_samples=100, n_features=5, n_targets=5, shuffle=True, random_state=2)\n",
    "\n",
    "# Check the created data : \n",
    "print(x, y)\n",
    "print(x.shape, y.shape)"
   ]
  },
  {
   "cell_type": "markdown",
   "id": "31450e13",
   "metadata": {},
   "source": [
    "<br>\n",
    "\n",
    "### For Classification Problems"
   ]
  },
  {
   "cell_type": "markdown",
   "id": "f2737f90",
   "metadata": {},
   "source": [
    "We use `make_classification` to generate data for classification problems"
   ]
  },
  {
   "cell_type": "code",
   "execution_count": 67,
   "id": "e346c737",
   "metadata": {},
   "outputs": [],
   "source": [
    "from sklearn.datasets import make_classification\n",
    "?make_classification"
   ]
  },
  {
   "cell_type": "markdown",
   "id": "72cc42f9",
   "metadata": {},
   "source": [
    "#### Example 1\n",
    "\n",
    "Let's generate a binary classification problem with 10 features and 100 samples"
   ]
  },
  {
   "cell_type": "code",
   "execution_count": 94,
   "id": "d68f7e02",
   "metadata": {
    "scrolled": true
   },
   "outputs": [
    {
     "name": "stdout",
     "output_type": "stream",
     "text": [
      "(100, 10) (100,)\n"
     ]
    }
   ],
   "source": [
    "x, y = make_classification(n_samples=100, n_features=10, n_classes=2, n_clusters_per_class=1, random_state=42)\n",
    "\n",
    "# Check the created data : \n",
    "x[:5]\n",
    "y[:5]\n",
    "print(x.shape, y.shape)"
   ]
  },
  {
   "cell_type": "markdown",
   "id": "4dabfcde",
   "metadata": {},
   "source": [
    "#### Example 2\n",
    "\n",
    "Let's generate a 3-class classification problem with 10 features and 100 samples"
   ]
  },
  {
   "cell_type": "code",
   "execution_count": 82,
   "id": "310a96ab",
   "metadata": {},
   "outputs": [
    {
     "name": "stdout",
     "output_type": "stream",
     "text": [
      "(100, 10) (100,)\n"
     ]
    }
   ],
   "source": [
    "x, y = make_classification(n_samples=100, n_features=10, n_classes=3, n_clusters_per_class=1, random_state=42)\n",
    "\n",
    "# Check the created data : \n",
    "x[:5]\n",
    "y[:5]\n",
    "print(x.shape, y.shape)"
   ]
  },
  {
   "cell_type": "markdown",
   "id": "7a7aff3e",
   "metadata": {},
   "source": [
    "<br>\n",
    "\n",
    "### For Multi-Label Classification Problems"
   ]
  },
  {
   "cell_type": "markdown",
   "id": "c88569b4",
   "metadata": {},
   "source": [
    "We use `make_multilabel_classification` to generate data for multi-label classification problems"
   ]
  },
  {
   "cell_type": "code",
   "execution_count": 86,
   "id": "f327a8e1",
   "metadata": {},
   "outputs": [],
   "source": [
    "from sklearn.datasets import make_multilabel_classification\n",
    "?make_multilabel_classification"
   ]
  },
  {
   "cell_type": "markdown",
   "id": "57d138d0",
   "metadata": {},
   "source": [
    "#### Example 1\n",
    "\n",
    "Let's generate a multi-label classification problem with 10 features, 100 samples, 5 labels and on an average 2 labels per example"
   ]
  },
  {
   "cell_type": "code",
   "execution_count": 96,
   "id": "4d07d993",
   "metadata": {},
   "outputs": [
    {
     "name": "stdout",
     "output_type": "stream",
     "text": [
      "(100, 10) (100, 5)\n"
     ]
    }
   ],
   "source": [
    "x, y = make_multilabel_classification(n_samples=100, n_features=10, n_classes=5, n_labels=2, random_state=42)\n",
    "\n",
    "# Check the created data : \n",
    "x[:5]\n",
    "\n",
    "# This time label vector is a label matrix as we have more than one label\n",
    "y[:5]\n",
    "\n",
    "print(x.shape, y.shape)"
   ]
  },
  {
   "cell_type": "markdown",
   "id": "78f5319c",
   "metadata": {},
   "source": [
    "<br>\n",
    "\n",
    "### For Clustering Problems"
   ]
  },
  {
   "cell_type": "markdown",
   "id": "e7b43390",
   "metadata": {},
   "source": [
    "We use `make_blobs` to generate data for clustering problems"
   ]
  },
  {
   "cell_type": "code",
   "execution_count": 104,
   "id": "2bc4272a",
   "metadata": {},
   "outputs": [],
   "source": [
    "from sklearn.datasets import make_blobs\n",
    "?make_blobs"
   ]
  },
  {
   "cell_type": "markdown",
   "id": "0870edc2",
   "metadata": {},
   "source": [
    "#### Example 1\n",
    "\n",
    "Let's generate a random dataset with 2 features and 100 samples each for clustering"
   ]
  },
  {
   "cell_type": "code",
   "execution_count": 110,
   "id": "2f5438e2",
   "metadata": {},
   "outputs": [
    {
     "name": "stdout",
     "output_type": "stream",
     "text": [
      "(10, 2) (10,)\n"
     ]
    }
   ],
   "source": [
    "x, y = make_blobs(n_samples=10, n_features=2, centers=3, random_state=42)\n",
    "\n",
    "# Check the created data : \n",
    "x[:5]\n",
    "\n",
    "# Cluster membership of each point in y\n",
    "y[:5]\n",
    "\n",
    "print(x.shape, y.shape)"
   ]
  }
 ],
 "metadata": {
  "kernelspec": {
   "display_name": "Python 3 (ipykernel)",
   "language": "python",
   "name": "python3"
  },
  "language_info": {
   "codemirror_mode": {
    "name": "ipython",
    "version": 3
   },
   "file_extension": ".py",
   "mimetype": "text/x-python",
   "name": "python",
   "nbconvert_exporter": "python",
   "pygments_lexer": "ipython3",
   "version": "3.9.7"
  }
 },
 "nbformat": 4,
 "nbformat_minor": 5
}

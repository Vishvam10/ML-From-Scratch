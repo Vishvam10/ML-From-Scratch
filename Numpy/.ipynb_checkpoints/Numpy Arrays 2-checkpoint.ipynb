{
 "cells": [
  {
   "cell_type": "markdown",
   "id": "936f4815",
   "metadata": {},
   "source": [
    "# More on Arrays\n",
    "\n",
    "In this lecture, we will look at the following concepts:\n",
    "\n",
    "- Arrays (vectors, matrices and more)\n",
    "- Reshaping an array\n",
    "- Broadcasting rules\n",
    "- Slicing an array\n",
    "- Stacking arrays\n",
    "- Sum, mean and variance along axes"
   ]
  },
  {
   "cell_type": "code",
   "execution_count": 1,
   "id": "1853fdcc",
   "metadata": {},
   "outputs": [],
   "source": [
    "import numpy as np"
   ]
  },
  {
   "cell_type": "markdown",
   "id": "9a68175f",
   "metadata": {},
   "source": [
    "## Arrays\n",
    "\n",
    "It should have become amply clear by now that both vectors and matrices are `NumPy` arrays. Each array in `NumPy` has a dimension. Vectors are one-dimensional arrays while matrices are two-dimensional arrays. For example:\n",
    "\n",
    "$$\n",
    "\\mathbf{x} = \\begin{bmatrix}\n",
    "1\\\\\n",
    "2\\\\\n",
    "3\n",
    "\\end{bmatrix}, \n",
    "\\mathbf{M} = \\begin{bmatrix}\n",
    "1 & 2\\\\\n",
    "3 & 4\\\\\n",
    "5 & 6\n",
    "\\end{bmatrix}\n",
    "$$\n",
    "\n",
    "`NumPy` arrays have an attribute called `ndim` that gives the number of dimensions of the array:"
   ]
  },
  {
   "cell_type": "code",
   "execution_count": 2,
   "id": "e30b2753",
   "metadata": {},
   "outputs": [
    {
     "name": "stdout",
     "output_type": "stream",
     "text": [
      "x has shape (3,)\n",
      "M has shape (3, 2)\n",
      "x is an array of dimension 1\n",
      "M is an array of dimension 2\n"
     ]
    }
   ],
   "source": [
    "x = np.array([1, 2, 3])\n",
    "M = np.array([[1, 2], [3, 4], [5, 6]])\n",
    "\n",
    "print('x has shape', x.shape)\n",
    "print('M has shape', M.shape)\n",
    "\n",
    "print('x is an array of dimension', x.ndim)\n",
    "print('M is an array of dimension', M.ndim)"
   ]
  },
  {
   "cell_type": "markdown",
   "id": "070a7a3d",
   "metadata": {},
   "source": [
    "Though we will mostly restrict ourselves to arrays of dimension 2, nothing stops us from working with higher dimensional arrays. For example, consider a 3-dimensional array. This could be visualized as a list of matrices:\n",
    "\n",
    "$$\n",
    "\\begin{bmatrix}\n",
    "\\begin{bmatrix}\n",
    "1 & 2 & 3 & 4\\\\\n",
    "5 & 6 & 7 & 8\\\\\n",
    "9 & 10 & 11 & 12\n",
    "\\end{bmatrix}\\\\ \n",
    "\\begin{bmatrix}\n",
    "13 & 14 & 15 & 16\\\\\n",
    "17 & 18 & 19 & 20\\\\\n",
    "21 & 22 & 23 & 24\n",
    "\\end{bmatrix}\\\\\n",
    "\\end{bmatrix}\n",
    "$$\n",
    "\n",
    "This would be a $2 \\times 3 \\times 4$ array. In `NumPy` this becomes: "
   ]
  },
  {
   "cell_type": "code",
   "execution_count": 3,
   "id": "c44928b2",
   "metadata": {},
   "outputs": [
    {
     "name": "stdout",
     "output_type": "stream",
     "text": [
      "(2, 3, 4)\n",
      "3\n",
      "[[[ 1  2  3  4]\n",
      "  [ 5  6  7  8]\n",
      "  [ 9 10 11 12]]\n",
      "\n",
      " [[13 14 15 16]\n",
      "  [17 18 19 20]\n",
      "  [21 22 23 24]]]\n"
     ]
    }
   ],
   "source": [
    "M = np.array([[[1, 2, 3, 4],\n",
    "               [5, 6, 7, 8],\n",
    "               [9, 10, 11, 12]], \n",
    "               [[13, 14, 15, 16],\n",
    "               [17, 18, 19, 20],\n",
    "               [21, 22, 23, 24]]\n",
    "              ])\n",
    "print(M.shape)\n",
    "print(M.ndim)\n",
    "print(M)"
   ]
  },
  {
   "cell_type": "markdown",
   "id": "fc9b169d",
   "metadata": {},
   "source": [
    "You can safely skip the 3D part if you find it difficult the first time."
   ]
  },
  {
   "cell_type": "markdown",
   "id": "71031ab9",
   "metadata": {},
   "source": [
    "## Reshaping\n",
    "\n",
    "Arrays can be reshaped. We will start with an example. Let us start with a matrix $\\mathbf{M}$:\n",
    "\n",
    "$$\n",
    "\\mathbf{M} = \\begin{bmatrix}\n",
    "1 & 2 & 3\\\\\n",
    "4 & 5 & 6\n",
    "\\end{bmatrix}\n",
    "$$\n",
    "\n",
    "We can now reshape it into a vector:\n",
    "\n",
    "$$\n",
    "\\mathbf{x} = \\begin{bmatrix}\n",
    "1 & 2 & 3 & 4 & 5 & 6\n",
    "\\end{bmatrix}\n",
    "$$\n",
    "\n"
   ]
  },
  {
   "cell_type": "code",
   "execution_count": 15,
   "id": "66e35c68",
   "metadata": {},
   "outputs": [
    {
     "data": {
      "text/plain": [
       "array([1, 2, 3, 4, 5, 6])"
      ]
     },
     "execution_count": 15,
     "metadata": {},
     "output_type": "execute_result"
    }
   ],
   "source": [
    "M = np.array([[1, 2, 3], [4, 5, 6]])\n",
    "x = M.reshape(6)  # The same as M.reshape((1,6))\n",
    "x"
   ]
  },
  {
   "cell_type": "markdown",
   "id": "b9952887",
   "metadata": {},
   "source": [
    "Note that the contents of the array are the same, but they have been rearranged. We can also go the other way, from vector to matrix:\n",
    "\n",
    "$$\n",
    "\\mathbf{x} = \\begin{bmatrix}\n",
    "1 & 2 & 3 & 4 & 5 & 6\n",
    "\\end{bmatrix}\n",
    "$$\n",
    "\n",
    "We can reshape it into the following matrix:\n",
    "\n",
    "$$\n",
    "\\mathbf{M} = \\begin{bmatrix}\n",
    "1 & 2\\\\\n",
    "3 & 4\\\\\n",
    "5 & 6\n",
    "\\end{bmatrix}\n",
    "$$"
   ]
  },
  {
   "cell_type": "markdown",
   "id": "e06737ce",
   "metadata": {},
   "source": [
    "We can reshape a matrix into another matrix as well. Sometimes, we may not want to specify the dimensions completely. In such cases, we can let `NumPy` figure it out. For example\n",
    "\n",
    "$$\n",
    "\\mathbf{M} = \\begin{bmatrix}\n",
    "1 & 2 & 3\\\\\n",
    "4 & 5 & 6\n",
    "\\end{bmatrix}\n",
    "$$\n",
    "\n",
    "Let us say we want to reshape it in such a way that there are three rows:\n",
    "\n",
    "$$\n",
    "\\mathbf{P} = \\begin{bmatrix}\n",
    "1 & 2\\\\\n",
    "3 & 4\\\\\n",
    "5 & 6\n",
    "\\end{bmatrix}\n",
    "$$\n",
    "\n"
   ]
  },
  {
   "cell_type": "code",
   "execution_count": 9,
   "id": "1dac930a",
   "metadata": {},
   "outputs": [
    {
     "data": {
      "text/plain": [
       "array([[1, 2],\n",
       "       [3, 4],\n",
       "       [5, 6]])"
      ]
     },
     "execution_count": 9,
     "metadata": {},
     "output_type": "execute_result"
    }
   ],
   "source": [
    "M = np.array([[1, 2, 3], [4, 5, 6]])\n",
    "P = M.reshape((3, -1))\n",
    "P"
   ]
  },
  {
   "cell_type": "markdown",
   "id": "31c69cf0",
   "metadata": {},
   "source": [
    "$-1$ refers to the unknown dimension, which we let `NumPy` compute."
   ]
  },
  {
   "cell_type": "markdown",
   "id": "07da3d04",
   "metadata": {},
   "source": [
    "## Matrix-vector addition (broadcasting)\n",
    "\n",
    "In many ML models, we would have to add a vector to each row or column of a matrix. For example, consider the following case for row-wise addition:\n",
    "\n",
    "\n",
    "### Row-wise addition\n",
    "\n",
    "$$\n",
    "\\mathbf{M} = \\begin{bmatrix}\n",
    "1 & 2 & 3 & 4\\\\\n",
    "5 & 6 & 7 & 8\n",
    "\\end{bmatrix}, \\mathbf{b} = \\begin{bmatrix}\n",
    "1 & 1 & 1 & 1\n",
    "\\end{bmatrix}\n",
    "$$\n",
    "\n",
    "<b> NOTE : </b>This is slight abuse of notation as we can't add a matrix and a vector together. However, the context often makes this clear:\n",
    "\n",
    "$$\n",
    "\\mathbf{M} + \\mathbf{b} = \\begin{bmatrix}\n",
    "2 & 3 & 4 & 5\\\\\n",
    "6 & 7 & 8 & 9\n",
    "\\end{bmatrix}\n",
    "$$\n",
    "\n",
    "In `NumPy` this becomes:"
   ]
  },
  {
   "cell_type": "code",
   "execution_count": 19,
   "id": "8c219b4d",
   "metadata": {},
   "outputs": [
    {
     "name": "stdout",
     "output_type": "stream",
     "text": [
      "Shape of M (2, 4)\n",
      "Shape of b: (4,)\n"
     ]
    },
    {
     "data": {
      "text/plain": [
       "array([[2, 3, 4, 5],\n",
       "       [6, 7, 8, 9]])"
      ]
     },
     "execution_count": 19,
     "metadata": {},
     "output_type": "execute_result"
    }
   ],
   "source": [
    "M = np.array([[1, 2, 3, 4], [5, 6, 7, 8]])\n",
    "b = np.array([1, 1, 1, 1])\n",
    "print('Shape of M', M.shape)\n",
    "print('Shape of b:', b.shape)\n",
    "\n",
    "M + b"
   ]
  },
  {
   "cell_type": "markdown",
   "id": "3ca69e21",
   "metadata": {},
   "source": [
    "Notice how simple this is. Let us now do a slight variation. Let us say we wish to add a vector to each column of $\\mathbf{M}$:\n",
    "\n",
    "## Column-wise addition\n",
    "\n",
    "$$\n",
    "\\mathbf{M} = \\begin{bmatrix}\n",
    "1 & 2 & 3 & 4\\\\\n",
    "5 & 6 & 7 & 8\n",
    "\\end{bmatrix}, \\mathbf{b} = \\begin{bmatrix}\n",
    "1\\\\\n",
    "2\n",
    "\\end{bmatrix}\n",
    "$$\n",
    "\n",
    "In the case, we have:\n",
    "\n",
    "$$\n",
    "\\mathbf{M} + \\mathbf{b} = \\begin{bmatrix}\n",
    "2 & 3 & 4 & 5\\\\\n",
    "7 & 8 & 9 & 10\n",
    "\\end{bmatrix}\n",
    "$$\n",
    "\n",
    "Let us see if the same syntax works:"
   ]
  },
  {
   "cell_type": "code",
   "execution_count": 22,
   "id": "792588cf",
   "metadata": {},
   "outputs": [
    {
     "name": "stdout",
     "output_type": "stream",
     "text": [
      "Shape of M: (2, 4)\n",
      "Shape of b: (2,)\n"
     ]
    }
   ],
   "source": [
    "M = np.array([[1, 2, 3, 4], [5, 6, 7, 8]])\n",
    "b = np.array([1, 2])\n",
    "print('Shape of M:', M.shape)\n",
    "print('Shape of b:', b.shape)\n",
    "\n",
    "### Caution! ###\n",
    "# You can uncomment the next line and see what happens\n",
    "# M + b\n",
    "### Caution! ###"
   ]
  },
  {
   "cell_type": "markdown",
   "id": "e6a2c9ce",
   "metadata": {},
   "source": [
    "If you uncomment it and run it, you get a ValueError. Notice that the same syntax doesn't work. The error is suggestive:\n",
    "\n",
    "> operands could not be broadcast together with shapes `(2, 4)` and `(2, )`\n",
    "\n",
    "We will first discuss a way to fix this and then move onto why this behaviour is observed.\n"
   ]
  },
  {
   "cell_type": "code",
   "execution_count": 26,
   "id": "fb70322b",
   "metadata": {},
   "outputs": [
    {
     "name": "stdout",
     "output_type": "stream",
     "text": [
      "Shape of M: (2, 4)\n",
      "[1 2]\n",
      "Shape of b before adding dimension: (2,)\n",
      "Shape of b after adding dimension: (2, 1)\n",
      "[[1]\n",
      " [2]]\n"
     ]
    },
    {
     "data": {
      "text/plain": [
       "array([[ 2,  3,  4,  5],\n",
       "       [ 7,  8,  9, 10]])"
      ]
     },
     "execution_count": 26,
     "metadata": {},
     "output_type": "execute_result"
    }
   ],
   "source": [
    "M = np.array([[1, 2, 3, 4], [5, 6, 7, 8]])\n",
    "b = np.array([1, 2])\n",
    "print('Shape of M:', M.shape)\n",
    "print(b)\n",
    "print('Shape of b before adding dimension:', b.shape)\n",
    "b = np.expand_dims(b, 1)\n",
    "print('Shape of b after adding dimension:', b.shape)\n",
    "print(b)\n",
    "\n",
    "\n",
    "M + b"
   ]
  },
  {
   "cell_type": "markdown",
   "id": "9bba25f0",
   "metadata": {},
   "source": [
    "`np.expand_dims` expands the dimension of a `NumPy` array. The first argument is the array and the second argument is the axis along which the array has to be expanded. Here, we want to treat `b` as a column vector. This is nothing but a `(2, 1)` matrix. So, the second argument is 1 (zero-indexing).\n",
    "\n",
    "But why is this necessary? For adding a row vector to a matrix, we just had to use `M + b`. For adding a column vector to a matrix, we had to add an extra dimension to `b` and then add it to `M`. The answer to this lies with something called broadcasting.\n"
   ]
  },
  {
   "cell_type": "markdown",
   "id": "7aab9982",
   "metadata": {},
   "source": [
    "### Broadcasting\n",
    "\n",
    "When two arrays of different dimensions are combined together using an arithmetic operation such as `+`, `NumPy` sees if it can **broadcast** them. This is best understood with images. Here is an example from the `NumPy` docs on row-wise addition:\n",
    "\n",
    "![](https://numpy.org/doc/stable/_images/broadcasting_2.png)\n",
    "\n",
    "**Source**: https://numpy.org/doc/stable/user/basics.broadcasting.html\n",
    "\n",
    "For column-wise addition, simple addition doesn't work:\n",
    "\n",
    "![](https://numpy.org/doc/stable/_images/broadcasting_3.png)\n",
    "\n",
    "**Source**: https://numpy.org/doc/stable/user/basics.broadcasting.html\n",
    "\n",
    "In this course, we will mainly stick to matrix-vector addition or multiplication. This is the recipe:\n",
    "\n",
    "- Row-wise\n",
    "  - `M + b`\n",
    "- Column-wise: \n",
    "  - Make `b` a column vector or a `(m, 1)` matrix using `np.expand_dims`\n",
    "  - `M + b`"
   ]
  },
  {
   "cell_type": "markdown",
   "id": "aca1ca4b",
   "metadata": {},
   "source": [
    "## Indexing and Slicing an array\n",
    "\n",
    "Just like lists in Python, `NumPy` arrays can be indexed and sliced. Slicing is useful if we want to work with a portion of an array. For example, consider the matrix $\\mathbf{M}$:\n",
    "\n",
    "$$\n",
    "\\mathbf{M} = \\begin{bmatrix}\n",
    "1 & 2\\\\\n",
    "3 & 4\\\\\n",
    "5 & 6\\\\\n",
    "7 & 8\\\\\n",
    "9 & 10\n",
    "\\end{bmatrix}\n",
    "$$\n",
    "\n",
    "The third row of this matrix is `M[2]`. This is just basic indexing."
   ]
  },
  {
   "cell_type": "code",
   "execution_count": 51,
   "id": "6c88d4cd",
   "metadata": {
    "scrolled": false
   },
   "outputs": [
    {
     "name": "stdout",
     "output_type": "stream",
     "text": [
      "[[ 1  2]\n",
      " [ 3  4]\n",
      " [ 5  6]\n",
      " [ 7  8]\n",
      " [ 9 10]]\n",
      "(5, 2)\n"
     ]
    },
    {
     "data": {
      "text/plain": [
       "array([5, 6])"
      ]
     },
     "execution_count": 51,
     "metadata": {},
     "output_type": "execute_result"
    }
   ],
   "source": [
    "M = np.array([[1, 2], [3, 4], [5, 6], [7, 8], [9, 10]])\n",
    "print(M)\n",
    "print(M.shape)\n",
    "M[2]"
   ]
  },
  {
   "cell_type": "markdown",
   "id": "bed7b9ef",
   "metadata": {},
   "source": [
    "\n",
    "This behaviour is similar to what happens with Python lists. Let us say that we wish to extract the second column of this matrix. How would we do this?"
   ]
  },
  {
   "cell_type": "code",
   "execution_count": 52,
   "id": "95eface0",
   "metadata": {},
   "outputs": [
    {
     "name": "stdout",
     "output_type": "stream",
     "text": [
      "[[ 1  2]\n",
      " [ 3  4]\n",
      " [ 5  6]\n",
      " [ 7  8]\n",
      " [ 9 10]]\n",
      "(5, 2)\n"
     ]
    },
    {
     "data": {
      "text/plain": [
       "array([ 2,  4,  6,  8, 10])"
      ]
     },
     "execution_count": 52,
     "metadata": {},
     "output_type": "execute_result"
    }
   ],
   "source": [
    "M = np.array([[1, 2], [3, 4], [5, 6], [7, 8], [9, 10]])\n",
    "print(M)\n",
    "print(M.shape)\n",
    "M[:, 1]"
   ]
  },
  {
   "cell_type": "markdown",
   "id": "a99cfd9e",
   "metadata": {},
   "source": [
    "An $n$-dimensional array has $n$ axes. In the case of a matrix, a $2$D array, the first axis (index 0) refers to the rows and the second axis (index 1) refers to the columns.\n",
    "\n",
    "In the example given above, `M[:, 1]`, the second axis is fixed as 1 while the first axis is fluid. In more concrete terms, we have selected the second column. Had we wanted a particular element, say the first element, from the second column, we would have used the notation `M[0, 1]`. But, since we want all the elements from the second column, we use the `:` operator without specifiying the start and end indices. Recall that this behaviour is similar to Python lists. If `L` is a list, then `L[:]` represents the complete list.\n",
    "\n",
    "Now, consider the same matrix $\\mathbf{M}$. We want to extract the third and fourth rows of this matrix. How do we do that?"
   ]
  },
  {
   "cell_type": "code",
   "execution_count": 50,
   "id": "9d7758a3",
   "metadata": {},
   "outputs": [
    {
     "name": "stdout",
     "output_type": "stream",
     "text": [
      "[[ 1  2]\n",
      " [ 3  4]\n",
      " [ 5  6]\n",
      " [ 7  8]\n",
      " [ 9 10]]\n",
      "(5, 2)\n"
     ]
    },
    {
     "data": {
      "text/plain": [
       "array([[5, 6],\n",
       "       [7, 8]])"
      ]
     },
     "execution_count": 50,
     "metadata": {},
     "output_type": "execute_result"
    }
   ],
   "source": [
    "M = np.array([[1, 2], [3, 4], [5, 6], [7, 8], [9, 10]])\n",
    "print(M)\n",
    "print(M.shape)\n",
    "M[2: 4]"
   ]
  },
  {
   "cell_type": "markdown",
   "id": "df43f3da",
   "metadata": {},
   "source": [
    "This is again similar to the Python slicing notation. Now, if we wanted the second and third elements in the first column of the matrix, this is what we would do:"
   ]
  },
  {
   "cell_type": "code",
   "execution_count": 65,
   "id": "a35ad489",
   "metadata": {},
   "outputs": [
    {
     "name": "stdout",
     "output_type": "stream",
     "text": [
      "[[ 1  2]\n",
      " [ 3  4]\n",
      " [ 5  6]\n",
      " [ 7  8]\n",
      " [ 9 10]]\n",
      "(5, 2)\n"
     ]
    },
    {
     "data": {
      "text/plain": [
       "array([3, 5])"
      ]
     },
     "execution_count": 65,
     "metadata": {},
     "output_type": "execute_result"
    }
   ],
   "source": [
    "M = np.array([[1, 2], [3, 4], [5, 6], [7, 8], [9, 10]])\n",
    "print(M)\n",
    "print(M.shape)\n",
    "M[1:3, 0]"
   ]
  },
  {
   "cell_type": "markdown",
   "id": "5d2ca6b3",
   "metadata": {},
   "source": [
    "## Stacking arrays\n",
    "\n",
    "Sometimes, we would want to stack arrays. Consider the two matrices:\n",
    "\n",
    "$$\n",
    "\\mathbf{A} =\n",
    "\\begin{bmatrix}\n",
    "1 & 2\\\\\n",
    "3 & 4\n",
    "\\end{bmatrix},\n",
    "\\mathbf{B} =\n",
    "\\begin{bmatrix}\n",
    "5 & 6\\\\\n",
    "7 & 8\n",
    "\\end{bmatrix}\n",
    "$$\n",
    "\n",
    "There are two ways to stack these two matrices:\n",
    "\n",
    "### Row-wise\n",
    "\n",
    "We could stack the two matrices along the rows, $\\mathbf{A}$ on top of $\\mathbf{B}$:\n",
    "\n",
    "$$\n",
    "\\mathbf{C} =\n",
    "\\begin{bmatrix}\n",
    "1 & 2\\\\\n",
    "3 & 4\\\\\n",
    "5 & 6\\\\\n",
    "7 & 8\n",
    "\\end{bmatrix}\n",
    "$$\n",
    "\n",
    "This would be done as follows:"
   ]
  },
  {
   "cell_type": "code",
   "execution_count": 71,
   "id": "6287097c",
   "metadata": {},
   "outputs": [
    {
     "name": "stdout",
     "output_type": "stream",
     "text": [
      "[[1 2]\n",
      " [3 4]]\n",
      "(2, 2)\n",
      "\n",
      " [[5 6]\n",
      " [7 8]]\n",
      "(2, 2)\n",
      "\n",
      " [[1 2 5 6]\n",
      " [3 4 7 8]]\n",
      "(2, 4)\n"
     ]
    }
   ],
   "source": [
    "A = np.array([[1, 2], [3, 4]])\n",
    "B = np.array([[5, 6], [7, 8]])\n",
    "\n",
    "C = np.concatenate((A, B), axis = 1)\n",
    "\n",
    "print(A)\n",
    "print(A.shape)\n",
    "\n",
    "print(\"\\n\", B)\n",
    "print(B.shape)\n",
    "\n",
    "print(\"\\n\", C)\n",
    "print(C.shape)"
   ]
  },
  {
   "cell_type": "markdown",
   "id": "561e72e3",
   "metadata": {},
   "source": [
    "## Sum, Mean and Variance\n",
    "\n",
    "Sometimes we may wish to compute the sum of a particular slice of an array. For example, consider the matrix:\n",
    "\n",
    "$$\n",
    "\\mathbf{A} = \\begin{bmatrix}\n",
    "1 & 2 & 3 & 4\\\\\n",
    "5 & 6 & 7 & 8\n",
    "\\end{bmatrix}\n",
    "$$\n",
    "\n",
    "The sum of the rows of the matrix is a vector:\n",
    "\n",
    "$$\n",
    "\\text{rsum}(\\mathbf{A}) = \\begin{bmatrix}\n",
    "10\\\\\n",
    "26\n",
    "\\end{bmatrix}\n",
    "$$\n",
    "\n",
    "In `NumPy` this can be done as follows:"
   ]
  },
  {
   "cell_type": "code",
   "execution_count": 73,
   "id": "b59181a4",
   "metadata": {},
   "outputs": [
    {
     "data": {
      "text/plain": [
       "array([10, 26])"
      ]
     },
     "execution_count": 73,
     "metadata": {},
     "output_type": "execute_result"
    }
   ],
   "source": [
    "A = np.array([[1, 2, 3, 4], [5, 6, 7, 8]])\n",
    "rsum = np.sum(A, axis = 1)\n",
    "rsum"
   ]
  },
  {
   "cell_type": "markdown",
   "id": "55997003",
   "metadata": {},
   "source": [
    "We have added the elements of the array along the axis $1$. This has the same effect as summing the rows of the array. Now, we shall move to the column sum:\n",
    "\n",
    "$$\n",
    "\\mathbf{A} = \\begin{bmatrix}\n",
    "1 & 2 & 3 & 4\\\\\n",
    "5 & 6 & 7 & 8\n",
    "\\end{bmatrix}\n",
    "$$\n",
    "\n",
    "The sum of the columns of the matrix is a vector:\n",
    "\n",
    "$$\n",
    "\\text{csum}(\\mathbf{A}) = \\begin{bmatrix}\n",
    "6\\\\\n",
    "8\\\\\n",
    "10\\\\\n",
    "12\n",
    "\\end{bmatrix}\n",
    "$$"
   ]
  },
  {
   "cell_type": "code",
   "execution_count": 74,
   "id": "1c0a613d",
   "metadata": {},
   "outputs": [
    {
     "data": {
      "text/plain": [
       "array([ 6,  8, 10, 12])"
      ]
     },
     "execution_count": 74,
     "metadata": {},
     "output_type": "execute_result"
    }
   ],
   "source": [
    "A = np.array([[1, 2, 3, 4], [5, 6, 7, 8]])\n",
    "csum = np.sum(A, axis = 0)\n",
    "csum"
   ]
  },
  {
   "cell_type": "markdown",
   "id": "5c55798e",
   "metadata": {},
   "source": [
    "It is important to note that `sum` is an attribute of `NumPy` arrays. So we can also express this as:"
   ]
  },
  {
   "cell_type": "code",
   "execution_count": 76,
   "id": "b5c8b527",
   "metadata": {},
   "outputs": [
    {
     "name": "stdout",
     "output_type": "stream",
     "text": [
      "Sum of the rows: [10 26]\n",
      "Sum of the columns: [ 6  8 10 12]\n"
     ]
    }
   ],
   "source": [
    "A = np.array([[1, 2, 3, 4], [5, 6, 7, 8]])\n",
    "rsum = A.sum(axis = 1)\n",
    "csum = A.sum(axis = 0)\n",
    "\n",
    "print('Sum of the rows:', rsum)\n",
    "print('Sum of the columns:', csum)"
   ]
  },
  {
   "cell_type": "markdown",
   "id": "4c0438f7",
   "metadata": {},
   "source": [
    "Just like `sum`, we have `mean` to find out the mean of parts of an array."
   ]
  },
  {
   "cell_type": "code",
   "execution_count": 79,
   "id": "cac12471",
   "metadata": {},
   "outputs": [
    {
     "name": "stdout",
     "output_type": "stream",
     "text": [
      "Mean of the rows: [2.5 6.5]\n",
      "Mean of the columns: [3. 4. 5. 6.]\n"
     ]
    }
   ],
   "source": [
    "A = np.array([[1, 2, 3, 4], [5, 6, 7, 8]])\n",
    "rsum = A.mean(axis = 1)\n",
    "csum = A.mean(axis = 0)\n",
    "\n",
    "print('Mean of the rows:', rsum)\n",
    "print('Mean of the columns:', csum)"
   ]
  },
  {
   "cell_type": "code",
   "execution_count": null,
   "id": "03d05045",
   "metadata": {},
   "outputs": [],
   "source": []
  }
 ],
 "metadata": {
  "kernelspec": {
   "display_name": "Python 3 (ipykernel)",
   "language": "python",
   "name": "python3"
  },
  "language_info": {
   "codemirror_mode": {
    "name": "ipython",
    "version": 3
   },
   "file_extension": ".py",
   "mimetype": "text/x-python",
   "name": "python",
   "nbconvert_exporter": "python",
   "pygments_lexer": "ipython3",
   "version": "3.9.7"
  }
 },
 "nbformat": 4,
 "nbformat_minor": 5
}

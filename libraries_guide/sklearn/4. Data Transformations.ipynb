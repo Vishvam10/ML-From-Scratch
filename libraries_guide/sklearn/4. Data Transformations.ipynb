{
 "cells": [
  {
   "cell_type": "markdown",
   "id": "4781b6ff",
   "metadata": {},
   "source": [
    "# Data Transformations"
   ]
  },
  {
   "cell_type": "code",
   "execution_count": 3,
   "id": "804f348c",
   "metadata": {},
   "outputs": [],
   "source": [
    "import pandas as pd\n",
    "import numpy as np\n",
    "import seaborn as sns\n",
    "import matplotlib.pyplot as plt\n",
    "sns.set_style(style='whitegrid')"
   ]
  },
  {
   "cell_type": "markdown",
   "id": "c6df6de2",
   "metadata": {},
   "source": [
    "## Function Transformer - `FunctionTransformer()`\n",
    "Transforms data based on user-defined function"
   ]
  },
  {
   "cell_type": "code",
   "execution_count": 4,
   "id": "c3342adf",
   "metadata": {},
   "outputs": [],
   "source": [
    "from sklearn.preprocessing import FunctionTransformer"
   ]
  },
  {
   "cell_type": "code",
   "execution_count": 6,
   "id": "a4fe4885",
   "metadata": {},
   "outputs": [
    {
     "data": {
      "text/plain": [
       "array([[7., 1.],\n",
       "       [1., 8.],\n",
       "       [2., 0.],\n",
       "       [9., 6.]])"
      ]
     },
     "execution_count": 6,
     "metadata": {},
     "output_type": "execute_result"
    }
   ],
   "source": [
    "X = np.array([[128, 2], [2, 256], [4, 1], [512, 64]])\n",
    "ft = FunctionTransformer(np.log2)\n",
    "ft.fit_transform(X)"
   ]
  },
  {
   "cell_type": "code",
   "execution_count": 7,
   "id": "b8f2139e",
   "metadata": {},
   "outputs": [
    {
     "data": {
      "text/plain": [
       "121.125"
      ]
     },
     "execution_count": 7,
     "metadata": {},
     "output_type": "execute_result"
    }
   ],
   "source": [
    "X = np.array([[128, 2], [2, 256], [4, 1], [512, 64]])\n",
    "ft = FunctionTransformer(np.mean)\n",
    "ft.fit_transform(X)"
   ]
  },
  {
   "cell_type": "markdown",
   "id": "0ae9922a",
   "metadata": {},
   "source": [
    "## Polynomial Transformation - `PolynomialFeatures()`\n",
    "Creates all polynomial transformation"
   ]
  },
  {
   "cell_type": "code",
   "execution_count": 8,
   "id": "c1f6834c",
   "metadata": {},
   "outputs": [],
   "source": [
    "from sklearn.preprocessing import PolynomialFeatures"
   ]
  },
  {
   "cell_type": "code",
   "execution_count": 21,
   "id": "e7f356d7",
   "metadata": {},
   "outputs": [
    {
     "name": "stdout",
     "output_type": "stream",
     "text": [
      "[[2 3]\n",
      " [4 5]\n",
      " [6 7]]\n"
     ]
    },
    {
     "data": {
      "text/plain": [
       "array([[ 1.,  2.,  3.,  4.,  6.,  9.],\n",
       "       [ 1.,  4.,  5., 16., 20., 25.],\n",
       "       [ 1.,  6.,  7., 36., 42., 49.]])"
      ]
     },
     "execution_count": 21,
     "metadata": {},
     "output_type": "execute_result"
    }
   ],
   "source": [
    "X = np.array([[2, 3],[4, 5],[6,7]])\n",
    "pf = PolynomialFeatures(degree=2)\n",
    "res = pf.fit_transform(X)\n",
    "print(X)\n",
    "res"
   ]
  },
  {
   "cell_type": "markdown",
   "id": "b956c10d",
   "metadata": {},
   "source": [
    "## Categorical Transformers"
   ]
  },
  {
   "cell_type": "markdown",
   "id": "78d03c39",
   "metadata": {},
   "source": [
    "### One Hot Encoder - `OneHotEncoder()`"
   ]
  },
  {
   "cell_type": "code",
   "execution_count": 24,
   "id": "b84d58a4",
   "metadata": {},
   "outputs": [],
   "source": [
    "from sklearn.preprocessing import OneHotEncoder"
   ]
  },
  {
   "cell_type": "code",
   "execution_count": 39,
   "id": "3dd82de0",
   "metadata": {
    "scrolled": true
   },
   "outputs": [
    {
     "name": "stdout",
     "output_type": "stream",
     "text": [
      "[[1]\n",
      " [2]\n",
      " [6]\n",
      " [1]\n",
      " [8]\n",
      " [6]] \n",
      "Unique Values :  [1 2 6 8]\n"
     ]
    },
    {
     "data": {
      "text/plain": [
       "array([[1., 0., 0., 0.],\n",
       "       [0., 1., 0., 0.],\n",
       "       [0., 0., 1., 0.],\n",
       "       [1., 0., 0., 0.],\n",
       "       [0., 0., 0., 1.],\n",
       "       [0., 0., 1., 0.]])"
      ]
     },
     "execution_count": 39,
     "metadata": {},
     "output_type": "execute_result"
    }
   ],
   "source": [
    "X = np.array([1, 2, 6, 1, 8, 6]).reshape(6, 1) \n",
    "print(X, \"\\nUnique Values : \", np.unique(X)) # Each unique value forms a column in the One Hot Encoder Transformation \n",
    "on = OneHotEncoder(sparse=False)\n",
    "on.fit_transform(X)"
   ]
  },
  {
   "cell_type": "markdown",
   "id": "87fe212e",
   "metadata": {},
   "source": [
    "### Label Encoder - `LabelEncoder()`"
   ]
  },
  {
   "cell_type": "code",
   "execution_count": 41,
   "id": "36d2d956",
   "metadata": {},
   "outputs": [],
   "source": [
    "from sklearn.preprocessing import LabelEncoder"
   ]
  },
  {
   "cell_type": "markdown",
   "id": "578ca106",
   "metadata": {},
   "source": [
    "#### Example 1"
   ]
  },
  {
   "cell_type": "code",
   "execution_count": 77,
   "id": "c716d5cd",
   "metadata": {},
   "outputs": [
    {
     "name": "stdout",
     "output_type": "stream",
     "text": [
      "Original Array :  [1 2 6 1 8 6]\n",
      "\n",
      "Unique Values :  [1 2 6 8] \n",
      "\n",
      "Label Encoded :  [0 1 2 0 3 2]\n",
      "\n",
      "Label Decoded :  [1 2 6 1 8 6]\n"
     ]
    }
   ],
   "source": [
    "X = np.array([1, 2, 6, 1, 8, 6])\n",
    "print(\"Original Array : \", X)\n",
    "print(\"\\nUnique Values : \", np.unique(X), \"\\n\") # Encode target labels with value between 0 and n_classes-1.\n",
    "le1 = LabelEncoder()\n",
    "res1 = le1.fit_transform(X)\n",
    "print(\"Label Encoded : \", res1)\n",
    "res1_decoded = le1.inverse_transform(res1)\n",
    "print(\"\\nLabel Decoded : \", res1_decoded)"
   ]
  },
  {
   "cell_type": "markdown",
   "id": "054ef9d6",
   "metadata": {},
   "source": [
    "#### Example 2"
   ]
  },
  {
   "cell_type": "code",
   "execution_count": 76,
   "id": "a745bbaf",
   "metadata": {},
   "outputs": [
    {
     "name": "stdout",
     "output_type": "stream",
     "text": [
      "Original Array :  ['apple' 'orange' 'banana' 'mango' 'peach' 'apple' 'banana' 'orange'\n",
      " 'peach' 'peach' 'plum' 'grapes']\n",
      "\n",
      "Unique Values :  ['apple' 'banana' 'grapes' 'mango' 'orange' 'peach' 'plum'] \n",
      "\n",
      "Label Encoded :  [0 4 1 3 5 0 1 4 5 5 6 2]\n",
      "\n",
      "Label Decoded :  ['apple' 'orange' 'banana' 'mango' 'peach' 'apple' 'banana' 'orange'\n",
      " 'peach' 'peach' 'plum' 'grapes']\n"
     ]
    }
   ],
   "source": [
    "Y = np.array(['apple', 'orange', 'banana', 'mango', 'peach', 'apple', 'banana', 'orange', 'peach', 'peach', 'plum', 'grapes'])\n",
    "print(\"Original Array : \", Y)\n",
    "print(\"\\nUnique Values : \", np.unique(Y), \"\\n\")\n",
    "le2 = LabelEncoder()\n",
    "res2 = le2.fit_transform(Y)\n",
    "print(\"Label Encoded : \", res2)\n",
    "res2_decoded = le2.inverse_transform(res2)\n",
    "print(\"\\nLabel Decoded : \", res2_decoded)"
   ]
  },
  {
   "cell_type": "markdown",
   "id": "6efe83bf",
   "metadata": {},
   "source": [
    "### Ordinal Encoder - `OrdinalEncoder()`\n",
    "OrdinalEncoder can operate multi dimensional data, while LabelEncoder can transform only 1D data"
   ]
  },
  {
   "cell_type": "code",
   "execution_count": 66,
   "id": "4fe9a1c5",
   "metadata": {},
   "outputs": [],
   "source": [
    "from sklearn.preprocessing import OrdinalEncoder"
   ]
  },
  {
   "cell_type": "code",
   "execution_count": 75,
   "id": "e91741e9",
   "metadata": {},
   "outputs": [
    {
     "name": "stdout",
     "output_type": "stream",
     "text": [
      "Original Array : \n",
      " [['1' 'male']\n",
      " ['2' 'female']\n",
      " ['6' 'female']\n",
      " ['1' 'male']\n",
      " ['8' 'male']\n",
      " ['6' 'female']]\n",
      "\n",
      "Unique Values :  ['1' '2' '6' '8' 'female' 'male'] \n",
      "\n",
      "Label Encoded : \n",
      " [[0. 1.]\n",
      " [1. 0.]\n",
      " [2. 0.]\n",
      " [0. 1.]\n",
      " [3. 1.]\n",
      " [2. 0.]]\n",
      "\n",
      "Label Decoded : \n",
      " [['1' 'male']\n",
      " ['2' 'female']\n",
      " ['6' 'female']\n",
      " ['1' 'male']\n",
      " ['8' 'male']\n",
      " ['6' 'female']]\n"
     ]
    }
   ],
   "source": [
    "X = np.array([[1, 2, 6, 1, 8, 6], ['male', 'female', 'female', 'male', 'male', 'female']]).T\n",
    "print(\"Original Array : \\n\", X)\n",
    "print(\"\\nUnique Values : \", np.unique(X), \"\\n\")\n",
    "oe = OrdinalEncoder()\n",
    "res = oe.fit_transform(X)\n",
    "print(\"Label Encoded : \\n\", res)\n",
    "res_decoded = oe.inverse_transform(res)\n",
    "print(\"\\nLabel Decoded : \\n\", res_decoded)"
   ]
  },
  {
   "cell_type": "markdown",
   "id": "986e44ea",
   "metadata": {},
   "source": [
    "### Label Binarizer - `LabelBinarizer()`\n",
    "The only difference between OneHotEncoder and LabelBinarizer appears to be that the former return a sparse matrix by default, while the latter returns a dense matrix by default."
   ]
  },
  {
   "cell_type": "code",
   "execution_count": 78,
   "id": "6200fa27",
   "metadata": {},
   "outputs": [],
   "source": [
    "from sklearn.preprocessing import LabelBinarizer"
   ]
  },
  {
   "cell_type": "code",
   "execution_count": 79,
   "id": "bbabac06",
   "metadata": {},
   "outputs": [
    {
     "name": "stdout",
     "output_type": "stream",
     "text": [
      "Original Array : \n",
      " [['cold']\n",
      " ['cold']\n",
      " ['warm']\n",
      " ['cold']\n",
      " ['hot']\n",
      " ['hot']\n",
      " ['warm']\n",
      " ['cold']\n",
      " ['warm']\n",
      " ['hot']]\n",
      "\n",
      "Unique Values :  ['cold' 'hot' 'warm'] \n",
      "\n",
      "Label Encoded : \n",
      " [[1 0 0]\n",
      " [1 0 0]\n",
      " [0 0 1]\n",
      " [1 0 0]\n",
      " [0 1 0]\n",
      " [0 1 0]\n",
      " [0 0 1]\n",
      " [1 0 0]\n",
      " [0 0 1]\n",
      " [0 1 0]]\n",
      "\n",
      "Label Decoded : \n",
      " ['cold' 'cold' 'warm' 'cold' 'hot' 'hot' 'warm' 'cold' 'warm' 'hot']\n"
     ]
    }
   ],
   "source": [
    "X = np.array(['cold', 'cold', 'warm', 'cold', 'hot', 'hot', 'warm', 'cold', 'warm', 'hot']).reshape(10, 1)\n",
    "print(\"Original Array : \\n\", X)\n",
    "print(\"\\nUnique Values : \", np.unique(X), \"\\n\")\n",
    "lb = LabelBinarizer()\n",
    "res = lb.fit_transform(X)\n",
    "print(\"Label Encoded : \\n\", res)\n",
    "res_decoded = lb.inverse_transform(res)\n",
    "print(\"\\nLabel Decoded : \\n\", res_decoded)"
   ]
  },
  {
   "cell_type": "markdown",
   "id": "86d7e578",
   "metadata": {},
   "source": [
    "### Multi Label Binarizer - `MultiLabelBinarizer()`"
   ]
  },
  {
   "cell_type": "code",
   "execution_count": 81,
   "id": "c413a161",
   "metadata": {},
   "outputs": [],
   "source": [
    "from sklearn.preprocessing import MultiLabelBinarizer"
   ]
  },
  {
   "cell_type": "code",
   "execution_count": 92,
   "id": "536fca33",
   "metadata": {},
   "outputs": [
    {
     "name": "stdout",
     "output_type": "stream",
     "text": [
      "Original Array : \n",
      " [{'action', 'comedy'} {'comedy'} {'thriller', 'action'}\n",
      " {'thriller', 'action', 'science-fiction'}]\n",
      "\n",
      "Unique Values : \n",
      " ['action' 'comedy' 'science-fiction' 'thriller'] \n",
      "\n",
      "Label Encoded : \n",
      " [[1 1 0 0]\n",
      " [0 1 0 0]\n",
      " [1 0 0 1]\n",
      " [1 0 1 1]]\n",
      "\n",
      "Label Decoded : \n",
      " ['cold' 'hot' 'cold' 'cold']\n"
     ]
    }
   ],
   "source": [
    "X = np.array([{'action', 'comedy' }, {'comedy'}, {'action', 'thriller'}, {'science-fiction', 'action', 'thriller'}])\n",
    "print(\"Original Array : \\n\", X)\n",
    "mlb = MultiLabelBinarizer()\n",
    "res = mlb.fit_transform(X) # The columns are 'action', 'comedy', 'science-fiction' and 'thriller'\n",
    "print(\"\\nUnique Values : \\n\", mlb.classes_, \"\\n\")\n",
    "print(\"Label Encoded : \\n\", res)\n",
    "res_decoded = lb.inverse_transform(res)\n",
    "print(\"\\nLabel Decoded : \\n\", res_decoded)"
   ]
  },
  {
   "cell_type": "markdown",
   "id": "8efe06c4",
   "metadata": {},
   "source": [
    "### K Bins Discretizer (Binning + One hot/ordinal encoding) - `KBinsDiscretizer()`"
   ]
  },
  {
   "cell_type": "code",
   "execution_count": 1,
   "id": "a9e3a329",
   "metadata": {},
   "outputs": [],
   "source": [
    "from sklearn.preprocessing import KBinsDiscretizer"
   ]
  },
  {
   "cell_type": "code",
   "execution_count": 4,
   "id": "7980ee11",
   "metadata": {},
   "outputs": [
    {
     "data": {
      "text/plain": [
       "array([[1., 0., 0., 0., 0.],\n",
       "       [1., 0., 0., 0., 0.],\n",
       "       [0., 1., 0., 0., 0.],\n",
       "       [0., 1., 0., 0., 0.],\n",
       "       [0., 0., 1., 0., 0.],\n",
       "       [0., 0., 0., 1., 0.],\n",
       "       [0., 0., 0., 1., 0.],\n",
       "       [0., 0., 0., 0., 1.],\n",
       "       [0., 0., 0., 0., 1.]])"
      ]
     },
     "execution_count": 4,
     "metadata": {},
     "output_type": "execute_result"
    }
   ],
   "source": [
    "X = np.array([0, 0.125, 0.25, 0.375, 0.5, 0.675, 0.75, 0.875, 1.0]).reshape(9,1)\n",
    "KBD = KBinsDiscretizer(n_bins=5, strategy='uniform', encode='onehot')\n",
    "X_fit = KBD.fit_transform(X) # Return sparse matrix\n",
    "X_fit.toarray() # Convert to numpy array"
   ]
  },
  {
   "cell_type": "markdown",
   "id": "d7369667",
   "metadata": {},
   "source": [
    "### Other Useful Methods"
   ]
  },
  {
   "cell_type": "markdown",
   "id": "fd562c78",
   "metadata": {},
   "source": [
    "#### Add Dummy Featuer - `add_dummy_feature()`"
   ]
  },
  {
   "cell_type": "code",
   "execution_count": 94,
   "id": "f2497063",
   "metadata": {},
   "outputs": [],
   "source": [
    "from sklearn.preprocessing import add_dummy_feature"
   ]
  },
  {
   "cell_type": "markdown",
   "id": "8a5c9fa7",
   "metadata": {},
   "source": [
    "Using `numpy` arrays and `sklearn` package"
   ]
  },
  {
   "cell_type": "code",
   "execution_count": 97,
   "id": "6a0250a5",
   "metadata": {
    "scrolled": true
   },
   "outputs": [
    {
     "name": "stdout",
     "output_type": "stream",
     "text": [
      "Original Array : \n",
      " [[7 1]\n",
      " [1 8]\n",
      " [2 0]\n",
      " [9 6]]\n",
      "Modified Array : \n",
      " [[1. 7. 1.]\n",
      " [1. 1. 8.]\n",
      " [1. 2. 0.]\n",
      " [1. 9. 6.]]\n"
     ]
    }
   ],
   "source": [
    "X = np.array([[7, 1], [1, 8], [2, 0], [9, 6]])\n",
    "print(\"Original Array : \\n\", X)\n",
    "res = add_dummy_feature(X)\n",
    "print(\"Modified Array : \\n\", res)"
   ]
  },
  {
   "cell_type": "markdown",
   "id": "11614af0",
   "metadata": {},
   "source": [
    "Using `pandas` dataframe"
   ]
  },
  {
   "cell_type": "code",
   "execution_count": 98,
   "id": "3eee8355",
   "metadata": {
    "scrolled": true
   },
   "outputs": [
    {
     "data": {
      "text/html": [
       "<div>\n",
       "<style scoped>\n",
       "    .dataframe tbody tr th:only-of-type {\n",
       "        vertical-align: middle;\n",
       "    }\n",
       "\n",
       "    .dataframe tbody tr th {\n",
       "        vertical-align: top;\n",
       "    }\n",
       "\n",
       "    .dataframe thead th {\n",
       "        text-align: right;\n",
       "    }\n",
       "</style>\n",
       "<table border=\"1\" class=\"dataframe\">\n",
       "  <thead>\n",
       "    <tr style=\"text-align: right;\">\n",
       "      <th></th>\n",
       "      <th>weather_cold</th>\n",
       "      <th>weather_hot</th>\n",
       "      <th>weather_warm</th>\n",
       "    </tr>\n",
       "  </thead>\n",
       "  <tbody>\n",
       "    <tr>\n",
       "      <th>0</th>\n",
       "      <td>1</td>\n",
       "      <td>0</td>\n",
       "      <td>0</td>\n",
       "    </tr>\n",
       "    <tr>\n",
       "      <th>1</th>\n",
       "      <td>1</td>\n",
       "      <td>0</td>\n",
       "      <td>0</td>\n",
       "    </tr>\n",
       "    <tr>\n",
       "      <th>2</th>\n",
       "      <td>0</td>\n",
       "      <td>0</td>\n",
       "      <td>1</td>\n",
       "    </tr>\n",
       "    <tr>\n",
       "      <th>3</th>\n",
       "      <td>1</td>\n",
       "      <td>0</td>\n",
       "      <td>0</td>\n",
       "    </tr>\n",
       "    <tr>\n",
       "      <th>4</th>\n",
       "      <td>0</td>\n",
       "      <td>1</td>\n",
       "      <td>0</td>\n",
       "    </tr>\n",
       "    <tr>\n",
       "      <th>5</th>\n",
       "      <td>0</td>\n",
       "      <td>1</td>\n",
       "      <td>0</td>\n",
       "    </tr>\n",
       "    <tr>\n",
       "      <th>6</th>\n",
       "      <td>0</td>\n",
       "      <td>0</td>\n",
       "      <td>1</td>\n",
       "    </tr>\n",
       "    <tr>\n",
       "      <th>7</th>\n",
       "      <td>1</td>\n",
       "      <td>0</td>\n",
       "      <td>0</td>\n",
       "    </tr>\n",
       "    <tr>\n",
       "      <th>8</th>\n",
       "      <td>0</td>\n",
       "      <td>0</td>\n",
       "      <td>1</td>\n",
       "    </tr>\n",
       "    <tr>\n",
       "      <th>9</th>\n",
       "      <td>0</td>\n",
       "      <td>1</td>\n",
       "      <td>0</td>\n",
       "    </tr>\n",
       "  </tbody>\n",
       "</table>\n",
       "</div>"
      ],
      "text/plain": [
       "   weather_cold  weather_hot  weather_warm\n",
       "0             1            0             0\n",
       "1             1            0             0\n",
       "2             0            0             1\n",
       "3             1            0             0\n",
       "4             0            1             0\n",
       "5             0            1             0\n",
       "6             0            0             1\n",
       "7             1            0             0\n",
       "8             0            0             1\n",
       "9             0            1             0"
      ]
     },
     "execution_count": 98,
     "metadata": {},
     "output_type": "execute_result"
    }
   ],
   "source": [
    "# Create separate columns for each unique value\n",
    "X = np.array(['cold', 'cold', 'warm', 'cold', 'hot', 'hot', 'warm', 'cold', 'warm', 'hot'])\n",
    "pd.get_dummies(X, prefix='weather') # Specify columns parameter, when used on a dataframe."
   ]
  },
  {
   "cell_type": "markdown",
   "id": "43f870c0",
   "metadata": {},
   "source": [
    "### Column Transformer - `ColumnTransformer()`\n",
    "Applies transformers to columns of an array or pandas DataFrame. This estimator allows different columns or column subsets of the input\n",
    "to be transformed separately and the features generated by each transformer\n",
    "will be concatenated to form a single feature space.\n",
    "\n",
    "**NOTE** : To make the column pass through without getting transformed, use `('some_name', 'passthrough', [column_index])` in the `ColumnTransformer()` object"
   ]
  },
  {
   "cell_type": "code",
   "execution_count": 2,
   "id": "ef6b9e98",
   "metadata": {},
   "outputs": [],
   "source": [
    "from sklearn.compose import ColumnTransformer\n",
    "from sklearn.preprocessing import MaxAbsScaler, OneHotEncoder"
   ]
  },
  {
   "cell_type": "code",
   "execution_count": 5,
   "id": "02732dee",
   "metadata": {
    "scrolled": true
   },
   "outputs": [
    {
     "name": "stdout",
     "output_type": "stream",
     "text": [
      "Original Array : \n",
      " [['20.0' 'male']\n",
      " ['11.2' 'female']\n",
      " ['15.6' 'female']\n",
      " ['13.0' 'male']\n",
      " ['18.6' 'male']\n",
      " ['16.4' 'female']]\n",
      "\n",
      "Column Transformed : \n",
      " [[1.   0.   1.  ]\n",
      " [0.56 1.   0.  ]\n",
      " [0.78 1.   0.  ]\n",
      " [0.65 0.   1.  ]\n",
      " [0.93 0.   1.  ]\n",
      " [0.82 1.   0.  ]]\n"
     ]
    }
   ],
   "source": [
    "X = np.array([[20.0, 11.2, 15.6, 13.0, 18.6, 16.4], ['male', 'female', 'female', 'male', 'male', 'female']]).T\n",
    "print(\"Original Array : \\n\", X)\n",
    "\n",
    "# 'ageScaler' and 'genderEncoder' are arbitary names\n",
    "cl = ColumnTransformer(\n",
    "    [\n",
    "        ('ageScaler', MaxAbsScaler(), [0]),\n",
    "        ('genderEncoder', OneHotEncoder(dtype='int'), [1])\n",
    "    ]\n",
    ")\n",
    "\n",
    "column_trans = ColumnTransformer([('ageScaler', MaxAbsScaler(), [0]), ('pass', 'passthrough', [0]), ('genderEncoder', OneHotEncoder(dtype='int'), [1])])\n",
    "\n",
    "res = cl.fit_transform(X) \n",
    "print(\"\\nColumn Transformed : \\n\", res)"
   ]
  },
  {
   "cell_type": "markdown",
   "id": "a34a1378",
   "metadata": {},
   "source": [
    "### Transformer Target Regressor - `TransformerTargetRegressor()` \n",
    "\n",
    "- Meta-estimator to regress on a transformed target ( An estimator which takes another estimator as a parameter. Examples include pipeline. Pipeline , model_selection )\n",
    "\n",
    "- **Useful for applying a non-linear transformation** to the target y in regression problems. This transformation can be given as a Transformer such as the QuantileTransformer or as a function and its inverse such as np.log and np.exp.\n",
    "\n",
    "- The steps taken during this are :\n",
    "    1. `regressor.fit(X, func(y))` fits regressor\n",
    "    2. `inverse_func(regressor.predict(X))` predicts X from y"
   ]
  },
  {
   "cell_type": "code",
   "execution_count": 6,
   "id": "4433a5b8",
   "metadata": {},
   "outputs": [],
   "source": [
    "from sklearn.linear_model import LinearRegression\n",
    "from sklearn.compose import TransformedTargetRegressor"
   ]
  },
  {
   "cell_type": "code",
   "execution_count": 14,
   "id": "281263a4",
   "metadata": {
    "scrolled": false
   },
   "outputs": [
    {
     "name": "stdout",
     "output_type": "stream",
     "text": [
      "Original Array : \n",
      " [[0]\n",
      " [1]\n",
      " [2]\n",
      " [3]]\n",
      "Original Array : \n",
      " [  1.           7.3890561   54.59815003 403.42879349]\n"
     ]
    },
    {
     "data": {
      "text/plain": [
       "array([  1.        ,   7.3890561 ,  54.59815003, 403.42879349])"
      ]
     },
     "execution_count": 14,
     "metadata": {},
     "output_type": "execute_result"
    }
   ],
   "source": [
    "X = np.arange(4).reshape(-1, 1)\n",
    "y = np.exp(2 * X).ravel()\n",
    "print(\"Original Array : \\n\", X)\n",
    "print(\"Original Array : \\n\", y)\n",
    "\n",
    "tf = np.log # The transformer function\n",
    "tf_inv = np.exp # Inverse of the transformation function\n",
    "tt = TransformedTargetRegressor(regressor=LinearRegression(), func=tf, inverse_func=tf_inv)\n",
    "\n",
    "\n",
    "tt.fit(X, y)\n",
    "tt.predict(X)  # This is equal to np.exp(2 * X) and basically equivalent to reverse fitting X for given y"
   ]
  }
 ],
 "metadata": {
  "kernelspec": {
   "display_name": "Python 3 (ipykernel)",
   "language": "python",
   "name": "python3"
  },
  "language_info": {
   "codemirror_mode": {
    "name": "ipython",
    "version": 3
   },
   "file_extension": ".py",
   "mimetype": "text/x-python",
   "name": "python",
   "nbconvert_exporter": "python",
   "pygments_lexer": "ipython3",
   "version": "3.9.7"
  }
 },
 "nbformat": 4,
 "nbformat_minor": 5
}

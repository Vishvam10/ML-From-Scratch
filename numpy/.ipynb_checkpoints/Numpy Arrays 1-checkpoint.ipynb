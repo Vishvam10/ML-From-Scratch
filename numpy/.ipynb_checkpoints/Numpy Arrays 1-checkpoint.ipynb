{
 "cells": [
  {
   "cell_type": "markdown",
   "id": "fb38357a",
   "metadata": {},
   "source": [
    "# Vectors\n",
    "\n",
    "In this document, we will look at the following concepts:\n",
    "\n",
    "- Vector as a `NumPy` array\n",
    "- Adding two vectors\n",
    "- Element-wise multiplication of two vectors\n",
    "- Scaling vectors\n",
    "- Function of vectors (element-wise)\n",
    "- Dot-product between two vectors\n",
    "- Shape of a vector\n",
    "- Vector of zeros\n",
    "- Vector of ones"
   ]
  },
  {
   "cell_type": "markdown",
   "id": "ef81664f",
   "metadata": {},
   "source": [
    "## Import\n",
    "\n",
    "First we shall import the `NumPy` package."
   ]
  },
  {
   "cell_type": "code",
   "execution_count": 2,
   "id": "f5a362c2",
   "metadata": {},
   "outputs": [],
   "source": [
    "import numpy as np"
   ]
  },
  {
   "cell_type": "markdown",
   "id": "3ab55477",
   "metadata": {},
   "source": [
    "## Vectors as `NumPy` arrays\n",
    "\n",
    "Consider the following vector:\n",
    "\n",
    "$$\n",
    "\\boldsymbol{x} = \\begin{bmatrix}\n",
    "1\\\\\n",
    "2\\\\\n",
    "3\n",
    "\\end{bmatrix}\n",
    "$$\n",
    "\n",
    "This is expressed as a `NumPy` array:"
   ]
  },
  {
   "cell_type": "code",
   "execution_count": 3,
   "id": "76d64e7e",
   "metadata": {},
   "outputs": [
    {
     "data": {
      "text/plain": [
       "array([1, 2, 3])"
      ]
     },
     "execution_count": 3,
     "metadata": {},
     "output_type": "execute_result"
    }
   ],
   "source": [
    "x = np.array([1, 2, 3])\n",
    "x"
   ]
  },
  {
   "cell_type": "markdown",
   "id": "4a477464",
   "metadata": {},
   "source": [
    "In the cell given above, `np.array` creates a `NumPy` array using a Python list that is passed as argument. Let us check the type of the object `x`:"
   ]
  },
  {
   "cell_type": "code",
   "execution_count": 4,
   "id": "b3bdef44",
   "metadata": {},
   "outputs": [
    {
     "data": {
      "text/plain": [
       "numpy.ndarray"
      ]
     },
     "execution_count": 4,
     "metadata": {},
     "output_type": "execute_result"
    }
   ],
   "source": [
    "type(x)"
   ]
  },
  {
   "cell_type": "markdown",
   "id": "3c496773",
   "metadata": {},
   "source": [
    "The term `ndarray` refers to an n-dimensional array. The idea of dimensions will become clear when we discuss matrices. For now, our focus will be one-dimensional arrays, or vectors."
   ]
  },
  {
   "cell_type": "markdown",
   "id": "5d66000c",
   "metadata": {},
   "source": [
    "## Vector addition\n",
    "\n",
    "Addition is one of the elementary operations that can be performed on vectors. Given two vectors\n",
    "\n",
    "$$\n",
    "x = \\begin{bmatrix}\n",
    "1\\\\\n",
    "2\\\\\n",
    "3\n",
    "\\end{bmatrix}, y = \\begin{bmatrix}\n",
    "4\\\\\n",
    "5\\\\\n",
    "6\n",
    "\\end{bmatrix}\n",
    "$$\n",
    "\n",
    "we have:\n",
    "\n",
    "$$\n",
    "\\boldsymbol{z} = \\boldsymbol{x} + \\boldsymbol{y}= \\begin{bmatrix}\n",
    "5\\\\\n",
    "7\\\\\n",
    "9\n",
    "\\end{bmatrix}\n",
    "$$\n",
    "\n",
    "In `NumPy` this is expressed as:"
   ]
  },
  {
   "cell_type": "code",
   "execution_count": 6,
   "id": "6efde5bc",
   "metadata": {},
   "outputs": [
    {
     "data": {
      "text/plain": [
       "array([5, 7, 9])"
      ]
     },
     "execution_count": 6,
     "metadata": {},
     "output_type": "execute_result"
    }
   ],
   "source": [
    "x = np.array([1, 2, 3])\n",
    "y = np.array([4, 5, 6])\n",
    "\n",
    "z = x + y\n",
    "z"
   ]
  },
  {
   "cell_type": "markdown",
   "id": "d030cb6c",
   "metadata": {},
   "source": [
    "Notice that `NumPy` arrays behave differently from Python lists. The `+` operator applied to two Python lists would result in list concatenation. However, the `+` operator applied to two `NumPy` arrays results in element-wise addition. "
   ]
  },
  {
   "cell_type": "markdown",
   "id": "7f4fd4f9",
   "metadata": {},
   "source": [
    "## Element-wise multiplication\n",
    "\n",
    "Element-wise multiplication of two vectors is called the Hadamard product. The operator corresponding to it is $\\odot$. For example, given two vectors:\n",
    "\n",
    "$$\n",
    "x = \\begin{bmatrix}\n",
    "1\\\\\n",
    "2\\\\\n",
    "3\n",
    "\\end{bmatrix}, y = \\begin{bmatrix}\n",
    "4\\\\\n",
    "5\\\\\n",
    "6\n",
    "\\end{bmatrix}\n",
    "$$\n",
    "\n",
    "we have:\n",
    "\n",
    "$$\n",
    "\\boldsymbol{z} = \\boldsymbol{x} \\odot \\boldsymbol{y}= \\begin{bmatrix}\n",
    "4\\\\\n",
    "10\\\\\n",
    "18\n",
    "\\end{bmatrix}\n",
    "$$\n",
    "\n",
    "In `NumPy` this is expressed as:"
   ]
  },
  {
   "cell_type": "code",
   "execution_count": 7,
   "id": "e18f07db",
   "metadata": {},
   "outputs": [
    {
     "data": {
      "text/plain": [
       "array([ 4, 10, 18])"
      ]
     },
     "execution_count": 7,
     "metadata": {},
     "output_type": "execute_result"
    }
   ],
   "source": [
    "x = np.array([1, 2, 3])\n",
    "y = np.array([4, 5, 6])\n",
    "\n",
    "z = x * y\n",
    "z"
   ]
  },
  {
   "cell_type": "markdown",
   "id": "6c43918f",
   "metadata": {},
   "source": [
    "## Scaling vectors\n",
    "\n",
    "If $\\boldsymbol{x}$ is a vector, scaling it by a constant $k$ is equivalent to element-wise multiplication by $k$. For example, given\n",
    "\n",
    "$$\n",
    "\\boldsymbol{x} = \\begin{bmatrix}\n",
    "1\\\\\n",
    "2\\\\\n",
    "3\n",
    "\\end{bmatrix}\n",
    "$$\n",
    "\n",
    "we have:\n",
    "\n",
    "$$\n",
    "y = 3 \\boldsymbol{x} = \\begin{bmatrix}\n",
    "3\\\\\n",
    "6\\\\\n",
    "9\n",
    "\\end{bmatrix}\n",
    "$$\n",
    "\n",
    "As you might have guessed by now, in `NumPy` this is as simple as:"
   ]
  },
  {
   "cell_type": "code",
   "execution_count": 8,
   "id": "e59c5162",
   "metadata": {},
   "outputs": [
    {
     "data": {
      "text/plain": [
       "array([3, 6, 9])"
      ]
     },
     "execution_count": 8,
     "metadata": {},
     "output_type": "execute_result"
    }
   ],
   "source": [
    "x = np.array([1, 2, 3])\n",
    "y = 3 * x\n",
    "y"
   ]
  },
  {
   "cell_type": "markdown",
   "id": "1a71b1c6",
   "metadata": {},
   "source": [
    "Again note that this is different from what you would expect with a Python list. The `*` operator for lists would result in replication. Besides, we can multiply a `NumPy` array by any real number, even $0$:"
   ]
  },
  {
   "cell_type": "markdown",
   "id": "da7f5b1e",
   "metadata": {},
   "source": [
    "## Element-wise functions of vectors\n",
    "\n",
    "Scaling a vector $\\boldsymbol{x}$ by a constant $k$ can be seen as the output of the following function:\n",
    "\n",
    "$$\n",
    "f(\\boldsymbol{x}) = \\begin{bmatrix}\n",
    "kx_1\\\\\n",
    "\\cdots\\\\\n",
    "kx_m\n",
    "\\end{bmatrix}\n",
    "$$\n",
    "\n",
    "This is nothing but the function $f(x) = kx$ applied element-wise. `NumPy` extends this feature for any arbitrary function. For example, consider the function $g(x) = x^2$. This can be applied element-wise:\n",
    "\n",
    "$$\n",
    "g(\\boldsymbol{x}) = \\begin{bmatrix}\n",
    "x_1^2\\\\\n",
    "\\cdots\\\\\n",
    "x_m^2\n",
    "\\end{bmatrix}\n",
    "$$\n",
    "\n",
    "In `NumPy`, this translates to:"
   ]
  },
  {
   "cell_type": "code",
   "execution_count": 9,
   "id": "6ecf2709",
   "metadata": {},
   "outputs": [
    {
     "data": {
      "text/plain": [
       "array([ 1,  4,  9, 16], dtype=int32)"
      ]
     },
     "execution_count": 9,
     "metadata": {},
     "output_type": "execute_result"
    }
   ],
   "source": [
    "x = np.array([1, 2, 3, 4])\n",
    "y = x ** 2\n",
    "y"
   ]
  },
  {
   "cell_type": "markdown",
   "id": "d42a1be7",
   "metadata": {},
   "source": [
    "We can take up more complex functions as well. For example, let us take the case of `np.log10`, which is $\\log_{10}$:\n"
   ]
  },
  {
   "cell_type": "code",
   "execution_count": 10,
   "id": "e2f4a818",
   "metadata": {},
   "outputs": [
    {
     "data": {
      "text/plain": [
       "array([0., 1., 2., 3., 4., 5.])"
      ]
     },
     "execution_count": 10,
     "metadata": {},
     "output_type": "execute_result"
    }
   ],
   "source": [
    "x = np.array([1, 10, 100, 1000, 10000, 100000])\n",
    "y = np.log10(x)\n",
    "y"
   ]
  },
  {
   "cell_type": "markdown",
   "id": "00e875d4",
   "metadata": {},
   "source": [
    "Usually, we will stick to the natural logarithm or $\\log_e$. This is given by `np.log`."
   ]
  },
  {
   "cell_type": "code",
   "execution_count": 11,
   "id": "fb152219",
   "metadata": {},
   "outputs": [
    {
     "data": {
      "text/plain": [
       "array([0., 1., 2.])"
      ]
     },
     "execution_count": 11,
     "metadata": {},
     "output_type": "execute_result"
    }
   ],
   "source": [
    "x = np.array([1, np.e, np.e ** 2])\n",
    "y = np.log(x)\n",
    "y"
   ]
  },
  {
   "cell_type": "markdown",
   "id": "3a554d85",
   "metadata": {},
   "source": [
    "## Dot Product\n",
    "\n",
    "The dot product between two vectors $\\mathbf{x}$ and $\\mathbf{y}$ is given as follows:\n",
    "\n",
    "$$\n",
    "z = \\mathbf{x} \\cdot \\mathbf{y} = \\sum \\limits_{j = 1}^{m} x_j y_j\n",
    "$$\n",
    "\n",
    "In `NumPy`, this could be done as follows:"
   ]
  },
  {
   "cell_type": "code",
   "execution_count": 12,
   "id": "adcafa4e",
   "metadata": {},
   "outputs": [
    {
     "data": {
      "text/plain": [
       "-60"
      ]
     },
     "execution_count": 12,
     "metadata": {},
     "output_type": "execute_result"
    }
   ],
   "source": [
    "x = np.array([1, 2, 3, 4])\n",
    "y = np.array([-4, -5, -6, -7])\n",
    "\n",
    "z = np.dot(x, y)\n",
    "z"
   ]
  },
  {
   "cell_type": "markdown",
   "id": "fb575566",
   "metadata": {},
   "source": [
    "## Shape of a vector\n",
    "\n",
    "All `NumPy` arrays have an attribute called `shape`. The shape is a tuple. For vectors (single-dimensional) the shape is of the form $(n, )$, where $n$ is the number of components in the vector."
   ]
  },
  {
   "cell_type": "code",
   "execution_count": 14,
   "id": "9a84b323",
   "metadata": {},
   "outputs": [
    {
     "data": {
      "text/plain": [
       "(4,)"
      ]
     },
     "execution_count": 14,
     "metadata": {},
     "output_type": "execute_result"
    }
   ],
   "source": [
    "x = np.array([10, 20, 30, 40])\n",
    "x.shape"
   ]
  },
  {
   "cell_type": "markdown",
   "id": "cee3d83c",
   "metadata": {},
   "source": [
    "For a vector, the following relationship always holds good:"
   ]
  },
  {
   "cell_type": "code",
   "execution_count": 16,
   "id": "115a58a5",
   "metadata": {},
   "outputs": [
    {
     "data": {
      "text/plain": [
       "True"
      ]
     },
     "execution_count": 16,
     "metadata": {},
     "output_type": "execute_result"
    }
   ],
   "source": [
    "x = np.array([10, 20, 30, 40])\n",
    "x.shape[0] == len(x)"
   ]
  },
  {
   "cell_type": "markdown",
   "id": "66d78016",
   "metadata": {},
   "source": [
    "## Vector of zeros or ones\n",
    "\n",
    "On many occassions, we might want to create a `NumPy` array all of whose elements are zeros or ones or some other constant. If we want a vector of zeros, one way would be as follows:"
   ]
  },
  {
   "cell_type": "code",
   "execution_count": 17,
   "id": "84bccb1f",
   "metadata": {},
   "outputs": [
    {
     "data": {
      "text/plain": [
       "array([0, 0, 0, 0])"
      ]
     },
     "execution_count": 17,
     "metadata": {},
     "output_type": "execute_result"
    }
   ],
   "source": [
    "x = np.array([0 for _ in range(4)])\n",
    "x"
   ]
  },
  {
   "cell_type": "markdown",
   "id": "4195d401",
   "metadata": {},
   "source": [
    "Here, `NumPy` provides a method that makes our job even simpler:"
   ]
  },
  {
   "cell_type": "code",
   "execution_count": 18,
   "id": "bd152041",
   "metadata": {},
   "outputs": [
    {
     "data": {
      "text/plain": [
       "array([0., 0., 0., 0.])"
      ]
     },
     "execution_count": 18,
     "metadata": {},
     "output_type": "execute_result"
    }
   ],
   "source": [
    "x = np.zeros(4)\n",
    "x"
   ]
  },
  {
   "cell_type": "markdown",
   "id": "dbc08428",
   "metadata": {},
   "source": [
    "For a vector of ones, we have"
   ]
  },
  {
   "cell_type": "code",
   "execution_count": 19,
   "id": "e969c950",
   "metadata": {},
   "outputs": [
    {
     "data": {
      "text/plain": [
       "array([1., 1., 1., 1., 1., 1.])"
      ]
     },
     "execution_count": 19,
     "metadata": {},
     "output_type": "execute_result"
    }
   ],
   "source": [
    "x = np.ones(6)\n",
    "x"
   ]
  },
  {
   "cell_type": "markdown",
   "id": "bb3cec07",
   "metadata": {},
   "source": [
    "For a vector of identical values, we have"
   ]
  },
  {
   "cell_type": "code",
   "execution_count": 22,
   "id": "8a589a1c",
   "metadata": {},
   "outputs": [
    {
     "data": {
      "text/plain": [
       "array([6, 6, 6, 6, 6, 6])"
      ]
     },
     "execution_count": 22,
     "metadata": {},
     "output_type": "execute_result"
    }
   ],
   "source": [
    "x = np.full(6, 6)\n",
    "x"
   ]
  },
  {
   "cell_type": "markdown",
   "id": "6e6e2243",
   "metadata": {},
   "source": [
    "For a matrix of identical values, we have"
   ]
  },
  {
   "cell_type": "code",
   "execution_count": 23,
   "id": "5d295890",
   "metadata": {},
   "outputs": [
    {
     "data": {
      "text/plain": [
       "array([[6, 6, 6, 6, 6],\n",
       "       [6, 6, 6, 6, 6],\n",
       "       [6, 6, 6, 6, 6]])"
      ]
     },
     "execution_count": 23,
     "metadata": {},
     "output_type": "execute_result"
    }
   ],
   "source": [
    "x = np.full((3,5), 6)\n",
    "x"
   ]
  },
  {
   "cell_type": "code",
   "execution_count": null,
   "id": "cd354aca",
   "metadata": {},
   "outputs": [],
   "source": []
  }
 ],
 "metadata": {
  "kernelspec": {
   "display_name": "Python 3 (ipykernel)",
   "language": "python",
   "name": "python3"
  },
  "language_info": {
   "codemirror_mode": {
    "name": "ipython",
    "version": 3
   },
   "file_extension": ".py",
   "mimetype": "text/x-python",
   "name": "python",
   "nbconvert_exporter": "python",
   "pygments_lexer": "ipython3",
   "version": "3.9.7"
  }
 },
 "nbformat": 4,
 "nbformat_minor": 5
}
